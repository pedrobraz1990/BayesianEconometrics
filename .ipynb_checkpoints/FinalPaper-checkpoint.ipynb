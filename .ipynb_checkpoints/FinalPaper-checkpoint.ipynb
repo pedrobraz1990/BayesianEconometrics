{
 "cells": [
  {
   "cell_type": "code",
   "execution_count": 35,
   "metadata": {
    "collapsed": false
   },
   "outputs": [
    {
     "name": "stdout",
     "output_type": "stream",
     "text": [
      "The Cython extension is already loaded. To reload it, use:\n",
      "  %reload_ext Cython\n",
      "The autotime extension is already loaded. To reload it, use:\n",
      "  %reload_ext autotime\n",
      "The snakeviz extension is already loaded. To reload it, use:\n",
      "  %reload_ext snakeviz\n",
      "time: 14.9 ms\n"
     ]
    }
   ],
   "source": [
    "%matplotlib inline\n",
    "import numpy as np\n",
    "import pandas as pd\n",
    "import scipy as sp\n",
    "from scipy.optimize import minimize\n",
    "from scipy.stats import norm\n",
    "from scipy.stats import chi2\n",
    "import cython\n",
    "%load_ext Cython\n",
    "\n",
    "\n",
    "from KalmanFilter import KalmanFilter as KFPedro\n",
    "from KF_py import KalmanFilter as KF\n",
    "from KF_py2 import KalmanFilter as KF2\n",
    "\n",
    "%load_ext autotime\n",
    "%load_ext snakeviz"
   ]
  },
  {
   "cell_type": "markdown",
   "metadata": {},
   "source": [
    "# Bayesian Econometrics - Final Paper\n",
    "\n",
    "Paper to be delivered as the course's final paper\n",
    "\n",
    "Pedro Montero Mattos\n",
    "\n",
    "MPE - Econometria\n",
    "\n",
    "\\#333791"
   ]
  },
  {
   "cell_type": "markdown",
   "metadata": {},
   "source": [
    "# The Model - Local Level with Seasonal Component\n",
    "\n",
    "As described in the chapter 4 in Koopman et al. The local level model with a seasonal component consists of the following equations:\n",
    "\n",
    "$$y_t = \\mu_t + \\gamma_t + \\epsilon_t, \\qquad \\epsilon_t \\sim NID(0,\\sigma^2_\\epsilon)$$\n",
    "\n",
    "$$\\mu_{t+1} = \\mu_t + \\xi_t, \\qquad \\xi_t \\sim NID(0,\\sigma^2_\\xi) $$\n",
    "\n",
    "$$\\gamma_{t+1} = -\\gamma_{t} - \\gamma_{t-1} - \\theta_1\\gamma_{t-2} + \\omega_t \\sim NID(0,\\sigma^2_\\omega) $$\n",
    "\n",
    "\n",
    "We added a $\\theta$ coefficient in order to use maximum likelihood estimation"
   ]
  },
  {
   "cell_type": "markdown",
   "metadata": {},
   "source": [
    "## State Space Form\n",
    "\n",
    "General Form:\n",
    "\n",
    "$$ y_t = Z x_t + \\epsilon_t, \\qquad \\epsilon_t \\sim NID(0,\\sigma^2_\\epsilon)$$\n",
    "$$ x_{t+1} = T x_t + R_t \\eta_T, \\qquad \\eta_t \\sim NID(0,Qt) $$"
   ]
  },
  {
   "cell_type": "markdown",
   "metadata": {},
   "source": [
    "In terms of the model:\n",
    "$$ \n",
    "x_t = \n",
    "\\begin{pmatrix}\\mu_t \\\\ \\gamma_t  \\\\  \\gamma_{t-1}   \\\\ \\gamma_{t-2}  \\end{pmatrix}\n",
    "$$"
   ]
  },
  {
   "cell_type": "markdown",
   "metadata": {},
   "source": [
    "$$\n",
    "\\eta_t = \n",
    "\\begin{pmatrix}\\xi_t \\\\ \\omega_t \\end{pmatrix}\n",
    "$$"
   ]
  },
  {
   "cell_type": "markdown",
   "metadata": {},
   "source": [
    "$$\n",
    "T_t = \n",
    "\\begin{bmatrix} \n",
    "1 & 0 & 0 & 0 \\\\\n",
    "0 & -1 & -1 & -\\theta_1 \\\\\n",
    "0 & 1 & 0 & 0 \\\\\n",
    "0 & 0 & 1 & 0 \n",
    "\\end{bmatrix}\n",
    "$$\n",
    "\n"
   ]
  },
  {
   "cell_type": "markdown",
   "metadata": {},
   "source": [
    "$$\n",
    "Z^T_t = \n",
    "\\begin{pmatrix}1 \\\\ 1  \\\\  0   \\\\ 0  \\end{pmatrix}\n",
    "$$"
   ]
  },
  {
   "cell_type": "markdown",
   "metadata": {},
   "source": [
    "$$\n",
    "Q_t = \n",
    "\\begin{bmatrix} \n",
    "\\sigma^2_\\xi & 0 \\\\\n",
    "0 & \\sigma^2_\\omega \\\\\n",
    "\\end{bmatrix}\n",
    "$$"
   ]
  },
  {
   "cell_type": "markdown",
   "metadata": {},
   "source": [
    "$$\n",
    "R_t = \n",
    "\\begin{bmatrix} \n",
    "1 & 0  \\\\\n",
    "0 & 1  \\\\\n",
    "0 & 0  \\\\\n",
    "0 & 0  \\\\\n",
    "\\end{bmatrix}\n",
    "$$"
   ]
  },
  {
   "cell_type": "markdown",
   "metadata": {},
   "source": [
    "$$\n",
    "H_t = \n",
    "\\begin{bmatrix} \n",
    "\\sigma^2_\\epsilon\n",
    "\\end{bmatrix}\n",
    "$$"
   ]
  },
  {
   "cell_type": "markdown",
   "metadata": {},
   "source": [
    "# Generating the data for $\\theta_1=0.7$\n",
    "\n",
    "We have to choose all parameter values plus the initial states\n",
    "\n",
    "$$\\gamma_t = \\gamma_{t-1} = \\gamma_{t-2} = 0$$\n",
    "$$\\theta_1 = 0.7$$\n",
    "$$\\sigma^2_\\xi = 0.1$$\n",
    "$$\\sigma^2_\\omega = 0.2$$\n",
    "$$\\sigma^2_\\epsilon = 0.3$$\n",
    "\n",
    "\n"
   ]
  },
  {
   "cell_type": "code",
   "execution_count": 2,
   "metadata": {
    "collapsed": false
   },
   "outputs": [
    {
     "name": "stdout",
     "output_type": "stream",
     "text": [
      "time: 2.99 ms\n"
     ]
    }
   ],
   "source": [
    "n = 150\n",
    "theta1 = 0.7\n",
    "sigmaXi = 0.1\n",
    "sigmaOmega = 0.2\n",
    "sigmaEpsilon = 0.3"
   ]
  },
  {
   "cell_type": "code",
   "execution_count": 3,
   "metadata": {
    "collapsed": false
   },
   "outputs": [
    {
     "data": {
      "text/plain": [
       "<matplotlib.axes._subplots.AxesSubplot at 0x10e715d30>"
      ]
     },
     "execution_count": 3,
     "metadata": {},
     "output_type": "execute_result"
    },
    {
     "data": {
      "image/png": "[encoded data removed]",
      "text/plain": [
       "<matplotlib.figure.Figure at 0x10e715128>"
      ]
     },
     "metadata": {},
     "output_type": "display_data"
    },
    {
     "name": "stdout",
     "output_type": "stream",
     "text": [
      "time: 389 ms\n"
     ]
    }
   ],
   "source": [
    "y = np.array([0])\n",
    "mi = np.array([0])\n",
    "gamma = np.array([0])\n",
    "\n",
    "xi = np.array([0])\n",
    "omega = np.array([0])\n",
    "ep = np.array([0])\n",
    "\n",
    "for i in range(1,n):\n",
    "\n",
    "    # Level equation\n",
    "    xi = np.append(xi,np.random.normal(scale=sigmaXi))\n",
    "    mi = np.append(mi,mi[i-1]+xi[i])\n",
    "    \n",
    "    # Seasonality equation\n",
    "    omega = np.append(omega,np.random.normal(scale=sigmaOmega))\n",
    "    holder = 0\n",
    "    if i-1 >= 0:\n",
    "        holder -= gamma[i-1] \n",
    "    if i-2 >= 0:\n",
    "        holder -= gamma[i-2] \n",
    "    if i-3 >= 0:\n",
    "        holder -= gamma[i-3] * theta1\n",
    "    \n",
    "    gamma = np.append(gamma,holder+omega[i])\n",
    "    \n",
    "    # Series equation\n",
    "    ep = np.append(ep,np.random.normal(scale=sigmaEpsilon))\n",
    "    y = np.append(y,mi[i]+gamma[i]+ep[i])\n",
    "\n",
    "y = pd.DataFrame(y) \n",
    "mi = pd.DataFrame(mi) \n",
    "gamma = pd.DataFrame(gamma) \n",
    "\n",
    "y.plot()"
   ]
  },
  {
   "cell_type": "markdown",
   "metadata": {},
   "source": [
    "# Maximum Likelihood Estimates\n",
    "\n",
    "Define a wrapper function that maps the theta vector of parameters to the state space matrices\n",
    "\n",
    "$$\\theta = [\\theta_1, \\sigma^2_\\epsilon, \\sigma^2_\\xi, \\sigma^2_\\omega]'$$\n",
    "\n",
    "The functions return the negative of the likelihood because the scipy optimization algorithms only minimize functions. Also we use the logarithm for numerical reasons."
   ]
  },
  {
   "cell_type": "code",
   "execution_count": 4,
   "metadata": {
    "collapsed": false
   },
   "outputs": [
    {
     "name": "stdout",
     "output_type": "stream",
     "text": [
      "time: 16.7 ms\n"
     ]
    }
   ],
   "source": [
    "def wrapper(theta):\n",
    "    T = pd.DataFrame([\n",
    "        [1,0,0,0],\n",
    "        [0,-1,-1,-theta[0]],\n",
    "        [0,1,0,0],\n",
    "        [0,0,1,0],\n",
    "    ])\n",
    "\n",
    "    H = pd.DataFrame([theta[1]])\n",
    "\n",
    "    Q = pd.DataFrame([\n",
    "        [theta[2],0],\n",
    "        [0,theta[3]],\n",
    "    ])\n",
    "\n",
    "    kf = KF(y=np.array(y), \n",
    "                      Z=np.array(Z.astype(float)), \n",
    "                      H=np.array(H.astype(float)), \n",
    "                      T=np.array(T.astype(float)), \n",
    "                      Q=np.array(Q.astype(float)), \n",
    "                      a1=np.zeros((4)), \n",
    "                      P1=np.identity(4), \n",
    "                      R=np.array(R.astype(float)), \n",
    "                      nStates=4,)    \n",
    "\n",
    "    return -np.log(kf['ll']*10e6)"
   ]
  },
  {
   "cell_type": "markdown",
   "metadata": {},
   "source": [
    "## Define the additional state space matrices"
   ]
  },
  {
   "cell_type": "code",
   "execution_count": 5,
   "metadata": {
    "collapsed": false
   },
   "outputs": [
    {
     "name": "stdout",
     "output_type": "stream",
     "text": [
      "time: 7.39 ms\n"
     ]
    }
   ],
   "source": [
    "Z = pd.DataFrame([\n",
    "        [1,1,0,0],\n",
    "    ])\n",
    "\n",
    "R = pd.DataFrame([\n",
    "        [1,0],\n",
    "        [0,1],\n",
    "        [0,0],\n",
    "        [0,0],\n",
    "    ])"
   ]
  },
  {
   "cell_type": "markdown",
   "metadata": {},
   "source": [
    "Minimize the wrapper function, with the following initial values for $\\theta$:\n",
    "\n",
    "$$\\theta = [0.5, 1, 1, 1]'$$\n",
    "    "
   ]
  },
  {
   "cell_type": "code",
   "execution_count": 6,
   "metadata": {
    "collapsed": false
   },
   "outputs": [
    {
     "name": "stdout",
     "output_type": "stream",
     "text": [
      "time: 1.56 ms\n"
     ]
    }
   ],
   "source": [
    "initialTheta = np.array([0.5,1.0,1.0,1.0])"
   ]
  },
  {
   "cell_type": "code",
   "execution_count": 28,
   "metadata": {
    "collapsed": false
   },
   "outputs": [
    {
     "ename": "KeyboardInterrupt",
     "evalue": "",
     "output_type": "error",
     "traceback": [
      "\u001b[0;31m---------------------------------------------------------------------------\u001b[0m",
      "\u001b[0;31mKeyboardInterrupt\u001b[0m                         Traceback (most recent call last)",
      "\u001b[0;32m<ipython-input-28-64aa8ca097f5>\u001b[0m in \u001b[0;36m<module>\u001b[0;34m()\u001b[0m\n\u001b[1;32m      2\u001b[0m          \u001b[0moptions\u001b[0m\u001b[0;34m=\u001b[0m\u001b[0;34m{\u001b[0m\u001b[0;34m'disp'\u001b[0m\u001b[0;34m:\u001b[0m\u001b[0;32mTrue\u001b[0m\u001b[0;34m,\u001b[0m \u001b[0;34m'maxiter'\u001b[0m\u001b[0;34m:\u001b[0m\u001b[0;36m1000\u001b[0m\u001b[0;34m}\u001b[0m\u001b[0;34m,\u001b[0m\u001b[0;34m\u001b[0m\u001b[0m\n\u001b[1;32m      3\u001b[0m \u001b[0;31m#          bounds = ((-5,5),(None,None),(None,None),(None,None),),\u001b[0m\u001b[0;34m\u001b[0m\u001b[0;34m\u001b[0m\u001b[0m\n\u001b[0;32m----> 4\u001b[0;31m          \u001b[0mmethod\u001b[0m\u001b[0;34m=\u001b[0m\u001b[0;34m'SLSQP'\u001b[0m\u001b[0;34m,\u001b[0m\u001b[0;34m\u001b[0m\u001b[0m\n\u001b[0m\u001b[1;32m      5\u001b[0m          )\n",
      "\u001b[0;32m/Users/mac/anaconda/lib/python3.5/site-packages/scipy/optimize/_minimize.py\u001b[0m in \u001b[0;36mminimize\u001b[0;34m(fun, x0, args, method, jac, hess, hessp, bounds, constraints, tol, callback, options)\u001b[0m\n\u001b[1;32m    453\u001b[0m     \u001b[0;32melif\u001b[0m \u001b[0mmeth\u001b[0m \u001b[0;34m==\u001b[0m \u001b[0;34m'slsqp'\u001b[0m\u001b[0;34m:\u001b[0m\u001b[0;34m\u001b[0m\u001b[0m\n\u001b[1;32m    454\u001b[0m         return _minimize_slsqp(fun, x0, args, jac, bounds,\n\u001b[0;32m--> 455\u001b[0;31m                                constraints, callback=callback, **options)\n\u001b[0m\u001b[1;32m    456\u001b[0m     \u001b[0;32melif\u001b[0m \u001b[0mmeth\u001b[0m \u001b[0;34m==\u001b[0m \u001b[0;34m'dogleg'\u001b[0m\u001b[0;34m:\u001b[0m\u001b[0;34m\u001b[0m\u001b[0m\n\u001b[1;32m    457\u001b[0m         return _minimize_dogleg(fun, x0, args, jac, hess,\n",
      "\u001b[0;32m/Users/mac/anaconda/lib/python3.5/site-packages/scipy/optimize/slsqp.py\u001b[0m in \u001b[0;36m_minimize_slsqp\u001b[0;34m(func, x0, args, jac, bounds, constraints, maxiter, ftol, iprint, disp, eps, callback, **unknown_options)\u001b[0m\n\u001b[1;32m    381\u001b[0m             \u001b[0;31m# Compute the derivatives of the objective function\u001b[0m\u001b[0;34m\u001b[0m\u001b[0;34m\u001b[0m\u001b[0m\n\u001b[1;32m    382\u001b[0m             \u001b[0;31m# For some reason SLSQP wants g dimensioned to n+1\u001b[0m\u001b[0;34m\u001b[0m\u001b[0;34m\u001b[0m\u001b[0m\n\u001b[0;32m--> 383\u001b[0;31m             \u001b[0mg\u001b[0m \u001b[0;34m=\u001b[0m \u001b[0mappend\u001b[0m\u001b[0;34m(\u001b[0m\u001b[0mfprime\u001b[0m\u001b[0;34m(\u001b[0m\u001b[0mx\u001b[0m\u001b[0;34m)\u001b[0m\u001b[0;34m,\u001b[0m\u001b[0;36m0.0\u001b[0m\u001b[0;34m)\u001b[0m\u001b[0;34m\u001b[0m\u001b[0m\n\u001b[0m\u001b[1;32m    384\u001b[0m \u001b[0;34m\u001b[0m\u001b[0m\n\u001b[1;32m    385\u001b[0m             \u001b[0;31m# Compute the normals of the constraints\u001b[0m\u001b[0;34m\u001b[0m\u001b[0;34m\u001b[0m\u001b[0m\n",
      "\u001b[0;32m/Users/mac/anaconda/lib/python3.5/site-packages/scipy/optimize/optimize.py\u001b[0m in \u001b[0;36mfunction_wrapper\u001b[0;34m(*wrapper_args)\u001b[0m\n\u001b[1;32m    287\u001b[0m     \u001b[0;32mdef\u001b[0m \u001b[0mfunction_wrapper\u001b[0m\u001b[0;34m(\u001b[0m\u001b[0;34m*\u001b[0m\u001b[0mwrapper_args\u001b[0m\u001b[0;34m)\u001b[0m\u001b[0;34m:\u001b[0m\u001b[0;34m\u001b[0m\u001b[0m\n\u001b[1;32m    288\u001b[0m         \u001b[0mncalls\u001b[0m\u001b[0;34m[\u001b[0m\u001b[0;36m0\u001b[0m\u001b[0;34m]\u001b[0m \u001b[0;34m+=\u001b[0m \u001b[0;36m1\u001b[0m\u001b[0;34m\u001b[0m\u001b[0m\n\u001b[0;32m--> 289\u001b[0;31m         \u001b[0;32mreturn\u001b[0m \u001b[0mfunction\u001b[0m\u001b[0;34m(\u001b[0m\u001b[0;34m*\u001b[0m\u001b[0;34m(\u001b[0m\u001b[0mwrapper_args\u001b[0m \u001b[0;34m+\u001b[0m \u001b[0margs\u001b[0m\u001b[0;34m)\u001b[0m\u001b[0;34m)\u001b[0m\u001b[0;34m\u001b[0m\u001b[0m\n\u001b[0m\u001b[1;32m    290\u001b[0m \u001b[0;34m\u001b[0m\u001b[0m\n\u001b[1;32m    291\u001b[0m     \u001b[0;32mreturn\u001b[0m \u001b[0mncalls\u001b[0m\u001b[0;34m,\u001b[0m \u001b[0mfunction_wrapper\u001b[0m\u001b[0;34m\u001b[0m\u001b[0m\n",
      "\u001b[0;32m/Users/mac/anaconda/lib/python3.5/site-packages/scipy/optimize/slsqp.py\u001b[0m in \u001b[0;36mapprox_jacobian\u001b[0;34m(x, func, epsilon, *args)\u001b[0m\n\u001b[1;32m     60\u001b[0m     \u001b[0;32mfor\u001b[0m \u001b[0mi\u001b[0m \u001b[0;32min\u001b[0m \u001b[0mrange\u001b[0m\u001b[0;34m(\u001b[0m\u001b[0mlen\u001b[0m\u001b[0;34m(\u001b[0m\u001b[0mx0\u001b[0m\u001b[0;34m)\u001b[0m\u001b[0;34m)\u001b[0m\u001b[0;34m:\u001b[0m\u001b[0;34m\u001b[0m\u001b[0m\n\u001b[1;32m     61\u001b[0m         \u001b[0mdx\u001b[0m\u001b[0;34m[\u001b[0m\u001b[0mi\u001b[0m\u001b[0;34m]\u001b[0m \u001b[0;34m=\u001b[0m \u001b[0mepsilon\u001b[0m\u001b[0;34m\u001b[0m\u001b[0m\n\u001b[0;32m---> 62\u001b[0;31m         \u001b[0mjac\u001b[0m\u001b[0;34m[\u001b[0m\u001b[0mi\u001b[0m\u001b[0;34m]\u001b[0m \u001b[0;34m=\u001b[0m \u001b[0;34m(\u001b[0m\u001b[0mfunc\u001b[0m\u001b[0;34m(\u001b[0m\u001b[0;34m*\u001b[0m\u001b[0;34m(\u001b[0m\u001b[0;34m(\u001b[0m\u001b[0mx0\u001b[0m\u001b[0;34m+\u001b[0m\u001b[0mdx\u001b[0m\u001b[0;34m,\u001b[0m\u001b[0;34m)\u001b[0m\u001b[0;34m+\u001b[0m\u001b[0margs\u001b[0m\u001b[0;34m)\u001b[0m\u001b[0;34m)\u001b[0m \u001b[0;34m-\u001b[0m \u001b[0mf0\u001b[0m\u001b[0;34m)\u001b[0m\u001b[0;34m/\u001b[0m\u001b[0mepsilon\u001b[0m\u001b[0;34m\u001b[0m\u001b[0m\n\u001b[0m\u001b[1;32m     63\u001b[0m         \u001b[0mdx\u001b[0m\u001b[0;34m[\u001b[0m\u001b[0mi\u001b[0m\u001b[0;34m]\u001b[0m \u001b[0;34m=\u001b[0m \u001b[0;36m0.0\u001b[0m\u001b[0;34m\u001b[0m\u001b[0m\n\u001b[1;32m     64\u001b[0m \u001b[0;34m\u001b[0m\u001b[0m\n",
      "\u001b[0;32m/Users/mac/anaconda/lib/python3.5/site-packages/scipy/optimize/optimize.py\u001b[0m in \u001b[0;36mfunction_wrapper\u001b[0;34m(*wrapper_args)\u001b[0m\n\u001b[1;32m    287\u001b[0m     \u001b[0;32mdef\u001b[0m \u001b[0mfunction_wrapper\u001b[0m\u001b[0;34m(\u001b[0m\u001b[0;34m*\u001b[0m\u001b[0mwrapper_args\u001b[0m\u001b[0;34m)\u001b[0m\u001b[0;34m:\u001b[0m\u001b[0;34m\u001b[0m\u001b[0m\n\u001b[1;32m    288\u001b[0m         \u001b[0mncalls\u001b[0m\u001b[0;34m[\u001b[0m\u001b[0;36m0\u001b[0m\u001b[0;34m]\u001b[0m \u001b[0;34m+=\u001b[0m \u001b[0;36m1\u001b[0m\u001b[0;34m\u001b[0m\u001b[0m\n\u001b[0;32m--> 289\u001b[0;31m         \u001b[0;32mreturn\u001b[0m \u001b[0mfunction\u001b[0m\u001b[0;34m(\u001b[0m\u001b[0;34m*\u001b[0m\u001b[0;34m(\u001b[0m\u001b[0mwrapper_args\u001b[0m \u001b[0;34m+\u001b[0m \u001b[0margs\u001b[0m\u001b[0;34m)\u001b[0m\u001b[0;34m)\u001b[0m\u001b[0;34m\u001b[0m\u001b[0m\n\u001b[0m\u001b[1;32m    290\u001b[0m \u001b[0;34m\u001b[0m\u001b[0m\n\u001b[1;32m    291\u001b[0m     \u001b[0;32mreturn\u001b[0m \u001b[0mncalls\u001b[0m\u001b[0;34m,\u001b[0m \u001b[0mfunction_wrapper\u001b[0m\u001b[0;34m\u001b[0m\u001b[0m\n",
      "\u001b[0;32m<ipython-input-23-06a331d221e4>\u001b[0m in \u001b[0;36mwrapper\u001b[0;34m(theta)\u001b[0m\n\u001b[1;32m     22\u001b[0m                       \u001b[0mP1\u001b[0m\u001b[0;34m=\u001b[0m\u001b[0mnp\u001b[0m\u001b[0;34m.\u001b[0m\u001b[0midentity\u001b[0m\u001b[0;34m(\u001b[0m\u001b[0;36m4\u001b[0m\u001b[0;34m)\u001b[0m\u001b[0;34m,\u001b[0m\u001b[0;34m\u001b[0m\u001b[0m\n\u001b[1;32m     23\u001b[0m                       \u001b[0mR\u001b[0m\u001b[0;34m=\u001b[0m\u001b[0mnp\u001b[0m\u001b[0;34m.\u001b[0m\u001b[0marray\u001b[0m\u001b[0;34m(\u001b[0m\u001b[0mR\u001b[0m\u001b[0;34m.\u001b[0m\u001b[0mastype\u001b[0m\u001b[0;34m(\u001b[0m\u001b[0mfloat\u001b[0m\u001b[0;34m)\u001b[0m\u001b[0;34m)\u001b[0m\u001b[0;34m,\u001b[0m\u001b[0;34m\u001b[0m\u001b[0m\n\u001b[0;32m---> 24\u001b[0;31m                       nStates=4,)    \n\u001b[0m\u001b[1;32m     25\u001b[0m \u001b[0;34m\u001b[0m\u001b[0m\n\u001b[1;32m     26\u001b[0m     \u001b[0;32mreturn\u001b[0m \u001b[0;34m-\u001b[0m\u001b[0mnp\u001b[0m\u001b[0;34m.\u001b[0m\u001b[0mlog\u001b[0m\u001b[0;34m(\u001b[0m\u001b[0mkf\u001b[0m\u001b[0;34m[\u001b[0m\u001b[0;34m'll'\u001b[0m\u001b[0;34m]\u001b[0m\u001b[0;34m*\u001b[0m\u001b[0;36m10e6\u001b[0m\u001b[0;34m)\u001b[0m\u001b[0;34m\u001b[0m\u001b[0m\n",
      "\u001b[0;32m/Users/mac/Documents/Repos/BayesianEconometrics/KF_py.py\u001b[0m in \u001b[0;36mKalmanFilter\u001b[0;34m(y, nStates, Z, H, T, Q, a1, P1, R)\u001b[0m\n\u001b[1;32m    145\u001b[0m         \u001b[0;31m# print(\"dim: {ind!s}\".format(ind=dims[t]))\u001b[0m\u001b[0;34m\u001b[0m\u001b[0;34m\u001b[0m\u001b[0m\n\u001b[1;32m    146\u001b[0m         \u001b[0;32mif\u001b[0m \u001b[0mind\u001b[0m\u001b[0;34m[\u001b[0m\u001b[0mt\u001b[0m\u001b[0;34m]\u001b[0m \u001b[0;34m<\u001b[0m \u001b[0;36m2\u001b[0m\u001b[0;34m:\u001b[0m\u001b[0;34m\u001b[0m\u001b[0m\n\u001b[0;32m--> 147\u001b[0;31m             \u001b[0mll\u001b[0m \u001b[0;34m+=\u001b[0m \u001b[0mnp\u001b[0m\u001b[0;34m.\u001b[0m\u001b[0mlog\u001b[0m\u001b[0;34m(\u001b[0m\u001b[0mdet\u001b[0m\u001b[0;34m(\u001b[0m\u001b[0mFt\u001b[0m\u001b[0;34m[\u001b[0m\u001b[0;34m:\u001b[0m\u001b[0mdims\u001b[0m\u001b[0;34m[\u001b[0m\u001b[0mt\u001b[0m\u001b[0;34m]\u001b[0m\u001b[0;34m,\u001b[0m\u001b[0;34m:\u001b[0m\u001b[0mdims\u001b[0m\u001b[0;34m[\u001b[0m\u001b[0mt\u001b[0m\u001b[0;34m]\u001b[0m\u001b[0;34m,\u001b[0m\u001b[0mt\u001b[0m\u001b[0;34m]\u001b[0m\u001b[0;34m)\u001b[0m\u001b[0;34m)\u001b[0m \u001b[0;34m+\u001b[0m \u001b[0mvt\u001b[0m\u001b[0;34m[\u001b[0m\u001b[0mt\u001b[0m\u001b[0;34m,\u001b[0m\u001b[0minds\u001b[0m\u001b[0;34m[\u001b[0m\u001b[0mt\u001b[0m\u001b[0;34m,\u001b[0m\u001b[0;34m:\u001b[0m\u001b[0;34m]\u001b[0m\u001b[0;34m]\u001b[0m\u001b[0;34m.\u001b[0m\u001b[0mT\u001b[0m\u001b[0;34m.\u001b[0m\u001b[0mdot\u001b[0m\u001b[0;34m(\u001b[0m\u001b[0minv\u001b[0m\u001b[0;34m(\u001b[0m\u001b[0mFt\u001b[0m\u001b[0;34m[\u001b[0m\u001b[0;34m:\u001b[0m\u001b[0mdims\u001b[0m\u001b[0;34m[\u001b[0m\u001b[0mt\u001b[0m\u001b[0;34m]\u001b[0m\u001b[0;34m,\u001b[0m\u001b[0;34m:\u001b[0m\u001b[0mdims\u001b[0m\u001b[0;34m[\u001b[0m\u001b[0mt\u001b[0m\u001b[0;34m]\u001b[0m\u001b[0;34m,\u001b[0m\u001b[0mt\u001b[0m\u001b[0;34m]\u001b[0m\u001b[0;34m)\u001b[0m\u001b[0;34m)\u001b[0m\u001b[0;34m.\u001b[0m\u001b[0mdot\u001b[0m\u001b[0;34m(\u001b[0m\u001b[0mvt\u001b[0m\u001b[0;34m[\u001b[0m\u001b[0mt\u001b[0m\u001b[0;34m,\u001b[0m\u001b[0minds\u001b[0m\u001b[0;34m[\u001b[0m\u001b[0mt\u001b[0m\u001b[0;34m,\u001b[0m\u001b[0;34m:\u001b[0m\u001b[0;34m]\u001b[0m\u001b[0;34m]\u001b[0m\u001b[0;34m)\u001b[0m\u001b[0;34m\u001b[0m\u001b[0m\n\u001b[0m\u001b[1;32m    148\u001b[0m     \u001b[0mll\u001b[0m \u001b[0;34m=\u001b[0m \u001b[0;34m-\u001b[0m \u001b[0mn\u001b[0m \u001b[0;34m*\u001b[0m \u001b[0mp\u001b[0m \u001b[0;34m*\u001b[0m \u001b[0;36m0.5\u001b[0m \u001b[0;34m*\u001b[0m \u001b[0mnp\u001b[0m\u001b[0;34m.\u001b[0m\u001b[0mlog\u001b[0m\u001b[0;34m(\u001b[0m\u001b[0;36m2\u001b[0m \u001b[0;34m*\u001b[0m \u001b[0mnp\u001b[0m\u001b[0;34m.\u001b[0m\u001b[0mpi\u001b[0m\u001b[0;34m)\u001b[0m \u001b[0;34m-\u001b[0m \u001b[0;36m0.5\u001b[0m \u001b[0;34m*\u001b[0m \u001b[0mll\u001b[0m\u001b[0;34m\u001b[0m\u001b[0m\n\u001b[1;32m    149\u001b[0m     \u001b[0;32mreturn\u001b[0m \u001b[0;34m{\u001b[0m\u001b[0;34m'll'\u001b[0m \u001b[0;34m:\u001b[0m \u001b[0mnp\u001b[0m\u001b[0;34m.\u001b[0m\u001b[0mexp\u001b[0m\u001b[0;34m(\u001b[0m\u001b[0mll\u001b[0m\u001b[0;34m)\u001b[0m\u001b[0;34m,\u001b[0m \u001b[0;34m'yhat'\u001b[0m \u001b[0;34m:\u001b[0m \u001b[0myhat\u001b[0m\u001b[0;34m,\u001b[0m \u001b[0;34m'y'\u001b[0m \u001b[0;34m:\u001b[0m \u001b[0my\u001b[0m \u001b[0;34m}\u001b[0m\u001b[0;34m\u001b[0m\u001b[0m\n",
      "\u001b[0;31mKeyboardInterrupt\u001b[0m: "
     ]
    },
    {
     "name": "stdout",
     "output_type": "stream",
     "text": [
      "time: 2min 20s\n"
     ]
    }
   ],
   "source": [
    "minimize(wrapper,initialTheta, \n",
    "         options={'disp':True, 'maxiter':1000}, \n",
    "#          bounds = ((-5,5),(None,None),(None,None),(None,None),), \n",
    "         method='SLSQP',\n",
    "         )"
   ]
  },
  {
   "cell_type": "code",
   "execution_count": null,
   "metadata": {
    "collapsed": true
   },
   "outputs": [],
   "source": [
    "minimize(wrapper,initialTheta, \n",
    "         options={'disp':True, 'maxiter':500}, \n",
    "#          bounds = ((-5,5),(None,None),(None,None),(None,None),), \n",
    "         method='Powell',\n",
    "         )"
   ]
  },
  {
   "cell_type": "code",
   "execution_count": null,
   "metadata": {
    "collapsed": true
   },
   "outputs": [],
   "source": [
    "minimize(wrapper,initialTheta, \n",
    "         options={'disp':True, 'maxiter':500}, \n",
    "#          bounds = ((-5,5),(None,None),(None,None),(None,None),), \n",
    "         method='BFGS',\n",
    "         )"
   ]
  },
  {
   "cell_type": "code",
   "execution_count": null,
   "metadata": {
    "collapsed": true
   },
   "outputs": [],
   "source": [
    "minimize(wrapper,initialTheta, \n",
    "         options={'disp':True, 'maxiter':500}, \n",
    "#          bounds = ((-5,5),(None,None),(None,None),(None,None),), \n",
    "         method='Nelder-Mead',\n",
    "         )"
   ]
  },
  {
   "cell_type": "markdown",
   "metadata": {},
   "source": [
    "# Bayesian Estimates\n",
    "\n",
    "## Wrapper, Priors and Posteriors\n",
    "\n",
    "We chose to use the following priors:\n",
    "\n",
    "$$\\theta_1 \\sim N(0,1)$$\n",
    "$$\\sigma^2_\\epsilon \\sim \\chi_2(1)$$\n",
    "$$\\sigma^2_\\xi \\sim \\chi_2(1)$$\n",
    "$$\\sigma^2_\\omega \\sim \\chi_2(1)$$"
   ]
  },
  {
   "cell_type": "code",
   "execution_count": 7,
   "metadata": {
    "collapsed": false
   },
   "outputs": [
    {
     "name": "stdout",
     "output_type": "stream",
     "text": [
      "time: 5.75 ms\n"
     ]
    }
   ],
   "source": [
    "def posterior(theta,priorMeans, priorVariances):\n",
    "    \n",
    "    i=0\n",
    "    temp = norm.pdf(theta[i],priorMeans[i],priorVariances[i])\n",
    "    for i in range(1,3+1):\n",
    "        temp *= chi2.pdf(theta[i],1)\n",
    "    \n",
    "    ll = wrapper(theta)\n",
    "#     print(ll)\n",
    "    return ll * temp"
   ]
  },
  {
   "cell_type": "code",
   "execution_count": 8,
   "metadata": {
    "collapsed": false
   },
   "outputs": [
    {
     "name": "stdout",
     "output_type": "stream",
     "text": [
      "time: 24 ms\n"
     ]
    }
   ],
   "source": [
    "def wrapper(theta):\n",
    "    T = pd.DataFrame([\n",
    "        [1,0,0,0],\n",
    "        [0,-1,-1,-theta[0]],\n",
    "        [0,1,0,0],\n",
    "        [0,0,1,0],\n",
    "    ])\n",
    "\n",
    "    H = pd.DataFrame([theta[1]])\n",
    "\n",
    "    Q = pd.DataFrame([\n",
    "        [theta[2],0],\n",
    "        [0,theta[3]],\n",
    "    ])\n",
    "\n",
    "    kf = KF(y=np.array(y), \n",
    "                      Z=np.array(Z.astype(float)), \n",
    "                      H=np.array(H.astype(float)), \n",
    "                      T=np.array(T.astype(float)), \n",
    "                      Q=np.array(Q.astype(float)), \n",
    "                      a1=np.zeros((4)), \n",
    "                      P1=np.identity(4), \n",
    "                      R=np.array(R.astype(float)), \n",
    "                      nStates=4,)    \n",
    "\n",
    "    return kf['ll']"
   ]
  },
  {
   "cell_type": "markdown",
   "metadata": {},
   "source": [
    "## MCMC - Metropolis Hastings\n",
    "\n",
    "We chose to use a random walk metropolis hastings of the form\n",
    "\n",
    "---\n",
    "**Metropolis-Hastings Algoritm**\n",
    "\n",
    "Guess $\\theta^{(0)}$ and for $i=0$ until $n$: \n",
    "1. $\\theta=\\theta^{(i-1)} + \\eta_t$ where $\\eta_t \\sim N(0,\\sigma)$\n",
    "2. Compute $r=\\min(1,\\alpha)$ where $\\alpha= \\frac{p(\\theta')q(\\theta|\\theta')}{p(\\theta)q(\\theta'|\\theta)}$\n",
    "4. Draw $u\\sim U(0,1)$\n",
    "5. $\\theta^{(i+1)}=\\begin{cases}\\theta' & \\text{if $u<r$}\\\\\\theta & \\text{if $u\\geq r$}\\end{cases}$\n",
    "\n",
    "---\n",
    "\n",
    "We use the logarithmic transformations for all variance parameters"
   ]
  },
  {
   "cell_type": "code",
   "execution_count": 9,
   "metadata": {
    "collapsed": false
   },
   "outputs": [
    {
     "name": "stdout",
     "output_type": "stream",
     "text": [
      "time: 36.5 ms\n"
     ]
    }
   ],
   "source": [
    "def randomWalkMH(sample,burn, initialTheta, randomWalkSigmas,priorMeans,priorVariances):\n",
    "\n",
    "    thetaMH = []\n",
    "    accept = np.zeros([sample])\n",
    "    posts = np.zeros([sample])\n",
    "\n",
    "    thetaMH.append(initialTheta)\n",
    "\n",
    "    thetastemps = []\n",
    "    disturbances = []\n",
    "\n",
    "    for i in range(1,sample):\n",
    "        disturbance = np.multiply(np.random.randn(thetaMH[0].shape[0]),randomWalkSigmas)\n",
    "    #     disturbance[1:] = np.exp(disturbance[1:]) #problema está aqui\n",
    "    #     print(disturbance)\n",
    "        thetaTemp = thetaMH[i-1].copy()\n",
    "        thetaTemp[1:] = np.log(thetaMH[i-1][1:])+disturbance[1:]\n",
    "        thetaTemp[1:] = np.exp(thetaTemp[1:])\n",
    "        thetaTemp[0] = thetaTemp[0] + disturbance[0]\n",
    "        disturbances.append(disturbance)\n",
    "        thetastemps.append(thetaTemp.copy())\n",
    "    #     print(thetaTemp)\n",
    "    #     print(thetastemps[i-1])\n",
    "    #     thetaTemp = (temp)\n",
    "        tempPost = posterior(thetaTemp,priorMeans, priorVariances)\n",
    "        lalpha = np.log(tempPost) - np.log(posts[i-1])\n",
    "        r = np.min([1, np.exp(lalpha)])\n",
    "\n",
    "        u = np.random.uniform()\n",
    "\n",
    "        if u < r:\n",
    "            accept[i] = 1\n",
    "            thetaMH.append(thetaTemp)\n",
    "            posts[i] = tempPost\n",
    "        else:\n",
    "            thetaMH.append(thetaMH[i-1])\n",
    "            posts[i] = posts[i-1]    \n",
    "\n",
    "    post = pd.DataFrame(thetaMH)\n",
    "    return {'posterior' : post[burn:], 'accept' : accept}"
   ]
  },
  {
   "cell_type": "code",
   "execution_count": 12,
   "metadata": {
    "collapsed": false
   },
   "outputs": [
    {
     "name": "stderr",
     "output_type": "stream",
     "text": [
      "/Users/mac/anaconda/lib/python3.5/site-packages/ipykernel/__main__.py:26: RuntimeWarning: divide by zero encountered in log\n"
     ]
    },
    {
     "name": "stdout",
     "output_type": "stream",
     "text": [
      "time: 1min 23s\n"
     ]
    }
   ],
   "source": [
    "sample = 3000\n",
    "\n",
    "sigma = 0.3\n",
    "randomWalkSigmas = np.array([0.1,sigma,sigma,sigma])\n",
    "\n",
    "priorMeans = np.array([0,0,0,0])\n",
    "\n",
    "priorVariances = 3 * np.ones(4)\n",
    "\n",
    "mcmc = randomWalkMH(sample = sample,\n",
    "                 burn = 1000, \n",
    "                 initialTheta = initialTheta, \n",
    "                 randomWalkSigmas = randomWalkSigmas,\n",
    "                 priorMeans = priorMeans,\n",
    "                 priorVariances = priorVariances)"
   ]
  },
  {
   "cell_type": "markdown",
   "metadata": {},
   "source": [
    "**Acceptance Ratio**"
   ]
  },
  {
   "cell_type": "code",
   "execution_count": 13,
   "metadata": {
    "collapsed": false
   },
   "outputs": [
    {
     "data": {
      "text/plain": [
       "0.30366666666666664"
      ]
     },
     "execution_count": 13,
     "metadata": {},
     "output_type": "execute_result"
    },
    {
     "name": "stdout",
     "output_type": "stream",
     "text": [
      "time: 3.63 ms\n"
     ]
    }
   ],
   "source": [
    "mcmc['accept'].sum() / mcmc['accept'].shape[0]"
   ]
  },
  {
   "cell_type": "markdown",
   "metadata": {},
   "source": [
    "## Marginal distribution for $\\theta_1$\n",
    "\n",
    "True value is $0.7$"
   ]
  },
  {
   "cell_type": "code",
   "execution_count": 14,
   "metadata": {
    "collapsed": false
   },
   "outputs": [
    {
     "name": "stdout",
     "output_type": "stream",
     "text": [
      "time: 41.5 ms\n"
     ]
    }
   ],
   "source": [
    "par = 0"
   ]
  },
  {
   "cell_type": "code",
   "execution_count": 15,
   "metadata": {
    "collapsed": false
   },
   "outputs": [
    {
     "data": {
      "text/plain": [
       "count    2000.000000\n",
       "mean        0.628934\n",
       "std         0.065739\n",
       "min         0.403778\n",
       "25%         0.586395\n",
       "50%         0.630395\n",
       "75%         0.672855\n",
       "max         0.820119\n",
       "Name: 0, dtype: float64"
      ]
     },
     "execution_count": 15,
     "metadata": {},
     "output_type": "execute_result"
    },
    {
     "name": "stdout",
     "output_type": "stream",
     "text": [
      "time: 9.62 ms\n"
     ]
    }
   ],
   "source": [
    "mcmc['posterior'][par].describe()"
   ]
  },
  {
   "cell_type": "code",
   "execution_count": 16,
   "metadata": {
    "collapsed": false
   },
   "outputs": [
    {
     "data": {
      "text/plain": [
       "<matplotlib.axes._subplots.AxesSubplot at 0x111a0e3c8>"
      ]
     },
     "execution_count": 16,
     "metadata": {},
     "output_type": "execute_result"
    },
    {
     "data": {
      "image/png": "[encoded data removed]",
      "text/plain": [
       "<matplotlib.figure.Figure at 0x10e6fdb38>"
      ]
     },
     "metadata": {},
     "output_type": "display_data"
    },
    {
     "name": "stdout",
     "output_type": "stream",
     "text": [
      "time: 395 ms\n"
     ]
    }
   ],
   "source": [
    "mcmc['posterior'][par].plot.density()"
   ]
  },
  {
   "cell_type": "markdown",
   "metadata": {},
   "source": [
    "## Marginal distribution for $\\sigma^2_\\epsilon$\n",
    "\n",
    "True value is $0.3$"
   ]
  },
  {
   "cell_type": "code",
   "execution_count": 17,
   "metadata": {
    "collapsed": false
   },
   "outputs": [
    {
     "name": "stdout",
     "output_type": "stream",
     "text": [
      "time: 934 µs\n"
     ]
    }
   ],
   "source": [
    "par = 1"
   ]
  },
  {
   "cell_type": "code",
   "execution_count": 18,
   "metadata": {
    "collapsed": false
   },
   "outputs": [
    {
     "data": {
      "text/plain": [
       "count    2000.000000\n",
       "mean        0.102836\n",
       "std         0.031509\n",
       "min         0.024242\n",
       "25%         0.079114\n",
       "50%         0.100724\n",
       "75%         0.123279\n",
       "max         0.223564\n",
       "Name: 1, dtype: float64"
      ]
     },
     "execution_count": 18,
     "metadata": {},
     "output_type": "execute_result"
    },
    {
     "name": "stdout",
     "output_type": "stream",
     "text": [
      "time: 11.1 ms\n"
     ]
    }
   ],
   "source": [
    "mcmc['posterior'][par].describe()"
   ]
  },
  {
   "cell_type": "code",
   "execution_count": 19,
   "metadata": {
    "collapsed": false
   },
   "outputs": [
    {
     "data": {
      "text/plain": [
       "<matplotlib.axes._subplots.AxesSubplot at 0x111adc0f0>"
      ]
     },
     "execution_count": 19,
     "metadata": {},
     "output_type": "execute_result"
    },
    {
     "data": {
      "image/png": "[encoded data removed]",
      "text/plain": [
       "<matplotlib.figure.Figure at 0x111a1fb00>"
      ]
     },
     "metadata": {},
     "output_type": "display_data"
    },
    {
     "name": "stdout",
     "output_type": "stream",
     "text": [
      "time: 438 ms\n"
     ]
    }
   ],
   "source": [
    "mcmc['posterior'][par].plot.density()"
   ]
  },
  {
   "cell_type": "markdown",
   "metadata": {},
   "source": [
    "## Marginal distribution for $\\sigma^2_\\xi$\n",
    "\n",
    "True value is $0.1$"
   ]
  },
  {
   "cell_type": "code",
   "execution_count": 20,
   "metadata": {
    "collapsed": false
   },
   "outputs": [
    {
     "name": "stdout",
     "output_type": "stream",
     "text": [
      "time: 875 µs\n"
     ]
    }
   ],
   "source": [
    "par = 2"
   ]
  },
  {
   "cell_type": "code",
   "execution_count": 21,
   "metadata": {
    "collapsed": false
   },
   "outputs": [
    {
     "data": {
      "text/plain": [
       "count    2000.000000\n",
       "mean        0.012834\n",
       "std         0.007313\n",
       "min         0.002962\n",
       "25%         0.007763\n",
       "50%         0.010935\n",
       "75%         0.016369\n",
       "max         0.055378\n",
       "Name: 2, dtype: float64"
      ]
     },
     "execution_count": 21,
     "metadata": {},
     "output_type": "execute_result"
    },
    {
     "name": "stdout",
     "output_type": "stream",
     "text": [
      "time: 10.7 ms\n"
     ]
    }
   ],
   "source": [
    "mcmc['posterior'][par].describe()"
   ]
  },
  {
   "cell_type": "code",
   "execution_count": 22,
   "metadata": {
    "collapsed": false
   },
   "outputs": [
    {
     "data": {
      "text/plain": [
       "<matplotlib.axes._subplots.AxesSubplot at 0x111a0a3c8>"
      ]
     },
     "execution_count": 22,
     "metadata": {},
     "output_type": "execute_result"
    },
    {
     "data": {
      "image/png": "[encoded data removed]",
      "text/plain": [
       "<matplotlib.figure.Figure at 0x111a27ba8>"
      ]
     },
     "metadata": {},
     "output_type": "display_data"
    },
    {
     "name": "stdout",
     "output_type": "stream",
     "text": [
      "time: 520 ms\n"
     ]
    }
   ],
   "source": [
    "mcmc['posterior'][par].plot.density()"
   ]
  },
  {
   "cell_type": "markdown",
   "metadata": {},
   "source": [
    "## Marginal distribution for $\\sigma^2_\\omega$\n",
    "\n",
    "True value is $0.2$"
   ]
  },
  {
   "cell_type": "code",
   "execution_count": 23,
   "metadata": {
    "collapsed": false
   },
   "outputs": [
    {
     "name": "stdout",
     "output_type": "stream",
     "text": [
      "time: 910 µs\n"
     ]
    }
   ],
   "source": [
    "par = 3"
   ]
  },
  {
   "cell_type": "code",
   "execution_count": 24,
   "metadata": {
    "collapsed": false
   },
   "outputs": [
    {
     "data": {
      "text/plain": [
       "count    2000.000000\n",
       "mean        0.027714\n",
       "std         0.010317\n",
       "min         0.004400\n",
       "25%         0.020027\n",
       "50%         0.027701\n",
       "75%         0.034339\n",
       "max         0.067196\n",
       "Name: 3, dtype: float64"
      ]
     },
     "execution_count": 24,
     "metadata": {},
     "output_type": "execute_result"
    },
    {
     "name": "stdout",
     "output_type": "stream",
     "text": [
      "time: 12 ms\n"
     ]
    }
   ],
   "source": [
    "mcmc['posterior'][par].describe()"
   ]
  },
  {
   "cell_type": "code",
   "execution_count": 25,
   "metadata": {
    "collapsed": false
   },
   "outputs": [
    {
     "data": {
      "text/plain": [
       "<matplotlib.axes._subplots.AxesSubplot at 0x111a7a5f8>"
      ]
     },
     "execution_count": 25,
     "metadata": {},
     "output_type": "execute_result"
    },
    {
     "data": {
      "image/png": "[encoded data removed]",
      "text/plain": [
       "<matplotlib.figure.Figure at 0x111cb3438>"
      ]
     },
     "metadata": {},
     "output_type": "display_data"
    },
    {
     "name": "stdout",
     "output_type": "stream",
     "text": [
      "time: 505 ms\n"
     ]
    }
   ],
   "source": [
    "mcmc['posterior'][par].plot.density()"
   ]
  },
  {
   "cell_type": "markdown",
   "metadata": {
    "collapsed": true
   },
   "source": [
    "# Performance Optimization\n",
    "\n",
    "## Profiling the Kalman Filter\n",
    "\n",
    "Profiling should always be the first step on every optimization\n",
    "\n",
    "We'll profile the KF with the true values"
   ]
  },
  {
   "cell_type": "code",
   "execution_count": 32,
   "metadata": {
    "collapsed": false
   },
   "outputs": [
    {
     "name": "stdout",
     "output_type": "stream",
     "text": [
      "time: 15.3 ms\n"
     ]
    }
   ],
   "source": [
    "def KF_func(theta):\n",
    "    T = pd.DataFrame([\n",
    "        [1,0,0,0],\n",
    "        [0,-1,-1,-0.7],\n",
    "        [0,1,0,0],\n",
    "        [0,0,1,0],\n",
    "    ])\n",
    "\n",
    "    H = pd.DataFrame([0.3])\n",
    "\n",
    "    Q = pd.DataFrame([\n",
    "        [0.1,0],\n",
    "        [0,0.2],\n",
    "    ])\n",
    "\n",
    "    kf = KF(y=np.array(y), \n",
    "                      Z=np.array(Z.astype(float)), \n",
    "                      H=np.array(H.astype(float)), \n",
    "                      T=np.array(T.astype(float)), \n",
    "                      Q=np.array(Q.astype(float)), \n",
    "                      a1=np.zeros((4)), \n",
    "                      P1=np.identity(4), \n",
    "                      R=np.array(R.astype(float)), \n",
    "                      nStates=4,)    \n",
    "\n",
    "    return kf['ll']\n"
   ]
  },
  {
   "cell_type": "code",
   "execution_count": 33,
   "metadata": {
    "collapsed": false
   },
   "outputs": [
    {
     "name": "stdout",
     "output_type": "stream",
     "text": [
      " \n",
      "*** Profile stats marshalled to file '/var/folders/s0/cpch1n253877slkrcpdzqgph0000gn/T/tmpyxene__y'. \n",
      "time: 3.07 s\n"
     ]
    }
   ],
   "source": [
    "%%snakeviz\n",
    "\n",
    "KF_func(0)"
   ]
  },
  {
   "cell_type": "markdown",
   "metadata": {},
   "source": [
    "## Dot Product"
   ]
  },
  {
   "cell_type": "code",
   "execution_count": 40,
   "metadata": {
    "collapsed": false
   },
   "outputs": [
    {
     "name": "stdout",
     "output_type": "stream",
     "text": [
      "time: 15.7 ms\n"
     ]
    }
   ],
   "source": [
    "def KF_func2(theta):\n",
    "    T = pd.DataFrame([\n",
    "        [1,0,0,0],\n",
    "        [0,-1,-1,-0.7],\n",
    "        [0,1,0,0],\n",
    "        [0,0,1,0],\n",
    "    ])\n",
    "\n",
    "    H = pd.DataFrame([0.3])\n",
    "\n",
    "    Q = pd.DataFrame([\n",
    "        [0.1,0],\n",
    "        [0,0.2],\n",
    "    ])\n",
    "\n",
    "    kf = KF2(y=np.array(y), \n",
    "                      Z=np.array(Z.astype(float)), \n",
    "                      H=np.array(H.astype(float)), \n",
    "                      T=np.array(T.astype(float)), \n",
    "                      Q=np.array(Q.astype(float)), \n",
    "                      a1=np.zeros((4)), \n",
    "                      P1=np.identity(4), \n",
    "                      R=np.array(R.astype(float)), \n",
    "                      nStates=4,)    \n",
    "\n",
    "    return kf['ll']\n",
    "\n"
   ]
  },
  {
   "cell_type": "code",
   "execution_count": 41,
   "metadata": {
    "collapsed": false
   },
   "outputs": [
    {
     "name": "stdout",
     "output_type": "stream",
     "text": [
      "10 loops, best of 3: 27.5 ms per loop\n",
      "time: 1.19 s\n"
     ]
    }
   ],
   "source": [
    "%%timeit\n",
    "KF_func(0)"
   ]
  },
  {
   "cell_type": "code",
   "execution_count": 42,
   "metadata": {
    "collapsed": false
   },
   "outputs": [
    {
     "name": "stdout",
     "output_type": "stream",
     "text": [
      "10 loops, best of 3: 24.8 ms per loop\n",
      "time: 1.07 s\n"
     ]
    }
   ],
   "source": [
    "%%timeit\n",
    "KF_func2(0)"
   ]
  },
  {
   "cell_type": "code",
   "execution_count": 44,
   "metadata": {
    "collapsed": false
   },
   "outputs": [
    {
     "name": "stdout",
     "output_type": "stream",
     "text": [
      " \n",
      "*** Profile stats marshalled to file '/var/folders/s0/cpch1n253877slkrcpdzqgph0000gn/T/tmp5mirpu00'. \n",
      "time: 3.07 s\n"
     ]
    }
   ],
   "source": [
    "%%snakeviz\n",
    "\n",
    "KF_func(0)"
   ]
  },
  {
   "cell_type": "markdown",
   "metadata": {},
   "source": [
    "Ideas so far:\n",
    "\n",
    "* numexpr\n",
    "* loops for individual elements\n",
    "* Best idea is to manage the univariate Kalman Filter"
   ]
  }
 ],
 "metadata": {
  "kernelspec": {
   "display_name": "Python 3",
   "language": "python",
   "name": "python3"
  },
  "language_info": {
   "codemirror_mode": {
    "name": "ipython",
    "version": 3
   },
   "file_extension": ".py",
   "mimetype": "text/x-python",
   "name": "python",
   "nbconvert_exporter": "python",
   "pygments_lexer": "ipython3",
   "version": "3.5.1"
  }
 },
 "nbformat": 4,
 "nbformat_minor": 0
}
