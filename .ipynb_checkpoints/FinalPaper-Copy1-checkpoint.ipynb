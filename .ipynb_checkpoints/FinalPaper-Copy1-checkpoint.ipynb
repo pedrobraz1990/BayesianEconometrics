{
 "cells": [
  {
   "cell_type": "code",
   "execution_count": 1,
   "metadata": {
    "collapsed": false
   },
   "outputs": [],
   "source": [
    "%matplotlib inline\n",
    "import numpy as np\n",
    "import pandas as pd\n",
    "import scipy as sp\n",
    "from scipy.optimize import minimize\n",
    "from scipy.stats import norm\n",
    "from scipy.stats import chi2\n",
    "import cython\n",
    "%load_ext Cython\n",
    "\n",
    "\n",
    "from KalmanFilter import KalmanFilter as KFPedro\n",
    "from KF_py import KalmanFilter as KF\n",
    "from KF_py2 import KalmanFilter as KF2\n",
    "from KalmanFilter_Uni import KalmanFilter as KFU\n",
    "from KalmanFilter_UniCy import KalmanFilter as KFUC\n",
    "\n",
    "%load_ext autotime\n",
    "%load_ext snakeviz"
   ]
  },
  {
   "cell_type": "markdown",
   "metadata": {},
   "source": [
    "# Bayesian Econometrics - Final Paper\n",
    "\n",
    "Paper to be delivered as the course's final paper\n",
    "\n",
    "Pedro Montero Mattos\n",
    "\n",
    "MPE - Econometria\n",
    "\n",
    "\\#333791"
   ]
  },
  {
   "cell_type": "markdown",
   "metadata": {},
   "source": [
    "# The Model - Local Level with Seasonal Component\n",
    "\n",
    "As described in the chapter 4 in Koopman et al. The local level model with a seasonal component consists of the following equations:\n",
    "\n",
    "$$y_t = \\mu_t + \\gamma_t + \\epsilon_t, \\qquad \\epsilon_t \\sim NID(0,\\sigma^2_\\epsilon)$$\n",
    "\n",
    "$$\\mu_{t+1} = \\mu_t + \\xi_t, \\qquad \\xi_t \\sim NID(0,\\sigma^2_\\xi) $$\n",
    "\n",
    "$$\\gamma_{t+1} = -\\gamma_{t} - \\gamma_{t-1} - \\theta_1\\gamma_{t-2} + \\omega_t \\sim NID(0,\\sigma^2_\\omega) $$\n",
    "\n",
    "\n",
    "We added a $\\theta$ coefficient in order to use maximum likelihood estimation"
   ]
  },
  {
   "cell_type": "markdown",
   "metadata": {},
   "source": [
    "## State Space Form\n",
    "\n",
    "General Form:\n",
    "\n",
    "$$ y_t = Z x_t + \\epsilon_t, \\qquad \\epsilon_t \\sim NID(0,\\sigma^2_\\epsilon)$$\n",
    "$$ x_{t+1} = T x_t + R_t \\eta_T, \\qquad \\eta_t \\sim NID(0,Qt) $$"
   ]
  },
  {
   "cell_type": "markdown",
   "metadata": {},
   "source": [
    "In terms of the model:\n",
    "$$ \n",
    "x_t = \n",
    "\\begin{pmatrix}\\mu_t \\\\ \\gamma_t  \\\\  \\gamma_{t-1}   \\\\ \\gamma_{t-2}  \\end{pmatrix}\n",
    "$$"
   ]
  },
  {
   "cell_type": "markdown",
   "metadata": {},
   "source": [
    "$$\n",
    "\\eta_t = \n",
    "\\begin{pmatrix}\\xi_t \\\\ \\omega_t \\end{pmatrix}\n",
    "$$"
   ]
  },
  {
   "cell_type": "markdown",
   "metadata": {},
   "source": [
    "$$\n",
    "T_t = \n",
    "\\begin{bmatrix} \n",
    "1 & 0 & 0 & 0 \\\\\n",
    "0 & -1 & -1 & -\\theta_1 \\\\\n",
    "0 & 1 & 0 & 0 \\\\\n",
    "0 & 0 & 1 & 0 \n",
    "\\end{bmatrix}\n",
    "$$\n",
    "\n"
   ]
  },
  {
   "cell_type": "markdown",
   "metadata": {},
   "source": [
    "$$\n",
    "Z^T_t = \n",
    "\\begin{pmatrix}1 \\\\ 1  \\\\  0   \\\\ 0  \\end{pmatrix}\n",
    "$$"
   ]
  },
  {
   "cell_type": "markdown",
   "metadata": {},
   "source": [
    "$$\n",
    "Q_t = \n",
    "\\begin{bmatrix} \n",
    "\\sigma^2_\\xi & 0 \\\\\n",
    "0 & \\sigma^2_\\omega \\\\\n",
    "\\end{bmatrix}\n",
    "$$"
   ]
  },
  {
   "cell_type": "markdown",
   "metadata": {},
   "source": [
    "$$\n",
    "R_t = \n",
    "\\begin{bmatrix} \n",
    "1 & 0  \\\\\n",
    "0 & 1  \\\\\n",
    "0 & 0  \\\\\n",
    "0 & 0  \\\\\n",
    "\\end{bmatrix}\n",
    "$$"
   ]
  },
  {
   "cell_type": "markdown",
   "metadata": {},
   "source": [
    "$$\n",
    "H_t = \n",
    "\\begin{bmatrix} \n",
    "\\sigma^2_\\epsilon\n",
    "\\end{bmatrix}\n",
    "$$"
   ]
  },
  {
   "cell_type": "markdown",
   "metadata": {},
   "source": [
    "# Generating the data for $\\theta_1=0.7$\n",
    "\n",
    "We have to choose all parameter values plus the initial states\n",
    "\n",
    "$$\\gamma_t = \\gamma_{t-1} = \\gamma_{t-2} = 0$$\n",
    "$$\\theta_1 = 0.7$$\n",
    "$$\\sigma^2_\\xi = 0.1$$\n",
    "$$\\sigma^2_\\omega = 0.2$$\n",
    "$$\\sigma^2_\\epsilon = 0.3$$\n",
    "\n",
    "\n"
   ]
  },
  {
   "cell_type": "code",
   "execution_count": 2,
   "metadata": {
    "collapsed": false
   },
   "outputs": [
    {
     "name": "stdout",
     "output_type": "stream",
     "text": [
      "time: 1.48 ms\n"
     ]
    }
   ],
   "source": [
    "n = 200\n",
    "theta1 = 0.7\n",
    "sigmaXi = 0.1\n",
    "sigmaOmega = 0.2\n",
    "sigmaEpsilon = 0.3"
   ]
  },
  {
   "cell_type": "code",
   "execution_count": 94,
   "metadata": {
    "collapsed": false
   },
   "outputs": [
    {
     "data": {
      "text/plain": [
       "<matplotlib.axes._subplots.AxesSubplot at 0x2390eb6bfd0>"
      ]
     },
     "execution_count": 94,
     "metadata": {},
     "output_type": "execute_result"
    },
    {
     "data": {
      "image/png": "[encoded data removed]",
      "text/plain": [
       "<matplotlib.figure.Figure at 0x2390eb6b898>"
      ]
     },
     "metadata": {},
     "output_type": "display_data"
    },
    {
     "name": "stdout",
     "output_type": "stream",
     "text": [
      "time: 362 ms\n"
     ]
    }
   ],
   "source": [
    "y = np.array([0])\n",
    "mi = np.array([0])\n",
    "gamma = np.array([0])\n",
    "\n",
    "xi = np.array([0])\n",
    "omega = np.array([0])\n",
    "ep = np.array([0])\n",
    "\n",
    "for i in range(1,n):\n",
    "\n",
    "    # Level equation\n",
    "    xi = np.append(xi,np.random.normal(scale=sigmaXi))\n",
    "    mi = np.append(mi,mi[i-1]+xi[i])\n",
    "    \n",
    "    # Seasonality equation\n",
    "    omega = np.append(omega,np.random.normal(scale=sigmaOmega))\n",
    "    holder = 0\n",
    "    if i-1 >= 0:\n",
    "        holder -= gamma[i-1] \n",
    "    if i-2 >= 0:\n",
    "        holder -= gamma[i-2] \n",
    "    if i-3 >= 0:\n",
    "        holder -= gamma[i-3] * theta1\n",
    "    \n",
    "    gamma = np.append(gamma,holder+omega[i])\n",
    "    \n",
    "    # Series equation\n",
    "    ep = np.append(ep,np.random.normal(scale=sigmaEpsilon))\n",
    "    y = np.append(y,mi[i]+gamma[i]+ep[i])\n",
    "\n",
    "y = pd.DataFrame(y) \n",
    "mi = pd.DataFrame(mi) \n",
    "gamma = pd.DataFrame(gamma) \n",
    "\n",
    "\n",
    "probNan= 0.20\n",
    "for i in y.index:\n",
    "    ran = np.random.uniform(size=y.iloc[i].shape)\n",
    "    y.iloc[i][ran<probNan] = np.nan\n",
    "\n",
    "\n",
    "\n",
    "y.plot()"
   ]
  },
  {
   "cell_type": "markdown",
   "metadata": {},
   "source": [
    "# Maximum Likelihood Estimates\n",
    "\n",
    "Define a wrapper function that maps the theta vector of parameters to the state space matrices\n",
    "\n",
    "$$\\theta = [\\theta_1, \\sigma^2_\\epsilon, \\sigma^2_\\xi, \\sigma^2_\\omega]'$$\n",
    "\n",
    "The functions return the negative of the likelihood because the scipy optimization algorithms only minimize functions. Also we use the logarithm for numerical reasons."
   ]
  },
  {
   "cell_type": "code",
   "execution_count": 4,
   "metadata": {
    "collapsed": false
   },
   "outputs": [
    {
     "name": "stdout",
     "output_type": "stream",
     "text": [
      "time: 10 ms\n"
     ]
    }
   ],
   "source": [
    "def wrapper(theta):\n",
    "    T = pd.DataFrame([\n",
    "        [1,0,0,0],\n",
    "        [0,-1,-1,-theta[0]],\n",
    "        [0,1,0,0],\n",
    "        [0,0,1,0],\n",
    "    ])\n",
    "\n",
    "    H = pd.DataFrame([theta[1]])\n",
    "\n",
    "    Q = pd.DataFrame([\n",
    "        [theta[2],0],\n",
    "        [0,theta[3]],\n",
    "    ])\n",
    "\n",
    "    kf = KF(y=np.array(y), \n",
    "                      Z=np.array(Z.astype(float)), \n",
    "                      H=np.array(H.astype(float)), \n",
    "                      T=np.array(T.astype(float)), \n",
    "                      Q=np.array(Q.astype(float)), \n",
    "                      a1=np.zeros((4)), \n",
    "                      P1=np.identity(4), \n",
    "                      R=np.array(R.astype(float)), \n",
    "                      nStates=4,)    \n",
    "\n",
    "    return -np.log(kf['ll']*10e6)"
   ]
  },
  {
   "cell_type": "markdown",
   "metadata": {},
   "source": [
    "## Define the additional state space matrices"
   ]
  },
  {
   "cell_type": "code",
   "execution_count": 5,
   "metadata": {
    "collapsed": false
   },
   "outputs": [
    {
     "name": "stdout",
     "output_type": "stream",
     "text": [
      "time: 9.06 ms\n"
     ]
    }
   ],
   "source": [
    "Z = pd.DataFrame([\n",
    "        [1,1,0,0],\n",
    "    ])\n",
    "\n",
    "R = pd.DataFrame([\n",
    "        [1,0],\n",
    "        [0,1],\n",
    "        [0,0],\n",
    "        [0,0],\n",
    "    ])"
   ]
  },
  {
   "cell_type": "markdown",
   "metadata": {},
   "source": [
    "Minimize the wrapper function, with the following initial values for $\\theta$:\n",
    "\n",
    "$$\\theta = [0.5, 1, 1, 1]'$$\n",
    "    "
   ]
  },
  {
   "cell_type": "code",
   "execution_count": 6,
   "metadata": {
    "collapsed": false
   },
   "outputs": [
    {
     "name": "stdout",
     "output_type": "stream",
     "text": [
      "time: 7.02 ms\n"
     ]
    }
   ],
   "source": [
    "initialTheta = np.array([0.5,1.0,1.0,1.0])"
   ]
  },
  {
   "cell_type": "code",
   "execution_count": 7,
   "metadata": {
    "collapsed": false
   },
   "outputs": [
    {
     "name": "stderr",
     "output_type": "stream",
     "text": [
      "O:\\SALES\\Fundos de Mercado\\Notebooks\\BayesianEconometrics\\KF_py.py:147: RuntimeWarning: invalid value encountered in log\n",
      "  ll += np.log(det(Ft[:dims[t],:dims[t],t])) + vt[t,inds[t,:]].T.dot(inv(Ft[:dims[t],:dims[t],t])).dot(vt[t,inds[t,:]])\n"
     ]
    },
    {
     "name": "stdout",
     "output_type": "stream",
     "text": [
      "Optimization terminated successfully.    (Exit mode 0)\n",
      "            Current function value: 129.4501472529563\n",
      "            Iterations: 46\n",
      "            Function evaluations: 362\n",
      "            Gradient evaluations: 46\n"
     ]
    },
    {
     "data": {
      "text/plain": [
       "     fun: 129.4501472529563\n",
       "     jac: array([ 0.00074387,  0.00286674,  0.04474068,  0.03188324])\n",
       " message: 'Optimization terminated successfully.'\n",
       "    nfev: 362\n",
       "     nit: 46\n",
       "    njev: 46\n",
       "  status: 0\n",
       " success: True\n",
       "       x: array([ 0.8016794 ,  0.1496773 ,  0.00753119,  0.00398257])"
      ]
     },
     "execution_count": 7,
     "metadata": {},
     "output_type": "execute_result"
    },
    {
     "name": "stdout",
     "output_type": "stream",
     "text": [
      "time: 5.89 s\n"
     ]
    }
   ],
   "source": [
    "minimize(wrapper,initialTheta, \n",
    "         options={'disp':True, 'maxiter':1000}, \n",
    "#          bounds = ((-5,5),(None,None),(None,None),(None,None),), \n",
    "         method='SLSQP',\n",
    "         )"
   ]
  },
  {
   "cell_type": "code",
   "execution_count": 8,
   "metadata": {
    "collapsed": false
   },
   "outputs": [
    {
     "name": "stderr",
     "output_type": "stream",
     "text": [
      "O:\\SALES\\Fundos de Mercado\\Notebooks\\BayesianEconometrics\\KF_py.py:147: RuntimeWarning: invalid value encountered in log\n",
      "  ll += np.log(det(Ft[:dims[t],:dims[t],t])) + vt[t,inds[t,:]].T.dot(inv(Ft[:dims[t],:dims[t],t])).dot(vt[t,inds[t,:]])\n",
      "C:\\Anaconda3\\lib\\site-packages\\ipykernel\\__main__.py:26: RuntimeWarning: divide by zero encountered in log\n",
      "C:\\Anaconda3\\lib\\site-packages\\scipy\\optimize\\optimize.py:1849: RuntimeWarning: invalid value encountered in double_scalars\n",
      "  tmp1 = (x - w) * (fx - fv)\n",
      "C:\\Anaconda3\\lib\\site-packages\\scipy\\optimize\\optimize.py:1850: RuntimeWarning: invalid value encountered in double_scalars\n",
      "  tmp2 = (x - v) * (fx - fw)\n",
      "C:\\Anaconda3\\lib\\site-packages\\scipy\\optimize\\optimize.py:2439: RuntimeWarning: invalid value encountered in double_scalars\n",
      "  if (fx2 - fval) > delta:\n",
      "C:\\Anaconda3\\lib\\site-packages\\scipy\\optimize\\optimize.py:2448: RuntimeWarning: invalid value encountered in double_scalars\n",
      "  if 2.0 * (fx - fval) <= bnd:\n"
     ]
    },
    {
     "name": "stdout",
     "output_type": "stream",
     "text": [
      "Warning: Maximum number of iterations has been exceeded.\n"
     ]
    },
    {
     "data": {
      "text/plain": [
       "   direc: array([[ 1.,  0.,  0.,  0.],\n",
       "       [ 0.,  1.,  0.,  0.],\n",
       "       [ 0.,  0.,  1.,  0.],\n",
       "       [ 0.,  0.,  0.,  1.]])\n",
       "     fun: nan\n",
       " message: 'Maximum number of iterations has been exceeded.'\n",
       "    nfev: 24591\n",
       "     nit: 500\n",
       "  status: 2\n",
       " success: False\n",
       "       x: array([ 1291.85878019,  1285.04777868,  1293.38762519,  1292.37655181])"
      ]
     },
     "execution_count": 8,
     "metadata": {},
     "output_type": "execute_result"
    },
    {
     "name": "stdout",
     "output_type": "stream",
     "text": [
      "time: 6min 31s\n"
     ]
    }
   ],
   "source": [
    "minimize(wrapper,initialTheta, \n",
    "         options={'disp':True, 'maxiter':500}, \n",
    "#          bounds = ((-5,5),(None,None),(None,None),(None,None),), \n",
    "         method='Powell',\n",
    "         )"
   ]
  },
  {
   "cell_type": "code",
   "execution_count": 9,
   "metadata": {
    "collapsed": false
   },
   "outputs": [
    {
     "name": "stderr",
     "output_type": "stream",
     "text": [
      "O:\\SALES\\Fundos de Mercado\\Notebooks\\BayesianEconometrics\\KF_py.py:147: RuntimeWarning: invalid value encountered in log\n",
      "  ll += np.log(det(Ft[:dims[t],:dims[t],t])) + vt[t,inds[t,:]].T.dot(inv(Ft[:dims[t],:dims[t],t])).dot(vt[t,inds[t,:]])\n",
      "C:\\Anaconda3\\lib\\site-packages\\numpy\\linalg\\linalg.py:1821: RuntimeWarning: invalid value encountered in det\n",
      "  r = _umath_linalg.det(a, signature=signature)\n",
      "O:\\SALES\\Fundos de Mercado\\Notebooks\\BayesianEconometrics\\KF_py.py:147: RuntimeWarning: invalid value encountered in log\n",
      "  ll += np.log(det(Ft[:dims[t],:dims[t],t])) + vt[t,inds[t,:]].T.dot(inv(Ft[:dims[t],:dims[t],t])).dot(vt[t,inds[t,:]])\n"
     ]
    },
    {
     "name": "stdout",
     "output_type": "stream",
     "text": [
      "Warning: Desired error not necessarily achieved due to precision loss.\n",
      "         Current function value: nan\n",
      "         Iterations: 1\n",
      "         Function evaluations: 672\n",
      "         Gradient evaluations: 112\n"
     ]
    },
    {
     "name": "stderr",
     "output_type": "stream",
     "text": [
      "O:\\SALES\\Fundos de Mercado\\Notebooks\\BayesianEconometrics\\KF_py.py:147: RuntimeWarning: invalid value encountered in log\n",
      "  ll += np.log(det(Ft[:dims[t],:dims[t],t])) + vt[t,inds[t,:]].T.dot(inv(Ft[:dims[t],:dims[t],t])).dot(vt[t,inds[t,:]])\n"
     ]
    },
    {
     "data": {
      "text/plain": [
       "      fun: nan\n",
       " hess_inv: array([[1, 0, 0, 0],\n",
       "       [0, 1, 0, 0],\n",
       "       [0, 0, 1, 0],\n",
       "       [0, 0, 0, 1]])\n",
       "      jac: array([ nan,  nan,  nan,  nan])\n",
       "  message: 'Desired error not necessarily achieved due to precision loss.'\n",
       "     nfev: 672\n",
       "      nit: 1\n",
       "     njev: 112\n",
       "   status: 2\n",
       "  success: False\n",
       "        x: array([ -42.94388956, -365.41500484, -587.42628531, -765.3286221 ])"
      ]
     },
     "execution_count": 9,
     "metadata": {},
     "output_type": "execute_result"
    },
    {
     "name": "stdout",
     "output_type": "stream",
     "text": [
      "time: 10.9 s\n"
     ]
    }
   ],
   "source": [
    "minimize(wrapper,initialTheta, \n",
    "         options={'disp':True, 'maxiter':500}, \n",
    "#          bounds = ((-5,5),(None,None),(None,None),(None,None),), \n",
    "         method='BFGS',\n",
    "         )"
   ]
  },
  {
   "cell_type": "code",
   "execution_count": 10,
   "metadata": {
    "collapsed": false
   },
   "outputs": [
    {
     "name": "stderr",
     "output_type": "stream",
     "text": [
      "O:\\SALES\\Fundos de Mercado\\Notebooks\\BayesianEconometrics\\KF_py.py:147: RuntimeWarning: invalid value encountered in log\n",
      "  ll += np.log(det(Ft[:dims[t],:dims[t],t])) + vt[t,inds[t,:]].T.dot(inv(Ft[:dims[t],:dims[t],t])).dot(vt[t,inds[t,:]])\n"
     ]
    },
    {
     "name": "stdout",
     "output_type": "stream",
     "text": [
      "Optimization terminated successfully.\n",
      "         Current function value: 167.868937\n",
      "         Iterations: 151\n",
      "         Function evaluations: 269\n"
     ]
    },
    {
     "data": {
      "text/plain": [
       " final_simplex: (array([[ 1.20317606,  0.1531316 ,  0.00817191,  0.01291951],\n",
       "       [ 1.20319333,  0.15303438,  0.00818113,  0.01294869],\n",
       "       [ 1.20319583,  0.15305836,  0.00815385,  0.01293678],\n",
       "       [ 1.20319915,  0.15303917,  0.00816849,  0.01291111],\n",
       "       [ 1.20316928,  0.15317477,  0.00815889,  0.01292033]]), array([ 167.86893667,  167.86894122,  167.86894457,  167.86894461,\n",
       "        167.8689449 ]))\n",
       "           fun: 167.86893666599377\n",
       "       message: 'Optimization terminated successfully.'\n",
       "          nfev: 269\n",
       "           nit: 151\n",
       "        status: 0\n",
       "       success: True\n",
       "             x: array([ 1.20317606,  0.1531316 ,  0.00817191,  0.01291951])"
      ]
     },
     "execution_count": 10,
     "metadata": {},
     "output_type": "execute_result"
    },
    {
     "name": "stdout",
     "output_type": "stream",
     "text": [
      "time: 4.16 s\n"
     ]
    }
   ],
   "source": [
    "minimize(wrapper,initialTheta, \n",
    "         options={'disp':True, 'maxiter':500}, \n",
    "#          bounds = ((-5,5),(None,None),(None,None),(None,None),), \n",
    "         method='Nelder-Mead',\n",
    "         )"
   ]
  },
  {
   "cell_type": "markdown",
   "metadata": {},
   "source": [
    "# Bayesian Estimates\n",
    "\n",
    "## Wrapper, Priors and Posteriors\n",
    "\n",
    "We chose to use the following priors:\n",
    "\n",
    "$$\\theta_1 \\sim N(0,1)$$\n",
    "$$\\sigma^2_\\epsilon \\sim \\chi_2(1)$$\n",
    "$$\\sigma^2_\\xi \\sim \\chi_2(1)$$\n",
    "$$\\sigma^2_\\omega \\sim \\chi_2(1)$$"
   ]
  },
  {
   "cell_type": "code",
   "execution_count": 151,
   "metadata": {
    "collapsed": false
   },
   "outputs": [
    {
     "name": "stdout",
     "output_type": "stream",
     "text": [
      "time: 5.01 ms\n"
     ]
    }
   ],
   "source": [
    "def posterior(theta,priorMeans, priorVariances):\n",
    "    \n",
    "    i=0\n",
    "    temp = norm.pdf(theta[i],priorMeans[i],priorVariances[i])\n",
    "    for i in range(1,3+1):\n",
    "        temp *= chi2.pdf(theta[i],1)\n",
    "    \n",
    "    ll = wrapper(theta)\n",
    "\n",
    "    while ll > 100:\n",
    "        ll *= 0.1\n",
    "#     print(ll)\n",
    "    return ll * temp"
   ]
  },
  {
   "cell_type": "code",
   "execution_count": 12,
   "metadata": {
    "collapsed": false
   },
   "outputs": [
    {
     "name": "stdout",
     "output_type": "stream",
     "text": [
      "time: 10 ms\n"
     ]
    }
   ],
   "source": [
    "def wrapper(theta):\n",
    "    T = pd.DataFrame([\n",
    "        [1,0,0,0],\n",
    "        [0,-1,-1,-theta[0]],\n",
    "        [0,1,0,0],\n",
    "        [0,0,1,0],\n",
    "    ])\n",
    "\n",
    "    H = pd.DataFrame([theta[1]])\n",
    "\n",
    "    Q = pd.DataFrame([\n",
    "        [theta[2],0],\n",
    "        [0,theta[3]],\n",
    "    ])\n",
    "\n",
    "    kf = KFUC(y=np.array(y), \n",
    "                      Z=np.array(Z.astype(float)), \n",
    "                      H=np.array(H.astype(float)), \n",
    "                      T=np.array(T.astype(float)), \n",
    "                      Q=np.array(Q.astype(float)), \n",
    "                      a1=np.zeros((4)), \n",
    "                      P1=np.identity(4), \n",
    "                      R=np.array(R.astype(float)), \n",
    "                      nStates=4,)    \n",
    "\n",
    "    return kf\n"
   ]
  },
  {
   "cell_type": "markdown",
   "metadata": {},
   "source": [
    "## MCMC - Metropolis Hastings\n",
    "\n",
    "We chose to use a random walk metropolis hastings of the form\n",
    "\n",
    "---\n",
    "**Metropolis-Hastings Algoritm**\n",
    "\n",
    "Guess $\\theta^{(0)}$ and for $i=0$ until $n$: \n",
    "1. $\\theta=\\theta^{(i-1)} + \\eta_t$ where $\\eta_t \\sim N(0,\\sigma)$\n",
    "2. Compute $r=\\min(1,\\alpha)$ where $\\alpha= \\frac{p(\\theta')q(\\theta|\\theta')}{p(\\theta)q(\\theta'|\\theta)}$\n",
    "4. Draw $u\\sim U(0,1)$\n",
    "5. $\\theta^{(i+1)}=\\begin{cases}\\theta' & \\text{if $u<r$}\\\\\\theta & \\text{if $u\\geq r$}\\end{cases}$\n",
    "\n",
    "---\n",
    "\n",
    "We use the logarithmic transformations for all variance parameters"
   ]
  },
  {
   "cell_type": "code",
   "execution_count": 86,
   "metadata": {
    "collapsed": false
   },
   "outputs": [
    {
     "name": "stdout",
     "output_type": "stream",
     "text": [
      "time: 29 ms\n"
     ]
    }
   ],
   "source": [
    "def randomWalkMH(sample,burn, initialTheta, randomWalkSigmas,priorMeans,priorVariances):\n",
    "\n",
    "    thetaMH = []\n",
    "    accept = np.zeros([sample])\n",
    "    posts = np.zeros([sample])\n",
    "    rs = []\n",
    "    thetaMH.append(initialTheta)\n",
    "\n",
    "    thetastemps = []\n",
    "    disturbances = []\n",
    "\n",
    "    for i in range(1,sample):\n",
    "        disturbance = np.multiply(np.random.randn(thetaMH[0].shape[0]),randomWalkSigmas)\n",
    "    #     disturbance[1:] = np.exp(disturbance[1:]) #problema está aqui\n",
    "    #     print(disturbance)\n",
    "        thetaTemp = thetaMH[i-1].copy()\n",
    "        thetaTemp[1:] = np.log(thetaMH[i-1][1:].copy())+disturbance[1:].copy()\n",
    "        thetaTemp[1:] = np.exp(thetaTemp[1:].copy())\n",
    "        thetaTemp[0] = thetaTemp[0].copy() + disturbance[0].copy()\n",
    "        disturbances.append(disturbance.copy())\n",
    "        thetastemps.append(thetaTemp.copy())\n",
    "    #     print(thetaTemp)\n",
    "    #     print(thetastemps[i-1])\n",
    "    #     thetaTemp = (temp)\n",
    "        tempPost = posterior(thetaTemp,priorMeans, priorVariances)\n",
    "        lalpha = np.log(tempPost) - np.log(posts[i-1])\n",
    "        r = np.min([1, np.exp(lalpha)])\n",
    "        rs.append(r)\n",
    "        u = np.random.uniform()\n",
    "\n",
    "        if u < r:\n",
    "            accept[i] = 1\n",
    "            thetaMH.append(thetaTemp.copy())\n",
    "            posts[i] = tempPost.copy()\n",
    "        else:\n",
    "            thetaMH.append(thetaMH[i-1].copy())\n",
    "            posts[i] = posts[i-1].copy()  \n",
    "\n",
    "    post = pd.DataFrame(thetaMH)\n",
    "    return {'posterior' : post[burn:], \n",
    "            'accept' : accept, \n",
    "            'disturbances' : pd.DataFrame(disturbances),\n",
    "           'rs' : pd.DataFrame(rs)}"
   ]
  },
  {
   "cell_type": "code",
   "execution_count": 129,
   "metadata": {
    "collapsed": false
   },
   "outputs": [
    {
     "name": "stdout",
     "output_type": "stream",
     "text": [
      "time: 1 ms\n"
     ]
    }
   ],
   "source": [
    "initialSigmas = 5.0\n",
    "initialTheta = np.array([0.3,initialSigmas,initialSigmas,initialSigmas])"
   ]
  },
  {
   "cell_type": "code",
   "execution_count": null,
   "metadata": {
    "collapsed": false,
    "scrolled": true
   },
   "outputs": [
    {
     "name": "stderr",
     "output_type": "stream",
     "text": [
      "C:\\Anaconda3\\lib\\site-packages\\ipykernel\\__main__.py:26: RuntimeWarning: divide by zero encountered in log\n",
      "C:\\Anaconda3\\lib\\site-packages\\ipykernel\\__main__.py:24: RuntimeWarning: invalid value encountered in log\n",
      "C:\\Anaconda3\\lib\\site-packages\\ipykernel\\__main__.py:24: RuntimeWarning: overflow encountered in exp\n"
     ]
    }
   ],
   "source": [
    "sample = 30000\n",
    "\n",
    "sigma = 0.1\n",
    "randomWalkSigmas = np.array([0.1,sigma,sigma,sigma])\n",
    "\n",
    "priorMeans = np.array([0,0,0,0])\n",
    "\n",
    "priorVariances = 3 * np.ones(4)\n",
    "\n",
    "mcmc = randomWalkMH(sample = sample,\n",
    "                 burn = 1000, \n",
    "                 initialTheta = initialTheta, \n",
    "                 randomWalkSigmas = randomWalkSigmas,\n",
    "                 priorMeans = priorMeans,\n",
    "                 priorVariances = priorVariances)"
   ]
  },
  {
   "cell_type": "code",
   "execution_count": null,
   "metadata": {
    "collapsed": false
   },
   "outputs": [],
   "source": [
    "mcmc['rs'].iloc[4982]"
   ]
  },
  {
   "cell_type": "code",
   "execution_count": null,
   "metadata": {
    "collapsed": false
   },
   "outputs": [],
   "source": [
    "x = mcmc['posterior'].iloc[4982-500]\n",
    "x"
   ]
  },
  {
   "cell_type": "code",
   "execution_count": null,
   "metadata": {
    "collapsed": false
   },
   "outputs": [],
   "source": [
    "posterior(mcmc['posterior'].iloc[4982-500],priorMeans, priorVariances)"
   ]
  },
  {
   "cell_type": "code",
   "execution_count": 150,
   "metadata": {
    "collapsed": false
   },
   "outputs": [
    {
     "data": {
      "text/plain": [
       "1.6816385431624692"
      ]
     },
     "execution_count": 150,
     "metadata": {},
     "output_type": "execute_result"
    },
    {
     "name": "stdout",
     "output_type": "stream",
     "text": [
      "time: 5.01 ms\n"
     ]
    }
   ],
   "source": [
    "# norm.pdf(x[0],priorMeans[0],priorVariances[0])\n",
    "# chi2.pdf(x[1],1)\n",
    "# chi2.pdf(x[2],1)\n",
    "# chi2.pdf(x[3],1)\n",
    "\n",
    "# wrapper(x)\n",
    "\n",
    "# wrapper(x) * norm.pdf(x[0],priorMeans[0],priorVariances[0]) * chi2.pdf(x[1],1) * chi2.pdf(x[2],1) * chi2.pdf(x[3],1)\n",
    "\n",
    "\n",
    "\n",
    "#     temp = norm.pdf(theta[i],priorMeans[i],priorVariances[i])\n",
    "#     for i in range(1,3+1):\n",
    "#         temp *= chi2.pdf(theta[i],1)"
   ]
  },
  {
   "cell_type": "markdown",
   "metadata": {},
   "source": [
    "**Acceptance Ratio**"
   ]
  },
  {
   "cell_type": "code",
   "execution_count": 157,
   "metadata": {
    "collapsed": false,
    "scrolled": true
   },
   "outputs": [
    {
     "data": {
      "text/plain": [
       "0.5806"
      ]
     },
     "execution_count": 157,
     "metadata": {},
     "output_type": "execute_result"
    },
    {
     "name": "stdout",
     "output_type": "stream",
     "text": [
      "time: 3.01 ms\n"
     ]
    }
   ],
   "source": [
    "mcmc['accept'].sum() / mcmc['accept'].shape[0]"
   ]
  },
  {
   "cell_type": "markdown",
   "metadata": {},
   "source": [
    "## Marginal distribution for $\\theta_1$\n",
    "\n",
    "True value is $0.7$"
   ]
  },
  {
   "cell_type": "code",
   "execution_count": 158,
   "metadata": {
    "collapsed": false
   },
   "outputs": [
    {
     "name": "stdout",
     "output_type": "stream",
     "text": [
      "time: 1.02 ms\n"
     ]
    }
   ],
   "source": [
    "par = 0"
   ]
  },
  {
   "cell_type": "code",
   "execution_count": 159,
   "metadata": {
    "collapsed": false
   },
   "outputs": [
    {
     "data": {
      "text/plain": [
       "count    4500.000000\n",
       "mean        0.525777\n",
       "std         0.385926\n",
       "min        -0.242371\n",
       "25%         0.201981\n",
       "50%         0.533067\n",
       "75%         0.832118\n",
       "max         1.309216\n",
       "Name: 0, dtype: float64"
      ]
     },
     "execution_count": 159,
     "metadata": {},
     "output_type": "execute_result"
    },
    {
     "name": "stdout",
     "output_type": "stream",
     "text": [
      "time: 5.02 ms\n"
     ]
    }
   ],
   "source": [
    "mcmc['posterior'][par].describe()"
   ]
  },
  {
   "cell_type": "code",
   "execution_count": 160,
   "metadata": {
    "collapsed": false
   },
   "outputs": [
    {
     "data": {
      "text/plain": [
       "<matplotlib.axes._subplots.AxesSubplot at 0x2390ee2f5c0>"
      ]
     },
     "execution_count": 160,
     "metadata": {},
     "output_type": "execute_result"
    },
    {
     "data": {
      "image/png": "[encoded data removed]",
      "text/plain": [
       "<matplotlib.figure.Figure at 0x2390e7c2710>"
      ]
     },
     "metadata": {},
     "output_type": "display_data"
    },
    {
     "name": "stdout",
     "output_type": "stream",
     "text": [
      "time: 252 ms\n"
     ]
    }
   ],
   "source": [
    "mcmc['posterior'][par].plot.density()"
   ]
  },
  {
   "cell_type": "markdown",
   "metadata": {},
   "source": [
    "## Marginal distribution for $\\sigma^2_\\epsilon$\n",
    "\n",
    "True value is $0.3$"
   ]
  },
  {
   "cell_type": "code",
   "execution_count": 161,
   "metadata": {
    "collapsed": false
   },
   "outputs": [
    {
     "name": "stdout",
     "output_type": "stream",
     "text": [
      "time: 1 ms\n"
     ]
    }
   ],
   "source": [
    "par = 1"
   ]
  },
  {
   "cell_type": "code",
   "execution_count": 162,
   "metadata": {
    "collapsed": false
   },
   "outputs": [
    {
     "data": {
      "text/plain": [
       "count    4.500000e+03\n",
       "mean     6.679998e-06\n",
       "std      1.834340e-05\n",
       "min      3.081329e-15\n",
       "25%      8.169011e-12\n",
       "50%      3.266635e-08\n",
       "75%      3.062304e-06\n",
       "max      1.702004e-04\n",
       "Name: 1, dtype: float64"
      ]
     },
     "execution_count": 162,
     "metadata": {},
     "output_type": "execute_result"
    },
    {
     "name": "stdout",
     "output_type": "stream",
     "text": [
      "time: 5.01 ms\n"
     ]
    }
   ],
   "source": [
    "mcmc['posterior'][par].describe()"
   ]
  },
  {
   "cell_type": "code",
   "execution_count": 163,
   "metadata": {
    "collapsed": false
   },
   "outputs": [
    {
     "data": {
      "text/plain": [
       "<matplotlib.axes._subplots.AxesSubplot at 0x2390ee63a20>"
      ]
     },
     "execution_count": 163,
     "metadata": {},
     "output_type": "execute_result"
    },
    {
     "data": {
      "image/png": "[encoded data removed]",
      "text/plain": [
       "<matplotlib.figure.Figure at 0x2390e745d30>"
      ]
     },
     "metadata": {},
     "output_type": "display_data"
    },
    {
     "name": "stdout",
     "output_type": "stream",
     "text": [
      "time: 327 ms\n"
     ]
    }
   ],
   "source": [
    "mcmc['posterior'][par].plot.density()"
   ]
  },
  {
   "cell_type": "markdown",
   "metadata": {},
   "source": [
    "## Marginal distribution for $\\sigma^2_\\xi$\n",
    "\n",
    "True value is $0.1$"
   ]
  },
  {
   "cell_type": "code",
   "execution_count": null,
   "metadata": {
    "collapsed": false
   },
   "outputs": [],
   "source": [
    "par = 2"
   ]
  },
  {
   "cell_type": "code",
   "execution_count": null,
   "metadata": {
    "collapsed": false
   },
   "outputs": [],
   "source": [
    "mcmc['posterior'][par].describe()"
   ]
  },
  {
   "cell_type": "code",
   "execution_count": null,
   "metadata": {
    "collapsed": false
   },
   "outputs": [],
   "source": [
    "mcmc['posterior'][par].plot.density()"
   ]
  },
  {
   "cell_type": "markdown",
   "metadata": {},
   "source": [
    "## Marginal distribution for $\\sigma^2_\\omega$\n",
    "\n",
    "True value is $0.2$"
   ]
  },
  {
   "cell_type": "code",
   "execution_count": null,
   "metadata": {
    "collapsed": false
   },
   "outputs": [],
   "source": [
    "par = 3"
   ]
  },
  {
   "cell_type": "code",
   "execution_count": null,
   "metadata": {
    "collapsed": false
   },
   "outputs": [],
   "source": [
    "mcmc['posterior'][par].describe()"
   ]
  },
  {
   "cell_type": "code",
   "execution_count": null,
   "metadata": {
    "collapsed": false
   },
   "outputs": [],
   "source": [
    "mcmc['posterior'][par].plot.density()"
   ]
  },
  {
   "cell_type": "markdown",
   "metadata": {
    "collapsed": true
   },
   "source": [
    "# Performance Optimization\n",
    "\n",
    "## Profiling the Kalman Filter\n",
    "\n",
    "Profiling should always be the first step on every optimization\n",
    "\n",
    "We'll profile the KF with the true values"
   ]
  },
  {
   "cell_type": "code",
   "execution_count": null,
   "metadata": {
    "collapsed": false
   },
   "outputs": [],
   "source": [
    "def KF_func(theta):\n",
    "    T = pd.DataFrame([\n",
    "        [1,0,0,0],\n",
    "        [0,-1,-1,-0.7],\n",
    "        [0,1,0,0],\n",
    "        [0,0,1,0],\n",
    "    ])\n",
    "\n",
    "    H = pd.DataFrame([0.3])\n",
    "\n",
    "    Q = pd.DataFrame([\n",
    "        [0.1,0],\n",
    "        [0,0.2],\n",
    "    ])\n",
    "\n",
    "    kf = KF(y=np.array(y), \n",
    "                      Z=np.array(Z.astype(float)), \n",
    "                      H=np.array(H.astype(float)), \n",
    "                      T=np.array(T.astype(float)), \n",
    "                      Q=np.array(Q.astype(float)), \n",
    "                      a1=np.zeros((4)), \n",
    "                      P1=np.identity(4), \n",
    "                      R=np.array(R.astype(float)), \n",
    "                      nStates=4,)    \n",
    "\n",
    "    return kf['ll']\n"
   ]
  },
  {
   "cell_type": "code",
   "execution_count": null,
   "metadata": {
    "collapsed": false
   },
   "outputs": [],
   "source": [
    "%%snakeviz\n",
    "\n",
    "KF_func(0)"
   ]
  },
  {
   "cell_type": "markdown",
   "metadata": {},
   "source": [
    "The problem is that dot products and matrix inversions are already optimized in fortran and C"
   ]
  },
  {
   "cell_type": "markdown",
   "metadata": {},
   "source": [
    "## Univariate Approach\n",
    "\n",
    "Makes best use of cython"
   ]
  },
  {
   "cell_type": "code",
   "execution_count": null,
   "metadata": {
    "collapsed": false
   },
   "outputs": [],
   "source": [
    "def KF_funcUni(theta):\n",
    "    T = pd.DataFrame([\n",
    "        [1,0,0,0],\n",
    "        [0,-1,-1,-0.7],\n",
    "        [0,1,0,0],\n",
    "        [0,0,1,0],\n",
    "    ])\n",
    "\n",
    "    H = pd.DataFrame([0.3])\n",
    "\n",
    "    Q = pd.DataFrame([\n",
    "        [0.1,0],\n",
    "        [0,0.2],\n",
    "    ])\n",
    "\n",
    "    kf = KFU(y=np.array(y), \n",
    "                      Z=np.array(Z.astype(float)), \n",
    "                      H=np.array(H.astype(float)), \n",
    "                      T=np.array(T.astype(float)), \n",
    "                      Q=np.array(Q.astype(float)), \n",
    "                      a1=np.zeros((4)), \n",
    "                      P1=np.identity(4), \n",
    "                      R=np.array(R.astype(float)), \n",
    "                      nStates=4,)    \n",
    "\n",
    "    return kf\n",
    "\n"
   ]
  },
  {
   "cell_type": "code",
   "execution_count": null,
   "metadata": {
    "collapsed": false
   },
   "outputs": [],
   "source": [
    "%%timeit\n",
    "KF_func(0)"
   ]
  },
  {
   "cell_type": "code",
   "execution_count": null,
   "metadata": {
    "collapsed": false
   },
   "outputs": [],
   "source": [
    "%%timeit\n",
    "KF_funcUni(0)"
   ]
  },
  {
   "cell_type": "code",
   "execution_count": null,
   "metadata": {
    "collapsed": false
   },
   "outputs": [],
   "source": [
    "%%snakeviz\n",
    "\n",
    "KF_funcUni(0)"
   ]
  },
  {
   "cell_type": "markdown",
   "metadata": {},
   "source": [
    "Since dot is already optimized we will move on to cython"
   ]
  },
  {
   "cell_type": "code",
   "execution_count": null,
   "metadata": {
    "collapsed": false
   },
   "outputs": [],
   "source": [
    "def KF_funcUniC(theta):\n",
    "    T = pd.DataFrame([\n",
    "        [1,0,0,0],\n",
    "        [0,-1,-1,-0.7],\n",
    "        [0,1,0,0],\n",
    "        [0,0,1,0],\n",
    "    ])\n",
    "\n",
    "    H = pd.DataFrame([0.3])\n",
    "\n",
    "    Q = pd.DataFrame([\n",
    "        [0.1,0],\n",
    "        [0,0.2],\n",
    "    ])\n",
    "\n",
    "    kf = KFUC(y=np.array(y), \n",
    "                      Z=np.array(Z.astype(float)), \n",
    "                      H=np.array(H.astype(float)), \n",
    "                      T=np.array(T.astype(float)), \n",
    "                      Q=np.array(Q.astype(float)), \n",
    "                      a1=np.zeros((4)), \n",
    "                      P1=np.identity(4), \n",
    "                      R=np.array(R.astype(float)), \n",
    "                      nStates=4,)    \n",
    "\n",
    "    return kf\n",
    "\n",
    "\n"
   ]
  },
  {
   "cell_type": "code",
   "execution_count": null,
   "metadata": {
    "collapsed": false
   },
   "outputs": [],
   "source": [
    "%%timeit\n",
    "KF_funcUniC(0)"
   ]
  },
  {
   "cell_type": "markdown",
   "metadata": {},
   "source": [
    "Further ideas:\n",
    "\n",
    "* Eliminate whole line assignments using loops (First check whether that's actually faster)"
   ]
  }
 ],
 "metadata": {
  "anaconda-cloud": {},
  "kernelspec": {
   "display_name": "Python [Root]",
   "language": "python",
   "name": "Python [Root]"
  },
  "language_info": {
   "codemirror_mode": {
    "name": "ipython",
    "version": 3
   },
   "file_extension": ".py",
   "mimetype": "text/x-python",
   "name": "python",
   "nbconvert_exporter": "python",
   "pygments_lexer": "ipython3",
   "version": "3.5.2"
  }
 },
 "nbformat": 4,
 "nbformat_minor": 0
}
