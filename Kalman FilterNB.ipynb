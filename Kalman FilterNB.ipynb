{
 "cells": [
  {
   "cell_type": "code",
   "execution_count": 1,
   "metadata": {
    "collapsed": false
   },
   "outputs": [],
   "source": [
    "%matplotlib inline\n",
    "import numpy as np\n",
    "from numpy.linalg import inv\n",
    "from numpy.linalg import det\n",
    "import pandas as pd\n",
    "import datetime as dt\n",
    "import cython\n",
    "%load_ext Cython\n",
    "\n"
   ]
  },
  {
   "cell_type": "markdown",
   "metadata": {},
   "source": [
    "# Kalman filter\n",
    "\n",
    "Based on Durbin Koopman\n",
    "\n",
    "\n",
    "For generic state-space systems like (Hamilton's notation):\n",
    "\n",
    "\n",
    "\n",
    "$$\\underset{(p \\times 1)}{y_t} = \\underset{(p \\times m)}{Z_t} \\underset{(m \\times 1)}{\\alpha_t} + \\underset{(p \\times 1)}{\\epsilon_t}, \\qquad \\epsilon_t \\sim N(0,\\underset{(p \\times p)}{H_t}) $$\n",
    "\n",
    "$$\\underset{(m \\times 1)}{\\alpha_{t+1}} = \\underset{(m \\times m)}{T_t} \n",
    "\\underset{(m \\times 1)}{\\alpha_{t}} + \\underset{(m \\times r)}{R_t} \\underset{(r \\times r)}{\\eta_t}, \\qquad \\eta_t \\sim N(0,\\underset{(r \\times \\ r)}{Q_t})$$\n",
    "\n",
    "\n",
    "$$\\alpha_1 \\sim N(a_1,\\underset{(m \\times m)}{P_1})$$\n",
    "\n",
    "\n"
   ]
  },
  {
   "cell_type": "markdown",
   "metadata": {},
   "source": [
    "Where\n",
    "\n",
    "* $p$ is the number of observed variables\n",
    "* $m$ is the number of latent states\n",
    "* $r$ is the number of disturbances (?)"
   ]
  },
  {
   "cell_type": "code",
   "execution_count": 2,
   "metadata": {
    "collapsed": false
   },
   "outputs": [],
   "source": [
    "class KalmanFilter():\n",
    "    #     \"\"\"\n",
    "    #         Based on Durbin Koopman\n",
    "\n",
    "\n",
    "    #         For generic state-space systems like (Hamilton's notation):\n",
    "\n",
    "\n",
    "\n",
    "    #         $$\\underset{(p \\times 1)}{y_t} = \\underset{(p \\times m)}{Z_t} \\underset{(m \\times 1)}{\\alpha_t} + \\underset{(p \\times 1)}{\\epsilon_t}, \\qquad \\epsilon_t \\sim N(0,\\underset{(p \\times P)}{H_t}) $$\n",
    "\n",
    "    #         $$\\underset{(m \\times 1)}{\\alpha_{t+1}} = \\underset{(m \\times m)}{T_t}\n",
    "    #         \\underset{(m \\times 1)}{\\alpha_{t}} + \\underset{(m \\times r)}{R_t} \\underset{(r \\times r)}{\\eta_t}, \\qquad \\eta_t \\sim N(0,\\underset{(r \\times \\ r)}{Q_t})$$\n",
    "\n",
    "\n",
    "    #         $$\\alpha_1 \\sim N(a_1,\\underset{(m \\times m)}{P_1})$$\n",
    "\n",
    "    #         Where\n",
    "\n",
    "    #         * $p$ is the number of observed variables\n",
    "    #         * $m$ is the number of latent states\n",
    "    #         * $r$ is the number of disturbances\n",
    "\n",
    "    #     \"\"\"\n",
    "\n",
    "    def __init__(self, y, Z, H, T, Q, a1, P1, R):\n",
    "        self.yindex = y.index\n",
    "        self.ycols = y.columns\n",
    "        self.p = y.shape[1]\n",
    "        self.n = y.shape[0]\n",
    "        self.y = np.array(y)\n",
    "        self.yhat = []\n",
    "        self.Z = np.array(Z)\n",
    "        self.H = np.array(H)\n",
    "        self.T = np.array(T)\n",
    "        self.Q = np.array(Q)\n",
    "        self.a = [np.array(a1)]\n",
    "        self.P = [np.array(P1)]\n",
    "        self.vt = []\n",
    "        self.Ft = []\n",
    "        self.Kt = []\n",
    "        self.ZT = Z.T  # To avoid transposing it several times\n",
    "        self.R = np.array(R)\n",
    "\n",
    "    def runFilter(self, ):\n",
    "        # Implemented with non time varying coefficients\n",
    "\n",
    "        for i in range(0, self.n - 1):\n",
    "            #         for i in range(0,1):\n",
    "            #             print(self.y[i].shape)\n",
    "            #             print(self.Z.shape)\n",
    "            #             print(self.a[i].shape)\n",
    "\n",
    "            self.vt.append(self.y[i].reshape((self.p, 1)) - np.dot(self.Z, self.a[i]))\n",
    "\n",
    "            self.Ft.append(self.Z.dot(self.P[i]).dot(self.ZT) + self.H)\n",
    "\n",
    "            Finv = inv(self.Ft[i])\n",
    "\n",
    "            #             print(self.P[i].shape)\n",
    "            #             print(self.ZT.shape)\n",
    "            #             print(Finv.shape)\n",
    "            #             print(self.vt[i].shape)\n",
    "            self.a[i] = self.a[i] + self.P[i].dot(self.ZT).dot(Finv).dot(self.vt[i])\n",
    "\n",
    "            self.P[i] = self.P[i] - self.P[i].dot(self.ZT).dot(Finv).dot(self.Z).dot(self.P[i])\n",
    "\n",
    "            self.a.append(self.T.dot(self.a[i]))\n",
    "\n",
    "            self.P.append(self.T.dot(self.P[i]).dot(self.T.T) + self.R.dot(self.Q).dot(self.R.T))\n",
    "\n",
    "            self.yhat.append(self.Z.dot(self.a[i]))\n",
    "\n",
    "        self.a = pd.DataFrame(np.concatenate(self.a, axis=1)).T\n",
    "        self.yhat = pd.DataFrame(np.concatenate(self.yhat, axis=1)).T"
   ]
  },
  {
   "cell_type": "markdown",
   "metadata": {
    "collapsed": true
   },
   "source": [
    "# Pandas or numpy dot product ?"
   ]
  },
  {
   "cell_type": "code",
   "execution_count": 3,
   "metadata": {
    "collapsed": true
   },
   "outputs": [],
   "source": [
    "df = {\n",
    "    dt.datetime(2017,1,1) : np.random.randn(4),\n",
    "    dt.datetime(2017,1,2) : np.random.randn(4),\n",
    "    dt.datetime(2017,1,3) : np.random.randn(4),\n",
    "    dt.datetime(2017,1,4) : np.random.randn(4),\n",
    "}"
   ]
  },
  {
   "cell_type": "code",
   "execution_count": 4,
   "metadata": {
    "collapsed": false
   },
   "outputs": [
    {
     "data": {
      "text/html": [
       "<div>\n",
       "<table border=\"1\" class=\"dataframe\">\n",
       "  <thead>\n",
       "    <tr style=\"text-align: right;\">\n",
       "      <th></th>\n",
       "      <th>0</th>\n",
       "      <th>1</th>\n",
       "      <th>2</th>\n",
       "      <th>3</th>\n",
       "    </tr>\n",
       "  </thead>\n",
       "  <tbody>\n",
       "    <tr>\n",
       "      <th>2017-01-01</th>\n",
       "      <td>0.745134</td>\n",
       "      <td>-1.094507</td>\n",
       "      <td>-0.625374</td>\n",
       "      <td>0.737582</td>\n",
       "    </tr>\n",
       "    <tr>\n",
       "      <th>2017-01-02</th>\n",
       "      <td>-1.648659</td>\n",
       "      <td>-1.139046</td>\n",
       "      <td>1.396983</td>\n",
       "      <td>-1.295993</td>\n",
       "    </tr>\n",
       "    <tr>\n",
       "      <th>2017-01-03</th>\n",
       "      <td>0.842575</td>\n",
       "      <td>2.144121</td>\n",
       "      <td>1.127765</td>\n",
       "      <td>-1.219462</td>\n",
       "    </tr>\n",
       "    <tr>\n",
       "      <th>2017-01-04</th>\n",
       "      <td>0.376546</td>\n",
       "      <td>-0.717490</td>\n",
       "      <td>1.604107</td>\n",
       "      <td>1.109635</td>\n",
       "    </tr>\n",
       "  </tbody>\n",
       "</table>\n",
       "</div>"
      ],
      "text/plain": [
       "                   0         1         2         3\n",
       "2017-01-01  0.745134 -1.094507 -0.625374  0.737582\n",
       "2017-01-02 -1.648659 -1.139046  1.396983 -1.295993\n",
       "2017-01-03  0.842575  2.144121  1.127765 -1.219462\n",
       "2017-01-04  0.376546 -0.717490  1.604107  1.109635"
      ]
     },
     "execution_count": 4,
     "metadata": {},
     "output_type": "execute_result"
    }
   ],
   "source": [
    "df = pd.DataFrame(df).T\n",
    "df"
   ]
  },
  {
   "cell_type": "code",
   "execution_count": 5,
   "metadata": {
    "collapsed": false
   },
   "outputs": [
    {
     "data": {
      "text/plain": [
       "array([[ 0.74513431, -1.0945074 , -0.62537426,  0.73758175],\n",
       "       [-1.64865925, -1.13904611,  1.39698311, -1.2959929 ],\n",
       "       [ 0.84257522,  2.14412112,  1.12776533, -1.21946152],\n",
       "       [ 0.37654635, -0.71748952,  1.60410717,  1.10963522]])"
      ]
     },
     "execution_count": 5,
     "metadata": {},
     "output_type": "execute_result"
    }
   ],
   "source": [
    "dfnp = np.array(df)\n",
    "dfnp"
   ]
  },
  {
   "cell_type": "code",
   "execution_count": 6,
   "metadata": {
    "collapsed": false
   },
   "outputs": [
    {
     "name": "stdout",
     "output_type": "stream",
     "text": [
      "The slowest run took 11.72 times longer than the fastest. This could mean that an intermediate result is being cached.\n",
      "1 loop, best of 3: 397 µs per loop\n"
     ]
    }
   ],
   "source": [
    "%%timeit -n 1\n",
    "\n",
    "df.dot(df.T)\n"
   ]
  },
  {
   "cell_type": "code",
   "execution_count": 7,
   "metadata": {
    "collapsed": false
   },
   "outputs": [
    {
     "name": "stdout",
     "output_type": "stream",
     "text": [
      "The slowest run took 23.12 times longer than the fastest. This could mean that an intermediate result is being cached.\n",
      "1 loop, best of 3: 3.28 µs per loop\n"
     ]
    }
   ],
   "source": [
    "%%timeit -n 1\n",
    "\n",
    "np.dot(dfnp,dfnp.T)"
   ]
  },
  {
   "cell_type": "markdown",
   "metadata": {},
   "source": [
    "Numpy as WAY faster"
   ]
  },
  {
   "cell_type": "markdown",
   "metadata": {},
   "source": [
    "# Numpy or python append?\n",
    "\n",
    "Which one is faster to append new values and access the last one"
   ]
  },
  {
   "cell_type": "code",
   "execution_count": 8,
   "metadata": {
    "collapsed": true
   },
   "outputs": [],
   "source": [
    "lis = [1.756756,2.123123,3.24234]\n",
    "nplis = np.array(lis)"
   ]
  },
  {
   "cell_type": "code",
   "execution_count": 9,
   "metadata": {
    "collapsed": false
   },
   "outputs": [
    {
     "name": "stdout",
     "output_type": "stream",
     "text": [
      "The slowest run took 4.00 times longer than the fastest. This could mean that an intermediate result is being cached.\n",
      "1 loop, best of 3: 410 ns per loop\n"
     ]
    }
   ],
   "source": [
    "%%timeit -n 1\n",
    "\n",
    "lis.append(7.21342)\n",
    "\n",
    "lis[-1] + 3.46785"
   ]
  },
  {
   "cell_type": "code",
   "execution_count": 10,
   "metadata": {
    "collapsed": false
   },
   "outputs": [
    {
     "name": "stdout",
     "output_type": "stream",
     "text": [
      "The slowest run took 6.69 times longer than the fastest. This could mean that an intermediate result is being cached.\n",
      "1 loop, best of 3: 6.56 µs per loop\n"
     ]
    }
   ],
   "source": [
    "%%timeit -n 1\n",
    "np.append(nplis,7)\n",
    "nplis[-1] + 3.46785"
   ]
  },
  {
   "cell_type": "markdown",
   "metadata": {},
   "source": [
    "Python append is way faster"
   ]
  },
  {
   "cell_type": "markdown",
   "metadata": {},
   "source": [
    "# Dummy data for the KF with non time-varying parameters\n",
    "\n",
    "For convenience: \n",
    "\n",
    "$$\\underset{(p \\times 1)}{y_t} = \\underset{(p \\times m)}{Z_t} \\underset{(m \\times 1)}{\\alpha_t} + \\underset{(p \\times 1)}{\\epsilon_t}, \\qquad \\epsilon_t \\sim N(0,\\underset{(p \\times P)}{H_t}) $$\n",
    "\n",
    "$$\\underset{(m \\times 1)}{\\alpha_{t+1}} = \\underset{(m \\times m)}{T_t} \n",
    "\\underset{(m \\times 1)}{\\alpha_{t}} + \\underset{(m \\times r)}{R_t} \\underset{(r \\times r)}{\\eta_t}, \\qquad \\eta_t \\sim N(0,\\underset{(r \\times \\ r)}{Q_t})$$\n",
    "\n",
    "\n",
    "$$\\alpha_1 \\sim N(a_1,\\underset{(m \\times m)}{P_1})$$"
   ]
  },
  {
   "cell_type": "markdown",
   "metadata": {},
   "source": [
    "## Local Level model\n",
    "\n",
    "$$ y_t = \\mu_t + \\epsilon_t, \\qquad \\epsilon \\sim NID(0, \\sigma^2_ \\epsilon) $$\n",
    "$$ \\mu_{t+1} = \\mu_t + \\eta_t, \\qquad \\eta_t \\sim NID(0,\\sigma^2_ \\eta) $$"
   ]
  },
  {
   "cell_type": "code",
   "execution_count": 11,
   "metadata": {
    "collapsed": false
   },
   "outputs": [],
   "source": [
    "m = 2\n",
    "p = 4\n",
    "\n",
    "\n",
    "Z = [[0.3,0.7],[0.1,0],[0.5,0.5],[0,0.3]]\n",
    "\n",
    "\n",
    "Z = pd.DataFrame(Z)\n",
    "\n",
    "H = pd.DataFrame(np.diag([1.0,2.0,3.0,4.0]))\n",
    "\n",
    "\n",
    "T = pd.DataFrame(np.identity(2))\n",
    "R = pd.DataFrame(np.identity(2))\n",
    "\n",
    "Q = pd.DataFrame(np.diag([0.2,0.4]))"
   ]
  },
  {
   "cell_type": "code",
   "execution_count": 12,
   "metadata": {
    "collapsed": false
   },
   "outputs": [],
   "source": [
    "n = 10000 #sample size\n",
    "mut = [np.array([1,10]).reshape(m,1)]\n",
    "yt = [np.array([0,0,0,0]).reshape(p,1)]\n",
    "\n",
    "for i in range(0,1000):\n",
    "    \n",
    "    temp = np.multiply(np.random.randn(m,1),np.diag(Q).reshape((m,1)))\n",
    "    temp = R.dot(temp)\n",
    "    temp = temp + mut[i]\n",
    "    mut.append(temp)  \n",
    "    \n",
    "    temp = np.multiply(np.random.randn(p,1),np.diag(H).reshape((p,1)))\n",
    "    yt.append(temp+Z.dot(mut[i+1]))\n",
    "\n",
    "    \n",
    "yt[0] = pd.DataFrame(yt[0])   \n",
    "y = pd.concat(yt,axis=1).T.reset_index(drop=True)\n",
    "mut[0] = pd.DataFrame(mut[0])\n",
    "mut = pd.concat(mut,axis=1).T.reset_index(drop=True)"
   ]
  },
  {
   "cell_type": "code",
   "execution_count": 13,
   "metadata": {
    "collapsed": true
   },
   "outputs": [],
   "source": [
    "kf = KalmanFilter(y,\n",
    "                  Z,\n",
    "                  H,\n",
    "                  T,\n",
    "                  Q,\n",
    "                  pd.DataFrame(np.array([0,0]).reshape(m,1)),\n",
    "                  pd.DataFrame(np.diag(np.array([1,1]))),\n",
    "                  R)\n",
    "\n",
    "kf.runFilter()"
   ]
  },
  {
   "cell_type": "code",
   "execution_count": 14,
   "metadata": {
    "collapsed": false
   },
   "outputs": [
    {
     "data": {
      "text/plain": [
       "<matplotlib.axes._subplots.AxesSubplot at 0x210b5b24f60>"
      ]
     },
     "execution_count": 14,
     "metadata": {},
     "output_type": "execute_result"
    },
    {
     "data": {
      "image/png": "[encoded data removed]",
      "text/plain": [
       "<matplotlib.figure.Figure at 0x210b5b29940>"
      ]
     },
     "metadata": {},
     "output_type": "display_data"
    }
   ],
   "source": [
    "y[0].plot()"
   ]
  },
  {
   "cell_type": "code",
   "execution_count": 15,
   "metadata": {
    "collapsed": false
   },
   "outputs": [
    {
     "data": {
      "text/plain": [
       "<matplotlib.axes._subplots.AxesSubplot at 0x210b5b3abe0>"
      ]
     },
     "execution_count": 15,
     "metadata": {},
     "output_type": "execute_result"
    },
    {
     "data": {
      "image/png": "[encoded data removed]",
      "text/plain": [
       "<matplotlib.figure.Figure at 0x210b6369da0>"
      ]
     },
     "metadata": {},
     "output_type": "display_data"
    }
   ],
   "source": [
    "kf.yhat[0].plot()"
   ]
  },
  {
   "cell_type": "markdown",
   "metadata": {},
   "source": [
    "## Timing the filter with and without Cython"
   ]
  },
  {
   "cell_type": "code",
   "execution_count": 16,
   "metadata": {
    "collapsed": false
   },
   "outputs": [
    {
     "name": "stdout",
     "output_type": "stream",
     "text": [
      "1 loop, best of 3: 151 ms per loop\n"
     ]
    }
   ],
   "source": [
    "%%timeit -n 1\n",
    "kf = KalmanFilter(y,\n",
    "                  Z,\n",
    "                  H,\n",
    "                  T,\n",
    "                  Q,\n",
    "                  pd.DataFrame(np.array([0,0]).reshape(m,1)),\n",
    "                  pd.DataFrame(np.diag(np.array([1,1]))),\n",
    "                  R)\n",
    "\n",
    "kf.runFilter()"
   ]
  },
  {
   "cell_type": "code",
   "execution_count": 17,
   "metadata": {
    "collapsed": false
   },
   "outputs": [],
   "source": [
    "# import pyximport; pyximport.install()\n",
    "# import KalmanFilter1"
   ]
  },
  {
   "cell_type": "code",
   "execution_count": 18,
   "metadata": {
    "collapsed": false
   },
   "outputs": [],
   "source": [
    "# %%timeit -n 50\n",
    "# # COMPILED WITH CYTHON\n",
    "\n",
    "# kf = KalmanFilter1.KalmanFilter(y,\n",
    "#                   Z,\n",
    "#                   H,\n",
    "#                   T,\n",
    "#                   Q,\n",
    "#                   pd.DataFrame(np.array([0,0]).reshape(m,1)),\n",
    "#                   pd.DataFrame(np.diag(np.array([1,1]))),\n",
    "#                   R)\n",
    "\n",
    "# kf.runFilter()"
   ]
  },
  {
   "cell_type": "markdown",
   "metadata": {},
   "source": [
    "# Implementation for nulls"
   ]
  },
  {
   "cell_type": "markdown",
   "metadata": {},
   "source": [
    "## Faster way to check for nulls Pandas or Numpy"
   ]
  },
  {
   "cell_type": "code",
   "execution_count": 19,
   "metadata": {
    "collapsed": false
   },
   "outputs": [],
   "source": [
    "ynp = np.array(y)"
   ]
  },
  {
   "cell_type": "code",
   "execution_count": 20,
   "metadata": {
    "collapsed": false
   },
   "outputs": [
    {
     "name": "stdout",
     "output_type": "stream",
     "text": [
      "1 loop, best of 3: 332 µs per loop\n"
     ]
    }
   ],
   "source": [
    "%%timeit -n 1\n",
    "y.isnull().any(axis=1)"
   ]
  },
  {
   "cell_type": "code",
   "execution_count": 21,
   "metadata": {
    "collapsed": false
   },
   "outputs": [
    {
     "name": "stdout",
     "output_type": "stream",
     "text": [
      "The slowest run took 6.21 times longer than the fastest. This could mean that an intermediate result is being cached.\n",
      "1 loop, best of 3: 7.79 µs per loop\n"
     ]
    }
   ],
   "source": [
    "%%timeit -n 1\n",
    "np.isnan(ynp).any(axis=1)"
   ]
  },
  {
   "cell_type": "code",
   "execution_count": 22,
   "metadata": {
    "collapsed": false
   },
   "outputs": [
    {
     "name": "stdout",
     "output_type": "stream",
     "text": [
      "1 loop, best of 3: 276 µs per loop\n"
     ]
    }
   ],
   "source": [
    "%%timeit -n 1\n",
    "y.isnull().all(axis=1)"
   ]
  },
  {
   "cell_type": "code",
   "execution_count": 23,
   "metadata": {
    "collapsed": false
   },
   "outputs": [
    {
     "name": "stdout",
     "output_type": "stream",
     "text": [
      "The slowest run took 6.88 times longer than the fastest. This could mean that an intermediate result is being cached.\n",
      "1 loop, best of 3: 6.97 µs per loop\n"
     ]
    }
   ],
   "source": [
    "%%timeit -n 1\n",
    "np.isnan(ynp).all(axis=1)"
   ]
  },
  {
   "cell_type": "markdown",
   "metadata": {},
   "source": [
    "## Timing Implemention for whole line of nulls"
   ]
  },
  {
   "cell_type": "code",
   "execution_count": 24,
   "metadata": {
    "collapsed": false
   },
   "outputs": [],
   "source": [
    "class KalmanFilter():\n",
    "#         \"\"\"\n",
    "#             Based on Durbin Koopman\n",
    "\n",
    "\n",
    "#             For generic state-space systems like (Hamilton's notation):\n",
    "\n",
    "\n",
    "\n",
    "#             $$\\underset{(p \\times 1)}{y_t} = \\underset{(p \\times m)}{Z_t} \\underset{(m \\times 1)}{\\alpha_t} + \\underset{(p \\times 1)}{\\epsilon_t}, \\qquad \\epsilon_t \\sim N(0,\\underset{(p \\times P)}{H_t}) $$\n",
    "\n",
    "#             $$\\underset{(m \\times 1)}{\\alpha_{t+1}} = \\underset{(m \\times m)}{T_t}\n",
    "#             \\underset{(m \\times 1)}{\\alpha_{t}} + \\underset{(m \\times r)}{R_t} \\underset{(r \\times r)}{\\eta_t}, \\qquad \\eta_t \\sim N(0,\\underset{(r \\times \\ r)}{Q_t})$$\n",
    "\n",
    "\n",
    "#             $$\\alpha_1 \\sim N(a_1,\\underset{(m \\times m)}{P_1})$$\n",
    "\n",
    "#             Where\n",
    "\n",
    "#             * $p$ is the number of observed variables\n",
    "#             * $m$ is the number of latent states\n",
    "#             * $r$ is the number of disturbances\n",
    "\n",
    "#         \"\"\"\n",
    "\n",
    "    def __init__(self, y, Z, H, T, Q, a1, P1, R):\n",
    "  \n",
    "        \n",
    "        self.yindex = y.index\n",
    "        self.ycols = y.columns\n",
    "        self.p = y.shape[1]\n",
    "        self.n = y.shape[0]\n",
    "        self.y = np.array(y)\n",
    "        \n",
    "        ind = np.zeros(self.y.shape[0])\n",
    "        ind[np.isnan(self.y).any(axis=1)] = 1 # Some NaNs\n",
    "        ind[np.isnan(self.y).all(axis=1)] = 2 # All NaNs\n",
    "        self.ind = ind  \n",
    "        \n",
    "        self.yhat = []\n",
    "        self.Z = np.array(Z)\n",
    "        self.H = np.array(H)\n",
    "        self.T = np.array(T)\n",
    "        self.Q = np.array(Q)\n",
    "        self.a = [np.array(a1)]\n",
    "        self.P = [np.array(P1)]\n",
    "        self.vt = []\n",
    "        self.Ft = []\n",
    "        self.Kt = []\n",
    "        self.ZT = Z.T  # To avoid transposing it several times\n",
    "        self.R = np.array(R)\n",
    "        \n",
    "\n",
    "    def runFilter(self, ):\n",
    "        # Implemented with non time varying coefficients\n",
    "        \n",
    "        for i in range(0, self.n - 1):\n",
    "\n",
    "            if self.ind[i] == 0:\n",
    "\n",
    "                self.vt.append(self.y[i].reshape((self.p, 1)) - np.dot(self.Z, self.a[i]))\n",
    "\n",
    "                self.Ft.append(self.Z.dot(self.P[i]).dot(self.ZT) + self.H)\n",
    "\n",
    "                Finv = inv(self.Ft[i])\n",
    "\n",
    "                self.a[i] = self.a[i] + self.P[i].dot(self.ZT).dot(Finv).dot(self.vt[i])\n",
    "\n",
    "                self.P[i] = self.P[i] - self.P[i].dot(self.ZT).dot(Finv).dot(self.Z).dot(self.P[i])\n",
    "\n",
    "                self.a.append(self.T.dot(self.a[i]))\n",
    "\n",
    "                self.P.append(self.T.dot(self.P[i]).dot(self.T.T) + self.R.dot(self.Q).dot(self.R.T))\n",
    "\n",
    "                self.yhat.append(self.Z.dot(self.a[i]))\n",
    "            \n",
    "            elif self.ind[i] == 2: # In case the line is all nans\n",
    "            \n",
    "                self.vt.append(np.zeros((p,1)))\n",
    "#                 self.vt.append(self.y[i].reshape((self.p, 1)) - np.dot(self.Z, self.a[i]))\n",
    "\n",
    "                self.Ft.append(self.Z.dot(self.P[i]).dot(self.ZT) + self.H)\n",
    "\n",
    "#                 Finv = inv(self.Ft[i])\n",
    "\n",
    "#                 self.a[i] = self.a[i] + self.P[i].dot(self.ZT).dot(Finv).dot(self.vt[i])\n",
    "\n",
    "#                 self.P[i] = self.P[i] - self.P[i].dot(self.ZT).dot(Finv).dot(self.Z).dot(self.P[i])\n",
    "\n",
    "                self.a.append(self.T.dot(self.a[i]))\n",
    "\n",
    "                self.P.append(self.T.dot(self.P[i]).dot(self.T.T) + self.R.dot(self.Q).dot(self.R.T))\n",
    "                \n",
    "                self.yhat.append(self.Z.dot(self.a[i]))  \n",
    "            \n",
    "        self.a = pd.DataFrame(np.concatenate(self.a, axis=1)).T\n",
    "        self.yhat = pd.DataFrame(np.concatenate(self.yhat, axis=1)).T"
   ]
  },
  {
   "cell_type": "code",
   "execution_count": 25,
   "metadata": {
    "collapsed": false
   },
   "outputs": [],
   "source": [
    "y.loc[20] = np.nan"
   ]
  },
  {
   "cell_type": "code",
   "execution_count": 26,
   "metadata": {
    "collapsed": false
   },
   "outputs": [],
   "source": [
    "kf = KalmanFilter(y,\n",
    "                  Z,\n",
    "                  H,\n",
    "                  T,\n",
    "                  Q,\n",
    "                  pd.DataFrame(np.array([0,0]).reshape(m,1)),\n",
    "                  pd.DataFrame(np.diag(np.array([1,1]))),\n",
    "                  R)\n",
    "\n",
    "kf.runFilter()"
   ]
  },
  {
   "cell_type": "code",
   "execution_count": 27,
   "metadata": {
    "collapsed": false
   },
   "outputs": [
    {
     "data": {
      "text/plain": [
       "<matplotlib.axes._subplots.AxesSubplot at 0x210b64c35c0>"
      ]
     },
     "execution_count": 27,
     "metadata": {},
     "output_type": "execute_result"
    },
    {
     "data": {
      "image/png": "[encoded data removed]",
      "text/plain": [
       "<matplotlib.figure.Figure at 0x210b648de10>"
      ]
     },
     "metadata": {},
     "output_type": "display_data"
    }
   ],
   "source": [
    "kf.yhat[0].plot()"
   ]
  },
  {
   "cell_type": "code",
   "execution_count": 28,
   "metadata": {
    "collapsed": true
   },
   "outputs": [],
   "source": [
    "# with many nulls\n",
    "ny = y.copy()\n",
    "ny.iloc[200:700] = np.nan"
   ]
  },
  {
   "cell_type": "code",
   "execution_count": 29,
   "metadata": {
    "collapsed": true
   },
   "outputs": [],
   "source": [
    "kf = KalmanFilter(ny,\n",
    "                  Z,\n",
    "                  H,\n",
    "                  T,\n",
    "                  Q,\n",
    "                  pd.DataFrame(np.array([0,0]).reshape(m,1)),\n",
    "                  pd.DataFrame(np.diag(np.array([1,1]))),\n",
    "                  R)\n",
    "\n",
    "kf.runFilter()"
   ]
  },
  {
   "cell_type": "code",
   "execution_count": 30,
   "metadata": {
    "collapsed": false
   },
   "outputs": [
    {
     "data": {
      "text/plain": [
       "<matplotlib.axes._subplots.AxesSubplot at 0x210b661c198>"
      ]
     },
     "execution_count": 30,
     "metadata": {},
     "output_type": "execute_result"
    },
    {
     "data": {
      "image/png": "[encoded data removed]",
      "text/plain": [
       "<matplotlib.figure.Figure at 0x210b75fc358>"
      ]
     },
     "metadata": {},
     "output_type": "display_data"
    }
   ],
   "source": [
    "kf.yhat[0].iloc[180:210].plot()"
   ]
  },
  {
   "cell_type": "code",
   "execution_count": 31,
   "metadata": {
    "collapsed": false
   },
   "outputs": [
    {
     "data": {
      "text/plain": [
       "<matplotlib.axes._subplots.AxesSubplot at 0x210b769e8d0>"
      ]
     },
     "execution_count": 31,
     "metadata": {},
     "output_type": "execute_result"
    },
    {
     "data": {
      "image/png": "[encoded data removed]",
      "text/plain": [
       "<matplotlib.figure.Figure at 0x210b76a7f28>"
      ]
     },
     "metadata": {},
     "output_type": "display_data"
    }
   ],
   "source": [
    "kf.a[0].plot()"
   ]
  },
  {
   "cell_type": "code",
   "execution_count": 32,
   "metadata": {
    "collapsed": false
   },
   "outputs": [
    {
     "name": "stdout",
     "output_type": "stream",
     "text": [
      "1 loop, best of 3: 150 ms per loop\n"
     ]
    }
   ],
   "source": [
    "%%timeit -n 1\n",
    "\n",
    "kf = KalmanFilter(y,\n",
    "                  Z,\n",
    "                  H,\n",
    "                  T,\n",
    "                  Q,\n",
    "                  pd.DataFrame(np.array([0,0]).reshape(m,1)),\n",
    "                  pd.DataFrame(np.diag(np.array([1,1]))),\n",
    "                  R)\n",
    "\n",
    "kf.runFilter()"
   ]
  },
  {
   "cell_type": "code",
   "execution_count": 33,
   "metadata": {
    "collapsed": false
   },
   "outputs": [
    {
     "name": "stdout",
     "output_type": "stream",
     "text": [
      "1 loop, best of 3: 98.5 ms per loop\n"
     ]
    }
   ],
   "source": [
    "%%timeit -n 1\n",
    "\n",
    "kf = KalmanFilter(ny,\n",
    "                  Z,\n",
    "                  H,\n",
    "                  T,\n",
    "                  Q,\n",
    "                  pd.DataFrame(np.array([0,0]).reshape(m,1)),\n",
    "                  pd.DataFrame(np.diag(np.array([1,1]))),\n",
    "                  R)\n",
    "\n",
    "kf.runFilter()"
   ]
  },
  {
   "cell_type": "markdown",
   "metadata": {},
   "source": [
    "## Timing Implemention for partial line of nulls\n",
    "\n",
    "### Fastest way to flat out "
   ]
  },
  {
   "cell_type": "code",
   "execution_count": 34,
   "metadata": {
    "collapsed": false
   },
   "outputs": [],
   "source": [
    "yt = np.array([1,2,4,np.nan,5,6,7,np.nan,np.nan,8]).reshape((10,1))"
   ]
  },
  {
   "cell_type": "code",
   "execution_count": 35,
   "metadata": {
    "collapsed": false
   },
   "outputs": [
    {
     "data": {
      "text/plain": [
       "array([ 1.,  2.,  4.,  5.,  6.,  7.,  8.])"
      ]
     },
     "execution_count": 35,
     "metadata": {},
     "output_type": "execute_result"
    }
   ],
   "source": [
    "yt[~np.isnan(yt)]"
   ]
  },
  {
   "cell_type": "code",
   "execution_count": 36,
   "metadata": {
    "collapsed": false
   },
   "outputs": [
    {
     "name": "stdout",
     "output_type": "stream",
     "text": [
      "The slowest run took 8.00 times longer than the fastest. This could mean that an intermediate result is being cached.\n",
      "1 loop, best of 3: 2.87 µs per loop\n"
     ]
    }
   ],
   "source": [
    "%%timeit -n 1\n",
    "\n",
    "~np.isnan(yt).reshape((10))"
   ]
  },
  {
   "cell_type": "code",
   "execution_count": 37,
   "metadata": {
    "collapsed": false
   },
   "outputs": [
    {
     "name": "stdout",
     "output_type": "stream",
     "text": [
      "The slowest run took 5.18 times longer than the fastest. This could mean that an intermediate result is being cached.\n",
      "1 loop, best of 3: 6.97 µs per loop\n"
     ]
    }
   ],
   "source": [
    "%%timeit -n 1\n",
    "\n",
    "np.array((~np.isnan(yt)).flat)"
   ]
  },
  {
   "cell_type": "code",
   "execution_count": 38,
   "metadata": {
    "collapsed": false
   },
   "outputs": [
    {
     "name": "stdout",
     "output_type": "stream",
     "text": [
      "The slowest run took 10.50 times longer than the fastest. This could mean that an intermediate result is being cached.\n",
      "1 loop, best of 3: 1.64 µs per loop\n"
     ]
    }
   ],
   "source": [
    "%%timeit -n 1\n",
    "\n",
    "(~np.isnan(yt)).ravel()"
   ]
  },
  {
   "cell_type": "code",
   "execution_count": 39,
   "metadata": {
    "collapsed": false
   },
   "outputs": [
    {
     "name": "stdout",
     "output_type": "stream",
     "text": [
      "The slowest run took 6.78 times longer than the fastest. This could mean that an intermediate result is being cached.\n",
      "1 loop, best of 3: 3.69 µs per loop\n"
     ]
    }
   ],
   "source": [
    "%%timeit -n 1\n",
    "\n",
    "(~np.isnan(yt)).flatten()"
   ]
  },
  {
   "cell_type": "code",
   "execution_count": 40,
   "metadata": {
    "collapsed": true
   },
   "outputs": [],
   "source": [
    "\n",
    "class KalmanFilter():\n",
    "    #         \"\"\"\n",
    "    #             Based on Durbin Koopman\n",
    "\n",
    "\n",
    "    #             For generic state-space systems like (Hamilton's notation):\n",
    "\n",
    "\n",
    "\n",
    "    #             $$\\underset{(p \\times 1)}{y_t} = \\underset{(p \\times m)}{Z_t} \\underset{(m \\times 1)}{\\alpha_t} + \\underset{(p \\times 1)}{\\epsilon_t}, \\qquad \\epsilon_t \\sim N(0,\\underset{(p \\times P)}{H_t}) $$\n",
    "\n",
    "    #             $$\\underset{(m \\times 1)}{\\alpha_{t+1}} = \\underset{(m \\times m)}{T_t}\n",
    "    #             \\underset{(m \\times 1)}{\\alpha_{t}} + \\underset{(m \\times r)}{R_t} \\underset{(r \\times r)}{\\eta_t}, \\qquad \\eta_t \\sim N(0,\\underset{(r \\times \\ r)}{Q_t})$$\n",
    "\n",
    "\n",
    "    #             $$\\alpha_1 \\sim N(a_1,\\underset{(m \\times m)}{P_1})$$\n",
    "\n",
    "    #             Where\n",
    "\n",
    "    #             * $p$ is the number of observed variables\n",
    "    #             * $m$ is the number of latent states\n",
    "    #             * $r$ is the number of disturbances\n",
    "\n",
    "    #         \"\"\"\n",
    "\n",
    "    def __init__(self, y, Z, H, T, Q, a1, P1, R, nStates, performChecks = True):\n",
    "\n",
    "        self.yindex = y.index\n",
    "        self.ycols = y.columns\n",
    "        self.p = y.shape[1]\n",
    "        self.n = y.shape[0]\n",
    "        self.y = np.array(y)\n",
    "        self.m = nStates\n",
    "\n",
    "        # Checks\n",
    "        if performChecks:\n",
    "            if Z.shape != (self.p,self.m):\n",
    "                print('Wrong shape for Z')\n",
    "\n",
    "            if a1.shape != (self.m, 1):\n",
    "                print('Wrong shape for a1')\n",
    "\n",
    "            if H.shape != (self.p, self.p):\n",
    "                print('Wrong shape for H')\n",
    "\n",
    "            if T.shape != (self.m, self.m):\n",
    "                print('Wrong shape for T')\n",
    "\n",
    "            if P1.shape != (self.m, self.m):\n",
    "                print('Wrong shape for P1')\n",
    "\n",
    "        ind = np.zeros(self.y.shape[0])\n",
    "        ind[np.isnan(self.y).any(axis=1)] = 1  # Some NaNs\n",
    "        ind[np.isnan(self.y).all(axis=1)] = 2  # All NaNs\n",
    "        self.ind = ind\n",
    "\n",
    "        self.yhat = []\n",
    "        self.Z = np.array(Z)\n",
    "        self.H = np.array(H)\n",
    "        self.T = np.array(T)\n",
    "        self.Q = np.array(Q)\n",
    "        self.a = [np.array(a1)]\n",
    "        self.P = [np.array(P1)]\n",
    "        self.vt = []\n",
    "        self.Ft = []\n",
    "        self.Kt = []\n",
    "        self.ZT = Z.T  # To avoid transposing it several times\n",
    "        self.TT = self.T.T  # To avoid transposing it several times\n",
    "        self.R = np.array(R)\n",
    "        self.RT = self.R.T\n",
    "        self.ranFilter = False\n",
    "\n",
    "    def runFilter(self, ):\n",
    "        # Implemented with non time varying coefficients\n",
    "\n",
    "        for i in range(0, self.n - 1):\n",
    "\n",
    "            if self.ind[i] == 0:\n",
    "\n",
    "                self.vt.append(self.y[i].reshape((self.p, 1)) - np.dot(self.Z, self.a[i]))\n",
    "\n",
    "                self.Ft.append(self.Z.dot(self.P[i]).dot(self.ZT) + self.H)\n",
    "\n",
    "                Finv = inv(self.Ft[i])\n",
    "\n",
    "                self.a[i] = self.a[i] + self.P[i].dot(self.ZT).dot(Finv).dot(self.vt[i])\n",
    "\n",
    "                self.P[i] = self.P[i] - self.P[i].dot(self.ZT).dot(Finv).dot(self.Z).dot(self.P[i])\n",
    "\n",
    "                self.a.append(self.T.dot(self.a[i]))\n",
    "\n",
    "                self.P.append(self.T.dot(self.P[i]).dot(self.TT) + self.R.dot(self.Q).dot(self.RT))\n",
    "\n",
    "                self.yhat.append(self.Z.dot(self.a[i]))\n",
    "\n",
    "            elif self.ind[i] == 2:  # In case the line is all nans\n",
    "\n",
    "                self.vt.append(np.zeros((p, 1)))\n",
    "                #                 self.vt.append(self.y[i].reshape((self.p, 1)) - np.dot(self.Z, self.a[i]))\n",
    "\n",
    "                self.Ft.append(self.Z.dot(self.P[i]).dot(self.ZT) + self.H)\n",
    "\n",
    "                #                 Finv = inv(self.Ft[i])\n",
    "\n",
    "                #                 self.a[i] = self.a[i] + self.P[i].dot(self.ZT).dot(Finv).dot(self.vt[i])\n",
    "\n",
    "                #                 self.P[i] = self.P[i] - self.P[i].dot(self.ZT).dot(Finv).dot(self.Z).dot(self.P[i])\n",
    "\n",
    "                self.a.append(self.T.dot(self.a[i]))\n",
    "\n",
    "                self.P.append(self.T.dot(self.P[i]).dot(self.TT) + self.R.dot(self.Q).dot(self.RT))\n",
    "\n",
    "                self.yhat.append(self.Z.dot(self.a[i]))\n",
    "\n",
    "            else:\n",
    "                # First use an index for nulls\n",
    "                ind = ~np.isnan(self.y[i]).ravel()\n",
    "                yst = self.y[i][ind]\n",
    "                Zst = self.Z[ind, :]\n",
    "                ZstT = Zst.T\n",
    "\n",
    "                select = np.diag(ind)\n",
    "                select = select[(select == True).any(axis=1)].astype(int)\n",
    "\n",
    "                Hst = select.dot(self.H).dot(select.T)\n",
    "\n",
    "                self.vt.append(yst.reshape((yst.shape[0], 1)) - np.dot(Zst, self.a[i]))\n",
    "\n",
    "                self.Ft.append(Zst.dot(self.P[i]).dot(ZstT) + Hst)\n",
    "\n",
    "                Finv = inv(self.Ft[i])\n",
    "\n",
    "                self.a[i] = self.a[i] + self.P[i].dot(ZstT).dot(Finv).dot(self.vt[i])\n",
    "\n",
    "                self.P[i] = self.P[i] - self.P[i].dot(ZstT).dot(Finv).dot(Zst).dot(self.P[i])\n",
    "\n",
    "                self.a.append(self.T.dot(self.a[i]))\n",
    "\n",
    "                self.P.append(self.T.dot(self.P[i]).dot(self.TT) + self.R.dot(self.Q).dot(self.RT))\n",
    "\n",
    "                yhat = np.empty((self.p, 1))\n",
    "                yhat[ind, :] = Zst.dot(self.a[i])\n",
    "                yhat[~ind, :] = self.Z.dot(self.a[i])[~ind, :]\n",
    "\n",
    "                self.yhat.append(yhat)\n",
    "\n",
    "        self.a = pd.DataFrame(np.concatenate(self.a, axis=1)).T\n",
    "        self.yhat = pd.DataFrame(np.concatenate(self.yhat, axis=1)).T\n",
    "        self.y = pd.DataFrame(self.y)\n",
    "\n",
    "        self.ranFilter = True\n",
    "\n",
    "\n",
    "\n",
    "    def likelihood(self):\n",
    "        if not self.ranFilter:\n",
    "            self.runFilter()\n",
    "\n",
    "        ll = 0\n",
    "        for i in range(0, self.n - 1):\n",
    "            ll += np.log(det(self.Ft[i])) +  self.vt[i].T.dot(inv(self.Ft[i])).dot(self.vt[i])\n",
    "        ll = -n*p*0.5 * np.log(2*np.pi) - 0.5 * ll\n",
    "        self.ll = ll\n",
    "        return ll\n",
    "\n"
   ]
  },
  {
   "cell_type": "code",
   "execution_count": 41,
   "metadata": {
    "collapsed": false
   },
   "outputs": [],
   "source": [
    "nny = y\n",
    "probNan= 0.20\n",
    "for i in nny.index:\n",
    "    ran = np.random.uniform(size=nny.iloc[i].shape)\n",
    "    nny.iloc[i][ran<probNan] = np.nan\n",
    "    \n",
    "    "
   ]
  },
  {
   "cell_type": "code",
   "execution_count": 42,
   "metadata": {
    "collapsed": false
   },
   "outputs": [],
   "source": [
    "kf = KalmanFilter(nny,\n",
    "                  Z,\n",
    "                  H,\n",
    "                  T,\n",
    "                  Q,\n",
    "                  pd.DataFrame(np.array([0,0]).reshape(m,1)),\n",
    "                  pd.DataFrame(np.diag(np.array([1,1]))),\n",
    "                  R,\n",
    "                  nStates=2\n",
    "                 )\n",
    "\n",
    "kf.runFilter()"
   ]
  },
  {
   "cell_type": "code",
   "execution_count": 43,
   "metadata": {
    "collapsed": false
   },
   "outputs": [
    {
     "data": {
      "text/plain": [
       "<matplotlib.axes._subplots.AxesSubplot at 0x210b5b485f8>"
      ]
     },
     "execution_count": 43,
     "metadata": {},
     "output_type": "execute_result"
    },
    {
     "data": {
      "image/png": "[encoded data removed]",
      "text/plain": [
       "<matplotlib.figure.Figure at 0x210b5b351d0>"
      ]
     },
     "metadata": {},
     "output_type": "display_data"
    }
   ],
   "source": [
    "kf.yhat[0].plot()"
   ]
  },
  {
   "cell_type": "code",
   "execution_count": 44,
   "metadata": {
    "collapsed": false
   },
   "outputs": [
    {
     "data": {
      "text/plain": [
       "<matplotlib.axes._subplots.AxesSubplot at 0x210b6363eb8>"
      ]
     },
     "execution_count": 44,
     "metadata": {},
     "output_type": "execute_result"
    },
    {
     "data": {
      "image/png": "[encoded data removed]",
      "text/plain": [
       "<matplotlib.figure.Figure at 0x210b63616d8>"
      ]
     },
     "metadata": {},
     "output_type": "display_data"
    }
   ],
   "source": [
    "kf.y[0].plot()"
   ]
  },
  {
   "cell_type": "markdown",
   "metadata": {},
   "source": [
    "### For different NaN probabilities "
   ]
  },
  {
   "cell_type": "code",
   "execution_count": 45,
   "metadata": {
    "collapsed": true
   },
   "outputs": [],
   "source": [
    "nny = y\n",
    "probNan= 0.0\n",
    "for i in nny.index:\n",
    "    ran = np.random.uniform(size=nny.iloc[i].shape)\n",
    "    nny.iloc[i][ran<probNan] = np.nan"
   ]
  },
  {
   "cell_type": "code",
   "execution_count": 46,
   "metadata": {
    "collapsed": false
   },
   "outputs": [
    {
     "name": "stdout",
     "output_type": "stream",
     "text": [
      "1 loop, best of 3: 123 ms per loop\n"
     ]
    }
   ],
   "source": [
    "%%timeit -n 1\n",
    "\n",
    "kf = KalmanFilter(nny,\n",
    "                  Z,\n",
    "                  H,\n",
    "                  T,\n",
    "                  Q,\n",
    "                  pd.DataFrame(np.array([0,0]).reshape(m,1)),\n",
    "                  pd.DataFrame(np.diag(np.array([1,1]))),\n",
    "                  R,\n",
    "                 nStates=2)\n",
    "\n",
    "kf.runFilter()"
   ]
  },
  {
   "cell_type": "code",
   "execution_count": 47,
   "metadata": {
    "collapsed": false
   },
   "outputs": [],
   "source": [
    "nny = y\n",
    "probNan= 0.10\n",
    "for i in nny.index:\n",
    "    ran = np.random.uniform(size=nny.iloc[i].shape)\n",
    "    nny.iloc[i][ran<probNan] = np.nan"
   ]
  },
  {
   "cell_type": "code",
   "execution_count": 48,
   "metadata": {
    "collapsed": false
   },
   "outputs": [
    {
     "name": "stdout",
     "output_type": "stream",
     "text": [
      "1 loop, best of 3: 112 ms per loop\n"
     ]
    }
   ],
   "source": [
    "%%timeit -n 1\n",
    "\n",
    "kf = KalmanFilter(nny,\n",
    "                  Z,\n",
    "                  H,\n",
    "                  T,\n",
    "                  Q,\n",
    "                  pd.DataFrame(np.array([0,0]).reshape(m,1)),\n",
    "                  pd.DataFrame(np.diag(np.array([1,1]))),\n",
    "                  R,\n",
    "                 nStates=2)\n",
    "\n",
    "kf.runFilter()"
   ]
  },
  {
   "cell_type": "code",
   "execution_count": 49,
   "metadata": {
    "collapsed": true
   },
   "outputs": [],
   "source": [
    "nny = y\n",
    "probNan= 0.30\n",
    "for i in nny.index:\n",
    "    ran = np.random.uniform(size=nny.iloc[i].shape)\n",
    "    nny.iloc[i][ran<probNan] = np.nan"
   ]
  },
  {
   "cell_type": "code",
   "execution_count": 50,
   "metadata": {
    "collapsed": false
   },
   "outputs": [
    {
     "name": "stdout",
     "output_type": "stream",
     "text": [
      "10 loops, best of 3: 96 ms per loop\n"
     ]
    }
   ],
   "source": [
    "%%timeit\n",
    "\n",
    "kf = KalmanFilter(nny,\n",
    "                  Z,\n",
    "                  H,\n",
    "                  T,\n",
    "                  Q,\n",
    "                  pd.DataFrame(np.array([0,0]).reshape(m,1)),\n",
    "                  pd.DataFrame(np.diag(np.array([1,1]))),\n",
    "                  R,\n",
    "                 nStates=2)\n",
    "\n",
    "kf.runFilter()"
   ]
  },
  {
   "cell_type": "code",
   "execution_count": 51,
   "metadata": {
    "collapsed": true
   },
   "outputs": [],
   "source": [
    "nny = y\n",
    "probNan= 0.50\n",
    "for i in nny.index:\n",
    "    ran = np.random.uniform(size=nny.iloc[i].shape)\n",
    "    nny.iloc[i][ran<probNan] = np.nan"
   ]
  },
  {
   "cell_type": "code",
   "execution_count": 52,
   "metadata": {
    "collapsed": false
   },
   "outputs": [
    {
     "name": "stdout",
     "output_type": "stream",
     "text": [
      "10 loops, best of 3: 84.6 ms per loop\n"
     ]
    }
   ],
   "source": [
    "%%timeit\n",
    "\n",
    "kf = KalmanFilter(nny,\n",
    "                  Z,\n",
    "                  H,\n",
    "                  T,\n",
    "                  Q,\n",
    "                  pd.DataFrame(np.array([0,0]).reshape(m,1)),\n",
    "                  pd.DataFrame(np.diag(np.array([1,1]))),\n",
    "                  R,\n",
    "                 nStates=2)\n",
    "\n",
    "kf.runFilter()"
   ]
  },
  {
   "cell_type": "code",
   "execution_count": 53,
   "metadata": {
    "collapsed": true
   },
   "outputs": [],
   "source": [
    "nny = y\n",
    "probNan= 0.80\n",
    "for i in nny.index:\n",
    "    ran = np.random.uniform(size=nny.iloc[i].shape)\n",
    "    nny.iloc[i][ran<probNan] = np.nan"
   ]
  },
  {
   "cell_type": "code",
   "execution_count": 54,
   "metadata": {
    "collapsed": false
   },
   "outputs": [
    {
     "name": "stdout",
     "output_type": "stream",
     "text": [
      "10 loops, best of 3: 64.5 ms per loop\n"
     ]
    }
   ],
   "source": [
    "%%timeit\n",
    "\n",
    "kf = KalmanFilter(nny,\n",
    "                  Z,\n",
    "                  H,\n",
    "                  T,\n",
    "                  Q,\n",
    "                  pd.DataFrame(np.array([0,0]).reshape(m,1)),\n",
    "                  pd.DataFrame(np.diag(np.array([1,1]))),\n",
    "                  R,\n",
    "                 nStates=2)\n",
    "\n",
    "kf.runFilter()"
   ]
  },
  {
   "cell_type": "markdown",
   "metadata": {},
   "source": [
    "# Testing the univariate Kalman Filter"
   ]
  },
  {
   "cell_type": "code",
   "execution_count": 55,
   "metadata": {
    "collapsed": true
   },
   "outputs": [],
   "source": [
    "n = 1000 #sample size\n",
    "mut = [np.array([1,10]).reshape(m,1)]\n",
    "yt = [np.array([0,0,0,0]).reshape(p,1)]\n",
    "\n",
    "for i in range(0,1000):\n",
    "    \n",
    "    temp = np.multiply(np.random.randn(m,1),np.diag(Q).reshape((m,1)))\n",
    "    temp = R.dot(temp)\n",
    "    temp = temp + mut[i]\n",
    "    mut.append(temp)  \n",
    "    \n",
    "    temp = np.multiply(np.random.randn(p,1),np.diag(H).reshape((p,1)))\n",
    "    yt.append(temp+Z.dot(mut[i+1]))\n",
    "\n",
    "    \n",
    "yt[0] = pd.DataFrame(yt[0])   \n",
    "y = pd.concat(yt,axis=1).T.reset_index(drop=True)\n",
    "mut[0] = pd.DataFrame(mut[0])\n",
    "mut = pd.concat(mut,axis=1).T.reset_index(drop=True)"
   ]
  },
  {
   "cell_type": "code",
   "execution_count": 56,
   "metadata": {
    "collapsed": false
   },
   "outputs": [],
   "source": [
    "# %%timeit\n",
    "kf = KalmanFilter(y,\n",
    "                  Z,\n",
    "                  H,\n",
    "                  T,\n",
    "                  Q,\n",
    "                  pd.DataFrame(np.array([0,0]).reshape(m,1)),\n",
    "                  pd.DataFrame(np.diag(np.array([1,1]))),\n",
    "                  R,\n",
    "                 nStates=2)\n",
    "\n",
    "kf.runFilter()"
   ]
  },
  {
   "cell_type": "code",
   "execution_count": 57,
   "metadata": {
    "collapsed": false
   },
   "outputs": [
    {
     "data": {
      "text/plain": [
       "<matplotlib.axes._subplots.AxesSubplot at 0x210b772a8d0>"
      ]
     },
     "execution_count": 57,
     "metadata": {},
     "output_type": "execute_result"
    },
    {
     "data": {
      "image/png": "[encoded data removed]",
      "text/plain": [
       "<matplotlib.figure.Figure at 0x210b76e8ac8>"
      ]
     },
     "metadata": {},
     "output_type": "display_data"
    }
   ],
   "source": [
    "kf.a.plot()"
   ]
  },
  {
   "cell_type": "code",
   "execution_count": 58,
   "metadata": {
    "collapsed": true
   },
   "outputs": [],
   "source": [
    "from KalmanFilter_Uni import KalmanFilter as KFU"
   ]
  },
  {
   "cell_type": "code",
   "execution_count": 59,
   "metadata": {
    "collapsed": false
   },
   "outputs": [],
   "source": [
    "# %%timeit\n",
    "kf2 = KFU(y,\n",
    "                  Z,\n",
    "                  H,\n",
    "                  T,\n",
    "                  Q,\n",
    "                  pd.DataFrame(np.array([0,0]).reshape(m,1)),\n",
    "                  pd.DataFrame(np.diag(np.array([1,1]))),\n",
    "                  R,\n",
    "                 nStates=2)\n",
    "\n",
    "kf2.runFilter()"
   ]
  },
  {
   "cell_type": "code",
   "execution_count": 60,
   "metadata": {
    "collapsed": false
   },
   "outputs": [
    {
     "data": {
      "text/plain": [
       "<matplotlib.axes._subplots.AxesSubplot at 0x210b76e89e8>"
      ]
     },
     "execution_count": 60,
     "metadata": {},
     "output_type": "execute_result"
    },
    {
     "data": {
      "image/png": "[encoded data removed]",
      "text/plain": [
       "<matplotlib.figure.Figure at 0x210b63d4898>"
      ]
     },
     "metadata": {},
     "output_type": "display_data"
    }
   ],
   "source": [
    "pd.concat([kf2.y[0],kf2.yhat[0],],axis=1).plot()"
   ]
  },
  {
   "cell_type": "markdown",
   "metadata": {},
   "source": [
    "## Testing for nans"
   ]
  },
  {
   "cell_type": "code",
   "execution_count": 61,
   "metadata": {
    "collapsed": true
   },
   "outputs": [],
   "source": [
    "nny = y\n",
    "probNan= 0.30\n",
    "for i in nny.index:\n",
    "    ran = np.random.uniform(size=nny.iloc[i].shape)\n",
    "    nny.iloc[i][ran<probNan] = np.nan"
   ]
  },
  {
   "cell_type": "code",
   "execution_count": 62,
   "metadata": {
    "collapsed": false
   },
   "outputs": [
    {
     "data": {
      "text/plain": [
       "True"
      ]
     },
     "execution_count": 62,
     "metadata": {},
     "output_type": "execute_result"
    }
   ],
   "source": [
    "# Check if there's any line full of nulls\n",
    "nny.isnull().all(axis=1).any()"
   ]
  },
  {
   "cell_type": "code",
   "execution_count": 63,
   "metadata": {
    "collapsed": false
   },
   "outputs": [
    {
     "data": {
      "text/plain": [
       "<matplotlib.axes._subplots.AxesSubplot at 0x210b7988cc0>"
      ]
     },
     "execution_count": 63,
     "metadata": {},
     "output_type": "execute_result"
    },
    {
     "data": {
      "image/png": "[encoded data removed]",
      "text/plain": [
       "<matplotlib.figure.Figure at 0x210b772a198>"
      ]
     },
     "metadata": {},
     "output_type": "display_data"
    }
   ],
   "source": [
    "# %%timeit\n",
    "kf = KalmanFilter(nny,\n",
    "                  Z,\n",
    "                  H,\n",
    "                  T,\n",
    "                  Q,\n",
    "                  pd.DataFrame(np.array([0,0]).reshape(m,1)),\n",
    "                  pd.DataFrame(np.diag(np.array([1,1]))),\n",
    "                  R,\n",
    "                 nStates=2)\n",
    "\n",
    "kf.runFilter()\n",
    "kf.a.plot()"
   ]
  },
  {
   "cell_type": "code",
   "execution_count": 64,
   "metadata": {
    "collapsed": false
   },
   "outputs": [
    {
     "data": {
      "text/plain": [
       "<matplotlib.axes._subplots.AxesSubplot at 0x210b7718e10>"
      ]
     },
     "execution_count": 64,
     "metadata": {},
     "output_type": "execute_result"
    },
    {
     "data": {
      "image/png": "[encoded data removed]",
      "text/plain": [
       "<matplotlib.figure.Figure at 0x210b79ba898>"
      ]
     },
     "metadata": {},
     "output_type": "display_data"
    }
   ],
   "source": [
    "# %%timeit\n",
    "kf2 = KFU(nny,\n",
    "              Z,\n",
    "              H,\n",
    "              T,\n",
    "              Q,\n",
    "              pd.DataFrame(np.array([0,0]).reshape(m,1)),\n",
    "              pd.DataFrame(np.diag(np.array([1,1]))),\n",
    "              R,\n",
    "             nStates=2)\n",
    "\n",
    "kf2.runFilter()\n",
    "kf2.states.plot()"
   ]
  },
  {
   "cell_type": "code",
   "execution_count": 65,
   "metadata": {
    "collapsed": false
   },
   "outputs": [
    {
     "data": {
      "text/plain": [
       "<matplotlib.axes._subplots.AxesSubplot at 0x210b79b20f0>"
      ]
     },
     "execution_count": 65,
     "metadata": {},
     "output_type": "execute_result"
    },
    {
     "data": {
      "image/png": "[encoded data removed]",
      "text/plain": [
       "<matplotlib.figure.Figure at 0x210b64399e8>"
      ]
     },
     "metadata": {},
     "output_type": "display_data"
    }
   ],
   "source": [
    "pd.concat([kf2.y[0],kf2.yhat[0],],axis=1).plot()"
   ]
  },
  {
   "cell_type": "code",
   "execution_count": 66,
   "metadata": {
    "collapsed": false
   },
   "outputs": [
    {
     "data": {
      "text/plain": [
       "<matplotlib.axes._subplots.AxesSubplot at 0x210b7a04908>"
      ]
     },
     "execution_count": 66,
     "metadata": {},
     "output_type": "execute_result"
    },
    {
     "data": {
      "image/png": "[encoded data removed]",
      "text/plain": [
       "<matplotlib.figure.Figure at 0x210b8a460b8>"
      ]
     },
     "metadata": {},
     "output_type": "display_data"
    }
   ],
   "source": [
    "pd.concat([kf.a[0],kf2.states[0],],axis=1).plot()"
   ]
  },
  {
   "cell_type": "code",
   "execution_count": 67,
   "metadata": {
    "collapsed": false
   },
   "outputs": [
    {
     "data": {
      "text/plain": [
       "count    1001.000000\n",
       "mean       -0.003685\n",
       "std         0.735079\n",
       "min        -2.244220\n",
       "25%        -0.463015\n",
       "50%        -0.007517\n",
       "75%         0.420476\n",
       "max         2.610309\n",
       "Name: 0, dtype: float64"
      ]
     },
     "execution_count": 67,
     "metadata": {},
     "output_type": "execute_result"
    }
   ],
   "source": [
    "(kf.a[0] - kf2.states[0]).describe()"
   ]
  },
  {
   "cell_type": "code",
   "execution_count": 68,
   "metadata": {
    "collapsed": true
   },
   "outputs": [],
   "source": [
    "from KFUC import KFUC"
   ]
  },
  {
   "cell_type": "code",
   "execution_count": 69,
   "metadata": {
    "collapsed": false
   },
   "outputs": [],
   "source": [
    "kf3 = KFUC(y=np.array(nny),\n",
    "              Z=np.array(Z),\n",
    "              H=np.array(H),\n",
    "              T=np.array(T),\n",
    "              Q=np.array(Q),\n",
    "              a1=np.array(pd.DataFrame(np.array([0.0,0.0]).reshape(m,1))),\n",
    "              P1=np.diag(np.array([1.0,1.0])),\n",
    "              R=np.array(R),\n",
    "             nStates=2)"
   ]
  },
  {
   "cell_type": "code",
   "execution_count": 70,
   "metadata": {
    "collapsed": false
   },
   "outputs": [
    {
     "data": {
      "text/plain": [
       "<matplotlib.axes._subplots.AxesSubplot at 0x210b6439b38>"
      ]
     },
     "execution_count": 70,
     "metadata": {},
     "output_type": "execute_result"
    },
    {
     "data": {
      "image/png": "[encoded data removed]",
      "text/plain": [
       "<matplotlib.figure.Figure at 0x210b8aaacf8>"
      ]
     },
     "metadata": {},
     "output_type": "display_data"
    }
   ],
   "source": [
    "pd.concat([pd.DataFrame(kf3['y'])[0]\n",
    "           ,pd.DataFrame(kf3['yhat'])[0]\n",
    "          ],axis=1).plot()"
   ]
  },
  {
   "cell_type": "code",
   "execution_count": null,
   "metadata": {
    "collapsed": true
   },
   "outputs": [],
   "source": []
  },
  {
   "cell_type": "markdown",
   "metadata": {},
   "source": [
    "# Final Optimization test \n",
    "\n",
    "## Missing Data"
   ]
  },
  {
   "cell_type": "code",
   "execution_count": 71,
   "metadata": {
    "collapsed": false
   },
   "outputs": [
    {
     "name": "stdout",
     "output_type": "stream",
     "text": [
      "10 loops, best of 3: 118 ms per loop\n"
     ]
    }
   ],
   "source": [
    "%%timeit\n",
    "kf = KalmanFilter(nny,\n",
    "                  Z,\n",
    "                  H,\n",
    "                  T,\n",
    "                  Q,\n",
    "                  pd.DataFrame(np.array([0,0]).reshape(m,1)),\n",
    "                  pd.DataFrame(np.diag(np.array([1,1]))),\n",
    "                  R,\n",
    "                 nStates=2)\n",
    "\n",
    "kf.runFilter()"
   ]
  },
  {
   "cell_type": "code",
   "execution_count": 72,
   "metadata": {
    "collapsed": false
   },
   "outputs": [
    {
     "name": "stdout",
     "output_type": "stream",
     "text": [
      "10 loops, best of 3: 104 ms per loop\n"
     ]
    }
   ],
   "source": [
    "%%timeit\n",
    "kf2 = KFU(nny,\n",
    "              Z,\n",
    "              H,\n",
    "              T,\n",
    "              Q,\n",
    "              pd.DataFrame(np.array([0,0]).reshape(m,1)),\n",
    "              pd.DataFrame(np.diag(np.array([1,1]))),\n",
    "              R,\n",
    "             nStates=2,export=False)\n",
    "\n",
    "kf2.runFilter()"
   ]
  },
  {
   "cell_type": "code",
   "execution_count": 73,
   "metadata": {
    "collapsed": true
   },
   "outputs": [],
   "source": [
    "from KalmanFilter_UniCy import KalmanFilter as KFUC1"
   ]
  },
  {
   "cell_type": "code",
   "execution_count": 74,
   "metadata": {
    "collapsed": false
   },
   "outputs": [
    {
     "name": "stdout",
     "output_type": "stream",
     "text": [
      "10 loops, best of 3: 93 ms per loop\n"
     ]
    }
   ],
   "source": [
    "%%timeit\n",
    "kf2 = KFUC1(nny,\n",
    "              Z,\n",
    "              H,\n",
    "              T,\n",
    "              Q,\n",
    "              pd.DataFrame(np.array([0,0]).reshape(m,1)),\n",
    "              pd.DataFrame(np.diag(np.array([1,1]))),\n",
    "              R,\n",
    "             nStates=2,export=False)\n",
    "\n",
    "kf2.runFilter()"
   ]
  },
  {
   "cell_type": "code",
   "execution_count": 75,
   "metadata": {
    "collapsed": false
   },
   "outputs": [
    {
     "name": "stdout",
     "output_type": "stream",
     "text": [
      "10 loops, best of 3: 84.9 ms per loop\n"
     ]
    }
   ],
   "source": [
    "%%timeit\n",
    "kf2 = KFUC(y=np.array(nny),\n",
    "              Z=np.array(Z),\n",
    "              H=np.array(H),\n",
    "              T=np.array(T),\n",
    "              Q=np.array(Q),\n",
    "              a1=np.array(pd.DataFrame(np.array([0.0,0.0]).reshape(m,1))),\n",
    "              P1=np.diag(np.array([1.0,1.0])),\n",
    "              R=np.array(R),\n",
    "             nStates=2)\n",
    "\n"
   ]
  },
  {
   "cell_type": "markdown",
   "metadata": {},
   "source": [
    "## Non missing data"
   ]
  },
  {
   "cell_type": "code",
   "execution_count": 76,
   "metadata": {
    "collapsed": false
   },
   "outputs": [
    {
     "name": "stdout",
     "output_type": "stream",
     "text": [
      "10 loops, best of 3: 114 ms per loop\n"
     ]
    }
   ],
   "source": [
    "%%timeit\n",
    "kf = KalmanFilter(y,\n",
    "                  Z,\n",
    "                  H,\n",
    "                  T,\n",
    "                  Q,\n",
    "                  pd.DataFrame(np.array([0,0]).reshape(m,1)),\n",
    "                  pd.DataFrame(np.diag(np.array([1,1]))),\n",
    "                  R,\n",
    "                 nStates=2)\n",
    "\n",
    "kf.runFilter()"
   ]
  },
  {
   "cell_type": "code",
   "execution_count": 77,
   "metadata": {
    "collapsed": false
   },
   "outputs": [
    {
     "name": "stdout",
     "output_type": "stream",
     "text": [
      "10 loops, best of 3: 107 ms per loop\n"
     ]
    }
   ],
   "source": [
    "%%timeit\n",
    "kf2 = KFU(y,\n",
    "              Z,\n",
    "              H,\n",
    "              T,\n",
    "              Q,\n",
    "              pd.DataFrame(np.array([0,0]).reshape(m,1)),\n",
    "              pd.DataFrame(np.diag(np.array([1,1]))),\n",
    "              R,\n",
    "             nStates=2,export=False)\n",
    "\n",
    "kf2.runFilter()"
   ]
  },
  {
   "cell_type": "code",
   "execution_count": 78,
   "metadata": {
    "collapsed": false
   },
   "outputs": [
    {
     "name": "stdout",
     "output_type": "stream",
     "text": [
      "10 loops, best of 3: 91.9 ms per loop\n"
     ]
    }
   ],
   "source": [
    "%%timeit\n",
    "kf3 = KFUC1(y,\n",
    "              Z,\n",
    "              H,\n",
    "              T,\n",
    "              Q,\n",
    "              pd.DataFrame(np.array([0,0]).reshape(m,1)),\n",
    "              pd.DataFrame(np.diag(np.array([1,1]))),\n",
    "              R,\n",
    "             nStates=2,export=False)\n",
    "\n",
    "kf3.runFilter()"
   ]
  },
  {
   "cell_type": "code",
   "execution_count": 79,
   "metadata": {
    "collapsed": false
   },
   "outputs": [
    {
     "name": "stdout",
     "output_type": "stream",
     "text": [
      "10 loops, best of 3: 82.1 ms per loop\n"
     ]
    }
   ],
   "source": [
    "%%timeit\n",
    "kf2 = KFUC(y=np.array(y),\n",
    "              Z=np.array(Z),\n",
    "              H=np.array(H),\n",
    "              T=np.array(T),\n",
    "              Q=np.array(Q),\n",
    "              a1=np.array(pd.DataFrame(np.array([0.0,0.0]).reshape(m,1))),\n",
    "              P1=np.diag(np.array([1.0,1.0])),\n",
    "              R=np.array(R),\n",
    "             nStates=2)\n",
    "\n"
   ]
  },
  {
   "cell_type": "code",
   "execution_count": 82,
   "metadata": {
    "collapsed": true
   },
   "outputs": [],
   "source": [
    "kf2 = KFUC(y=np.array(y),\n",
    "              Z=np.array(Z),\n",
    "              H=np.array(H),\n",
    "              T=np.array(T),\n",
    "              Q=np.array(Q),\n",
    "              a1=np.array(pd.DataFrame(np.array([0.0,0.0]).reshape(m,1))),\n",
    "              P1=np.diag(np.array([1.0,1.0])),\n",
    "              R=np.array(R),\n",
    "             nStates=2)"
   ]
  },
  {
   "cell_type": "code",
   "execution_count": null,
   "metadata": {
    "collapsed": true
   },
   "outputs": [],
   "source": []
  }
 ],
 "metadata": {
  "anaconda-cloud": {},
  "kernelspec": {
   "display_name": "Python [Root]",
   "language": "python",
   "name": "Python [Root]"
  },
  "language_info": {
   "codemirror_mode": {
    "name": "ipython",
    "version": 3
   },
   "file_extension": ".py",
   "mimetype": "text/x-python",
   "name": "python",
   "nbconvert_exporter": "python",
   "pygments_lexer": "ipython3",
   "version": "3.5.2"
  }
 },
 "nbformat": 4,
 "nbformat_minor": 0
}
