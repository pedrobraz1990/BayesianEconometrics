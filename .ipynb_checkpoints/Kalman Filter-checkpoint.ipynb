{
 "cells": [
  {
   "cell_type": "code",
   "execution_count": 125,
   "metadata": {
    "collapsed": false
   },
   "outputs": [
    {
     "name": "stdout",
     "output_type": "stream",
     "text": [
      "The Cython extension is already loaded. To reload it, use:\n",
      "  %reload_ext Cython\n"
     ]
    }
   ],
   "source": [
    "%matplotlib inline\n",
    "import numpy as np\n",
    "from numpy.linalg import inv\n",
    "import pandas as pd\n",
    "import datetime as dt\n",
    "import cython\n",
    "%load_ext Cython\n",
    "\n"
   ]
  },
  {
   "cell_type": "markdown",
   "metadata": {},
   "source": [
    "# Kalman filter\n",
    "\n",
    "Based on Durbin Koopman\n",
    "\n",
    "\n",
    "For generic state-space systems like (Hamilton's notation):\n",
    "\n",
    "\n",
    "\n",
    "$$\\underset{(p \\times 1)}{y_t} = \\underset{(p \\times m)}{Z_t} \\underset{(m \\times 1)}{\\alpha_t} + \\underset{(p \\times 1)}{\\epsilon_t}, \\qquad \\epsilon_t \\sim N(0,\\underset{(p \\times P)}{H_t}) $$\n",
    "\n",
    "$$\\underset{(m \\times 1)}{\\alpha_{t+1}} = \\underset{(m \\times m)}{T_t} \n",
    "\\underset{(m \\times 1)}{\\alpha_{t}} + \\underset{(m \\times r)}{R_t} \\underset{(r \\times r)}{\\eta_t}, \\qquad \\eta_t \\sim N(0,\\underset{(r \\times \\ r)}{Q_t})$$\n",
    "\n",
    "\n",
    "$$\\alpha_1 \\sim N(a_1,\\underset{(m \\times m)}{P_1})$$\n",
    "\n",
    "\n"
   ]
  },
  {
   "cell_type": "markdown",
   "metadata": {},
   "source": [
    "Where\n",
    "\n",
    "* $p$ is the number of observed variables\n",
    "* $m$ is the number of latent states\n",
    "* $r$ is the number of disturbances (?)"
   ]
  },
  {
   "cell_type": "code",
   "execution_count": 126,
   "metadata": {
    "collapsed": false
   },
   "outputs": [],
   "source": [
    "class KalmanFilter():\n",
    "    #     \"\"\"\n",
    "    #         Based on Durbin Koopman\n",
    "\n",
    "\n",
    "    #         For generic state-space systems like (Hamilton's notation):\n",
    "\n",
    "\n",
    "\n",
    "    #         $$\\underset{(p \\times 1)}{y_t} = \\underset{(p \\times m)}{Z_t} \\underset{(m \\times 1)}{\\alpha_t} + \\underset{(p \\times 1)}{\\epsilon_t}, \\qquad \\epsilon_t \\sim N(0,\\underset{(p \\times P)}{H_t}) $$\n",
    "\n",
    "    #         $$\\underset{(m \\times 1)}{\\alpha_{t+1}} = \\underset{(m \\times m)}{T_t}\n",
    "    #         \\underset{(m \\times 1)}{\\alpha_{t}} + \\underset{(m \\times r)}{R_t} \\underset{(r \\times r)}{\\eta_t}, \\qquad \\eta_t \\sim N(0,\\underset{(r \\times \\ r)}{Q_t})$$\n",
    "\n",
    "\n",
    "    #         $$\\alpha_1 \\sim N(a_1,\\underset{(m \\times m)}{P_1})$$\n",
    "\n",
    "    #         Where\n",
    "\n",
    "    #         * $p$ is the number of observed variables\n",
    "    #         * $m$ is the number of latent states\n",
    "    #         * $r$ is the number of disturbances\n",
    "\n",
    "    #     \"\"\"\n",
    "\n",
    "    def __init__(self, y, Z, H, T, Q, a1, P1, R):\n",
    "        self.yindex = y.index\n",
    "        self.ycols = y.columns\n",
    "        self.p = y.shape[1]\n",
    "        self.n = y.shape[0]\n",
    "        self.y = np.array(y)\n",
    "        self.yhat = []\n",
    "        self.Z = np.array(Z)\n",
    "        self.H = np.array(H)\n",
    "        self.T = np.array(T)\n",
    "        self.Q = np.array(Q)\n",
    "        self.a = [np.array(a1)]\n",
    "        self.P = [np.array(P1)]\n",
    "        self.vt = []\n",
    "        self.Ft = []\n",
    "        self.Kt = []\n",
    "        self.ZT = Z.T  # To avoid transposing it several times\n",
    "        self.R = np.array(R)\n",
    "\n",
    "    def runFilter(self, ):\n",
    "        # Implemented with non time varying coefficients\n",
    "\n",
    "        for i in range(0, self.n - 1):\n",
    "            #         for i in range(0,1):\n",
    "            #             print(self.y[i].shape)\n",
    "            #             print(self.Z.shape)\n",
    "            #             print(self.a[i].shape)\n",
    "\n",
    "            self.vt.append(self.y[i].reshape((self.p, 1)) - np.dot(self.Z, self.a[i]))\n",
    "\n",
    "            self.Ft.append(self.Z.dot(self.P[i]).dot(self.ZT) + self.H)\n",
    "\n",
    "            Finv = inv(self.Ft[i])\n",
    "\n",
    "            #             print(self.P[i].shape)\n",
    "            #             print(self.ZT.shape)\n",
    "            #             print(Finv.shape)\n",
    "            #             print(self.vt[i].shape)\n",
    "            self.a[i] = self.a[i] + self.P[i].dot(self.ZT).dot(Finv).dot(self.vt[i])\n",
    "\n",
    "            self.P[i] = self.P[i] - self.P[i].dot(self.ZT).dot(Finv).dot(self.Z).dot(self.P[i])\n",
    "\n",
    "            self.a.append(self.T.dot(self.a[i]))\n",
    "\n",
    "            self.P.append(self.T.dot(self.P[i]).dot(self.T.T) + self.R.dot(self.Q).dot(self.R.T))\n",
    "\n",
    "            self.yhat.append(self.Z.dot(self.a[i]))\n",
    "\n",
    "        self.a = pd.DataFrame(np.concatenate(self.a, axis=1)).T\n",
    "        self.yhat = pd.DataFrame(np.concatenate(self.yhat, axis=1)).T"
   ]
  },
  {
   "cell_type": "markdown",
   "metadata": {
    "collapsed": true
   },
   "source": [
    "# Pandas or numpy dot product ?"
   ]
  },
  {
   "cell_type": "code",
   "execution_count": 127,
   "metadata": {
    "collapsed": true
   },
   "outputs": [],
   "source": [
    "df = {\n",
    "    dt.datetime(2017,1,1) : np.random.randn(4),\n",
    "    dt.datetime(2017,1,2) : np.random.randn(4),\n",
    "    dt.datetime(2017,1,3) : np.random.randn(4),\n",
    "    dt.datetime(2017,1,4) : np.random.randn(4),\n",
    "}"
   ]
  },
  {
   "cell_type": "code",
   "execution_count": 128,
   "metadata": {
    "collapsed": false
   },
   "outputs": [
    {
     "data": {
      "text/html": [
       "<div>\n",
       "<table border=\"1\" class=\"dataframe\">\n",
       "  <thead>\n",
       "    <tr style=\"text-align: right;\">\n",
       "      <th></th>\n",
       "      <th>0</th>\n",
       "      <th>1</th>\n",
       "      <th>2</th>\n",
       "      <th>3</th>\n",
       "    </tr>\n",
       "  </thead>\n",
       "  <tbody>\n",
       "    <tr>\n",
       "      <th>2017-01-01</th>\n",
       "      <td>-0.270354</td>\n",
       "      <td>0.883141</td>\n",
       "      <td>1.393889</td>\n",
       "      <td>0.031856</td>\n",
       "    </tr>\n",
       "    <tr>\n",
       "      <th>2017-01-02</th>\n",
       "      <td>0.580830</td>\n",
       "      <td>0.097669</td>\n",
       "      <td>0.756971</td>\n",
       "      <td>-0.768617</td>\n",
       "    </tr>\n",
       "    <tr>\n",
       "      <th>2017-01-03</th>\n",
       "      <td>0.152225</td>\n",
       "      <td>1.223626</td>\n",
       "      <td>-0.976063</td>\n",
       "      <td>0.216430</td>\n",
       "    </tr>\n",
       "    <tr>\n",
       "      <th>2017-01-04</th>\n",
       "      <td>-1.319978</td>\n",
       "      <td>-0.148989</td>\n",
       "      <td>2.461276</td>\n",
       "      <td>-0.658893</td>\n",
       "    </tr>\n",
       "  </tbody>\n",
       "</table>\n",
       "</div>"
      ],
      "text/plain": [
       "                   0         1         2         3\n",
       "2017-01-01 -0.270354  0.883141  1.393889  0.031856\n",
       "2017-01-02  0.580830  0.097669  0.756971 -0.768617\n",
       "2017-01-03  0.152225  1.223626 -0.976063  0.216430\n",
       "2017-01-04 -1.319978 -0.148989  2.461276 -0.658893"
      ]
     },
     "execution_count": 128,
     "metadata": {},
     "output_type": "execute_result"
    }
   ],
   "source": [
    "df = pd.DataFrame(df).T\n",
    "df"
   ]
  },
  {
   "cell_type": "code",
   "execution_count": 129,
   "metadata": {
    "collapsed": false
   },
   "outputs": [
    {
     "data": {
      "text/plain": [
       "array([[-0.27035426,  0.8831407 ,  1.39388916,  0.03185564],\n",
       "       [ 0.58083041,  0.09766946,  0.75697127, -0.76861706],\n",
       "       [ 0.15222497,  1.22362591, -0.97606328,  0.21643031],\n",
       "       [-1.31997793, -0.14898927,  2.46127649, -0.65889339]])"
      ]
     },
     "execution_count": 129,
     "metadata": {},
     "output_type": "execute_result"
    }
   ],
   "source": [
    "dfnp = np.array(df)\n",
    "dfnp"
   ]
  },
  {
   "cell_type": "code",
   "execution_count": 130,
   "metadata": {
    "collapsed": false
   },
   "outputs": [
    {
     "name": "stdout",
     "output_type": "stream",
     "text": [
      "10000 loops, best of 3: 285 µs per loop\n"
     ]
    }
   ],
   "source": [
    "%%timeit -n 10000\n",
    "\n",
    "df.dot(df.T)\n"
   ]
  },
  {
   "cell_type": "code",
   "execution_count": 131,
   "metadata": {
    "collapsed": false
   },
   "outputs": [
    {
     "name": "stdout",
     "output_type": "stream",
     "text": [
      "10000 loops, best of 3: 1.74 µs per loop\n"
     ]
    }
   ],
   "source": [
    "%%timeit -n 10000\n",
    "\n",
    "np.dot(dfnp,dfnp.T)"
   ]
  },
  {
   "cell_type": "markdown",
   "metadata": {},
   "source": [
    "Numpy as WAY faster"
   ]
  },
  {
   "cell_type": "markdown",
   "metadata": {},
   "source": [
    "# Numpy or python append?\n",
    "\n",
    "Which one is faster to append new values and access the last one"
   ]
  },
  {
   "cell_type": "code",
   "execution_count": 132,
   "metadata": {
    "collapsed": true
   },
   "outputs": [],
   "source": [
    "lis = [1.756756,2.123123,3.24234]\n",
    "nplis = np.array(lis)"
   ]
  },
  {
   "cell_type": "code",
   "execution_count": 133,
   "metadata": {
    "collapsed": false
   },
   "outputs": [
    {
     "name": "stdout",
     "output_type": "stream",
     "text": [
      "10000 loops, best of 3: 134 ns per loop\n"
     ]
    }
   ],
   "source": [
    "%%timeit -n 10000\n",
    "\n",
    "lis.append(7.21342)\n",
    "\n",
    "lis[-1] + 3.46785"
   ]
  },
  {
   "cell_type": "code",
   "execution_count": 134,
   "metadata": {
    "collapsed": false
   },
   "outputs": [
    {
     "name": "stdout",
     "output_type": "stream",
     "text": [
      "10000 loops, best of 3: 5.42 µs per loop\n"
     ]
    }
   ],
   "source": [
    "%%timeit -n 10000\n",
    "np.append(nplis,7)\n",
    "nplis[-1] + 3.46785"
   ]
  },
  {
   "cell_type": "markdown",
   "metadata": {},
   "source": [
    "Python append is way faster"
   ]
  },
  {
   "cell_type": "markdown",
   "metadata": {},
   "source": [
    "# Dummy data for the KF with non time-varying parameters\n",
    "\n",
    "For convenience: \n",
    "\n",
    "$$\\underset{(p \\times 1)}{y_t} = \\underset{(p \\times m)}{Z_t} \\underset{(m \\times 1)}{\\alpha_t} + \\underset{(p \\times 1)}{\\epsilon_t}, \\qquad \\epsilon_t \\sim N(0,\\underset{(p \\times P)}{H_t}) $$\n",
    "\n",
    "$$\\underset{(m \\times 1)}{\\alpha_{t+1}} = \\underset{(m \\times m)}{T_t} \n",
    "\\underset{(m \\times 1)}{\\alpha_{t}} + \\underset{(m \\times r)}{R_t} \\underset{(r \\times r)}{\\eta_t}, \\qquad \\eta_t \\sim N(0,\\underset{(r \\times \\ r)}{Q_t})$$\n",
    "\n",
    "\n",
    "$$\\alpha_1 \\sim N(a_1,\\underset{(m \\times m)}{P_1})$$"
   ]
  },
  {
   "cell_type": "markdown",
   "metadata": {},
   "source": [
    "## Local Level model\n",
    "\n",
    "$$ y_t = \\mu_t + \\epsilon_t, \\qquad \\epsilon \\sim NID(0, \\sigma^2_ \\epsilon) $$\n",
    "$$ \\mu_{t+1} = \\mu_t + \\eta_t, \\qquad \\eta_t \\sim NID(0,\\sigma^2_ \\eta) $$"
   ]
  },
  {
   "cell_type": "code",
   "execution_count": 135,
   "metadata": {
    "collapsed": false
   },
   "outputs": [],
   "source": [
    "m = 2\n",
    "p = 4\n",
    "\n",
    "\n",
    "Z = [[0.3,0.7],[0.1,0],[0.5,0.5],[0,0.3]]\n",
    "\n",
    "\n",
    "Z = pd.DataFrame(Z)\n",
    "\n",
    "H = pd.DataFrame(np.diag([1,2,3,4]))\n",
    "\n",
    "\n",
    "T = pd.DataFrame(np.identity(2))\n",
    "R = pd.DataFrame(np.identity(2))\n",
    "\n",
    "Q = pd.DataFrame(np.diag([0.2,0.4]))"
   ]
  },
  {
   "cell_type": "code",
   "execution_count": 136,
   "metadata": {
    "collapsed": false
   },
   "outputs": [],
   "source": [
    "n = 1000 #sample size\n",
    "mut = [np.array([1,10]).reshape(m,1)]\n",
    "yt = [np.array([0,0,0,0]).reshape(p,1)]\n",
    "\n",
    "for i in range(0,1000):\n",
    "    \n",
    "    temp = np.multiply(np.random.randn(m,1),np.diag(Q).reshape((m,1)))\n",
    "    temp = R.dot(temp)\n",
    "    temp = temp + mut[i]\n",
    "    mut.append(temp)  \n",
    "    \n",
    "    temp = np.multiply(np.random.randn(p,1),np.diag(H).reshape((p,1)))\n",
    "    yt.append(temp+Z.dot(mut[i+1]))\n",
    "\n",
    "    \n",
    "yt[0] = pd.DataFrame(yt[0])   \n",
    "y = pd.concat(yt,axis=1).T.reset_index(drop=True)\n",
    "mut[0] = pd.DataFrame(mut[0])\n",
    "mut = pd.concat(mut,axis=1).T.reset_index(drop=True)"
   ]
  },
  {
   "cell_type": "code",
   "execution_count": 137,
   "metadata": {
    "collapsed": true
   },
   "outputs": [],
   "source": [
    "kf = KalmanFilter(y,\n",
    "                  Z,\n",
    "                  H,\n",
    "                  T,\n",
    "                  Q,\n",
    "                  pd.DataFrame(np.array([0,0]).reshape(m,1)),\n",
    "                  pd.DataFrame(np.diag(np.array([1,1]))),\n",
    "                  R)\n",
    "\n",
    "kf.runFilter()"
   ]
  },
  {
   "cell_type": "code",
   "execution_count": 138,
   "metadata": {
    "collapsed": false
   },
   "outputs": [
    {
     "data": {
      "text/plain": [
       "<matplotlib.axes._subplots.AxesSubplot at 0x1e735ab3c50>"
      ]
     },
     "execution_count": 138,
     "metadata": {},
     "output_type": "execute_result"
    },
    {
     "data": {
      "image/png": "[encoded data removed]",
      "text/plain": [
       "<matplotlib.figure.Figure at 0x1e735a83da0>"
      ]
     },
     "metadata": {},
     "output_type": "display_data"
    }
   ],
   "source": [
    "y[0].plot()"
   ]
  },
  {
   "cell_type": "code",
   "execution_count": 139,
   "metadata": {
    "collapsed": false
   },
   "outputs": [
    {
     "data": {
      "text/plain": [
       "<matplotlib.axes._subplots.AxesSubplot at 0x1e734373a90>"
      ]
     },
     "execution_count": 139,
     "metadata": {},
     "output_type": "execute_result"
    },
    {
     "data": {
      "image/png": "[encoded data removed]",
      "text/plain": [
       "<matplotlib.figure.Figure at 0x1e7370a3ac8>"
      ]
     },
     "metadata": {},
     "output_type": "display_data"
    }
   ],
   "source": [
    "kf.yhat[0].plot()"
   ]
  },
  {
   "cell_type": "markdown",
   "metadata": {},
   "source": [
    "## Timing the filter with and without Cython"
   ]
  },
  {
   "cell_type": "code",
   "execution_count": 140,
   "metadata": {
    "collapsed": false
   },
   "outputs": [],
   "source": [
    "# %%timeit -n 50\n",
    "# kf = KalmanFilter(y,\n",
    "#                   Z,\n",
    "#                   H,\n",
    "#                   T,\n",
    "#                   Q,\n",
    "#                   pd.DataFrame(np.array([0,0]).reshape(m,1)),\n",
    "#                   pd.DataFrame(np.diag(np.array([1,1]))),\n",
    "#                   R)\n",
    "\n",
    "# kf.runFilter()"
   ]
  },
  {
   "cell_type": "code",
   "execution_count": 141,
   "metadata": {
    "collapsed": false
   },
   "outputs": [],
   "source": [
    "# import pyximport; pyximport.install()\n",
    "# import KalmanFilter1"
   ]
  },
  {
   "cell_type": "code",
   "execution_count": 142,
   "metadata": {
    "collapsed": false
   },
   "outputs": [],
   "source": [
    "# %%timeit -n 50\n",
    "# # COMPILED WITH CYTHON\n",
    "\n",
    "# kf = KalmanFilter1.KalmanFilter(y,\n",
    "#                   Z,\n",
    "#                   H,\n",
    "#                   T,\n",
    "#                   Q,\n",
    "#                   pd.DataFrame(np.array([0,0]).reshape(m,1)),\n",
    "#                   pd.DataFrame(np.diag(np.array([1,1]))),\n",
    "#                   R)\n",
    "\n",
    "# kf.runFilter()"
   ]
  },
  {
   "cell_type": "markdown",
   "metadata": {},
   "source": [
    "# Implementation for nulls"
   ]
  },
  {
   "cell_type": "markdown",
   "metadata": {},
   "source": [
    "## Faster way to check for nulls Pandas or Numpy"
   ]
  },
  {
   "cell_type": "code",
   "execution_count": 143,
   "metadata": {
    "collapsed": false
   },
   "outputs": [],
   "source": [
    "ynp = np.array(y)"
   ]
  },
  {
   "cell_type": "code",
   "execution_count": 144,
   "metadata": {
    "collapsed": false
   },
   "outputs": [
    {
     "name": "stdout",
     "output_type": "stream",
     "text": [
      "1000 loops, best of 3: 244 µs per loop\n"
     ]
    }
   ],
   "source": [
    "%%timeit -n 1000\n",
    "y.isnull().any(axis=1)"
   ]
  },
  {
   "cell_type": "code",
   "execution_count": 145,
   "metadata": {
    "collapsed": false
   },
   "outputs": [
    {
     "name": "stdout",
     "output_type": "stream",
     "text": [
      "1000 loops, best of 3: 5.65 µs per loop\n"
     ]
    }
   ],
   "source": [
    "%%timeit -n 1000\n",
    "np.isnan(ynp).any(axis=1)"
   ]
  },
  {
   "cell_type": "code",
   "execution_count": 146,
   "metadata": {
    "collapsed": false
   },
   "outputs": [
    {
     "name": "stdout",
     "output_type": "stream",
     "text": [
      "1000 loops, best of 3: 249 µs per loop\n"
     ]
    }
   ],
   "source": [
    "%%timeit -n 1000\n",
    "y.isnull().all(axis=1)"
   ]
  },
  {
   "cell_type": "code",
   "execution_count": 147,
   "metadata": {
    "collapsed": false
   },
   "outputs": [
    {
     "name": "stdout",
     "output_type": "stream",
     "text": [
      "1000 loops, best of 3: 5.7 µs per loop\n"
     ]
    }
   ],
   "source": [
    "%%timeit -n 1000\n",
    "np.isnan(ynp).all(axis=1)"
   ]
  },
  {
   "cell_type": "markdown",
   "metadata": {},
   "source": [
    "## Timing Implemention for whole line of nulls"
   ]
  },
  {
   "cell_type": "code",
   "execution_count": 153,
   "metadata": {
    "collapsed": false
   },
   "outputs": [],
   "source": [
    "class KalmanFilter():\n",
    "#         \"\"\"\n",
    "#             Based on Durbin Koopman\n",
    "\n",
    "\n",
    "#             For generic state-space systems like (Hamilton's notation):\n",
    "\n",
    "\n",
    "\n",
    "#             $$\\underset{(p \\times 1)}{y_t} = \\underset{(p \\times m)}{Z_t} \\underset{(m \\times 1)}{\\alpha_t} + \\underset{(p \\times 1)}{\\epsilon_t}, \\qquad \\epsilon_t \\sim N(0,\\underset{(p \\times P)}{H_t}) $$\n",
    "\n",
    "#             $$\\underset{(m \\times 1)}{\\alpha_{t+1}} = \\underset{(m \\times m)}{T_t}\n",
    "#             \\underset{(m \\times 1)}{\\alpha_{t}} + \\underset{(m \\times r)}{R_t} \\underset{(r \\times r)}{\\eta_t}, \\qquad \\eta_t \\sim N(0,\\underset{(r \\times \\ r)}{Q_t})$$\n",
    "\n",
    "\n",
    "#             $$\\alpha_1 \\sim N(a_1,\\underset{(m \\times m)}{P_1})$$\n",
    "\n",
    "#             Where\n",
    "\n",
    "#             * $p$ is the number of observed variables\n",
    "#             * $m$ is the number of latent states\n",
    "#             * $r$ is the number of disturbances\n",
    "\n",
    "#         \"\"\"\n",
    "\n",
    "    def __init__(self, y, Z, H, T, Q, a1, P1, R):\n",
    "  \n",
    "        \n",
    "        self.yindex = y.index\n",
    "        self.ycols = y.columns\n",
    "        self.p = y.shape[1]\n",
    "        self.n = y.shape[0]\n",
    "        self.y = np.array(y)\n",
    "        \n",
    "        ind = np.zeros(self.y.shape[0])\n",
    "        ind[np.isnan(self.y).any(axis=1)] = 1 # Some NaNs\n",
    "        ind[np.isnan(self.y).all(axis=1)] = 2 # All NaNs\n",
    "        self.ind = ind  \n",
    "        \n",
    "        self.yhat = []\n",
    "        self.Z = np.array(Z)\n",
    "        self.H = np.array(H)\n",
    "        self.T = np.array(T)\n",
    "        self.Q = np.array(Q)\n",
    "        self.a = [np.array(a1)]\n",
    "        self.P = [np.array(P1)]\n",
    "        self.vt = []\n",
    "        self.Ft = []\n",
    "        self.Kt = []\n",
    "        self.ZT = Z.T  # To avoid transposing it several times\n",
    "        self.R = np.array(R)\n",
    "        \n",
    "\n",
    "    def runFilter(self, ):\n",
    "        # Implemented with non time varying coefficients\n",
    "        \n",
    "        for i in range(0, self.n - 1):\n",
    "\n",
    "            if self.ind[i] == 0:\n",
    "\n",
    "                self.vt.append(self.y[i].reshape((self.p, 1)) - np.dot(self.Z, self.a[i]))\n",
    "\n",
    "                self.Ft.append(self.Z.dot(self.P[i]).dot(self.ZT) + self.H)\n",
    "\n",
    "                Finv = inv(self.Ft[i])\n",
    "\n",
    "                self.a[i] = self.a[i] + self.P[i].dot(self.ZT).dot(Finv).dot(self.vt[i])\n",
    "\n",
    "                self.P[i] = self.P[i] - self.P[i].dot(self.ZT).dot(Finv).dot(self.Z).dot(self.P[i])\n",
    "\n",
    "                self.a.append(self.T.dot(self.a[i]))\n",
    "\n",
    "                self.P.append(self.T.dot(self.P[i]).dot(self.T.T) + self.R.dot(self.Q).dot(self.R.T))\n",
    "\n",
    "                self.yhat.append(self.Z.dot(self.a[i]))\n",
    "            \n",
    "            elif self.ind[i] == 2: # In case the line is all nans\n",
    "            \n",
    "                self.vt.append(np.zeros((p,1)))\n",
    "#                 self.vt.append(self.y[i].reshape((self.p, 1)) - np.dot(self.Z, self.a[i]))\n",
    "\n",
    "                self.Ft.append(self.Z.dot(self.P[i]).dot(self.ZT) + self.H)\n",
    "\n",
    "#                 Finv = inv(self.Ft[i])\n",
    "\n",
    "#                 self.a[i] = self.a[i] + self.P[i].dot(self.ZT).dot(Finv).dot(self.vt[i])\n",
    "\n",
    "#                 self.P[i] = self.P[i] - self.P[i].dot(self.ZT).dot(Finv).dot(self.Z).dot(self.P[i])\n",
    "\n",
    "                self.a.append(self.T.dot(self.a[i]))\n",
    "\n",
    "                self.P.append(self.T.dot(self.P[i]).dot(self.T.T) + self.R.dot(self.Q).dot(self.R.T))\n",
    "                \n",
    "                self.yhat.append(self.Z.dot(self.a[i]))  \n",
    "            \n",
    "        self.a = pd.DataFrame(np.concatenate(self.a, axis=1)).T\n",
    "        self.yhat = pd.DataFrame(np.concatenate(self.yhat, axis=1)).T"
   ]
  },
  {
   "cell_type": "code",
   "execution_count": 154,
   "metadata": {
    "collapsed": false
   },
   "outputs": [],
   "source": [
    "y.loc[20] = np.nan"
   ]
  },
  {
   "cell_type": "code",
   "execution_count": 155,
   "metadata": {
    "collapsed": false
   },
   "outputs": [],
   "source": [
    "kf = KalmanFilter(y,\n",
    "                  Z,\n",
    "                  H,\n",
    "                  T,\n",
    "                  Q,\n",
    "                  pd.DataFrame(np.array([0,0]).reshape(m,1)),\n",
    "                  pd.DataFrame(np.diag(np.array([1,1]))),\n",
    "                  R)\n",
    "\n",
    "kf.runFilter()"
   ]
  },
  {
   "cell_type": "code",
   "execution_count": 156,
   "metadata": {
    "collapsed": false
   },
   "outputs": [
    {
     "data": {
      "text/plain": [
       "<matplotlib.axes._subplots.AxesSubplot at 0x1e734373d30>"
      ]
     },
     "execution_count": 156,
     "metadata": {},
     "output_type": "execute_result"
    },
    {
     "data": {
      "image/png": "[encoded data removed]",
      "text/plain": [
       "<matplotlib.figure.Figure at 0x1e737010e80>"
      ]
     },
     "metadata": {},
     "output_type": "display_data"
    }
   ],
   "source": [
    "kf.yhat[0].plot()"
   ]
  },
  {
   "cell_type": "code",
   "execution_count": 28,
   "metadata": {
    "collapsed": true
   },
   "outputs": [],
   "source": [
    "# with many nulls\n",
    "ny = y.copy()\n",
    "ny.iloc[200:700] = np.nan"
   ]
  },
  {
   "cell_type": "code",
   "execution_count": 157,
   "metadata": {
    "collapsed": true
   },
   "outputs": [],
   "source": [
    "kf = KalmanFilter(ny,\n",
    "                  Z,\n",
    "                  H,\n",
    "                  T,\n",
    "                  Q,\n",
    "                  pd.DataFrame(np.array([0,0]).reshape(m,1)),\n",
    "                  pd.DataFrame(np.diag(np.array([1,1]))),\n",
    "                  R)\n",
    "\n",
    "kf.runFilter()"
   ]
  },
  {
   "cell_type": "code",
   "execution_count": 158,
   "metadata": {
    "collapsed": false
   },
   "outputs": [
    {
     "data": {
      "text/plain": [
       "<matplotlib.axes._subplots.AxesSubplot at 0x1e734389400>"
      ]
     },
     "execution_count": 158,
     "metadata": {},
     "output_type": "execute_result"
    },
    {
     "data": {
      "image/png": "[encoded data removed]",
      "text/plain": [
       "<matplotlib.figure.Figure at 0x1e736fc7470>"
      ]
     },
     "metadata": {},
     "output_type": "display_data"
    }
   ],
   "source": [
    "kf.yhat[0].plot()"
   ]
  },
  {
   "cell_type": "code",
   "execution_count": 159,
   "metadata": {
    "collapsed": false
   },
   "outputs": [
    {
     "data": {
      "text/plain": [
       "<matplotlib.axes._subplots.AxesSubplot at 0x1e7370b39b0>"
      ]
     },
     "execution_count": 159,
     "metadata": {},
     "output_type": "execute_result"
    },
    {
     "data": {
      "image/png": "[encoded data removed]",
      "text/plain": [
       "<matplotlib.figure.Figure at 0x1e7370c5c18>"
      ]
     },
     "metadata": {},
     "output_type": "display_data"
    }
   ],
   "source": [
    "kf.a[0].plot()"
   ]
  },
  {
   "cell_type": "code",
   "execution_count": 160,
   "metadata": {
    "collapsed": false
   },
   "outputs": [
    {
     "name": "stdout",
     "output_type": "stream",
     "text": [
      "50 loops, best of 3: 160 ms per loop\n"
     ]
    }
   ],
   "source": [
    "%%timeit -n 50\n",
    "\n",
    "kf = KalmanFilter(y,\n",
    "                  Z,\n",
    "                  H,\n",
    "                  T,\n",
    "                  Q,\n",
    "                  pd.DataFrame(np.array([0,0]).reshape(m,1)),\n",
    "                  pd.DataFrame(np.diag(np.array([1,1]))),\n",
    "                  R)\n",
    "\n",
    "kf.runFilter()"
   ]
  },
  {
   "cell_type": "code",
   "execution_count": 107,
   "metadata": {
    "collapsed": false
   },
   "outputs": [
    {
     "name": "stdout",
     "output_type": "stream",
     "text": [
      "50 loops, best of 3: 100 ms per loop\n"
     ]
    }
   ],
   "source": [
    "%%timeit -n 50\n",
    "\n",
    "kf = KalmanFilter(ny,\n",
    "                  Z,\n",
    "                  H,\n",
    "                  T,\n",
    "                  Q,\n",
    "                  pd.DataFrame(np.array([0,0]).reshape(m,1)),\n",
    "                  pd.DataFrame(np.diag(np.array([1,1]))),\n",
    "                  R)\n",
    "\n",
    "kf.runFilter()"
   ]
  },
  {
   "cell_type": "markdown",
   "metadata": {},
   "source": [
    "## Timing Implemention for partial line of nulls\n",
    "\n",
    "### Fastest way to flat out "
   ]
  },
  {
   "cell_type": "code",
   "execution_count": 31,
   "metadata": {
    "collapsed": false
   },
   "outputs": [],
   "source": [
    "yt = np.array([1,2,4,np.nan,5,6,7,np.nan,np.nan,8]).reshape((10,1))"
   ]
  },
  {
   "cell_type": "code",
   "execution_count": 32,
   "metadata": {
    "collapsed": false
   },
   "outputs": [
    {
     "data": {
      "text/plain": [
       "array([ 1.,  2.,  4.,  5.,  6.,  7.,  8.])"
      ]
     },
     "execution_count": 32,
     "metadata": {},
     "output_type": "execute_result"
    }
   ],
   "source": [
    "yt[~np.isnan(yt)]"
   ]
  },
  {
   "cell_type": "code",
   "execution_count": 33,
   "metadata": {
    "collapsed": false
   },
   "outputs": [
    {
     "name": "stdout",
     "output_type": "stream",
     "text": [
      "1000 loops, best of 3: 2.09 µs per loop\n"
     ]
    }
   ],
   "source": [
    "%%timeit -n 1000\n",
    "\n",
    "~np.isnan(yt).reshape((10))"
   ]
  },
  {
   "cell_type": "code",
   "execution_count": 34,
   "metadata": {
    "collapsed": false
   },
   "outputs": [
    {
     "name": "stdout",
     "output_type": "stream",
     "text": [
      "1000 loops, best of 3: 4.68 µs per loop\n"
     ]
    }
   ],
   "source": [
    "%%timeit -n 1000\n",
    "\n",
    "np.array((~np.isnan(yt)).flat)"
   ]
  },
  {
   "cell_type": "code",
   "execution_count": 35,
   "metadata": {
    "collapsed": false
   },
   "outputs": [
    {
     "name": "stdout",
     "output_type": "stream",
     "text": [
      "1000 loops, best of 3: 1.42 µs per loop\n"
     ]
    }
   ],
   "source": [
    "%%timeit -n 1000\n",
    "\n",
    "(~np.isnan(yt)).ravel()"
   ]
  },
  {
   "cell_type": "code",
   "execution_count": 36,
   "metadata": {
    "collapsed": false
   },
   "outputs": [
    {
     "name": "stdout",
     "output_type": "stream",
     "text": [
      "1000 loops, best of 3: 1.89 µs per loop\n"
     ]
    }
   ],
   "source": [
    "%%timeit -n 1000\n",
    "\n",
    "(~np.isnan(yt)).flatten()"
   ]
  },
  {
   "cell_type": "code",
   "execution_count": 37,
   "metadata": {
    "collapsed": true
   },
   "outputs": [],
   "source": [
    "class KalmanFilter():\n",
    "#         \"\"\"\n",
    "#             Based on Durbin Koopman\n",
    "\n",
    "\n",
    "#             For generic state-space systems like (Hamilton's notation):\n",
    "\n",
    "\n",
    "\n",
    "#             $$\\underset{(p \\times 1)}{y_t} = \\underset{(p \\times m)}{Z_t} \\underset{(m \\times 1)}{\\alpha_t} + \\underset{(p \\times 1)}{\\epsilon_t}, \\qquad \\epsilon_t \\sim N(0,\\underset{(p \\times P)}{H_t}) $$\n",
    "\n",
    "#             $$\\underset{(m \\times 1)}{\\alpha_{t+1}} = \\underset{(m \\times m)}{T_t}\n",
    "#             \\underset{(m \\times 1)}{\\alpha_{t}} + \\underset{(m \\times r)}{R_t} \\underset{(r \\times r)}{\\eta_t}, \\qquad \\eta_t \\sim N(0,\\underset{(r \\times \\ r)}{Q_t})$$\n",
    "\n",
    "\n",
    "#             $$\\alpha_1 \\sim N(a_1,\\underset{(m \\times m)}{P_1})$$\n",
    "\n",
    "#             Where\n",
    "\n",
    "#             * $p$ is the number of observed variables\n",
    "#             * $m$ is the number of latent states\n",
    "#             * $r$ is the number of disturbances\n",
    "\n",
    "#         \"\"\"\n",
    "\n",
    "    def __init__(self, y, Z, H, T, Q, a1, P1, R):\n",
    "  \n",
    "        \n",
    "        self.yindex = y.index\n",
    "        self.ycols = y.columns\n",
    "        self.p = y.shape[1]\n",
    "        self.n = y.shape[0]\n",
    "        self.y = np.array(y)\n",
    "        \n",
    "        ind = np.zeros(self.y.shape[0])\n",
    "        ind[np.isnan(self.y).any(axis=1)] = 1 # Some NaNs\n",
    "        ind[np.isnan(self.y).all(axis=1)] = 2 # All NaNs\n",
    "        self.ind = ind  \n",
    "        \n",
    "        self.yhat = []\n",
    "        self.Z = np.array(Z)\n",
    "        self.H = np.array(H)\n",
    "        self.T = np.array(T)\n",
    "        self.Q = np.array(Q)\n",
    "        self.a = [np.array(a1)]\n",
    "        self.P = [np.array(P1)]\n",
    "        self.vt = []\n",
    "        self.Ft = []\n",
    "        self.Kt = []\n",
    "        self.ZT = Z.T  # To avoid transposing it several times\n",
    "        self.R = np.array(R)\n",
    "        \n",
    "\n",
    "    def runFilter(self, ):\n",
    "        # Implemented with non time varying coefficients\n",
    "        \n",
    "        for i in range(0, self.n - 1):\n",
    "            \n",
    "            if self.ind[i] == 0:\n",
    "\n",
    "                self.vt.append(self.y[i].reshape((self.p, 1)) - np.dot(self.Z, self.a[i]))\n",
    "\n",
    "                self.Ft.append(self.Z.dot(self.P[i]).dot(self.ZT) + self.H)\n",
    "\n",
    "                Finv = inv(self.Ft[i])\n",
    "\n",
    "                self.a[i] = self.a[i] + self.P[i].dot(self.ZT).dot(Finv).dot(self.vt[i])\n",
    "\n",
    "                self.P[i] = self.P[i] - self.P[i].dot(self.ZT).dot(Finv).dot(self.Z).dot(self.P[i])\n",
    "\n",
    "                self.a.append(self.T.dot(self.a[i]))\n",
    "\n",
    "                self.P.append(self.T.dot(self.P[i]).dot(self.T.T) + self.R.dot(self.Q).dot(self.R.T))\n",
    "\n",
    "                self.yhat.append(self.Z.dot(self.a[i]))\n",
    "            \n",
    "            elif self.ind[i] == 2: # In case the line is all nans\n",
    "            \n",
    "                self.vt.append(np.zeros((p,1)))\n",
    "#                 self.vt.append(self.y[i].reshape((self.p, 1)) - np.dot(self.Z, self.a[i]))\n",
    "\n",
    "                self.Ft.append(self.Z.dot(self.P[i]).dot(self.ZT) + self.H)\n",
    "\n",
    "#                 Finv = inv(self.Ft[i])\n",
    "\n",
    "#                 self.a[i] = self.a[i] + self.P[i].dot(self.ZT).dot(Finv).dot(self.vt[i])\n",
    "\n",
    "#                 self.P[i] = self.P[i] - self.P[i].dot(self.ZT).dot(Finv).dot(self.Z).dot(self.P[i])\n",
    "\n",
    "                self.a.append(self.T.dot(self.a[i]))\n",
    "\n",
    "                self.P.append(self.T.dot(self.P[i]).dot(self.T.T) + self.R.dot(self.Q).dot(self.R.T))\n",
    "\n",
    "                self.yhat.append(self.Z.dot(self.a[i]))  \n",
    "            \n",
    "            else:\n",
    "                # First use an index for nulls\n",
    "                ind = ~np.isnan(self.y[i]).ravel()\n",
    "                yst = self.y[i][ind]\n",
    "                Zst = self.Z[ind,:]\n",
    "                \n",
    "                select = np.diag(ind)\n",
    "                select = select[(select==True).any(axis=1)].astype(int)\n",
    "\n",
    "                Hst = select.dot(self.H).dot(select.T)\n",
    "                \n",
    "                \n",
    "                self.vt.append(self.y[i].reshape((self.p, 1)) - np.dot(Zst, self.a[i]))\n",
    "\n",
    "                self.Ft.append(Zst.dot(self.P[i]).dot(Zst) + Hst)\n",
    "\n",
    "                Finv = inv(self.Ft[i])\n",
    "\n",
    "                self.a[i] = self.a[i] + self.P[i].dot(Zst).dot(Finv).dot(self.vt[i])\n",
    "\n",
    "                self.P[i] = self.P[i] - self.P[i].dot(Zst).dot(Finv).dot(Zst).dot(self.P[i])\n",
    "\n",
    "                self.a.append(self.T.dot(self.a[i]))\n",
    "\n",
    "                self.P.append(self.T.dot(self.P[i]).dot(self.T.T) + self.R.dot(self.Q).dot(self.R.T))\n",
    "                \n",
    "                yhat = np.empty((p,1))\n",
    "                yhat[ind,:] = Zst.dot(self.a[i])\n",
    "                yhat[~ind,:] = self.Z.dot(self.a[i])[~ind,:]\n",
    "                \n",
    "                self.yhat.append(yhat)\n",
    "                \n",
    "                \n",
    "            \n",
    "        self.a = pd.DataFrame(np.concatenate(self.a, axis=1)).T\n",
    "        self.yhat = pd.DataFrame(np.concatenate(self.yhat, axis=1)).T"
   ]
  },
  {
   "cell_type": "code",
   "execution_count": 38,
   "metadata": {
    "collapsed": true
   },
   "outputs": [],
   "source": [
    "kf = KalmanFilter(y,\n",
    "                  Z,\n",
    "                  H,\n",
    "                  T,\n",
    "                  Q,\n",
    "                  pd.DataFrame(np.array([0,0]).reshape(m,1)),\n",
    "                  pd.DataFrame(np.diag(np.array([1,1]))),\n",
    "                  R)\n",
    "\n",
    "kf.runFilter()"
   ]
  },
  {
   "cell_type": "code",
   "execution_count": 40,
   "metadata": {
    "collapsed": false
   },
   "outputs": [
    {
     "data": {
      "text/plain": [
       "<matplotlib.axes._subplots.AxesSubplot at 0x1e73433b4e0>"
      ]
     },
     "execution_count": 40,
     "metadata": {},
     "output_type": "execute_result"
    },
    {
     "data": {
      "image/png": "[encoded data removed]",
      "text/plain": [
       "<matplotlib.figure.Figure at 0x1e7342a1780>"
      ]
     },
     "metadata": {},
     "output_type": "display_data"
    }
   ],
   "source": [
    "kf.yhat[0].plot()"
   ]
  },
  {
   "cell_type": "code",
   "execution_count": null,
   "metadata": {
    "collapsed": true
   },
   "outputs": [],
   "source": []
  }
 ],
 "metadata": {
  "anaconda-cloud": {},
  "kernelspec": {
   "display_name": "Python [Root]",
   "language": "python",
   "name": "Python [Root]"
  },
  "language_info": {
   "codemirror_mode": {
    "name": "ipython",
    "version": 3
   },
   "file_extension": ".py",
   "mimetype": "text/x-python",
   "name": "python",
   "nbconvert_exporter": "python",
   "pygments_lexer": "ipython3",
   "version": "3.5.2"
  }
 },
 "nbformat": 4,
 "nbformat_minor": 0
}
