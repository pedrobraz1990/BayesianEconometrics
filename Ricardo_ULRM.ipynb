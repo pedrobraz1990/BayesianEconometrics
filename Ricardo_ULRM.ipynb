{
 "cells": [
  {
   "cell_type": "markdown",
   "metadata": {
    "slideshow": {
     "slide_type": "-"
    }
   },
   "source": [
    "# Normal Linear Regression Model\n",
    "Consider a simple model with only one regressor\n",
    "$$y=x\\beta+\\epsilon,\\quad i=1,\\dots,n$$\n",
    "ASSUMPTIONS:\n",
    "1. Gaussian iid errors $\\epsilon\\sim N(0,\\sigma^2)$\n",
    "2. $x_i$ and $\\epsilon_j$ are independent $\\forall i\\neq j$"
   ]
  },
  {
   "cell_type": "code",
   "execution_count": 2,
   "metadata": {
    "collapsed": false
   },
   "outputs": [
    {
     "data": {},
     "metadata": {},
     "output_type": "display_data"
    },
    {
     "data": {
      "image/png": "[encoded data removed]",
      "text/plain": [
       "plot without title"
      ]
     },
     "metadata": {},
     "output_type": "display_data"
    }
   ],
   "source": [
    "# Generate the sample\n",
    "library(ggplot2)\n",
    "library(repr)\n",
    "\n",
    "options(repr.plot.width=4, repr.plot.height=4)\n",
    "n = 10\n",
    "beta = 3\n",
    "x = rnorm(n)\n",
    "e = rnorm(n)\n",
    "y = beta*x+e\n",
    "data = data.frame(x,y,size=1)\n",
    "qplot(x,y)"
   ]
  },
  {
   "cell_type": "markdown",
   "metadata": {},
   "source": [
    "## Choosing the Prior\n",
    "Selecting the prior $\\beta|\\sigma^2\\sim N(\\beta_0,\\sigma^2V_0)$ and $\\sigma^2\\sim IG(1/\\sigma^2_0,\\nu_0)$\n",
    "$$f(x|\\alpha,\\beta)=$$\n",
    "Recall that if $X\\sim G(\\theta_1,\\theta_2)$ then $1/X\\sim IG(\\theta_1,\\theta_2)$, hence\n",
    "$$\\sigma^{-2}\\sim G(\\sigma^{-2}_0,\\nu_0)$$\n",
    "where $\\mathbb{E}(\\sigma^{-2})= \\sigma^{-2}_0$ and $\\mathbb{V}(\\sigma^{-2})=\\frac{2}{\\sigma^4_0\\nu}$"
   ]
  },
  {
   "cell_type": "code",
   "execution_count": 3,
   "metadata": {
    "collapsed": false
   },
   "outputs": [
    {
     "data": {
      "text/html": [
       "<dl>\n",
       "\t<dt>$b0</dt>\n",
       "\t\t<dd>2.5</dd>\n",
       "\t<dt>$V0</dt>\n",
       "\t\t<dd>0.05</dd>\n",
       "\t<dt>$nu0</dt>\n",
       "\t\t<dd>1</dd>\n",
       "\t<dt>$sigma2_0</dt>\n",
       "\t\t<dd>1</dd>\n",
       "</dl>\n"
      ],
      "text/latex": [
       "\\begin{description}\n",
       "\\item[\\$b0] 2.5\n",
       "\\item[\\$V0] 0.05\n",
       "\\item[\\$nu0] 1\n",
       "\\item[\\$sigma2\\_0] 1\n",
       "\\end{description}\n"
      ],
      "text/markdown": [
       "$b0\n",
       ":   2.5\n",
       "$V0\n",
       ":   0.05\n",
       "$nu0\n",
       ":   1\n",
       "$sigma2_0\n",
       ":   1\n",
       "\n",
       "\n"
      ],
      "text/plain": [
       "$b0\n",
       "[1] 2.5\n",
       "\n",
       "$V0\n",
       "[1] 0.05\n",
       "\n",
       "$nu0\n",
       "[1] 1\n",
       "\n",
       "$sigma2_0\n",
       "[1] 1\n"
      ]
     },
     "metadata": {},
     "output_type": "display_data"
    }
   ],
   "source": [
    "# Selecting the Prior\n",
    "m = 1\n",
    "prior = list(b0 = 2.5,V0 = 1/m*0.05, nu0 =m*1, sigma2_0 = 1)\n",
    "prior"
   ]
  },
  {
   "cell_type": "markdown",
   "metadata": {},
   "source": [
    "## Calculating the Posterior"
   ]
  },
  {
   "cell_type": "code",
   "execution_count": 4,
   "metadata": {
    "collapsed": false,
    "scrolled": false
   },
   "outputs": [],
   "source": [
    "# Function for the Posterior of the NLRM\n",
    "NLRM = function(data,prior) {\n",
    "  XX = t(data$x)%*%data$x\n",
    "  b_hat = solve(XX, t(data$x%*%data$y))\n",
    "  k = dim(data)[2]-1\n",
    "  n = dim(data)[1]\n",
    "  s2 = sum((data$y-data$x%*%b_hat)^2)/(n-k)\n",
    "  V = solve(solve(prior$V0) + XX)\n",
    "  b = V%*%(solve(prior$V0)%*%prior$b0+XX%*%b_hat)\n",
    "  nu = prior$nu0+n\n",
    "  sigma2 = (prior$nu0*prior$sigma2_0+(n-k)*s2+t(b_hat-prior$b0)%*%solve(prior$V0+solve(XX))%*%(b_hat-prior$b0))/nu\n",
    "  return(list(beta = b, V = V, nu = nu, sigma2 = sigma2, s2 = s2, b_hat = b_hat))\n",
    "}\n",
    "\n",
    "# Calculating the posterior\n",
    "P = NLRM(data,prior)"
   ]
  },
  {
   "cell_type": "markdown",
   "metadata": {},
   "source": [
    "## Plotting the Results for the Posterior Marginals"
   ]
  },
  {
   "cell_type": "code",
   "execution_count": null,
   "metadata": {
    "collapsed": false
   },
   "outputs": [],
   "source": [
    "# Generalized t-Distribution\n",
    "tdist = function(x, mu=0,S=1,k=1) {\n",
    "  p = length(mu)\n",
    "  c = gamma((k+p)/2)/(gamma(k/2)*(k*pi)^(p/2)*sqrt(det(as.matrix(S))))\n",
    "  ftdist = function(x) c*(1+1/k*t(x-mu)%*%solve(S)%*%(x-mu))^(-(k+p)/2)\n",
    "  return(apply(as.matrix(x),1,ftdist))\n",
    "}\n",
    "\n",
    "# Reparamertized Inverted Gamma    \n",
    "igdist = function(x, mu = 1, v = 1) {\n",
    "  c = ((v/(2*mu))^(v/2))/gamma(v/2)\n",
    "  figdist = function(x) c*x^(-v/2-1)*exp(-v/(2*mu*x))\n",
    "  return(apply(as.matrix(x),1,figdist))\n",
    "}\n",
    "\n",
    "# Multiplot function\n",
    "multiplot <- function(..., plotlist=NULL, file, cols=1, layout=NULL) {\n",
    "  library(grid)\n",
    "\n",
    "  # Make a list from the ... arguments and plotlist\n",
    "  plots <- c(list(...), plotlist)\n",
    "\n",
    "  numPlots = length(plots)\n",
    "\n",
    "  # If layout is NULL, then use 'cols' to determine layout\n",
    "  if (is.null(layout)) {\n",
    "    # Make the panel\n",
    "    # ncol: Number of columns of plots\n",
    "    # nrow: Number of rows needed, calculated from # of cols\n",
    "    layout <- matrix(seq(1, cols * ceiling(numPlots/cols)),\n",
    "                    ncol = cols, nrow = ceiling(numPlots/cols))\n",
    "  }\n",
    "\n",
    " if (numPlots==1) {\n",
    "    print(plots[[1]])\n",
    "\n",
    "  } else {\n",
    "    # Set up the page\n",
    "    grid.newpage()\n",
    "    pushViewport(viewport(layout = grid.layout(nrow(layout), ncol(layout))))\n",
    "\n",
    "    # Make each plot, in the correct location\n",
    "    for (i in 1:numPlots) {\n",
    "      # Get the i,j matrix positions of the regions that contain this subplot\n",
    "      matchidx <- as.data.frame(which(layout == i, arr.ind = TRUE))\n",
    "\n",
    "      print(plots[[i]], vp = viewport(layout.pos.row = matchidx$row,\n",
    "                                      layout.pos.col = matchidx$col))\n",
    "    }\n",
    "  }\n",
    "}\n",
    "\n",
    "var_beta = P$nu/(P$nu-2)*P$sigma2*P$V\n",
    "n_dp = 5\n",
    "x_beta = seq(-n_dp*sqrt(var_beta)+P$beta,P$beta+n_dp*sqrt(var_beta),length.out=100)\n",
    "x_sigma = seq(0.01,4,length.out=100)\n",
    "prior_sigma = igdist(x_sigma,1/prior$sigma2_0,prior$nu0)\n",
    "prior_beta = tdist(x_beta,prior$b0,prior$sigma2_0*prior$V0,prior$nu0)\n",
    "posterior_beta = tdist(x_beta,P$beta,P$sigma2*P$V,P$nu)\n",
    "posterior_sigma = igdist(x_sigma,1/P$sigma2,P$nu)\n",
    "plotdata = data.frame(x_beta,x_sigma,prior_beta,prior_sigma,posterior_beta,posterior_sigma)\n",
    "\n",
    "p1 = ggplot(plotdata, aes(x_beta)) + \n",
    "  geom_line(aes(y = prior_beta, colour = \"Prior\")) + \n",
    "  geom_line(aes(y = posterior_beta, colour = \"Posterior\")) +\n",
    "  geom_vline(xintercept=P$b_hat) +\n",
    "  ggtitle(\"t-Distribution\") +\n",
    "  xlab(expression(beta)) +\n",
    "  theme(legend.position = c(0.85, 0.95),\n",
    "        legend.title=element_blank(),\n",
    "        axis.title.y=element_blank(),\n",
    "        plot.title = element_text(hjust = 0.5),\n",
    "        aspect.ratio=1\n",
    "       ) \n",
    "\n",
    "p2 = ggplot(plotdata, aes(x_sigma)) + \n",
    "  geom_line(aes(y = prior_sigma, colour = \"Prior\")) + \n",
    "  geom_line(aes(y = posterior_sigma, colour = \"Posterior\")) +\n",
    "  geom_vline(xintercept=P$s2) +\n",
    "  ggtitle(\"Inverted Gamma Distribution\") +\n",
    "  xlab(expression(sigma^{2})) +\n",
    "  theme(legend.position='none',\n",
    "        axis.title.y=element_blank(),\n",
    "        plot.title = element_text(hjust = 0.5),\n",
    "        aspect.ratio=1\n",
    "       )  \n",
    "\n",
    "options(repr.plot.width=8, repr.plot.height=8)    \n",
    "multiplot(p1, p2, cols=2)"
   ]
  },
  {
   "cell_type": "markdown",
   "metadata": {},
   "source": [
    "## Model Selection\n",
    "Let's consider the following the following NLRM\n",
    "$$y=\\beta_1 x_1+ \\beta_2 x_2+\\epsilon,\\quad i=1,\\dots,n$$\n",
    "But $\\mathcal{M}_0:\\beta_1=0$"
   ]
  },
  {
   "cell_type": "code",
   "execution_count": null,
   "metadata": {
    "collapsed": false
   },
   "outputs": [],
   "source": [
    "options(repr.plot.width=4, repr.plot.height=4)\n",
    "n = 10\n",
    "beta1 = 0\n",
    "beta2 = -1\n",
    "x1 = rnorm(n)\n",
    "x2 = rnorm(n)\n",
    "e = rnorm(n)\n",
    "y = beta1*x1+beta2*x2+e\n",
    "data = data.frame(x,y,size=1)\n",
    "qplot(x,y)"
   ]
  },
  {
   "cell_type": "code",
   "execution_count": null,
   "metadata": {
    "collapsed": true
   },
   "outputs": [],
   "source": []
  }
 ],
 "metadata": {
  "kernelspec": {
   "display_name": "R",
   "language": "R",
   "name": "ir"
  },
  "language_info": {
   "codemirror_mode": "r",
   "file_extension": ".r",
   "mimetype": "text/x-r-source",
   "name": "R",
   "pygments_lexer": "r",
   "version": "3.3.2"
  }
 },
 "nbformat": 4,
 "nbformat_minor": 2
}
