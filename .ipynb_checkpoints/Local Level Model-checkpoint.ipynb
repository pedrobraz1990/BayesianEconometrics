{
 "cells": [
  {
   "cell_type": "code",
   "execution_count": 1,
   "metadata": {
    "collapsed": true
   },
   "outputs": [],
   "source": [
    "%matplotlib inline\n",
    "import numpy as np\n",
    "import pandas as pd\n",
    "import scipy as sp\n",
    "from scipy.optimize import minimize\n",
    "from scipy.stats import norm\n",
    "\n",
    "from KalmanFilter import KalmanFilter\n"
   ]
  },
  {
   "cell_type": "markdown",
   "metadata": {},
   "source": [
    "We'll first estimate the local level model giving us the chance of writing the Kalman filter algorithm which, if there's time, can be re-used for the DSGE model."
   ]
  },
  {
   "cell_type": "markdown",
   "metadata": {},
   "source": [
    "# The Model\n",
    "\n",
    "as described in the chapter 4 in Koopman et al. The local level model with a seasonal component consists of the following equations:\n",
    "\n",
    "$$y_t = \\mu_t + \\gamma_t + \\epsilon_t, \\qquad \\epsilon_t \\sim NID(0,\\sigma^2_\\epsilon)$$\n",
    "\n",
    "$$\\mu_{t+1} = \\mu_t + \\xi_t, \\qquad \\xi_t \\sim NID(0,\\sigma^2_\\xi) $$\n",
    "\n",
    "$$\\gamma_{t+1} = -\\gamma_{t} - \\gamma_{t-1} - \\theta_1\\gamma_{t-2} + \\omega_t \\sim NID(0,\\sigma^2_\\omega) $$\n",
    "\n",
    "\n",
    "We added a $\\theta$ coefficient in order to use maximum likelihood estimation"
   ]
  },
  {
   "cell_type": "markdown",
   "metadata": {},
   "source": [
    "## State Space Form\n",
    "\n",
    "General Form:\n",
    "\n",
    "$$ y_t = Z x_t + \\epsilon_t, \\qquad \\epsilon_t \\sim NID(0,\\sigma^2_\\epsilon)$$\n",
    "$$ x_{t+1} = T x_t + R_t \\eta_T, \\qquad \\eta_t \\sim NID(0,Qt) $$"
   ]
  },
  {
   "cell_type": "markdown",
   "metadata": {},
   "source": [
    "In terms of the model:\n",
    "$$ \n",
    "x_t = \n",
    "\\begin{pmatrix}\\mu_t \\\\ \\gamma_t  \\\\  \\gamma_{t-1}   \\\\ \\gamma_{t-2}  \\end{pmatrix}\n",
    "$$"
   ]
  },
  {
   "cell_type": "markdown",
   "metadata": {},
   "source": [
    "$$\n",
    "\\eta_t = \n",
    "\\begin{pmatrix}\\xi_t \\\\ \\omega_t \\end{pmatrix}\n",
    "$$"
   ]
  },
  {
   "cell_type": "markdown",
   "metadata": {},
   "source": [
    "$$\n",
    "T_t = \n",
    "\\begin{bmatrix} \n",
    "1 & 0 & 0 & 0 \\\\\n",
    "0 & -1 & -1 & -\\theta_1 \\\\\n",
    "0 & 1 & 0 & 0 \\\\\n",
    "0 & 0 & 1 & 0 \n",
    "\\end{bmatrix}\n",
    "$$\n"
   ]
  },
  {
   "cell_type": "markdown",
   "metadata": {},
   "source": [
    "$$\n",
    "Z^T_t = \n",
    "\\begin{pmatrix}1 \\\\ 1  \\\\  0   \\\\ 0  \\end{pmatrix}\n",
    "$$"
   ]
  },
  {
   "cell_type": "markdown",
   "metadata": {},
   "source": [
    "$$\n",
    "Q_t = \n",
    "\\begin{bmatrix} \n",
    "\\sigma^2_\\xi & 0 \\\\\n",
    "0 & \\sigma^2_\\omega \\\\\n",
    "\\end{bmatrix}\n",
    "$$"
   ]
  },
  {
   "cell_type": "markdown",
   "metadata": {},
   "source": [
    "$$\n",
    "R_t = \n",
    "\\begin{bmatrix} \n",
    "1 & 0  \\\\\n",
    "0 & 1  \\\\\n",
    "0 & 0  \\\\\n",
    "0 & 0  \\\\\n",
    "\\end{bmatrix}\n",
    "$$"
   ]
  },
  {
   "cell_type": "markdown",
   "metadata": {},
   "source": [
    "# Generating the data for $\\theta_1=1$\n",
    "\n",
    "We have to choose all parameter values plus the initial states\n",
    "\n",
    "$$\\gamma_t = \\gamma_{t-1} = \\gamma_{t-2} = 0$$\n",
    "$$\\theta_1 = 0.7$$\n",
    "$$\\sigma^2_\\xi = 2$$\n",
    "$$\\omega^2_\\zeta = 0.2$$\n",
    "$$\\sigma^2_\\epsilon = 0.3$$\n",
    "\n",
    "$$y_t = \\mu_t + \\gamma_t + \\epsilon_t, \\qquad \\epsilon_t \\sim NID(0,\\sigma^2_\\epsilon)$$\n",
    "\n",
    "$$\\mu_{t+1} = \\mu_t + \\xi_t, \\qquad \\xi_t \\sim NID(0,\\sigma^2_\\xi) $$\n",
    "\n",
    "$$\\gamma_{t+1} = -\\gamma_{t} - \\gamma_{t-1} - \\theta_1\\gamma_{t-2} + \\omega_t \\sim NID(0,\\sigma^2_\\omega) $$\n"
   ]
  },
  {
   "cell_type": "code",
   "execution_count": 2,
   "metadata": {
    "collapsed": true
   },
   "outputs": [],
   "source": [
    "n = 1000\n",
    "theta1 = 1\n",
    "sigmaXi = 0.1\n",
    "sigmaOmega = 0.2\n",
    "sigmaEpsilon = 0.3"
   ]
  },
  {
   "cell_type": "code",
   "execution_count": 3,
   "metadata": {
    "collapsed": false
   },
   "outputs": [],
   "source": [
    "y = np.array([0])\n",
    "mi = np.array([0])\n",
    "gamma = np.array([0])\n",
    "\n",
    "xi = np.array([0])\n",
    "omega = np.array([0])\n",
    "ep = np.array([0])\n",
    "\n",
    "for i in range(1,n):\n",
    "\n",
    "    # Level equation\n",
    "    xi = np.append(xi,np.random.normal(scale=sigmaXi))\n",
    "    mi = np.append(mi,mi[i-1]+xi[i])\n",
    "    \n",
    "    # Seasonality equation\n",
    "    omega = np.append(omega,np.random.normal(scale=sigmaOmega))\n",
    "    holder = 0\n",
    "    if i-1 >= 0:\n",
    "        holder -= gamma[i-1] \n",
    "    if i-2 >= 0:\n",
    "        holder -= gamma[i-2] \n",
    "    if i-3 >= 0:\n",
    "        holder -= gamma[i-3] * theta1\n",
    "    \n",
    "    gamma = np.append(gamma,holder+omega[i])\n",
    "    \n",
    "    # Series equation\n",
    "    ep = np.append(ep,np.random.normal(scale=sigmaEpsilon))\n",
    "    y = np.append(y,mi[i]+gamma[i]+ep[i])\n",
    "\n",
    "y = pd.DataFrame(y) \n",
    "mi = pd.DataFrame(mi) \n",
    "gamma = pd.DataFrame(gamma) "
   ]
  },
  {
   "cell_type": "code",
   "execution_count": 4,
   "metadata": {
    "collapsed": false
   },
   "outputs": [
    {
     "data": {
      "text/plain": [
       "<matplotlib.axes._subplots.AxesSubplot at 0x2b46e93cc18>"
      ]
     },
     "execution_count": 4,
     "metadata": {},
     "output_type": "execute_result"
    },
    {
     "data": {
      "image/png": "[encoded data removed]",
      "text/plain": [
       "<matplotlib.figure.Figure at 0x2b46e93c320>"
      ]
     },
     "metadata": {},
     "output_type": "display_data"
    }
   ],
   "source": [
    "y.plot()"
   ]
  },
  {
   "cell_type": "markdown",
   "metadata": {
    "collapsed": true
   },
   "source": [
    "## Filtering States"
   ]
  },
  {
   "cell_type": "code",
   "execution_count": 5,
   "metadata": {
    "collapsed": false
   },
   "outputs": [
    {
     "data": {
      "text/html": [
       "<div>\n",
       "<table border=\"1\" class=\"dataframe\">\n",
       "  <thead>\n",
       "    <tr style=\"text-align: right;\">\n",
       "      <th></th>\n",
       "      <th>0</th>\n",
       "      <th>1</th>\n",
       "      <th>2</th>\n",
       "      <th>3</th>\n",
       "    </tr>\n",
       "  </thead>\n",
       "  <tbody>\n",
       "    <tr>\n",
       "      <th>0</th>\n",
       "      <td>1</td>\n",
       "      <td>0</td>\n",
       "      <td>0</td>\n",
       "      <td>0</td>\n",
       "    </tr>\n",
       "    <tr>\n",
       "      <th>1</th>\n",
       "      <td>0</td>\n",
       "      <td>-1</td>\n",
       "      <td>-1</td>\n",
       "      <td>-1</td>\n",
       "    </tr>\n",
       "    <tr>\n",
       "      <th>2</th>\n",
       "      <td>0</td>\n",
       "      <td>1</td>\n",
       "      <td>0</td>\n",
       "      <td>0</td>\n",
       "    </tr>\n",
       "    <tr>\n",
       "      <th>3</th>\n",
       "      <td>0</td>\n",
       "      <td>0</td>\n",
       "      <td>1</td>\n",
       "      <td>0</td>\n",
       "    </tr>\n",
       "  </tbody>\n",
       "</table>\n",
       "</div>"
      ],
      "text/plain": [
       "   0  1  2  3\n",
       "0  1  0  0  0\n",
       "1  0 -1 -1 -1\n",
       "2  0  1  0  0\n",
       "3  0  0  1  0"
      ]
     },
     "execution_count": 5,
     "metadata": {},
     "output_type": "execute_result"
    }
   ],
   "source": [
    "T = pd.DataFrame([\n",
    "        [1,0,0,0],\n",
    "        [0,-1,-1,-1],\n",
    "        [0,1,0,0],\n",
    "        [0,0,1,0],\n",
    "    ])\n",
    "T"
   ]
  },
  {
   "cell_type": "code",
   "execution_count": 6,
   "metadata": {
    "collapsed": false
   },
   "outputs": [
    {
     "data": {
      "text/html": [
       "<div>\n",
       "<table border=\"1\" class=\"dataframe\">\n",
       "  <thead>\n",
       "    <tr style=\"text-align: right;\">\n",
       "      <th></th>\n",
       "      <th>0</th>\n",
       "      <th>1</th>\n",
       "      <th>2</th>\n",
       "      <th>3</th>\n",
       "    </tr>\n",
       "  </thead>\n",
       "  <tbody>\n",
       "    <tr>\n",
       "      <th>0</th>\n",
       "      <td>1</td>\n",
       "      <td>1</td>\n",
       "      <td>0</td>\n",
       "      <td>0</td>\n",
       "    </tr>\n",
       "  </tbody>\n",
       "</table>\n",
       "</div>"
      ],
      "text/plain": [
       "   0  1  2  3\n",
       "0  1  1  0  0"
      ]
     },
     "execution_count": 6,
     "metadata": {},
     "output_type": "execute_result"
    }
   ],
   "source": [
    "Z = pd.DataFrame([\n",
    "        [1,1,0,0],\n",
    "    ])\n",
    "Z"
   ]
  },
  {
   "cell_type": "code",
   "execution_count": 7,
   "metadata": {
    "collapsed": false
   },
   "outputs": [
    {
     "data": {
      "text/html": [
       "<div>\n",
       "<table border=\"1\" class=\"dataframe\">\n",
       "  <thead>\n",
       "    <tr style=\"text-align: right;\">\n",
       "      <th></th>\n",
       "      <th>0</th>\n",
       "      <th>1</th>\n",
       "    </tr>\n",
       "  </thead>\n",
       "  <tbody>\n",
       "    <tr>\n",
       "      <th>0</th>\n",
       "      <td>1</td>\n",
       "      <td>0</td>\n",
       "    </tr>\n",
       "    <tr>\n",
       "      <th>1</th>\n",
       "      <td>0</td>\n",
       "      <td>1</td>\n",
       "    </tr>\n",
       "    <tr>\n",
       "      <th>2</th>\n",
       "      <td>0</td>\n",
       "      <td>0</td>\n",
       "    </tr>\n",
       "    <tr>\n",
       "      <th>3</th>\n",
       "      <td>0</td>\n",
       "      <td>0</td>\n",
       "    </tr>\n",
       "  </tbody>\n",
       "</table>\n",
       "</div>"
      ],
      "text/plain": [
       "   0  1\n",
       "0  1  0\n",
       "1  0  1\n",
       "2  0  0\n",
       "3  0  0"
      ]
     },
     "execution_count": 7,
     "metadata": {},
     "output_type": "execute_result"
    }
   ],
   "source": [
    "R = pd.DataFrame([\n",
    "        [1,0],\n",
    "        [0,1],\n",
    "        [0,0],\n",
    "        [0,0],\n",
    "    ])\n",
    "R"
   ]
  },
  {
   "cell_type": "code",
   "execution_count": 8,
   "metadata": {
    "collapsed": false
   },
   "outputs": [
    {
     "data": {
      "text/html": [
       "<div>\n",
       "<table border=\"1\" class=\"dataframe\">\n",
       "  <thead>\n",
       "    <tr style=\"text-align: right;\">\n",
       "      <th></th>\n",
       "      <th>0</th>\n",
       "    </tr>\n",
       "  </thead>\n",
       "  <tbody>\n",
       "    <tr>\n",
       "      <th>0</th>\n",
       "      <td>0.3</td>\n",
       "    </tr>\n",
       "  </tbody>\n",
       "</table>\n",
       "</div>"
      ],
      "text/plain": [
       "     0\n",
       "0  0.3"
      ]
     },
     "execution_count": 8,
     "metadata": {},
     "output_type": "execute_result"
    }
   ],
   "source": [
    "H = pd.DataFrame([0.3])\n",
    "H"
   ]
  },
  {
   "cell_type": "code",
   "execution_count": 9,
   "metadata": {
    "collapsed": false
   },
   "outputs": [
    {
     "data": {
      "text/html": [
       "<div>\n",
       "<table border=\"1\" class=\"dataframe\">\n",
       "  <thead>\n",
       "    <tr style=\"text-align: right;\">\n",
       "      <th></th>\n",
       "      <th>0</th>\n",
       "      <th>1</th>\n",
       "    </tr>\n",
       "  </thead>\n",
       "  <tbody>\n",
       "    <tr>\n",
       "      <th>0</th>\n",
       "      <td>0.1</td>\n",
       "      <td>0.0</td>\n",
       "    </tr>\n",
       "    <tr>\n",
       "      <th>1</th>\n",
       "      <td>0.0</td>\n",
       "      <td>0.2</td>\n",
       "    </tr>\n",
       "  </tbody>\n",
       "</table>\n",
       "</div>"
      ],
      "text/plain": [
       "     0    1\n",
       "0  0.1  0.0\n",
       "1  0.0  0.2"
      ]
     },
     "execution_count": 9,
     "metadata": {},
     "output_type": "execute_result"
    }
   ],
   "source": [
    "\n",
    "Q = pd.DataFrame([\n",
    "        [0.1,0],\n",
    "        [0,0.2],\n",
    "    ])\n",
    "Q"
   ]
  },
  {
   "cell_type": "code",
   "execution_count": 10,
   "metadata": {
    "collapsed": false
   },
   "outputs": [
    {
     "data": {
      "text/html": [
       "<div>\n",
       "<table border=\"1\" class=\"dataframe\">\n",
       "  <thead>\n",
       "    <tr style=\"text-align: right;\">\n",
       "      <th></th>\n",
       "      <th>0</th>\n",
       "    </tr>\n",
       "  </thead>\n",
       "  <tbody>\n",
       "    <tr>\n",
       "      <th>0</th>\n",
       "      <td>0</td>\n",
       "    </tr>\n",
       "    <tr>\n",
       "      <th>1</th>\n",
       "      <td>0</td>\n",
       "    </tr>\n",
       "    <tr>\n",
       "      <th>2</th>\n",
       "      <td>0</td>\n",
       "    </tr>\n",
       "    <tr>\n",
       "      <th>3</th>\n",
       "      <td>0</td>\n",
       "    </tr>\n",
       "  </tbody>\n",
       "</table>\n",
       "</div>"
      ],
      "text/plain": [
       "   0\n",
       "0  0\n",
       "1  0\n",
       "2  0\n",
       "3  0"
      ]
     },
     "execution_count": 10,
     "metadata": {},
     "output_type": "execute_result"
    }
   ],
   "source": [
    "a1 = pd.DataFrame([0,0,0,0])\n",
    "a1"
   ]
  },
  {
   "cell_type": "code",
   "execution_count": 11,
   "metadata": {
    "collapsed": false
   },
   "outputs": [
    {
     "data": {
      "text/html": [
       "<div>\n",
       "<table border=\"1\" class=\"dataframe\">\n",
       "  <thead>\n",
       "    <tr style=\"text-align: right;\">\n",
       "      <th></th>\n",
       "      <th>0</th>\n",
       "      <th>1</th>\n",
       "      <th>2</th>\n",
       "      <th>3</th>\n",
       "    </tr>\n",
       "  </thead>\n",
       "  <tbody>\n",
       "    <tr>\n",
       "      <th>0</th>\n",
       "      <td>1</td>\n",
       "      <td>0</td>\n",
       "      <td>0</td>\n",
       "      <td>0</td>\n",
       "    </tr>\n",
       "    <tr>\n",
       "      <th>1</th>\n",
       "      <td>0</td>\n",
       "      <td>1</td>\n",
       "      <td>0</td>\n",
       "      <td>0</td>\n",
       "    </tr>\n",
       "    <tr>\n",
       "      <th>2</th>\n",
       "      <td>0</td>\n",
       "      <td>0</td>\n",
       "      <td>1</td>\n",
       "      <td>0</td>\n",
       "    </tr>\n",
       "    <tr>\n",
       "      <th>3</th>\n",
       "      <td>0</td>\n",
       "      <td>0</td>\n",
       "      <td>0</td>\n",
       "      <td>1</td>\n",
       "    </tr>\n",
       "  </tbody>\n",
       "</table>\n",
       "</div>"
      ],
      "text/plain": [
       "   0  1  2  3\n",
       "0  1  0  0  0\n",
       "1  0  1  0  0\n",
       "2  0  0  1  0\n",
       "3  0  0  0  1"
      ]
     },
     "execution_count": 11,
     "metadata": {},
     "output_type": "execute_result"
    }
   ],
   "source": [
    "P1 = pd.DataFrame(np.diag([1,1,1,1]))\n",
    "P1"
   ]
  },
  {
   "cell_type": "code",
   "execution_count": 12,
   "metadata": {
    "collapsed": false
   },
   "outputs": [],
   "source": [
    "kf = KalmanFilter(y=y, Z=Z, H=H, T=T, Q=Q, a1=a1, P1=P1, R=R, nStates=4)\n",
    "kf.runFilter()"
   ]
  },
  {
   "cell_type": "code",
   "execution_count": 13,
   "metadata": {
    "collapsed": false
   },
   "outputs": [
    {
     "data": {
      "text/plain": [
       "<matplotlib.axes._subplots.AxesSubplot at 0x2b46e529d30>"
      ]
     },
     "execution_count": 13,
     "metadata": {},
     "output_type": "execute_result"
    },
    {
     "data": {
      "image/png": "[encoded data removed]",
      "text/plain": [
       "<matplotlib.figure.Figure at 0x2b46e8f9dd8>"
      ]
     },
     "metadata": {},
     "output_type": "display_data"
    }
   ],
   "source": [
    "pd.concat([kf.y , kf.yhat],axis=1).plot()"
   ]
  },
  {
   "cell_type": "code",
   "execution_count": 14,
   "metadata": {
    "collapsed": false
   },
   "outputs": [
    {
     "data": {
      "text/plain": [
       "<matplotlib.axes._subplots.AxesSubplot at 0x2b46e816be0>"
      ]
     },
     "execution_count": 14,
     "metadata": {},
     "output_type": "execute_result"
    },
    {
     "data": {
      "image/png": "[encoded data removed]",
      "text/plain": [
       "<matplotlib.figure.Figure at 0x2b46e93d630>"
      ]
     },
     "metadata": {},
     "output_type": "display_data"
    }
   ],
   "source": [
    "pd.concat([mi , kf.a[0]],axis=1).plot()"
   ]
  },
  {
   "cell_type": "code",
   "execution_count": 15,
   "metadata": {
    "collapsed": false
   },
   "outputs": [
    {
     "data": {
      "text/plain": [
       "<matplotlib.axes._subplots.AxesSubplot at 0x2b46e810278>"
      ]
     },
     "execution_count": 15,
     "metadata": {},
     "output_type": "execute_result"
    },
    {
     "data": {
      "image/png": "[encoded data removed]",
      "text/plain": [
       "<matplotlib.figure.Figure at 0x2b46e690470>"
      ]
     },
     "metadata": {},
     "output_type": "display_data"
    }
   ],
   "source": [
    "pd.concat([gamma , kf.a[1]],axis=1).plot()"
   ]
  },
  {
   "cell_type": "markdown",
   "metadata": {},
   "source": [
    "# Maximum likelihood estimates"
   ]
  },
  {
   "cell_type": "markdown",
   "metadata": {},
   "source": [
    "## Generating the data for $\\theta_1=0.3$\n",
    "\n",
    "We have to choose all parameter values plus the initial states\n",
    "\n",
    "$$\\gamma_t = \\gamma_{t-1} = \\gamma_{t-2} = 0$$\n",
    "$$\\theta_1 = 0.7$$\n",
    "$$\\sigma^2_\\xi = 2$$\n",
    "$$\\omega^2_\\zeta = 0.2$$\n",
    "$$\\sigma^2_\\epsilon = 0.3$$\n",
    "\n",
    "$$y_t = \\mu_t + \\gamma_t + \\epsilon_t, \\qquad \\epsilon_t \\sim NID(0,\\sigma^2_\\epsilon)$$\n",
    "\n",
    "$$\\mu_{t+1} = \\mu_t + \\xi_t, \\qquad \\xi_t \\sim NID(0,\\sigma^2_\\xi) $$\n",
    "\n",
    "$$\\gamma_{t+1} = -\\gamma_{t} - \\gamma_{t-1} - \\theta_1\\gamma_{t-2} + \\omega_t \\sim NID(0,\\sigma^2_\\omega) $$\n"
   ]
  },
  {
   "cell_type": "code",
   "execution_count": 119,
   "metadata": {
    "collapsed": true
   },
   "outputs": [],
   "source": [
    "n = 150\n",
    "theta1 = 0.2\n",
    "sigmaXi = 0.1\n",
    "sigmaOmega = 0.2\n",
    "sigmaEpsilon = 0.3"
   ]
  },
  {
   "cell_type": "code",
   "execution_count": 121,
   "metadata": {
    "collapsed": false
   },
   "outputs": [
    {
     "data": {
      "text/plain": [
       "<matplotlib.axes._subplots.AxesSubplot at 0x2b472a3c160>"
      ]
     },
     "execution_count": 121,
     "metadata": {},
     "output_type": "execute_result"
    },
    {
     "data": {
      "image/png": "[encoded data removed]",
      "text/plain": [
       "<matplotlib.figure.Figure at 0x2b472a45be0>"
      ]
     },
     "metadata": {},
     "output_type": "display_data"
    }
   ],
   "source": [
    "y = np.array([0])\n",
    "mi = np.array([0])\n",
    "gamma = np.array([0])\n",
    "\n",
    "xi = np.array([0])\n",
    "omega = np.array([0])\n",
    "ep = np.array([0])\n",
    "\n",
    "for i in range(1,n):\n",
    "\n",
    "    # Level equation\n",
    "    xi = np.append(xi,np.random.normal(scale=sigmaXi))\n",
    "    mi = np.append(mi,mi[i-1]+xi[i])\n",
    "    \n",
    "    # Seasonality equation\n",
    "    omega = np.append(omega,np.random.normal(scale=sigmaOmega))\n",
    "    holder = 0\n",
    "    if i-1 >= 0:\n",
    "        holder -= gamma[i-1] \n",
    "    if i-2 >= 0:\n",
    "        holder -= gamma[i-2] \n",
    "    if i-3 >= 0:\n",
    "        holder -= gamma[i-3] * theta1\n",
    "    \n",
    "    gamma = np.append(gamma,holder+omega[i])\n",
    "    \n",
    "    # Series equation\n",
    "    ep = np.append(ep,np.random.normal(scale=sigmaEpsilon))\n",
    "    y = np.append(y,mi[i]+gamma[i]+ep[i])\n",
    "\n",
    "y = pd.DataFrame(y) \n",
    "mi = pd.DataFrame(mi) \n",
    "gamma = pd.DataFrame(gamma) \n",
    "\n",
    "y.plot()"
   ]
  },
  {
   "cell_type": "markdown",
   "metadata": {},
   "source": [
    "$$\n",
    "T_t = \n",
    "\\begin{bmatrix} \n",
    "1 & 0 & 0 & 0 \\\\\n",
    "0 & -1 & -1 & -\\theta_1 \\\\\n",
    "0 & 1 & 0 & 0 \\\\\n",
    "0 & 0 & 1 & 0 \n",
    "\\end{bmatrix}\n",
    "$$\n",
    "\n"
   ]
  },
  {
   "cell_type": "code",
   "execution_count": 112,
   "metadata": {
    "collapsed": false
   },
   "outputs": [],
   "source": [
    "def wrapper(theta):\n",
    "    T = pd.DataFrame([\n",
    "        [1,0,0,0],\n",
    "        [0,-1,-1,-theta[0]],\n",
    "        [0,1,0,0],\n",
    "        [0,0,1,0],\n",
    "    ])\n",
    "\n",
    "    H = pd.DataFrame([theta[1]])\n",
    "\n",
    "    Q = pd.DataFrame([\n",
    "        [theta[2],0],\n",
    "        [0,theta[3]],\n",
    "    ])\n",
    "\n",
    "    kf = KalmanFilter(y=y, \n",
    "                      Z=Z.astype(float), \n",
    "                      H=H.astype(float), \n",
    "                      T=T.astype(float), \n",
    "                      Q=Q.astype(float), \n",
    "                      a1=a1.astype(float), \n",
    "                      P1=P1.astype(float), \n",
    "                      R=R.astype(float), \n",
    "                      nStates=4)    \n",
    "\n",
    "    return kf.likelihood()\n"
   ]
  },
  {
   "cell_type": "code",
   "execution_count": 19,
   "metadata": {
    "collapsed": false
   },
   "outputs": [
    {
     "data": {
      "text/plain": [
       "178.72235238157506"
      ]
     },
     "execution_count": 19,
     "metadata": {},
     "output_type": "execute_result"
    }
   ],
   "source": [
    "KalmanFilter(y=y, Z=Z, H=H, T=T, Q=Q, a1=a1, P1=P1, R=R, nStates=4).likelihood()"
   ]
  },
  {
   "cell_type": "code",
   "execution_count": 124,
   "metadata": {
    "collapsed": false
   },
   "outputs": [
    {
     "name": "stderr",
     "output_type": "stream",
     "text": [
      "C:\\Anaconda3\\lib\\site-packages\\scipy\\optimize\\slsqp.py:341: RuntimeWarning: invalid value encountered in greater\n",
      "  bnderr = bnds[:, 0] > bnds[:, 1]\n",
      "O:\\SALES\\Fundos de Mercado\\Notebooks\\Bayesian Econometrics\\KalmanFilter.py:168: RuntimeWarning: invalid value encountered in log\n",
      "  ll += np.log(det(self.Ft[i])) +  self.vt[i].T.dot(inv(self.Ft[i])).dot(self.vt[i])\n"
     ]
    },
    {
     "name": "stdout",
     "output_type": "stream",
     "text": [
      "Optimization terminated successfully.    (Exit mode 0)\n",
      "            Current function value: 95.70628523661136\n",
      "            Iterations: 32\n",
      "            Function evaluations: 302\n",
      "            Gradient evaluations: 31\n"
     ]
    },
    {
     "data": {
      "text/plain": [
       "     fun: 95.70628523661136\n",
       "     jac: array([-0.01836014, -0.01606941, -0.08957958,  0.07501793])\n",
       " message: 'Optimization terminated successfully.'\n",
       "    nfev: 302\n",
       "     nit: 32\n",
       "    njev: 31\n",
       "  status: 0\n",
       " success: True\n",
       "       x: array([ 0.18854634,  0.07107225,  0.00734111,  0.03904031])"
      ]
     },
     "execution_count": 124,
     "metadata": {},
     "output_type": "execute_result"
    }
   ],
   "source": [
    "# minimize(wrapper,np.array([0.0,1.0,1.0,1.0]), options={'disp':True, 'maxiter':100}, method='BFGS')\n",
    "\n",
    "# minimize(wrapper,np.array([0.0,1.0,1.0,1.0]), \n",
    "#          options={'disp':True, 'maxiter':200}, \n",
    "#          bounds = ((-5,5),(0,5),(0,5),(0,5),), \n",
    "#          method='SLSQP',\n",
    "#          )\n",
    "\n",
    "minimize(wrapper,np.array([0.0,1.0,1.0,1.0]), \n",
    "         options={'disp':True, 'maxiter':200}, \n",
    "         bounds = ((-5,5),(None,None),(None,None),(None,None),), \n",
    "         method='SLSQP',\n",
    "         )\n",
    "\n",
    "# minimize(wrapper,np.array([0.0,1.0,1.0]), \n",
    "#          options={'disp':True, 'maxiter':1000}, \n",
    "#          bounds = ((0,2),(0,2),(0,2),),\n",
    "#          method='SLSQP')"
   ]
  },
  {
   "cell_type": "markdown",
   "metadata": {},
   "source": [
    "# Bayesian Estimates\n",
    "\n",
    "## Metropolis Hastings\n",
    "\n",
    "---\n",
    "**Metropolis-Hastings Algoritm**\n",
    "\n",
    "Guess $\\theta^{(0)}$ and for $i=0$ until $n$: \n",
    "1. $\\theta=\\theta^{(i)}$\n",
    "Draw $\\theta'\\sim q(\\theta'|\\theta)$\n",
    "2. Compute $r=\\min(1,\\alpha)$ where $\\alpha= \\frac{p(\\theta')q(\\theta|\\theta')}{p(\\theta)q(\\theta'|\\theta)}$\n",
    "4. Draw $u\\sim U(0,1)$\n",
    "5. $\\theta^{(i+1)}=\\begin{cases}\\theta' & \\text{if $u<r$}\\\\\\theta & \\text{if $u\\geq r$}\\end{cases}$\n",
    "\n",
    "---"
   ]
  },
  {
   "cell_type": "code",
   "execution_count": null,
   "metadata": {
    "collapsed": true
   },
   "outputs": [],
   "source": [
    "def wrapper(theta):\n",
    "    T = pd.DataFrame([\n",
    "        [1,0,0,0],\n",
    "        [0,-1,-1,-theta[0]],\n",
    "        [0,1,0,0],\n",
    "        [0,0,1,0],\n",
    "    ])\n",
    "\n",
    "    H = pd.DataFrame([theta[1]])\n",
    "\n",
    "    Q = pd.DataFrame([\n",
    "        [theta[2],0],\n",
    "        [0,theta[3]],\n",
    "    ])\n",
    "\n",
    "    kf = KalmanFilter(y=y, \n",
    "                      Z=Z.astype(float), \n",
    "                      H=H.astype(float), \n",
    "                      T=T.astype(float), \n",
    "                      Q=Q.astype(float), \n",
    "                      a1=a1.astype(float), \n",
    "                      P1=P1.astype(float), \n",
    "                      R=R.astype(float), \n",
    "                      nStates=4)    \n",
    "\n",
    "    return kf.likelihood()\n"
   ]
  },
  {
   "cell_type": "code",
   "execution_count": 34,
   "metadata": {
    "collapsed": false
   },
   "outputs": [],
   "source": [
    "def posterior(theta,priorMeans, priorVariances):\n",
    "    \n",
    "    temp = 1\n",
    "    for i in range(0,priorMeans.shape[0]):\n",
    "        temp *= norm.pdf(theta[i],priorMeans[i],priorVariances[i])\n",
    "    \n",
    "    return wrapper(theta) * temp"
   ]
  },
  {
   "cell_type": "code",
   "execution_count": 88,
   "metadata": {
    "collapsed": false
   },
   "outputs": [
    {
     "name": "stderr",
     "output_type": "stream",
     "text": [
      "C:\\Anaconda3\\lib\\site-packages\\ipykernel\\__main__.py:21: RuntimeWarning: divide by zero encountered in log\n",
      "C:\\Anaconda3\\lib\\site-packages\\ipykernel\\__main__.py:21: RuntimeWarning: invalid value encountered in double_scalars\n",
      "O:\\SALES\\Fundos de Mercado\\Notebooks\\Bayesian Econometrics\\KalmanFilter.py:168: RuntimeWarning: invalid value encountered in log\n",
      "  ll += np.log(det(self.Ft[i])) +  self.vt[i].T.dot(inv(self.Ft[i])).dot(self.vt[i])\n"
     ]
    }
   ],
   "source": [
    "# %%timeit -n 3\n",
    "\n",
    "sample = 20000\n",
    "\n",
    "thetaMH = []\n",
    "accept = np.zeros([sample])\n",
    "\n",
    "thetaMH.append(np.array([0.5,0.1,0.1,0.1]))\n",
    "\n",
    "sigmas = np.array([1,2,2,2])\n",
    "\n",
    "\n",
    "priorMeans = np.array([0,0,0,0])\n",
    "\n",
    "priorVariances = 3 * np.ones(4)\n",
    "\n",
    "for i in range(1,sample):\n",
    "    disturbance = np.multiply(np.random.randn(thetaMH[0].shape[0]),sigmas)\n",
    "#     print(disturbance)\n",
    "    thetaTemp = (thetaMH[i-1] + disturbance)\n",
    "    lalpha = np.log(posterior(thetaTemp,priorMeans, priorVariances)) - np.log(posterior(thetaMH[i-1],priorMeans, priorVariances))\n",
    "    r = np.min([1, np.exp(lalpha)])\n",
    "    \n",
    "    u = np.random.uniform()\n",
    "    \n",
    "    if u < r:\n",
    "        accept[i] = 1\n",
    "        thetaMH.append(thetaTemp)\n",
    "    else:\n",
    "        thetaMH.append(thetaMH[i-1])\n",
    "    \n",
    "    "
   ]
  },
  {
   "cell_type": "code",
   "execution_count": 89,
   "metadata": {
    "collapsed": false
   },
   "outputs": [],
   "source": [
    "post = pd.DataFrame(thetaMH)"
   ]
  },
  {
   "cell_type": "code",
   "execution_count": 90,
   "metadata": {
    "collapsed": false
   },
   "outputs": [
    {
     "data": {
      "text/plain": [
       "0.26645000000000002"
      ]
     },
     "execution_count": 90,
     "metadata": {},
     "output_type": "execute_result"
    }
   ],
   "source": [
    "accept.sum() / accept.shape[0]"
   ]
  },
  {
   "cell_type": "code",
   "execution_count": 91,
   "metadata": {
    "collapsed": true
   },
   "outputs": [],
   "source": [
    "parameter = 0"
   ]
  },
  {
   "cell_type": "code",
   "execution_count": 92,
   "metadata": {
    "collapsed": false
   },
   "outputs": [
    {
     "data": {
      "text/plain": [
       "-0.6487654149691697"
      ]
     },
     "execution_count": 92,
     "metadata": {},
     "output_type": "execute_result"
    }
   ],
   "source": [
    "post[parameter].iloc[500:].median()"
   ]
  },
  {
   "cell_type": "code",
   "execution_count": 93,
   "metadata": {
    "collapsed": false
   },
   "outputs": [
    {
     "data": {
      "text/plain": [
       "-0.4505008147811957"
      ]
     },
     "execution_count": 93,
     "metadata": {},
     "output_type": "execute_result"
    }
   ],
   "source": [
    "post[parameter].iloc[500:].mean()"
   ]
  },
  {
   "cell_type": "code",
   "execution_count": 94,
   "metadata": {
    "collapsed": false
   },
   "outputs": [
    {
     "data": {
      "text/plain": [
       "<matplotlib.axes._subplots.AxesSubplot at 0x2b4713abcc0>"
      ]
     },
     "execution_count": 94,
     "metadata": {},
     "output_type": "execute_result"
    },
    {
     "data": {
      "image/png": "[encoded data removed]",
      "text/plain": [
       "<matplotlib.figure.Figure at 0x2b471413550>"
      ]
     },
     "metadata": {},
     "output_type": "display_data"
    }
   ],
   "source": [
    "post[parameter].iloc[500:].hist()"
   ]
  },
  {
   "cell_type": "code",
   "execution_count": 95,
   "metadata": {
    "collapsed": true
   },
   "outputs": [],
   "source": [
    "def wrapper(theta):\n",
    "    T = pd.DataFrame([\n",
    "        [1,0,0,0],\n",
    "        [0,-1,-1,-theta[0]],\n",
    "        [0,1,0,0],\n",
    "        [0,0,1,0],\n",
    "    ])\n",
    "\n",
    "    H = pd.DataFrame([0.3])\n",
    "\n",
    "    Q = pd.DataFrame([\n",
    "        [0.1,0],\n",
    "        [0,0.2],\n",
    "    ])\n",
    "\n",
    "    kf = KalmanFilter(y=y, \n",
    "                      Z=Z.astype(float), \n",
    "                      H=H.astype(float), \n",
    "                      T=T.astype(float), \n",
    "                      Q=Q.astype(float), \n",
    "                      a1=a1.astype(float), \n",
    "                      P1=P1.astype(float), \n",
    "                      R=R.astype(float), \n",
    "                      nStates=4)    \n",
    "\n",
    "    return kf.likelihood()\n"
   ]
  },
  {
   "cell_type": "code",
   "execution_count": 96,
   "metadata": {
    "collapsed": true
   },
   "outputs": [],
   "source": [
    "# %%timeit -n 3\n",
    "\n",
    "sample = 20000\n",
    "\n",
    "thetaMH = []\n",
    "accept = np.zeros([sample])\n",
    "\n",
    "thetaMH.append(np.array([0.5]))\n",
    "\n",
    "sigmas = np.array([1])\n",
    "\n",
    "\n",
    "priorMeans = np.array([0])\n",
    "\n",
    "priorVariances = 3 * np.ones(1)\n",
    "\n",
    "for i in range(1,sample):\n",
    "    disturbance = np.multiply(np.random.randn(thetaMH[0].shape[0]),sigmas)\n",
    "#     print(disturbance)\n",
    "    thetaTemp = (thetaMH[i-1] + disturbance)\n",
    "    lalpha = np.log(posterior(thetaTemp,priorMeans, priorVariances)) - np.log(posterior(thetaMH[i-1],priorMeans, priorVariances))\n",
    "    r = np.min([1, np.exp(lalpha)])\n",
    "    \n",
    "    u = np.random.uniform()\n",
    "    \n",
    "    if u < r:\n",
    "        accept[i] = 1\n",
    "        thetaMH.append(thetaTemp)\n",
    "    else:\n",
    "        thetaMH.append(thetaMH[i-1])\n",
    "    \n",
    "    "
   ]
  },
  {
   "cell_type": "code",
   "execution_count": 97,
   "metadata": {
    "collapsed": false
   },
   "outputs": [],
   "source": [
    "post = pd.DataFrame(thetaMH)"
   ]
  },
  {
   "cell_type": "code",
   "execution_count": 98,
   "metadata": {
    "collapsed": false
   },
   "outputs": [
    {
     "data": {
      "text/plain": [
       "0.90749999999999997"
      ]
     },
     "execution_count": 98,
     "metadata": {},
     "output_type": "execute_result"
    }
   ],
   "source": [
    "accept.sum() / accept.shape[0]"
   ]
  },
  {
   "cell_type": "code",
   "execution_count": 99,
   "metadata": {
    "collapsed": true
   },
   "outputs": [],
   "source": [
    "parameter = 0"
   ]
  },
  {
   "cell_type": "code",
   "execution_count": 100,
   "metadata": {
    "collapsed": false
   },
   "outputs": [
    {
     "data": {
      "text/plain": [
       "0.2895795714748521"
      ]
     },
     "execution_count": 100,
     "metadata": {},
     "output_type": "execute_result"
    }
   ],
   "source": [
    "post[parameter].iloc[500:].median()"
   ]
  },
  {
   "cell_type": "code",
   "execution_count": 101,
   "metadata": {
    "collapsed": false
   },
   "outputs": [
    {
     "data": {
      "text/plain": [
       "0.29904547351032423"
      ]
     },
     "execution_count": 101,
     "metadata": {},
     "output_type": "execute_result"
    }
   ],
   "source": [
    "post[parameter].iloc[500:].mean()"
   ]
  },
  {
   "cell_type": "code",
   "execution_count": 102,
   "metadata": {
    "collapsed": false
   },
   "outputs": [
    {
     "data": {
      "text/plain": [
       "<matplotlib.axes._subplots.AxesSubplot at 0x2b47182f5f8>"
      ]
     },
     "execution_count": 102,
     "metadata": {},
     "output_type": "execute_result"
    },
    {
     "data": {
      "image/png": "[encoded data removed]",
      "text/plain": [
       "<matplotlib.figure.Figure at 0x2b47149aac8>"
      ]
     },
     "metadata": {},
     "output_type": "display_data"
    }
   ],
   "source": [
    "post[parameter].iloc[500:].hist()"
   ]
  },
  {
   "cell_type": "code",
   "execution_count": null,
   "metadata": {
    "collapsed": true
   },
   "outputs": [],
   "source": []
  }
 ],
 "metadata": {
  "anaconda-cloud": {},
  "kernelspec": {
   "display_name": "Python [Root]",
   "language": "python",
   "name": "Python [Root]"
  },
  "language_info": {
   "codemirror_mode": {
    "name": "ipython",
    "version": 3
   },
   "file_extension": ".py",
   "mimetype": "text/x-python",
   "name": "python",
   "nbconvert_exporter": "python",
   "pygments_lexer": "ipython3",
   "version": "3.5.2"
  }
 },
 "nbformat": 4,
 "nbformat_minor": 0
}
