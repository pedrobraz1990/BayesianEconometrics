{
 "cells": [
  {
   "cell_type": "code",
   "execution_count": 107,
   "metadata": {
    "collapsed": false
   },
   "outputs": [
    {
     "name": "stdout",
     "output_type": "stream",
     "text": [
      "The Cython extension is already loaded. To reload it, use:\n",
      "  %reload_ext Cython\n",
      "The autotime extension is already loaded. To reload it, use:\n",
      "  %reload_ext autotime\n",
      "The snakeviz extension is already loaded. To reload it, use:\n",
      "  %reload_ext snakeviz\n",
      "time: 12 ms\n"
     ]
    }
   ],
   "source": [
    "%matplotlib inline\n",
    "import numpy as np\n",
    "import pandas as pd\n",
    "import scipy as sp\n",
    "from scipy.optimize import minimize\n",
    "from scipy.stats import norm\n",
    "from scipy.stats import chi2\n",
    "import cython\n",
    "import matplotlib.pyplot as plt\n",
    "import matplotlib\n",
    "matplotlib.style.use('ggplot')\n",
    "%load_ext Cython\n",
    "\n",
    "\n",
    "from KalmanFilter import KalmanFilter as KFPedro\n",
    "from KF_py import KalmanFilter as KF\n",
    "from KF_py2 import KalmanFilter as KF2\n",
    "from KalmanFilter_Uni import KalmanFilter as KFU\n",
    "from KalmanFilter_UniCy import KalmanFilter as KFUC\n",
    "\n",
    "\n",
    "%load_ext autotime\n",
    "%load_ext snakeviz"
   ]
  },
  {
   "cell_type": "markdown",
   "metadata": {},
   "source": [
    "# Bayesian Econometrics - Final Paper\n",
    "\n",
    "Paper to be delivered as the course's final paper\n",
    "\n",
    "Pedro Montero Mattos\n",
    "\n",
    "MPE - Econometria\n",
    "\n",
    "\\#333791"
   ]
  },
  {
   "cell_type": "markdown",
   "metadata": {},
   "source": [
    "# The Model - Local Level with Seasonal Component\n",
    "\n",
    "As described in the chapter 4 in Koopman et al. The local level model with a seasonal component consists of the following equations:\n",
    "\n",
    "$$y_t = \\mu_t + \\gamma_t + \\epsilon_t, \\qquad \\epsilon_t \\sim NID(0,\\sigma^2_\\epsilon)$$\n",
    "\n",
    "$$\\mu_{t+1} = \\mu_t + \\xi_t, \\qquad \\xi_t \\sim NID(0,\\sigma^2_\\xi) $$\n",
    "\n",
    "$$\\gamma_{t+1} = -\\gamma_{t} - \\gamma_{t-1} - \\theta_1\\gamma_{t-2} + \\omega_t \\sim NID(0,\\sigma^2_\\omega) $$\n",
    "\n",
    "\n",
    "We added a $\\theta$ coefficient in order to use maximum likelihood estimation"
   ]
  },
  {
   "cell_type": "markdown",
   "metadata": {},
   "source": [
    "## State Space Form\n",
    "\n",
    "General Form:\n",
    "\n",
    "$$ y_t = Z x_t + \\epsilon_t, \\qquad \\epsilon_t \\sim NID(0,\\sigma^2_\\epsilon)$$\n",
    "$$ x_{t+1} = T x_t + R_t \\eta_T, \\qquad \\eta_t \\sim NID(0,Qt) $$"
   ]
  },
  {
   "cell_type": "markdown",
   "metadata": {},
   "source": [
    "In terms of the model:\n",
    "$$ \n",
    "x_t = \n",
    "\\begin{pmatrix}\\mu_t \\\\ \\gamma_t  \\\\  \\gamma_{t-1}   \\\\ \\gamma_{t-2}  \\end{pmatrix}\n",
    "$$"
   ]
  },
  {
   "cell_type": "markdown",
   "metadata": {},
   "source": [
    "$$\n",
    "\\eta_t = \n",
    "\\begin{pmatrix}\\xi_t \\\\ \\omega_t \\end{pmatrix}\n",
    "$$"
   ]
  },
  {
   "cell_type": "markdown",
   "metadata": {},
   "source": [
    "$$\n",
    "T_t = \n",
    "\\begin{bmatrix} \n",
    "1 & 0 & 0 & 0 \\\\\n",
    "0 & -1 & -1 & -\\theta_1 \\\\\n",
    "0 & 1 & 0 & 0 \\\\\n",
    "0 & 0 & 1 & 0 \n",
    "\\end{bmatrix}\n",
    "$$\n",
    "\n"
   ]
  },
  {
   "cell_type": "markdown",
   "metadata": {},
   "source": [
    "$$\n",
    "Z^T_t = \n",
    "\\begin{pmatrix}1 \\\\ 1  \\\\  0   \\\\ 0  \\end{pmatrix}\n",
    "$$"
   ]
  },
  {
   "cell_type": "markdown",
   "metadata": {},
   "source": [
    "$$\n",
    "Q_t = \n",
    "\\begin{bmatrix} \n",
    "\\sigma^2_\\xi & 0 \\\\\n",
    "0 & \\sigma^2_\\omega \\\\\n",
    "\\end{bmatrix}\n",
    "$$"
   ]
  },
  {
   "cell_type": "markdown",
   "metadata": {},
   "source": [
    "$$\n",
    "R_t = \n",
    "\\begin{bmatrix} \n",
    "1 & 0  \\\\\n",
    "0 & 1  \\\\\n",
    "0 & 0  \\\\\n",
    "0 & 0  \\\\\n",
    "\\end{bmatrix}\n",
    "$$"
   ]
  },
  {
   "cell_type": "markdown",
   "metadata": {},
   "source": [
    "$$\n",
    "H_t = \n",
    "\\begin{bmatrix} \n",
    "\\sigma^2_\\epsilon\n",
    "\\end{bmatrix}\n",
    "$$"
   ]
  },
  {
   "cell_type": "markdown",
   "metadata": {},
   "source": [
    "# Generating the data for $\\theta_1=0.7$\n",
    "\n",
    "We have to choose all parameter values plus the initial states\n",
    "\n",
    "$$\\gamma_t = \\gamma_{t-1} = \\gamma_{t-2} = 0$$\n",
    "$$\\theta_1 = 0.7$$\n",
    "$$\\sigma^2_\\xi = 0.1$$\n",
    "$$\\sigma^2_\\omega = 0.2$$\n",
    "$$\\sigma^2_\\epsilon = 0.3$$\n",
    "\n",
    "\n"
   ]
  },
  {
   "cell_type": "code",
   "execution_count": 2,
   "metadata": {
    "collapsed": false
   },
   "outputs": [
    {
     "name": "stdout",
     "output_type": "stream",
     "text": [
      "time: 2 ms\n"
     ]
    }
   ],
   "source": [
    "n = 200\n",
    "theta1 = 0.7\n",
    "sigmaXi = 0.1 ** 0.5\n",
    "sigmaOmega = 0.2 ** 0.5\n",
    "sigmaEpsilon = 0.3 ** 0.5"
   ]
  },
  {
   "cell_type": "code",
   "execution_count": 3,
   "metadata": {
    "collapsed": false
   },
   "outputs": [
    {
     "data": {
      "text/plain": [
       "<matplotlib.axes._subplots.AxesSubplot at 0x218bad17f60>"
      ]
     },
     "execution_count": 3,
     "metadata": {},
     "output_type": "execute_result"
    },
    {
     "data": {
      "image/png": "[encoded data removed]",
      "text/plain": [
       "<matplotlib.figure.Figure at 0x218b7d567b8>"
      ]
     },
     "metadata": {},
     "output_type": "display_data"
    },
    {
     "name": "stdout",
     "output_type": "stream",
     "text": [
      "time: 403 ms\n"
     ]
    }
   ],
   "source": [
    "y = np.array([0])\n",
    "mi = np.array([0])\n",
    "gamma = np.array([0])\n",
    "\n",
    "xi = np.array([0])\n",
    "omega = np.array([0])\n",
    "ep = np.array([0])\n",
    "\n",
    "for i in range(1,n):\n",
    "\n",
    "    # Level equation\n",
    "    xi = np.append(xi,np.random.normal(scale=sigmaXi))\n",
    "    mi = np.append(mi,mi[i-1]+xi[i])\n",
    "    \n",
    "    # Seasonality equation\n",
    "    omega = np.append(omega,np.random.normal(scale=sigmaOmega))\n",
    "    holder = 0\n",
    "    if i-1 >= 0:\n",
    "        holder -= gamma[i-1] \n",
    "    if i-2 >= 0:\n",
    "        holder -= gamma[i-2] \n",
    "    if i-3 >= 0:\n",
    "        holder -= gamma[i-3] * theta1\n",
    "    \n",
    "    gamma = np.append(gamma,holder+omega[i])\n",
    "    \n",
    "    # Series equation\n",
    "    ep = np.append(ep,np.random.normal(scale=sigmaEpsilon))\n",
    "    y = np.append(y,mi[i]+gamma[i]+ep[i])\n",
    "\n",
    "y = pd.DataFrame(y) \n",
    "mi = pd.DataFrame(mi) \n",
    "gamma = pd.DataFrame(gamma) \n",
    "\n",
    "nny = y.copy()\n",
    "probNan= 0.20\n",
    "for i in nny.index:\n",
    "    ran = np.random.uniform(size=nny.iloc[i].shape)\n",
    "    nny.iloc[i][ran<probNan] = np.nan\n",
    "\n",
    "\n",
    "\n",
    "y.plot()"
   ]
  },
  {
   "cell_type": "markdown",
   "metadata": {},
   "source": [
    "# Maximum Likelihood Estimates\n",
    "\n",
    "Define a wrapper function that maps the theta vector of parameters to the state space matrices\n",
    "\n",
    "$$\\theta = [\\theta_1, \\sigma^2_\\epsilon, \\sigma^2_\\xi, \\sigma^2_\\omega]'$$\n",
    "\n",
    "The functions return the negative of the likelihood because the scipy optimization algorithms only minimize functions. Also we use the logarithm for numerical reasons."
   ]
  },
  {
   "cell_type": "code",
   "execution_count": 4,
   "metadata": {
    "collapsed": false
   },
   "outputs": [
    {
     "name": "stdout",
     "output_type": "stream",
     "text": [
      "time: 9.03 ms\n"
     ]
    }
   ],
   "source": [
    "def wrapper(theta):\n",
    "    T = pd.DataFrame([\n",
    "        [1,0,0,0],\n",
    "        [0,-1,-1,-theta[0]],\n",
    "        [0,1,0,0],\n",
    "        [0,0,1,0],\n",
    "    ])\n",
    "\n",
    "    H = pd.DataFrame([theta[1]])\n",
    "\n",
    "    Q = pd.DataFrame([\n",
    "        [theta[2],0],\n",
    "        [0,theta[3]],\n",
    "    ])\n",
    "\n",
    "    kf = KF(y=np.array(y), \n",
    "                      Z=np.array(Z.astype(float)), \n",
    "                      H=np.array(H.astype(float)), \n",
    "                      T=np.array(T.astype(float)), \n",
    "                      Q=np.array(Q.astype(float)), \n",
    "                      a1=np.zeros((4)), \n",
    "                      P1=np.identity(4), \n",
    "                      R=np.array(R.astype(float)), \n",
    "                      nStates=4,)    \n",
    "\n",
    "    return -np.log(kf['ll']*10e6)"
   ]
  },
  {
   "cell_type": "markdown",
   "metadata": {},
   "source": [
    "## Define the additional state space matrices"
   ]
  },
  {
   "cell_type": "code",
   "execution_count": 5,
   "metadata": {
    "collapsed": false
   },
   "outputs": [
    {
     "name": "stdout",
     "output_type": "stream",
     "text": [
      "time: 6.52 ms\n"
     ]
    }
   ],
   "source": [
    "Z = pd.DataFrame([\n",
    "        [1,1,0,0],\n",
    "    ])\n",
    "\n",
    "R = pd.DataFrame([\n",
    "        [1,0],\n",
    "        [0,1],\n",
    "        [0,0],\n",
    "        [0,0],\n",
    "    ])"
   ]
  },
  {
   "cell_type": "markdown",
   "metadata": {},
   "source": [
    "Minimize the wrapper function, with the following initial values for $\\theta$:\n",
    "\n",
    "$$\\theta = [0.5, 1, 1, 1]'$$\n",
    "    "
   ]
  },
  {
   "cell_type": "code",
   "execution_count": 6,
   "metadata": {
    "collapsed": false
   },
   "outputs": [
    {
     "name": "stdout",
     "output_type": "stream",
     "text": [
      "time: 4.02 ms\n"
     ]
    }
   ],
   "source": [
    "initialTheta = np.array([0.5,1.0,1.0,1.0])"
   ]
  },
  {
   "cell_type": "code",
   "execution_count": 7,
   "metadata": {
    "collapsed": false
   },
   "outputs": [
    {
     "name": "stderr",
     "output_type": "stream",
     "text": [
      "O:\\SALES\\Fundos de Mercado\\Notebooks\\BayesianEconometrics\\KF_py.py:147: RuntimeWarning: invalid value encountered in log\n",
      "  ll += np.log(det(Ft[:dims[t],:dims[t],t])) + vt[t,inds[t,:]].T.dot(inv(Ft[:dims[t],:dims[t],t])).dot(vt[t,inds[t,:]])\n"
     ]
    },
    {
     "name": "stdout",
     "output_type": "stream",
     "text": [
      "Optimization terminated successfully.    (Exit mode 0)\n",
      "            Current function value: 285.4495679727441\n",
      "            Iterations: 12\n",
      "            Function evaluations: 92\n",
      "            Gradient evaluations: 12\n"
     ]
    },
    {
     "data": {
      "text/plain": [
       "     fun: 285.4495679727441\n",
       "     jac: array([-0.00365067, -0.0043869 , -0.00381851,  0.0036087 ])\n",
       " message: 'Optimization terminated successfully.'\n",
       "    nfev: 92\n",
       "     nit: 12\n",
       "    njev: 12\n",
       "  status: 0\n",
       " success: True\n",
       "       x: array([ 0.74229052,  0.4063087 ,  0.09963451,  0.16397165])"
      ]
     },
     "execution_count": 7,
     "metadata": {},
     "output_type": "execute_result"
    },
    {
     "name": "stdout",
     "output_type": "stream",
     "text": [
      "time: 1.89 s\n"
     ]
    }
   ],
   "source": [
    "minimize(wrapper,initialTheta, \n",
    "         options={'disp':True, 'maxiter':1000}, \n",
    "#          bounds = ((-5,5),(None,None),(None,None),(None,None),), \n",
    "         method='SLSQP',\n",
    "         )"
   ]
  },
  {
   "cell_type": "code",
   "execution_count": 8,
   "metadata": {
    "collapsed": false
   },
   "outputs": [
    {
     "name": "stderr",
     "output_type": "stream",
     "text": [
      "O:\\SALES\\Fundos de Mercado\\Notebooks\\BayesianEconometrics\\KF_py.py:147: RuntimeWarning: invalid value encountered in log\n",
      "  ll += np.log(det(Ft[:dims[t],:dims[t],t])) + vt[t,inds[t,:]].T.dot(inv(Ft[:dims[t],:dims[t],t])).dot(vt[t,inds[t,:]])\n",
      "C:\\Anaconda3\\lib\\site-packages\\ipykernel\\__main__.py:26: RuntimeWarning: divide by zero encountered in log\n",
      "C:\\Anaconda3\\lib\\site-packages\\scipy\\optimize\\optimize.py:1850: RuntimeWarning: invalid value encountered in double_scalars\n",
      "  tmp2 = (x - v) * (fx - fw)\n",
      "C:\\Anaconda3\\lib\\site-packages\\scipy\\optimize\\optimize.py:1849: RuntimeWarning: invalid value encountered in double_scalars\n",
      "  tmp1 = (x - w) * (fx - fv)\n",
      "C:\\Anaconda3\\lib\\site-packages\\scipy\\optimize\\optimize.py:2439: RuntimeWarning: invalid value encountered in double_scalars\n",
      "  if (fx2 - fval) > delta:\n",
      "C:\\Anaconda3\\lib\\site-packages\\scipy\\optimize\\optimize.py:2448: RuntimeWarning: invalid value encountered in double_scalars\n",
      "  if 2.0 * (fx - fval) <= bnd:\n"
     ]
    },
    {
     "name": "stdout",
     "output_type": "stream",
     "text": [
      "Warning: Maximum number of iterations has been exceeded.\n"
     ]
    },
    {
     "data": {
      "text/plain": [
       "   direc: array([[ 1.,  0.,  0.,  0.],\n",
       "       [ 0.,  1.,  0.,  0.],\n",
       "       [ 0.,  0.,  1.,  0.],\n",
       "       [ 0.,  0.,  0.,  1.]])\n",
       "     fun: inf\n",
       " message: 'Maximum number of iterations has been exceeded.'\n",
       "    nfev: 24541\n",
       "     nit: 500\n",
       "  status: 2\n",
       " success: False\n",
       "       x: array([ 1286.63087361,  1281.39851389,  1291.61942874,  1295.17589315])"
      ]
     },
     "execution_count": 8,
     "metadata": {},
     "output_type": "execute_result"
    },
    {
     "name": "stdout",
     "output_type": "stream",
     "text": [
      "time: 7min 34s\n"
     ]
    }
   ],
   "source": [
    "minimize(wrapper,initialTheta, \n",
    "         options={'disp':True, 'maxiter':500}, \n",
    "#          bounds = ((-5,5),(None,None),(None,None),(None,None),), \n",
    "         method='Powell',\n",
    "         )"
   ]
  },
  {
   "cell_type": "code",
   "execution_count": 9,
   "metadata": {
    "collapsed": false
   },
   "outputs": [
    {
     "name": "stderr",
     "output_type": "stream",
     "text": [
      "O:\\SALES\\Fundos de Mercado\\Notebooks\\BayesianEconometrics\\KF_py.py:147: RuntimeWarning: invalid value encountered in log\n",
      "  ll += np.log(det(Ft[:dims[t],:dims[t],t])) + vt[t,inds[t,:]].T.dot(inv(Ft[:dims[t],:dims[t],t])).dot(vt[t,inds[t,:]])\n",
      "C:\\Anaconda3\\lib\\site-packages\\numpy\\linalg\\linalg.py:1821: RuntimeWarning: invalid value encountered in det\n",
      "  r = _umath_linalg.det(a, signature=signature)\n",
      "O:\\SALES\\Fundos de Mercado\\Notebooks\\BayesianEconometrics\\KF_py.py:147: RuntimeWarning: invalid value encountered in log\n",
      "  ll += np.log(det(Ft[:dims[t],:dims[t],t])) + vt[t,inds[t,:]].T.dot(inv(Ft[:dims[t],:dims[t],t])).dot(vt[t,inds[t,:]])\n"
     ]
    },
    {
     "name": "stdout",
     "output_type": "stream",
     "text": [
      "Warning: Desired error not necessarily achieved due to precision loss.\n",
      "         Current function value: nan\n",
      "         Iterations: 1\n",
      "         Function evaluations: 672\n",
      "         Gradient evaluations: 112\n"
     ]
    },
    {
     "name": "stderr",
     "output_type": "stream",
     "text": [
      "O:\\SALES\\Fundos de Mercado\\Notebooks\\BayesianEconometrics\\KF_py.py:147: RuntimeWarning: invalid value encountered in log\n",
      "  ll += np.log(det(Ft[:dims[t],:dims[t],t])) + vt[t,inds[t,:]].T.dot(inv(Ft[:dims[t],:dims[t],t])).dot(vt[t,inds[t,:]])\n"
     ]
    },
    {
     "data": {
      "text/plain": [
       "      fun: nan\n",
       " hess_inv: array([[1, 0, 0, 0],\n",
       "       [0, 1, 0, 0],\n",
       "       [0, 0, 1, 0],\n",
       "       [0, 0, 0, 1]])\n",
       "      jac: array([ nan,  nan,  nan,  nan])\n",
       "  message: 'Desired error not necessarily achieved due to precision loss.'\n",
       "     nfev: 672\n",
       "      nit: 1\n",
       "     njev: 112\n",
       "   status: 2\n",
       "  success: False\n",
       "        x: array([ 304.4944104 , -376.49731568, -575.20098123, -708.03313176])"
      ]
     },
     "execution_count": 9,
     "metadata": {},
     "output_type": "execute_result"
    },
    {
     "name": "stdout",
     "output_type": "stream",
     "text": [
      "time: 13 s\n"
     ]
    }
   ],
   "source": [
    "minimize(wrapper,initialTheta, \n",
    "         options={'disp':True, 'maxiter':500}, \n",
    "#          bounds = ((-5,5),(None,None),(None,None),(None,None),), \n",
    "         method='BFGS',\n",
    "         )"
   ]
  },
  {
   "cell_type": "code",
   "execution_count": 10,
   "metadata": {
    "collapsed": false
   },
   "outputs": [
    {
     "name": "stderr",
     "output_type": "stream",
     "text": [
      "O:\\SALES\\Fundos de Mercado\\Notebooks\\BayesianEconometrics\\KF_py.py:147: RuntimeWarning: invalid value encountered in log\n",
      "  ll += np.log(det(Ft[:dims[t],:dims[t],t])) + vt[t,inds[t,:]].T.dot(inv(Ft[:dims[t],:dims[t],t])).dot(vt[t,inds[t,:]])\n"
     ]
    },
    {
     "name": "stdout",
     "output_type": "stream",
     "text": [
      "Optimization terminated successfully.\n",
      "         Current function value: 285.449568\n",
      "         Iterations: 167\n",
      "         Function evaluations: 283\n"
     ]
    },
    {
     "data": {
      "text/plain": [
       " final_simplex: (array([[ 0.74233412,  0.40633981,  0.09962646,  0.16396458],\n",
       "       [ 0.74227965,  0.40640911,  0.0996307 ,  0.16394409],\n",
       "       [ 0.74234676,  0.40642985,  0.09963648,  0.16394177],\n",
       "       [ 0.74230941,  0.40643802,  0.09963389,  0.16396075],\n",
       "       [ 0.74229247,  0.40626128,  0.09965796,  0.16400237]]), array([ 285.44956805,  285.44956806,  285.44956822,  285.44956834,\n",
       "        285.44956868]))\n",
       "           fun: 285.44956805141283\n",
       "       message: 'Optimization terminated successfully.'\n",
       "          nfev: 283\n",
       "           nit: 167\n",
       "        status: 0\n",
       "       success: True\n",
       "             x: array([ 0.74233412,  0.40633981,  0.09962646,  0.16396458])"
      ]
     },
     "execution_count": 10,
     "metadata": {},
     "output_type": "execute_result"
    },
    {
     "name": "stdout",
     "output_type": "stream",
     "text": [
      "time: 5.36 s\n"
     ]
    }
   ],
   "source": [
    "minimize(wrapper,initialTheta, \n",
    "         options={'disp':True, 'maxiter':500}, \n",
    "#          bounds = ((-5,5),(None,None),(None,None),(None,None),), \n",
    "         method='Nelder-Mead',\n",
    "         )"
   ]
  },
  {
   "cell_type": "markdown",
   "metadata": {},
   "source": [
    "# Bayesian Estimates\n",
    "\n",
    "## Wrapper, Priors and Posteriors\n",
    "\n",
    "We chose to use the following priors:\n",
    "\n",
    "$$\\theta_1 \\sim N(0,1)$$\n",
    "$$\\sigma^2_\\epsilon \\sim \\chi_2(1)$$\n",
    "$$\\sigma^2_\\xi \\sim \\chi_2(1)$$\n",
    "$$\\sigma^2_\\omega \\sim \\chi_2(1)$$"
   ]
  },
  {
   "cell_type": "code",
   "execution_count": 74,
   "metadata": {
    "collapsed": false
   },
   "outputs": [
    {
     "name": "stdout",
     "output_type": "stream",
     "text": [
      "time: 8.02 ms\n"
     ]
    }
   ],
   "source": [
    "def posterior(theta,priorMeans, priorVariances):\n",
    "    \n",
    "    i=0\n",
    "    priors = []\n",
    "    priors.append(norm.pdf(theta[i],priorMeans[i],priorVariances[i]))\n",
    "    priors.append(chi2.pdf(theta[1],1))\n",
    "    priors.append(chi2.pdf(theta[2],1))\n",
    "    priors.append(chi2.pdf(theta[3],1))\n",
    "    \n",
    "    \n",
    "    temp = priors[i]\n",
    "    for i in range(1,3+1):\n",
    "        temp *= priors[i]\n",
    "    \n",
    "    ll = wrapper(theta)\n",
    "\n",
    "\n",
    "#     ll *= 10e-200\n",
    "#     print(ll)\n",
    "    return {'post' : ll * temp, 'priors' : np.array(priors)}"
   ]
  },
  {
   "cell_type": "code",
   "execution_count": 67,
   "metadata": {
    "collapsed": false
   },
   "outputs": [
    {
     "name": "stdout",
     "output_type": "stream",
     "text": [
      "time: 10 ms\n"
     ]
    }
   ],
   "source": [
    "def wrapper(theta):\n",
    "    T = pd.DataFrame([\n",
    "        [1,0,0,0],\n",
    "        [0,-1,-1,-theta[0]],\n",
    "        [0,1,0,0],\n",
    "        [0,0,1,0],\n",
    "    ])\n",
    "\n",
    "    H = pd.DataFrame([theta[1]])\n",
    "\n",
    "    Q = pd.DataFrame([\n",
    "        [theta[2],0],\n",
    "        [0,theta[3]],\n",
    "    ])\n",
    "\n",
    "    kf = KFUC(y=np.array(y), \n",
    "                      Z=np.array(Z.astype(float)), \n",
    "                      H=np.array(H.astype(float)), \n",
    "                      T=np.array(T.astype(float)), \n",
    "                      Q=np.array(Q.astype(float)), \n",
    "                      a1=np.zeros((4)), \n",
    "                      P1=np.identity(4), \n",
    "                      R=np.array(R.astype(float)), \n",
    "                      nStates=4,)    \n",
    "\n",
    "    return kf\n"
   ]
  },
  {
   "cell_type": "markdown",
   "metadata": {},
   "source": [
    "## MCMC - Metropolis Hastings\n",
    "\n",
    "We chose to use a random walk metropolis hastings of the form\n",
    "\n",
    "---\n",
    "**Metropolis-Hastings Algoritm**\n",
    "\n",
    "Guess $\\theta^{(0)}$ and for $i=0$ until $n$: \n",
    "1. $\\theta=\\theta^{(i-1)} + \\eta_t$ where $\\eta_t \\sim N(0,\\sigma)$\n",
    "2. Compute $r=\\min(1,\\alpha)$ where $\\alpha= \\frac{p(\\theta')q(\\theta|\\theta')}{p(\\theta)q(\\theta'|\\theta)}$\n",
    "4. Draw $u\\sim U(0,1)$\n",
    "5. $\\theta^{(i+1)}=\\begin{cases}\\theta' & \\text{if $u<r$}\\\\\\theta & \\text{if $u\\geq r$}\\end{cases}$\n",
    "\n",
    "---\n",
    "\n",
    "We use the logarithmic transformations for all variance parameters"
   ]
  },
  {
   "cell_type": "code",
   "execution_count": 76,
   "metadata": {
    "collapsed": false
   },
   "outputs": [
    {
     "name": "stdout",
     "output_type": "stream",
     "text": [
      "time: 36 ms\n"
     ]
    }
   ],
   "source": [
    "def randomWalkMH(sample,burn, initialTheta, randomWalkSigmas,priorMeans,priorVariances):\n",
    "\n",
    "    thetaMH = []\n",
    "    accept = np.zeros([sample])\n",
    "    posts = np.zeros([sample])\n",
    "    rs = []\n",
    "    thetaMH.append(initialTheta)\n",
    "    priors = np.zeros([sample,4])\n",
    "\n",
    "    thetastemps = []\n",
    "    disturbances = []\n",
    "\n",
    "    for i in range(1,sample):\n",
    "        disturbance = np.multiply(np.random.randn(thetaMH[0].shape[0]),randomWalkSigmas)\n",
    "    #     disturbance[1:] = np.exp(disturbance[1:]) #problema está aqui\n",
    "    #     print(disturbance)\n",
    "        thetaTemp = thetaMH[i-1].copy()\n",
    "        thetaTemp[1:] = np.log(thetaMH[i-1][1:].copy())+disturbance[1:].copy()\n",
    "        thetaTemp[1:] = np.exp(thetaTemp[1:].copy())\n",
    "        thetaTemp[0] = thetaTemp[0].copy() + disturbance[0].copy()\n",
    "        disturbances.append(disturbance.copy())\n",
    "        thetastemps.append(thetaTemp.copy())\n",
    "    #     print(thetaTemp)\n",
    "    #     print(thetastemps[i-1])\n",
    "    #     thetaTemp = (temp)\n",
    "        tempPost = posterior(thetaTemp,priorMeans, priorVariances)\n",
    "        lalpha = np.log(tempPost['post']) - np.log(posts[i-1])\n",
    "        r = np.min([1, np.exp(lalpha)])\n",
    "        rs.append(r)\n",
    "        u = np.random.uniform()\n",
    "\n",
    "        if u < r:\n",
    "            accept[i] = 1\n",
    "            thetaMH.append(thetaTemp.copy())\n",
    "            posts[i] = tempPost['post'].copy()\n",
    "            priors[i] = tempPost['priors'].copy()\n",
    "        else:\n",
    "            thetaMH.append(thetaMH[i-1].copy())\n",
    "            posts[i] = posts[i-1].copy()\n",
    "            priors[i] = priors[i-1].copy()\n",
    "\n",
    "    post = pd.DataFrame(thetaMH)\n",
    "    return {'posterior' : post[burn:], \n",
    "#             'post'\n",
    "            'accept' : accept, \n",
    "            'disturbances' : pd.DataFrame(disturbances),\n",
    "           'rs' : pd.DataFrame(rs),\n",
    "           'priors': pd.DataFrame(priors)}"
   ]
  },
  {
   "cell_type": "code",
   "execution_count": 69,
   "metadata": {
    "collapsed": false
   },
   "outputs": [
    {
     "name": "stdout",
     "output_type": "stream",
     "text": [
      "time: 969 µs\n"
     ]
    }
   ],
   "source": [
    "initialSigmas = 5.0\n",
    "initialTheta = np.array([0.3,initialSigmas,initialSigmas,initialSigmas])"
   ]
  },
  {
   "cell_type": "code",
   "execution_count": 110,
   "metadata": {
    "collapsed": false,
    "scrolled": true
   },
   "outputs": [
    {
     "name": "stderr",
     "output_type": "stream",
     "text": [
      "C:\\Anaconda3\\lib\\site-packages\\ipykernel\\__main__.py:24: RuntimeWarning: invalid value encountered in log\n",
      "C:\\Anaconda3\\lib\\site-packages\\ipykernel\\__main__.py:27: RuntimeWarning: divide by zero encountered in log\n"
     ]
    },
    {
     "name": "stdout",
     "output_type": "stream",
     "text": [
      "time: 20.5 s\n"
     ]
    }
   ],
   "source": [
    "sample = 2000\n",
    "\n",
    "sigma = 1\n",
    "randomWalkSigmas = np.array([1,sigma,sigma,sigma])\n",
    "\n",
    "priorMeans = np.array([0,0,0,0])\n",
    "\n",
    "priorVariances = 3 * np.ones(4)\n",
    "\n",
    "mcmc = randomWalkMH(sample = sample,\n",
    "                 burn = 200, \n",
    "                 initialTheta = initialTheta, \n",
    "                 randomWalkSigmas = randomWalkSigmas,\n",
    "                 priorMeans = priorMeans,\n",
    "                 priorVariances = priorVariances)"
   ]
  },
  {
   "cell_type": "markdown",
   "metadata": {},
   "source": [
    "**Acceptance Ratio**"
   ]
  },
  {
   "cell_type": "code",
   "execution_count": 88,
   "metadata": {
    "collapsed": false,
    "scrolled": true
   },
   "outputs": [
    {
     "data": {
      "text/plain": [
       "0.010999999999999999"
      ]
     },
     "execution_count": 88,
     "metadata": {},
     "output_type": "execute_result"
    },
    {
     "name": "stdout",
     "output_type": "stream",
     "text": [
      "time: 2.98 ms\n"
     ]
    }
   ],
   "source": [
    "mcmc['accept'].sum() / mcmc['accept'].shape[0]"
   ]
  },
  {
   "cell_type": "code",
   "execution_count": 89,
   "metadata": {
    "collapsed": false
   },
   "outputs": [
    {
     "data": {
      "text/plain": [
       "8.959242611054702e-135"
      ]
     },
     "execution_count": 89,
     "metadata": {},
     "output_type": "execute_result"
    },
    {
     "name": "stdout",
     "output_type": "stream",
     "text": [
      "time: 17.6 ms\n"
     ]
    }
   ],
   "source": [
    "wrapper(mcmc['posterior'].iloc[50])"
   ]
  },
  {
   "cell_type": "markdown",
   "metadata": {},
   "source": [
    "## Marginal distribution for $\\theta_1$\n",
    "\n",
    "True value is $0.7$"
   ]
  },
  {
   "cell_type": "code",
   "execution_count": 90,
   "metadata": {
    "collapsed": false
   },
   "outputs": [
    {
     "name": "stdout",
     "output_type": "stream",
     "text": [
      "time: 502 µs\n"
     ]
    }
   ],
   "source": [
    "par = 0"
   ]
  },
  {
   "cell_type": "code",
   "execution_count": 91,
   "metadata": {
    "collapsed": false,
    "scrolled": true
   },
   "outputs": [
    {
     "data": {
      "text/plain": [
       "count    1800.000000\n",
       "mean        0.686719\n",
       "std         0.059836\n",
       "min         0.602960\n",
       "25%         0.643052\n",
       "50%         0.643052\n",
       "75%         0.740203\n",
       "max         0.810108\n",
       "Name: 0, dtype: float64"
      ]
     },
     "execution_count": 91,
     "metadata": {},
     "output_type": "execute_result"
    },
    {
     "name": "stdout",
     "output_type": "stream",
     "text": [
      "time: 8.55 ms\n"
     ]
    }
   ],
   "source": [
    "mcmc['posterior'][par].describe()"
   ]
  },
  {
   "cell_type": "code",
   "execution_count": 111,
   "metadata": {
    "collapsed": false
   },
   "outputs": [
    {
     "data": {
      "text/plain": [
       "<matplotlib.axes._subplots.AxesSubplot at 0x218bcdb7cf8>"
      ]
     },
     "execution_count": 111,
     "metadata": {},
     "output_type": "execute_result"
    },
    {
     "data": {
      "image/png": "[encoded data removed]",
      "text/plain": [
       "<matplotlib.figure.Figure at 0x218bcd992e8>"
      ]
     },
     "metadata": {},
     "output_type": "display_data"
    },
    {
     "name": "stdout",
     "output_type": "stream",
     "text": [
      "time: 214 ms\n"
     ]
    }
   ],
   "source": [
    "plt.figure()\n",
    "mcmc['posterior'][par].plot.density()\n",
    "prior = pd.DataFrame()\n",
    "# pd.DataFrame(norm.pdf(np.arange(-3,3,0.1))).plot()\n",
    "\n"
   ]
  },
  {
   "cell_type": "markdown",
   "metadata": {},
   "source": [
    "## Marginal distribution for $\\sigma^2_\\epsilon$\n",
    "\n",
    "True value is $0.3$"
   ]
  },
  {
   "cell_type": "code",
   "execution_count": 47,
   "metadata": {
    "collapsed": false
   },
   "outputs": [
    {
     "name": "stdout",
     "output_type": "stream",
     "text": [
      "time: 501 µs\n"
     ]
    }
   ],
   "source": [
    "par = 1"
   ]
  },
  {
   "cell_type": "code",
   "execution_count": 48,
   "metadata": {
    "collapsed": false
   },
   "outputs": [
    {
     "data": {
      "text/plain": [
       "count    19000.000000\n",
       "mean         0.410312\n",
       "std          0.117173\n",
       "min          0.116516\n",
       "25%          0.328775\n",
       "50%          0.399202\n",
       "75%          0.481869\n",
       "max          1.027019\n",
       "Name: 1, dtype: float64"
      ]
     },
     "execution_count": 48,
     "metadata": {},
     "output_type": "execute_result"
    },
    {
     "name": "stdout",
     "output_type": "stream",
     "text": [
      "time: 9.02 ms\n"
     ]
    }
   ],
   "source": [
    "mcmc['posterior'][par].describe()"
   ]
  },
  {
   "cell_type": "code",
   "execution_count": 49,
   "metadata": {
    "collapsed": false
   },
   "outputs": [
    {
     "data": {
      "text/plain": [
       "<matplotlib.axes._subplots.AxesSubplot at 0x218bb34a940>"
      ]
     },
     "execution_count": 49,
     "metadata": {},
     "output_type": "execute_result"
    },
    {
     "data": {
      "image/png": "[encoded data removed]",
      "text/plain": [
       "<matplotlib.figure.Figure at 0x218bb43c7f0>"
      ]
     },
     "metadata": {},
     "output_type": "display_data"
    },
    {
     "name": "stdout",
     "output_type": "stream",
     "text": [
      "time: 910 ms\n"
     ]
    }
   ],
   "source": [
    "mcmc['posterior'][par].plot.density()"
   ]
  },
  {
   "cell_type": "markdown",
   "metadata": {},
   "source": [
    "## Marginal distribution for $\\sigma^2_\\xi$\n",
    "\n",
    "True value is $0.1$"
   ]
  },
  {
   "cell_type": "code",
   "execution_count": 50,
   "metadata": {
    "collapsed": false
   },
   "outputs": [
    {
     "name": "stdout",
     "output_type": "stream",
     "text": [
      "time: 501 µs\n"
     ]
    }
   ],
   "source": [
    "par = 2"
   ]
  },
  {
   "cell_type": "code",
   "execution_count": 51,
   "metadata": {
    "collapsed": false
   },
   "outputs": [
    {
     "data": {
      "text/plain": [
       "count    19000.000000\n",
       "mean         0.105132\n",
       "std          0.033874\n",
       "min          0.036541\n",
       "25%          0.080926\n",
       "50%          0.099547\n",
       "75%          0.122764\n",
       "max          0.299364\n",
       "Name: 2, dtype: float64"
      ]
     },
     "execution_count": 51,
     "metadata": {},
     "output_type": "execute_result"
    },
    {
     "name": "stdout",
     "output_type": "stream",
     "text": [
      "time: 11.5 ms\n"
     ]
    }
   ],
   "source": [
    "mcmc['posterior'][par].describe()"
   ]
  },
  {
   "cell_type": "code",
   "execution_count": 52,
   "metadata": {
    "collapsed": false
   },
   "outputs": [
    {
     "data": {
      "text/plain": [
       "<matplotlib.axes._subplots.AxesSubplot at 0x218bb67ada0>"
      ]
     },
     "execution_count": 52,
     "metadata": {},
     "output_type": "execute_result"
    },
    {
     "data": {
      "image/png": "[encoded data removed]",
      "text/plain": [
       "<matplotlib.figure.Figure at 0x218baf630f0>"
      ]
     },
     "metadata": {},
     "output_type": "display_data"
    },
    {
     "name": "stdout",
     "output_type": "stream",
     "text": [
      "time: 913 ms\n"
     ]
    }
   ],
   "source": [
    "mcmc['posterior'][par].plot.density()"
   ]
  },
  {
   "cell_type": "markdown",
   "metadata": {},
   "source": [
    "## Marginal distribution for $\\sigma^2_\\omega$\n",
    "\n",
    "True value is $0.2$"
   ]
  },
  {
   "cell_type": "code",
   "execution_count": 53,
   "metadata": {
    "collapsed": false
   },
   "outputs": [
    {
     "name": "stdout",
     "output_type": "stream",
     "text": [
      "time: 501 µs\n"
     ]
    }
   ],
   "source": [
    "par = 3"
   ]
  },
  {
   "cell_type": "code",
   "execution_count": 54,
   "metadata": {
    "collapsed": false
   },
   "outputs": [
    {
     "data": {
      "text/plain": [
       "count    19000.000000\n",
       "mean         0.164859\n",
       "std          0.047919\n",
       "min          0.045880\n",
       "25%          0.130390\n",
       "50%          0.161794\n",
       "75%          0.195125\n",
       "max          0.371362\n",
       "Name: 3, dtype: float64"
      ]
     },
     "execution_count": 54,
     "metadata": {},
     "output_type": "execute_result"
    },
    {
     "name": "stdout",
     "output_type": "stream",
     "text": [
      "time: 15 ms\n"
     ]
    }
   ],
   "source": [
    "mcmc['posterior'][par].describe()"
   ]
  },
  {
   "cell_type": "code",
   "execution_count": 55,
   "metadata": {
    "collapsed": false
   },
   "outputs": [
    {
     "data": {
      "text/plain": [
       "<matplotlib.axes._subplots.AxesSubplot at 0x218bad72a90>"
      ]
     },
     "execution_count": 55,
     "metadata": {},
     "output_type": "execute_result"
    },
    {
     "data": {
      "image/png": "[encoded data removed]",
      "text/plain": [
       "<matplotlib.figure.Figure at 0x218bb5c2080>"
      ]
     },
     "metadata": {},
     "output_type": "display_data"
    },
    {
     "name": "stdout",
     "output_type": "stream",
     "text": [
      "time: 825 ms\n"
     ]
    }
   ],
   "source": [
    "mcmc['posterior'][par].plot.density()"
   ]
  },
  {
   "cell_type": "markdown",
   "metadata": {
    "collapsed": true
   },
   "source": [
    "# Performance Optimization\n",
    "\n",
    "## Profiling the Kalman Filter\n",
    "\n",
    "Profiling should always be the first step on every optimization\n",
    "\n",
    "We'll profile the KF with the true values"
   ]
  },
  {
   "cell_type": "code",
   "execution_count": 56,
   "metadata": {
    "collapsed": false
   },
   "outputs": [
    {
     "name": "stdout",
     "output_type": "stream",
     "text": [
      "time: 8.52 ms\n"
     ]
    }
   ],
   "source": [
    "def KF_func(theta):\n",
    "    T = pd.DataFrame([\n",
    "        [1,0,0,0],\n",
    "        [0,-1,-1,-0.7],\n",
    "        [0,1,0,0],\n",
    "        [0,0,1,0],\n",
    "    ])\n",
    "\n",
    "    H = pd.DataFrame([0.3])\n",
    "\n",
    "    Q = pd.DataFrame([\n",
    "        [0.1,0],\n",
    "        [0,0.2],\n",
    "    ])\n",
    "\n",
    "    kf = KF(y=np.array(y), \n",
    "                      Z=np.array(Z.astype(float)), \n",
    "                      H=np.array(H.astype(float)), \n",
    "                      T=np.array(T.astype(float)), \n",
    "                      Q=np.array(Q.astype(float)), \n",
    "                      a1=np.zeros((4)), \n",
    "                      P1=np.identity(4), \n",
    "                      R=np.array(R.astype(float)), \n",
    "                      nStates=4,)    \n",
    "\n",
    "    return kf['ll']\n"
   ]
  },
  {
   "cell_type": "code",
   "execution_count": 57,
   "metadata": {
    "collapsed": false
   },
   "outputs": [
    {
     "name": "stdout",
     "output_type": "stream",
     "text": [
      " \n",
      "*** Profile stats marshalled to file 'C:\\\\Users\\\\PEDRO~1.MAT\\\\AppData\\\\Local\\\\Temp\\\\tmptceogc85'. \n",
      "time: 3.05 s\n"
     ]
    }
   ],
   "source": [
    "%%snakeviz\n",
    "\n",
    "KF_func(0)"
   ]
  },
  {
   "cell_type": "markdown",
   "metadata": {},
   "source": [
    "The problem is that dot products and matrix inversions are already optimized in fortran and C"
   ]
  },
  {
   "cell_type": "markdown",
   "metadata": {},
   "source": [
    "## Univariate Approach\n",
    "\n",
    "Makes best use of cython"
   ]
  },
  {
   "cell_type": "code",
   "execution_count": 58,
   "metadata": {
    "collapsed": false
   },
   "outputs": [
    {
     "name": "stdout",
     "output_type": "stream",
     "text": [
      "time: 10 ms\n"
     ]
    }
   ],
   "source": [
    "def KF_funcUni(theta):\n",
    "    T = pd.DataFrame([\n",
    "        [1,0,0,0],\n",
    "        [0,-1,-1,-0.7],\n",
    "        [0,1,0,0],\n",
    "        [0,0,1,0],\n",
    "    ])\n",
    "\n",
    "    H = pd.DataFrame([0.3])\n",
    "\n",
    "    Q = pd.DataFrame([\n",
    "        [0.1,0],\n",
    "        [0,0.2],\n",
    "    ])\n",
    "\n",
    "    kf = KFU(y=np.array(y), \n",
    "                      Z=np.array(Z.astype(float)), \n",
    "                      H=np.array(H.astype(float)), \n",
    "                      T=np.array(T.astype(float)), \n",
    "                      Q=np.array(Q.astype(float)), \n",
    "                      a1=np.zeros((4)), \n",
    "                      P1=np.identity(4), \n",
    "                      R=np.array(R.astype(float)), \n",
    "                      nStates=4,)    \n",
    "\n",
    "    return kf\n",
    "\n"
   ]
  },
  {
   "cell_type": "code",
   "execution_count": 59,
   "metadata": {
    "collapsed": false
   },
   "outputs": [
    {
     "name": "stdout",
     "output_type": "stream",
     "text": [
      "100 loops, best of 3: 19.6 ms per loop\n",
      "time: 8.27 s\n"
     ]
    }
   ],
   "source": [
    "%%timeit\n",
    "KF_func(0)"
   ]
  },
  {
   "cell_type": "code",
   "execution_count": 60,
   "metadata": {
    "collapsed": false
   },
   "outputs": [
    {
     "name": "stdout",
     "output_type": "stream",
     "text": [
      "100 loops, best of 3: 11 ms per loop\n",
      "time: 4.56 s\n"
     ]
    }
   ],
   "source": [
    "%%timeit\n",
    "KF_funcUni(0)"
   ]
  },
  {
   "cell_type": "code",
   "execution_count": 61,
   "metadata": {
    "collapsed": false
   },
   "outputs": [
    {
     "name": "stdout",
     "output_type": "stream",
     "text": [
      " \n",
      "*** Profile stats marshalled to file 'C:\\\\Users\\\\PEDRO~1.MAT\\\\AppData\\\\Local\\\\Temp\\\\tmp2iedn8m0'. \n",
      "time: 3.03 s\n"
     ]
    }
   ],
   "source": [
    "%%snakeviz\n",
    "\n",
    "KF_funcUni(0)"
   ]
  },
  {
   "cell_type": "markdown",
   "metadata": {},
   "source": [
    "Since dot is already optimized we will move on to cython"
   ]
  },
  {
   "cell_type": "code",
   "execution_count": 62,
   "metadata": {
    "collapsed": false
   },
   "outputs": [
    {
     "name": "stdout",
     "output_type": "stream",
     "text": [
      "time: 10.5 ms\n"
     ]
    }
   ],
   "source": [
    "def KF_funcUniC(theta):\n",
    "    T = pd.DataFrame([\n",
    "        [1,0,0,0],\n",
    "        [0,-1,-1,-0.7],\n",
    "        [0,1,0,0],\n",
    "        [0,0,1,0],\n",
    "    ])\n",
    "\n",
    "    H = pd.DataFrame([0.3])\n",
    "\n",
    "    Q = pd.DataFrame([\n",
    "        [0.1,0],\n",
    "        [0,0.2],\n",
    "    ])\n",
    "\n",
    "    kf = KFUC(y=np.array(y), \n",
    "                      Z=np.array(Z.astype(float)), \n",
    "                      H=np.array(H.astype(float)), \n",
    "                      T=np.array(T.astype(float)), \n",
    "                      Q=np.array(Q.astype(float)), \n",
    "                      a1=np.zeros((4)), \n",
    "                      P1=np.identity(4), \n",
    "                      R=np.array(R.astype(float)), \n",
    "                      nStates=4,)    \n",
    "\n",
    "    return kf\n",
    "\n",
    "\n"
   ]
  },
  {
   "cell_type": "code",
   "execution_count": 63,
   "metadata": {
    "collapsed": false
   },
   "outputs": [
    {
     "name": "stdout",
     "output_type": "stream",
     "text": [
      "100 loops, best of 3: 9.91 ms per loop\n",
      "time: 4.27 s\n"
     ]
    }
   ],
   "source": [
    "%%timeit\n",
    "KF_funcUniC(0)"
   ]
  },
  {
   "cell_type": "markdown",
   "metadata": {},
   "source": [
    "Further ideas:\n",
    "\n",
    "* Eliminate whole line assignments using loops (First check whether that's actually faster)"
   ]
  }
 ],
 "metadata": {
  "anaconda-cloud": {},
  "kernelspec": {
   "display_name": "Python [Root]",
   "language": "python",
   "name": "Python [Root]"
  },
  "language_info": {
   "codemirror_mode": {
    "name": "ipython",
    "version": 3
   },
   "file_extension": ".py",
   "mimetype": "text/x-python",
   "name": "python",
   "nbconvert_exporter": "python",
   "pygments_lexer": "ipython3",
   "version": "3.5.2"
  }
 },
 "nbformat": 4,
 "nbformat_minor": 0
}
