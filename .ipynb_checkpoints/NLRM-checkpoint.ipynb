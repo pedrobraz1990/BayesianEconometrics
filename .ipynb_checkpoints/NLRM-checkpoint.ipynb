{
 "cells": [
  {
   "cell_type": "markdown",
   "metadata": {},
   "source": [
    "# Normal Linear Regression Model\n",
    "\n",
    "## Likelihood Function\n",
    "\n",
    "$$ y_i = x^\\intercal_i \\beta + \\epsilon_i, \\qquad i=1,...,n$$\n",
    "\n",
    "Assumptions:\n",
    "\n",
    "$\\epsilon_i \\sim^{iid} N(0,\\sigma^2)$\n",
    "\n",
    "$x_i$ is either fixed (not random) or it is independent of $\\epsilon_i$\n",
    "\n",
    "Assumptions imply: $f(y,x|\\beta,\\sigma^2) = f(y|x,\\beta,\\sigma^2)f(x|\\Lambda)$"
   ]
  },
  {
   "cell_type": "markdown",
   "metadata": {},
   "source": [
    "Our interest would be on $f(y,x|\\beta,\\sigma^2)$, since the above, we can disregard the marginal distribution of x and work with the conditional likelihood of each observation:\n",
    "\n",
    "$$f(y|x,\\beta,\\sigma^2) \\sim N((y_i-x_i\\beta),\\sigma^2)$$"
   ]
  },
  {
   "cell_type": "markdown",
   "metadata": {},
   "source": [
    "Since the disturbances are independent, the likelihood of the sample is given by:\n",
    "\n",
    "$$f(y|x,\\beta,\\sigma^2) = \\prod^n_{i=1} f(y_i|x_i,\\beta,\\sigma^2)$$\n",
    "\n",
    "Using the pdf or a normal distribution:\n",
    "\n",
    "$$f(y|x,\\beta,\\sigma^2)  = \\frac{1}{(2\\pi)^{n/2}\\sigma^n)} exp(-\\frac{1}{2\\sigma^2}(y-X\\beta)^\\intercal(y-X\\beta)) $$"
   ]
  },
  {
   "cell_type": "markdown",
   "metadata": {},
   "source": [
    "Writing the likelihood in terms of the OLS using $y-\\beta = y-X(\\beta-\\hat{\\beta})-X\\hat{\\beta}$ yields:\n",
    "\n",
    "$$f(y|x,\\beta,\\sigma^2)  = \\frac{1}{(2\\pi)^{n/2}\\sigma^{n-v})} exp(-\\frac{1}{2\\sigma^2}(\\beta-\\hat{\\beta})^\\intercal X^\\intercal X (\\beta-\\hat{\\beta})) \\frac{1}{\\sigma^v}exp(-\\frac{s^2v}{2 \\sigma^2})$$"
   ]
  },
  {
   "cell_type": "markdown",
   "metadata": {},
   "source": [
    "So that our likelihood is a normal function."
   ]
  },
  {
   "cell_type": "markdown",
   "metadata": {},
   "source": [
    "## Choosing a prior\n",
    "\n",
    "We know from conjugate priors that if we choose a Normal-Inverse Gamma as a prior it'll yield another NIG as posterior. This comes from a rationale developed on the class slides. We will just skip to the final prior distribution. So that we postulate:\n",
    "\n",
    "$$(\\beta,\\sigma^2) \\sim NIG(\\underline{\\beta},\\underline{V},1 / \\underline{\\sigma^2}, \\underline{v})$$\n",
    "\n",
    "All the underlined constants are called **hyperparameters** and are parameters of the prior distribution. Not to be confused with hyperparameters from the posterior distribution.\n",
    "\n",
    "If we do not find the distribution we can use the slide steps to draw the data from IG and Normal distributions.\n",
    "\n",
    "Then a discussion about the parametrization of the Gamma distribution follows."
   ]
  },
  {
   "cell_type": "markdown",
   "metadata": {},
   "source": [
    "## Resultant Posterior\n",
    "\n",
    "$$ (\\beta, \\sigma^2 | y,X) \\sim NIG(\\overline{\\beta},\\overline{V},1/\\overline{\\sigma^2},\\overline{v}) $$\n",
    "\n",
    "Where:\n",
    "\n",
    "$$ \\overline{V} = (\\underline{V}^{-1} + X^\\intercal X)^{-1} $$ \n",
    "\n",
    "$$\\overline{\\beta} = \\overline{V} (\\underline{V}^{-1} \\underline{\\beta} + X^\\intercal X \\hat{\\beta}) $$\n",
    "\n",
    "$$\\overline{v} = \\underline{v} + n $$\n",
    "\n",
    "$$ \\overline{\\sigma}^2 = \\frac{1}{\\overline{v}} ( \\underline{v \\sigma^2} + (n - k) s^2 + ( \\hat{\\beta} - \\underline{\\beta})^\\intercal  (\\underline{V} + (X^\\intercal X)^{-1})^{-1}  (\\hat{\\beta} - \\beta)) $$"
   ]
  },
  {
   "cell_type": "markdown",
   "metadata": {},
   "source": [
    "# Simulation\n",
    "\n",
    "First we will generate a sample from the true \"population\" that comes from a $N(\\beta,1)$\n",
    "\n",
    "For the multivariate case $\\beta$ is $(k x 1)$"
   ]
  },
  {
   "cell_type": "code",
   "execution_count": null,
   "metadata": {
    "collapsed": true
   },
   "outputs": [],
   "source": [
    "k = 2\n",
    "beta = "
   ]
  }
 ],
 "metadata": {
  "anaconda-cloud": {},
  "kernelspec": {
   "display_name": "Python [Root]",
   "language": "python",
   "name": "Python [Root]"
  },
  "language_info": {
   "codemirror_mode": {
    "name": "ipython",
    "version": 3
   },
   "file_extension": ".py",
   "mimetype": "text/x-python",
   "name": "python",
   "nbconvert_exporter": "python",
   "pygments_lexer": "ipython3",
   "version": "3.5.2"
  }
 },
 "nbformat": 4,
 "nbformat_minor": 0
}
