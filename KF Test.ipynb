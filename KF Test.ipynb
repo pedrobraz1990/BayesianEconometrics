{
 "cells": [
  {
   "cell_type": "code",
   "execution_count": 1,
   "metadata": {
    "collapsed": false
   },
   "outputs": [],
   "source": [
    "%matplotlib inline\n",
    "import numpy as np\n",
    "from numpy.linalg import inv\n",
    "from numpy.linalg import det\n",
    "import pandas as pd\n",
    "import datetime as dt\n",
    "import cython\n",
    "%load_ext Cython\n",
    "\n",
    "from KalmanFilter import KalmanFilter as KFPedro\n",
    "from KF_py import KalmanFilter as KF\n",
    "\n",
    "# import pyximport; pyximport.install()\n",
    "# from KF import KalmanFilter as KFC\n",
    "import KF as KFC\n",
    "import KFMV\n",
    "from KalmanFilter_Uni import KalmanFilter as KFU\n",
    "# import KF"
   ]
  },
  {
   "cell_type": "code",
   "execution_count": 2,
   "metadata": {
    "collapsed": true
   },
   "outputs": [],
   "source": [
    "# Kalman filter\n",
    "class ReturnKF(object):\n",
    "    def __init__(self, yHat, aMinus, VMinus, L):\n",
    "        self.yHat = yHat\n",
    "        self.aMinus = aMinus\n",
    "        self.VMinus = VMinus\n",
    "        self.L = L\n",
    "\n",
    "def KalmanFilter(H, R, F, Q, y, forecast):\n",
    "    # Useful variables and matrices\n",
    "    m = H.shape[1]\n",
    "    p = H.shape[0]\n",
    "    T = y.shape[0] + forecast\n",
    "    \n",
    "    yHat   = np.zeros((T  ,p))\n",
    "    yFull  = np.concatenate((np.array(y),np.nan*np.zeros((forecast,p))),axis=0)\n",
    "    \n",
    "    nu     = np.zeros((T  ,p))\n",
    "    a      = np.zeros((T  ,m))\n",
    "    aMinus = np.zeros((T+1,m))\n",
    "    \n",
    "    S      = np.zeros((T  ,p,p))\n",
    "    V      = np.zeros((T  ,m,m))\n",
    "    VMinus = np.array([np.identity(m) for t in range(T+1)])\n",
    "    K      = np.zeros((T  ,m,p))\n",
    "    \n",
    "    Ht     = np.transpose(H)\n",
    "    Ft     = np.transpose(F)\n",
    "    \n",
    "    # Recursevely calculates the Kalman filter\n",
    "    for t in range(T):\n",
    "        # Filtered values\n",
    "        yHat[t] = np.dot(H,aMinus[t])\n",
    "\n",
    "        for i in range(p):\n",
    "            if np.isnan(yFull[t][i]):\n",
    "                yFull[t][i] = yHat[t][i]\n",
    "\n",
    "        # Update equations    \n",
    "        nu[t] = yFull[t] - np.dot(H,aMinus[t])\n",
    "        S[t]  = np.dot(np.dot(H,VMinus[t]),Ht) + R\n",
    "        K[t]  = np.dot(np.dot(VMinus[t],Ht),np.linalg.inv(S[t]))\n",
    "        a[t]  = aMinus[t] + np.dot(K[t],nu[t])\n",
    "        V[t]  = np.dot((np.identity(m)-np.dot(K[t],H)),VMinus[t])\n",
    "\n",
    "        # Forecast equations\n",
    "        aMinus[t+1] = np.dot(F,a[t])\n",
    "        VMinus[t+1] = np.dot(np.dot(F,V[t]),Ft) + Q\n",
    "        \n",
    "    # Calculates likelihood\n",
    "    L=0\n",
    "    for t in range(T):\n",
    "        L = L + np.linalg.det(S[t]) + np.dot(np.dot(np.transpose(nu[t]),np.linalg.inv(S[t])),nu[t])\n",
    "\n",
    "    L = -T*p/2* np.log(2*np.pi) - 1/2 * L\n",
    "        \n",
    "    return ReturnKF(yHat, aMinus, VMinus, L)\n"
   ]
  },
  {
   "cell_type": "markdown",
   "metadata": {},
   "source": [
    "# Data"
   ]
  },
  {
   "cell_type": "code",
   "execution_count": 3,
   "metadata": {
    "collapsed": true
   },
   "outputs": [],
   "source": [
    "m = 2\n",
    "p = 4\n",
    "\n",
    "\n",
    "Z = [[0.3,0.7],[0.1,0],[0.5,0.5],[0,0.3]]\n",
    "\n",
    "\n",
    "Z = pd.DataFrame(Z)\n",
    "\n",
    "H = pd.DataFrame(np.diag([1.0,2.0,3.0,4.0]))\n",
    "\n",
    "\n",
    "T = pd.DataFrame(np.identity(2))\n",
    "R = pd.DataFrame(np.identity(2))\n",
    "\n",
    "Q = pd.DataFrame(np.diag([0.2,0.4]))\n",
    "\n",
    "n = 1000 #sample size\n",
    "mut = [np.array([1,10]).reshape(m,1)]\n",
    "yt = [np.array([0,0,0,0]).reshape(p,1)]\n",
    "\n",
    "for i in range(0,n):\n",
    "    \n",
    "    temp = np.multiply(np.random.randn(m,1),np.diag(Q).reshape((m,1)))\n",
    "    temp = R.dot(temp)\n",
    "    temp = temp + mut[i]\n",
    "    mut.append(temp)  \n",
    "    \n",
    "    temp = np.multiply(np.random.randn(p,1),np.diag(H).reshape((p,1)))\n",
    "    yt.append(temp+Z.dot(mut[i+1]))\n",
    "\n",
    "    \n",
    "yt[0] = pd.DataFrame(yt[0])   \n",
    "y = pd.concat(yt,axis=1).T.reset_index(drop=True)\n",
    "mut[0] = pd.DataFrame(mut[0])\n",
    "mut = pd.concat(mut,axis=1).T.reset_index(drop=True)\n",
    "\n",
    "\n",
    "nny = y\n",
    "probNan = 0.30\n",
    "for i in nny.index:\n",
    "    ran = np.random.uniform(size=nny.iloc[i].shape)\n",
    "    nny.iloc[i][ran < probNan] = np.nan"
   ]
  },
  {
   "cell_type": "markdown",
   "metadata": {},
   "source": [
    "# Not nan"
   ]
  },
  {
   "cell_type": "code",
   "execution_count": 4,
   "metadata": {
    "collapsed": false
   },
   "outputs": [
    {
     "name": "stdout",
     "output_type": "stream",
     "text": [
      "1 loop, best of 3: 227 ms per loop\n"
     ]
    }
   ],
   "source": [
    "%%timeit \n",
    "\n",
    "kf1 = KFPedro(y=y,\n",
    "              Z=Z,\n",
    "              H=H,\n",
    "              T=T,\n",
    "              Q=Q,\n",
    "              a1=pd.DataFrame(np.array([0.0,0.0]).reshape(m,1)),\n",
    "              P1=pd.DataFrame(np.diag(np.array([1.0,1.0]))),\n",
    "              R=R,\n",
    "             nStates=2)\n",
    "\n",
    "\n",
    "kf1.runFilter()\n",
    "kf1.likelihood()"
   ]
  },
  {
   "cell_type": "code",
   "execution_count": 5,
   "metadata": {
    "collapsed": false
   },
   "outputs": [
    {
     "name": "stdout",
     "output_type": "stream",
     "text": [
      "1 loop, best of 3: 1.09 s per loop\n"
     ]
    }
   ],
   "source": [
    "%%timeit \n",
    "kf2 = KalmanFilter(H=Z, R=H, F=T, Q=Q, y=y, forecast=1)"
   ]
  },
  {
   "cell_type": "code",
   "execution_count": 6,
   "metadata": {
    "collapsed": true
   },
   "outputs": [],
   "source": [
    "ky=np.array(y)\n",
    "knny = np.array(nny)\n",
    "kZ=np.array(Z)\n",
    "kH=np.array(H)\n",
    "kT=np.array(T)\n",
    "kQ=np.array(Q)\n",
    "kR=np.array(R)\n",
    "\n",
    "# ky=np.array(y).copy(order='C')\n",
    "# knny = np.array(nny).copy(order='C')\n",
    "# kZ=np.array(Z).copy(order='C')\n",
    "# kH=np.array(H).copy(order='C')\n",
    "# kT=np.array(T).copy(order='C')\n",
    "# kQ=np.array(Q).copy(order='C')\n",
    "# kR=np.array(R).copy(order='C')"
   ]
  },
  {
   "cell_type": "code",
   "execution_count": 7,
   "metadata": {
    "collapsed": false
   },
   "outputs": [
    {
     "name": "stdout",
     "output_type": "stream",
     "text": [
      "1 loop, best of 3: 223 ms per loop\n"
     ]
    }
   ],
   "source": [
    "%%timeit \n",
    "\n",
    "kf3 = KF(y=ky,\n",
    "              Z=kZ,\n",
    "              H=kH,\n",
    "              T=kT,\n",
    "              Q=kQ,\n",
    "              a1=np.array([0.0,0.0]),\n",
    "              P1=np.diag(np.array([1.0,1.0])),\n",
    "              R=kR,\n",
    "             nStates=2)"
   ]
  },
  {
   "cell_type": "code",
   "execution_count": 8,
   "metadata": {
    "collapsed": false
   },
   "outputs": [
    {
     "name": "stdout",
     "output_type": "stream",
     "text": [
      "1 loop, best of 3: 222 ms per loop\n"
     ]
    }
   ],
   "source": [
    "%%timeit\n",
    "\n",
    "kf4 = KFC.KalmanFilter(y=ky,\n",
    "              Z=kZ,\n",
    "              H=kH,\n",
    "              T=kT,\n",
    "              Q=kQ,\n",
    "              a1=np.array([0.0,0.0]),\n",
    "              P1=np.diag(np.array([1.0,1.0])),\n",
    "              R=kR,\n",
    "             nStates=2)"
   ]
  },
  {
   "cell_type": "code",
   "execution_count": 10,
   "metadata": {
    "collapsed": false
   },
   "outputs": [
    {
     "name": "stdout",
     "output_type": "stream",
     "text": [
      "10 loops, best of 3: 193 ms per loop\n"
     ]
    }
   ],
   "source": [
    "%%timeit \n",
    "\n",
    "kf5 = KFU(y=y,\n",
    "              Z=Z,\n",
    "              H=H,\n",
    "              T=T,\n",
    "              Q=Q,\n",
    "              a1=pd.DataFrame(np.array([0.0,0.0]).reshape(m,1)),\n",
    "              P1=pd.DataFrame(np.diag(np.array([1.0,1.0]))),\n",
    "              R=R,\n",
    "             nStates=2)\n",
    "\n",
    "\n",
    "kf5.runFilter()\n",
    "# kf5.likelihood()"
   ]
  },
  {
   "cell_type": "markdown",
   "metadata": {},
   "source": [
    "# with Nan"
   ]
  },
  {
   "cell_type": "code",
   "execution_count": 10,
   "metadata": {
    "collapsed": false
   },
   "outputs": [
    {
     "name": "stdout",
     "output_type": "stream",
     "text": [
      "1 loop, best of 3: 510 ms per loop\n"
     ]
    }
   ],
   "source": [
    "%%timeit \n",
    "\n",
    "kf1 = KFPedro(y=nny,\n",
    "              Z=Z,\n",
    "              H=H,\n",
    "              T=T,\n",
    "              Q=Q,\n",
    "              a1=pd.DataFrame(np.array([0.0,0.0]).reshape(m,1)),\n",
    "              P1=pd.DataFrame(np.diag(np.array([1.0,1.0]))),\n",
    "              R=R,\n",
    "             nStates=2)\n",
    "\n",
    "\n",
    "kf1.runFilter()\n",
    "kf1.likelihood()"
   ]
  },
  {
   "cell_type": "code",
   "execution_count": 11,
   "metadata": {
    "collapsed": false
   },
   "outputs": [
    {
     "name": "stdout",
     "output_type": "stream",
     "text": [
      "1 loop, best of 3: 3.33 s per loop\n"
     ]
    }
   ],
   "source": [
    "%%timeit \n",
    "kf2 = KalmanFilter(H=Z, R=H, F=T, Q=Q, y=nny, forecast=1)"
   ]
  },
  {
   "cell_type": "code",
   "execution_count": 24,
   "metadata": {
    "collapsed": false
   },
   "outputs": [
    {
     "name": "stdout",
     "output_type": "stream",
     "text": [
      "1 loop, best of 3: 359 ms per loop\n"
     ]
    }
   ],
   "source": [
    "%%timeit \n",
    "\n",
    "kf3 = KF(y=knny,\n",
    "              Z=kZ,\n",
    "              H=kH,\n",
    "              T=kT,\n",
    "              Q=kQ,\n",
    "              a1=np.array([0.0,0.0]),\n",
    "              P1=np.diag(np.array([1.0,1.0])),\n",
    "              R=kR,\n",
    "             nStates=2)"
   ]
  },
  {
   "cell_type": "code",
   "execution_count": 25,
   "metadata": {
    "collapsed": false
   },
   "outputs": [
    {
     "name": "stdout",
     "output_type": "stream",
     "text": [
      "1 loop, best of 3: 393 ms per loop\n"
     ]
    }
   ],
   "source": [
    "%%timeit \n",
    "\n",
    "kf4 = KFC.KalmanFilter(y=knny,\n",
    "              Z=kZ,\n",
    "              H=kH,\n",
    "              T=kT,\n",
    "              Q=kQ,\n",
    "              a1=np.array([0.0,0.0]),\n",
    "              P1=np.diag(np.array([1.0,1.0])),\n",
    "              R=kR,\n",
    "             nStates=2)"
   ]
  },
  {
   "cell_type": "code",
   "execution_count": 14,
   "metadata": {
    "collapsed": false
   },
   "outputs": [],
   "source": [
    "kf4 = KFC.KalmanFilter(y=knny,\n",
    "              Z=kZ,\n",
    "              H=kH,\n",
    "              T=kT,\n",
    "              Q=kQ,\n",
    "              a1=np.array([0.0,0.0]),\n",
    "              P1=np.diag(np.array([1.0,1.0])),\n",
    "              R=kR,\n",
    "             nStates=2)\n",
    "\n",
    "\n",
    "# pd.concat([pd.DataFrame(kf4['y'])[0],pd.DataFrame(kf4['yhat'])[0],], axis=1).plot()"
   ]
  },
  {
   "cell_type": "code",
   "execution_count": 15,
   "metadata": {
    "collapsed": true
   },
   "outputs": [],
   "source": [
    "kf3 = KF(y=knny,\n",
    "              Z=kZ,\n",
    "              H=kH,\n",
    "              T=kT,\n",
    "              Q=kQ,\n",
    "              a1=np.array([0.0,0.0]),\n",
    "              P1=np.diag(np.array([1.0,1.0])),\n",
    "              R=kR,\n",
    "             nStates=2)"
   ]
  },
  {
   "cell_type": "code",
   "execution_count": 16,
   "metadata": {
    "collapsed": false
   },
   "outputs": [
    {
     "data": {
      "text/plain": [
       "<matplotlib.axes._subplots.AxesSubplot at 0x112dce7f0>"
      ]
     },
     "execution_count": 16,
     "metadata": {},
     "output_type": "execute_result"
    },
    {
     "data": {
      "image/png": "[encoded data removed]",
      "text/plain": [
       "<matplotlib.figure.Figure at 0x112dd40b8>"
      ]
     },
     "metadata": {},
     "output_type": "display_data"
    }
   ],
   "source": [
    "pd.concat([pd.DataFrame(kf3['y'])[0],pd.DataFrame(kf3['yhat'])[0],], axis=1).plot()"
   ]
  },
  {
   "cell_type": "code",
   "execution_count": 17,
   "metadata": {
    "collapsed": false
   },
   "outputs": [
    {
     "ename": "NameError",
     "evalue": "name 'kf1' is not defined",
     "output_type": "error",
     "traceback": [
      "\u001b[0;31m---------------------------------------------------------------------------\u001b[0m",
      "\u001b[0;31mNameError\u001b[0m                                 Traceback (most recent call last)",
      "\u001b[0;32m<ipython-input-17-7caa6a955b67>\u001b[0m in \u001b[0;36m<module>\u001b[0;34m()\u001b[0m\n\u001b[0;32m----> 1\u001b[0;31m \u001b[0mpd\u001b[0m\u001b[0;34m.\u001b[0m\u001b[0mconcat\u001b[0m\u001b[0;34m(\u001b[0m\u001b[0;34m[\u001b[0m\u001b[0mpd\u001b[0m\u001b[0;34m.\u001b[0m\u001b[0mDataFrame\u001b[0m\u001b[0;34m(\u001b[0m\u001b[0mkf3\u001b[0m\u001b[0;34m[\u001b[0m\u001b[0;34m'yhat'\u001b[0m\u001b[0;34m]\u001b[0m\u001b[0;34m)\u001b[0m\u001b[0;34m[\u001b[0m\u001b[0;36m0\u001b[0m\u001b[0;34m]\u001b[0m\u001b[0;34m,\u001b[0m \u001b[0mkf1\u001b[0m\u001b[0;34m.\u001b[0m\u001b[0myhat\u001b[0m\u001b[0;34m[\u001b[0m\u001b[0;36m0\u001b[0m\u001b[0;34m]\u001b[0m\u001b[0;34m]\u001b[0m\u001b[0;34m,\u001b[0m\u001b[0maxis\u001b[0m\u001b[0;34m=\u001b[0m\u001b[0;36m1\u001b[0m\u001b[0;34m)\u001b[0m\u001b[0;34m.\u001b[0m\u001b[0mplot\u001b[0m\u001b[0;34m(\u001b[0m\u001b[0;34m)\u001b[0m\u001b[0;34m\u001b[0m\u001b[0m\n\u001b[0m",
      "\u001b[0;31mNameError\u001b[0m: name 'kf1' is not defined"
     ]
    }
   ],
   "source": [
    "pd.concat([pd.DataFrame(kf3['yhat'])[0], kf1.yhat[0]],axis=1).plot()"
   ]
  },
  {
   "cell_type": "code",
   "execution_count": null,
   "metadata": {
    "collapsed": false
   },
   "outputs": [],
   "source": [
    "kf1 = KFPedro(y=nny,\n",
    "              Z=Z,\n",
    "              H=H,\n",
    "              T=T,\n",
    "              Q=Q,\n",
    "              a1=pd.DataFrame(np.array([0.0,0.0]).reshape(m,1)),\n",
    "              P1=pd.DataFrame(np.diag(np.array([1.0,1.0]))),\n",
    "              R=R,\n",
    "             nStates=2)\n",
    "\n",
    "\n",
    "kf1.runFilter()\n",
    "kf1.likelihood()"
   ]
  },
  {
   "cell_type": "code",
   "execution_count": null,
   "metadata": {
    "collapsed": false
   },
   "outputs": [],
   "source": [
    "kf1.ll"
   ]
  },
  {
   "cell_type": "code",
   "execution_count": null,
   "metadata": {
    "collapsed": true
   },
   "outputs": [],
   "source": []
  }
 ],
 "metadata": {
  "anaconda-cloud": {},
  "kernelspec": {
   "display_name": "Python 3",
   "language": "python",
   "name": "python3"
  },
  "language_info": {
   "codemirror_mode": {
    "name": "ipython",
    "version": 3
   },
   "file_extension": ".py",
   "mimetype": "text/x-python",
   "name": "python",
   "nbconvert_exporter": "python",
   "pygments_lexer": "ipython3",
   "version": "3.5.1"
  }
 },
 "nbformat": 4,
 "nbformat_minor": 0
}
