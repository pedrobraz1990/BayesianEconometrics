{
 "cells": [
  {
   "cell_type": "markdown",
   "metadata": {},
   "source": [
    "# Primer on Markov Chain\n",
    "\n",
    "A **stochastic process** is a collection of random variables (scalar, vectors ,matrices...) defines in a state space $S$ (e.g.: $\\mathbb{R},\\mathbb{R}^k$) index by a arbitrary set $\\mathcal{I}$\n",
    "\n",
    "$$\\{X_i,i\\in\\mathcal{I}\\}$$\n",
    "\n",
    "A discrete-time stochastic process ($\\mathcal{I}=\\mathbb{N}$) is said to have the ***Markov property*** if \n",
    "\n",
    "$$P(X_n=x_n|X_{n-1}=x_{n-1},X_{n-2}=x_{n-2}\\dots)= P(X_n=x_n|X_{n-1}=x_{n-1}),$$\n",
    "\n",
    "a stochastic process that possess the Markov property is called a **Markov Chain** or Markov Process. \n",
    "\n",
    "We call a ***Homogeneous Markov Chain*** when the Markov property does not depend upon $n$, i.e.:\n",
    "\n",
    "$$P(X_{n+1}=x|X_{n}=y) = P(X_n=x|X_{n-1}=y)\\quad\\forall n\\in\\mathbb{N}$$\n",
    "\n",
    "For a discrete state space $S={1,2,\\dots, d}$ we can represent a homogeneous Markov chain with a square $K$ matrix of size $d$ such that \n",
    "\n",
    "$$K(n\\times n), \\text{ where } K(i,j)=P(X_n=j|X_{n-1}=i) \\text{ and } \\sum_{j=1}^d k_{ij}=1, i=1,\\dots d$$\n",
    "\n",
    "such a matrix is called the ***transition kernel***. In that case $K(i,j)$ denotes the probability of moving from state $i$ to state $j$.\n",
    "\n",
    "For the continuous case we also denote the conditional density as as a transition kernel, where $K(x,y)$ denotes the density of moving from $x$ to $y$. However, the relation to the probability is given by\n",
    "\n",
    "$$P(X\\in A|x)=\\int_A K(x,y)\\mathrm{d}y$$\n",
    "\n",
    "\n",
    "\n",
    "\n",
    "**Example:** Discrete 3-state Markov Chain Example $S=\\{1=Bull; 2=Bear; 3=Stagnant\\}$\n",
    "\n",
    "<img src=\"Bullbear.svg\">\n",
    "\n",
    "How does the chain evolves? Take a starting point (or distribution)\n",
    "\n",
    "$$p^{(0)}=(1/3, 1/3, 1/3)$$\n",
    "\n",
    "Then $p^{(1)}= p^{(0)}K$, and $p^{(2)}= p^{(1)}K=p^{(0)}K^2$ and so on..., Such that\n",
    "\n",
    "$$p^{(n)}= p^{(0)}K^n,\\quad\\forall n\\in\\mathbb{N}$$\n",
    "\n",
    "A **stationary distribution** $p$ of a kernel $K$ is defined by:\n",
    "\n",
    "$$p=pK$$\n",
    "\n",
    "A few more definitions regarding Markov Chain can be formalized using the concept of starting from an arbitrary state $x$ the probability of the ever reaching the state $y$ in subsequent steps of the chain. Let denote $T_y$ the first time $y$ is visited, hence the probability of a chain starting from state $x$ hitting the state $y$ at any posterior step is given by\n",
    "\n",
    "$$\\rho(x,y)=P_x(T_y<\\infty)$$\n",
    "\n",
    "Now a state $y$ is said to be **recurrent** if a Markov Chain starting at $y$ returns to $y$ with probability 1, $\\rho(y,y)=1$ and is said to **transient** if there is a positive probability of not returning to $y$, $\\rho(y,y)<1$. \n",
    "\n",
    "A chain is said to be **irreducible** if every state can be achieved any starting state with positive probability, $\\rho(x,y)>0,\\forall (x,y)$\n",
    "\n",
    "A chain is said to be **aperiodic** if the return to any state occurs in irregular (non-periodic) number of steps. \n",
    "\n",
    "A sufficient condition for $p$ to be the stationary distribution of a given kernel $K$ is called the ***detailed balance condition*** given by\n",
    "\n",
    "$$K(x,y)p(y)=K(y,x)p(x),\\quad\\forall (x,y)$$\n",
    "\n",
    "which together with an irreducible and aperiodic Markov Chain results in the convergence in distribution of the Chain to the posterior\n",
    "\n"
   ]
  },
  {
   "cell_type": "code",
   "execution_count": 54,
   "metadata": {
    "collapsed": false
   },
   "outputs": [
    {
     "data": {
      "text/html": [
       "<table>\n",
       "<tbody>\n",
       "\t<tr><td>0.90 </td><td>0.075</td><td>0.025</td></tr>\n",
       "\t<tr><td>0.15 </td><td>0.800</td><td>0.050</td></tr>\n",
       "\t<tr><td>0.25 </td><td>0.250</td><td>0.500</td></tr>\n",
       "</tbody>\n",
       "</table>\n"
      ],
      "text/latex": [
       "\\begin{tabular}{lll}\n",
       "\t 0.90  & 0.075 & 0.025\\\\\n",
       "\t 0.15  & 0.800 & 0.050\\\\\n",
       "\t 0.25  & 0.250 & 0.500\\\\\n",
       "\\end{tabular}\n"
      ],
      "text/markdown": [
       "\n",
       "| 0.90  | 0.075 | 0.025 | \n",
       "| 0.15  | 0.800 | 0.050 | \n",
       "| 0.25  | 0.250 | 0.500 | \n",
       "\n",
       "\n"
      ],
      "text/plain": [
       "     [,1] [,2]  [,3] \n",
       "[1,] 0.90 0.075 0.025\n",
       "[2,] 0.15 0.800 0.050\n",
       "[3,] 0.25 0.250 0.500"
      ]
     },
     "metadata": {},
     "output_type": "display_data"
    },
    {
     "data": {
      "text/html": [
       "<dl>\n",
       "\t<dt>$values</dt>\n",
       "\t\t<dd><ol class=list-inline>\n",
       "\t<li>1</li>\n",
       "\t<li>0.741421356237309</li>\n",
       "\t<li>0.45857864376269</li>\n",
       "</ol>\n",
       "</dd>\n",
       "\t<dt>$vectors</dt>\n",
       "\t\t<dd><table>\n",
       "<tbody>\n",
       "\t<tr><td>0.5773503  </td><td> 0.4437186 </td><td>-0.03400257</td></tr>\n",
       "\t<tr><td>0.5773503  </td><td>-0.8113071 </td><td>-0.13017638</td></tr>\n",
       "\t<tr><td>0.5773503  </td><td>-0.3806504 </td><td> 0.99090763</td></tr>\n",
       "</tbody>\n",
       "</table>\n",
       "</dd>\n",
       "</dl>\n"
      ],
      "text/latex": [
       "\\begin{description}\n",
       "\\item[\\$values] \\begin{enumerate*}\n",
       "\\item 1\n",
       "\\item 0.741421356237309\n",
       "\\item 0.45857864376269\n",
       "\\end{enumerate*}\n",
       "\n",
       "\\item[\\$vectors] \\begin{tabular}{lll}\n",
       "\t 0.5773503   &  0.4437186  & -0.03400257\\\\\n",
       "\t 0.5773503   & -0.8113071  & -0.13017638\\\\\n",
       "\t 0.5773503   & -0.3806504  &  0.99090763\\\\\n",
       "\\end{tabular}\n",
       "\n",
       "\\end{description}\n"
      ],
      "text/markdown": [
       "$values\n",
       ":   1. 1\n",
       "2. 0.741421356237309\n",
       "3. 0.45857864376269\n",
       "\n",
       "\n",
       "\n",
       "$vectors\n",
       ":   \n",
       "| 0.5773503   |  0.4437186  | -0.03400257 | \n",
       "| 0.5773503   | -0.8113071  | -0.13017638 | \n",
       "| 0.5773503   | -0.3806504  |  0.99090763 | \n",
       "\n",
       "\n",
       "\n",
       "\n",
       "\n"
      ],
      "text/plain": [
       "$values\n",
       "[1] 1.0000000 0.7414214 0.4585786\n",
       "\n",
       "$vectors\n",
       "          [,1]       [,2]        [,3]\n",
       "[1,] 0.5773503  0.4437186 -0.03400257\n",
       "[2,] 0.5773503 -0.8113071 -0.13017638\n",
       "[3,] 0.5773503 -0.3806504  0.99090763\n"
      ]
     },
     "metadata": {},
     "output_type": "display_data"
    },
    {
     "data": {
      "text/html": [
       "<table>\n",
       "<tbody>\n",
       "\t<tr><td>0.625 </td><td>0.3125</td><td>0.0625</td></tr>\n",
       "\t<tr><td>0.625 </td><td>0.3125</td><td>0.0625</td></tr>\n",
       "\t<tr><td>0.625 </td><td>0.3125</td><td>0.0625</td></tr>\n",
       "</tbody>\n",
       "</table>\n"
      ],
      "text/latex": [
       "\\begin{tabular}{lll}\n",
       "\t 0.625  & 0.3125 & 0.0625\\\\\n",
       "\t 0.625  & 0.3125 & 0.0625\\\\\n",
       "\t 0.625  & 0.3125 & 0.0625\\\\\n",
       "\\end{tabular}\n"
      ],
      "text/markdown": [
       "\n",
       "| 0.625  | 0.3125 | 0.0625 | \n",
       "| 0.625  | 0.3125 | 0.0625 | \n",
       "| 0.625  | 0.3125 | 0.0625 | \n",
       "\n",
       "\n"
      ],
      "text/plain": [
       "     [,1]  [,2]   [,3]  \n",
       "[1,] 0.625 0.3125 0.0625\n",
       "[2,] 0.625 0.3125 0.0625\n",
       "[3,] 0.625 0.3125 0.0625"
      ]
     },
     "metadata": {},
     "output_type": "display_data"
    }
   ],
   "source": [
    "# Function to raise a matrix to the n-th power\n",
    "MatPower<-function(A,n){ \n",
    "  if(n==1) A else {B=A; for(i in (2:n)){A=A%*%B}};A\n",
    "  } \n",
    "\n",
    "\n",
    "# Simple Transition Matrix\n",
    "K = matrix(c(0.9,0.075,0.025,0.15,0.8,0.05,0.25,0.25,0.5),3,3)\n",
    "K=t(K)\n",
    "K\n",
    "eigen(K)\n",
    "J = MatPower(K,200)\n",
    "J"
   ]
  },
  {
   "cell_type": "code",
   "execution_count": null,
   "metadata": {
    "collapsed": true
   },
   "outputs": [],
   "source": []
  },
  {
   "cell_type": "markdown",
   "metadata": {},
   "source": [
    "# Markov Chain Monte Carlo\n",
    "\n",
    "**Definition: ** A Markov Chain Monte Carlo (MCMC) method for simulation of a distribution $p$ is any simulation method that produce an ergodic Markov Chain whose stationary distribution if $p$.\n",
    "\n",
    "Broadly speaking a MCMC algorithm works as follows: from an arbitrary starting point $x^{(0)}$, a markov chain $(x^{(t)})_t$ is generated using a transition kernel with stationary distribution $p$, which ensures the convergence in distribution of $(X^{(t)})_t$ to $p$. Given the chain is ergodic, the starting value does not matter\n",
    "\n",
    "---\n",
    "**Metropolis-Hastings Algoritm**\n",
    "\n",
    "Guess $\\theta^{(0)}$ and for $i=0$ until $n$: \n",
    "1. $\\theta=\\theta^{(i)}$\n",
    "Draw $\\theta'\\sim q(\\theta'|\\theta)$\n",
    "2. Compute $r=\\min(1,\\alpha)$ where $\\alpha= \\frac{p(\\theta')q(\\theta|\\theta')}{p(\\theta)q(\\theta'|\\theta)}$\n",
    "4. Draw $u\\sim U(0,1)$\n",
    "5. $\\theta^{(i+1)}=\\begin{cases}\\theta' & \\text{if $u<r$}\\\\\\theta & \\text{if $u\\geq r$}\\end{cases}$\n",
    "\n",
    "---\n",
    "\n",
    "Notice that given two states $(\\theta',\\theta)$ the probability of accepting the movement from $\\theta$ to $\\theta'$ is given by\n",
    "\n",
    "$$P(\\text{ Accept a move })= P(u<r)=r\\equiv r(\\theta'|\\theta)$$\n",
    "\n",
    "thus we can write the MH Kernel as\n",
    "\n",
    "$$K(\\theta,\\theta')=q(\\theta'|\\theta)r(\\theta'|\\theta)+1\\{\\theta'=\\theta\\}\\int q(\\theta'|\\theta)\\left(1-r(\\theta'|\\theta)\\right)\\mathrm{d}\\theta'  $$\n",
    "\n",
    "To show that the stationary distribution of the MH Kernel above is actually the posterior $p$ consider without loss of generality that two states $(\\theta',\\theta)$ result in $p(\\theta)q(\\theta'|\\theta)>p(\\theta')q(\\theta|\\theta')$, hence $\\alpha<1$ and consequently $r(\\theta'|\\theta)=\\alpha$ and $r(\\theta|\\theta')=1$ since $r=\\min(1,\\alpha)$. Thus\n",
    "\n",
    "$$K(\\theta,\\theta')=q(\\theta'|\\theta)r(\\theta'|\\theta)=\\frac{p(\\theta')q(\\theta|\\theta')}{p(\\theta)}\\iff p(\\theta)K(\\theta,\\theta')=p(\\theta')q(\\theta|\\theta')$$\n",
    "\n",
    "Since $K(\\theta',\\theta)=q(\\theta|\\theta')r(\\theta|\\theta')= q(\\theta|\\theta')$, we conclude that \n",
    "\n",
    "$$p(\\theta)K(\\theta,\\theta')=p(\\theta')K(\\theta',\\theta)$$\n",
    "\n",
    "Therefore the stationarity of $p$ is established for any proposal distribution $q$ that satisfies this minimum requirement\n",
    "\n",
    "$$\\text{support $(p)$}\\subseteq \\text{support $\\left(\\bigcup_\\theta q(.|\\theta)\\right)$ }$$\n",
    "\n",
    "This condition can translated as: $q$ is admissible if it has positive probability to move the Markov Chain to areas where the posterior has positive density. In practice, we choose an easy to sample $q$. There are also some convergence consideration that we will discuss further on.\n",
    "\n",
    "### Random Walk Chains\n",
    "\n",
    "If we set our moves in a random walk fashion as in\n",
    "\n",
    "$$\\theta'=\\theta +\\nu,\\quad \\nu\\sim f_{\\nu}$$\n",
    "\n",
    "then, we have that the proposal density becomes\n",
    "\n",
    "$$q(\\theta'|\\theta)=f_\\nu(\\theta'-\\theta)$$\n",
    "\n",
    "If $\\nu$ has a symmetric distribution around $0$, i,e. $f_\\nu(x)=f_\\nu(-x)$, we have the a symmetric proposal distribution since\n",
    "\n",
    "$$q(\\theta'|\\theta)=f_\\nu(\\theta'-\\theta)=f_\\nu(\\theta-\\theta')=q(\\theta|\\theta')$$\n",
    "\n",
    "In that case the the Hasting Correction term $\\frac{q(\\theta|\\theta')}{q(\\theta'|\\theta)}=1$ consequently $\\alpha=\\frac{p(\\theta')}{p(\\theta)}$ and the acceptance probability simply to\n",
    "\n",
    "$$r = min\\left(1,\\frac{p(\\theta')}{p(\\theta)}\\right) $$"
   ]
  },
  {
   "cell_type": "code",
   "execution_count": 39,
   "metadata": {
    "collapsed": true
   },
   "outputs": [],
   "source": [
    "# Random Walk Mestropolis-Hastings Function\n",
    "RWMH = function(p # distribution we want to sample\n",
    "              , q  # proposal distribution of the RW inovation \n",
    "              , n   # iterations\n",
    "               ){\n",
    "  y = rep(NA,n)\n",
    "  accepted = rep(0,n)\n",
    "  y[1] = 0    # starting location for random walk\n",
    "  \n",
    "  for(i in 2:n)    {\n",
    "    y.prop = y[i-1]+q() # implementation assumes a random walk. \n",
    "                            \n",
    "    # We work with the log-likelihoods for numeric stability.\n",
    "    log_alpha = log(p(y.prop)) - log(p(y[i-1]))    \n",
    "\n",
    "    R = min(1,exp(log_alpha))\n",
    "\n",
    "    u = runif(1)        ## uniform variable to determine acceptance\n",
    "    if(u < R){           ## accept the new value\n",
    "      y[i] = y.prop\n",
    "      accepted[i] = 1\n",
    "    }    \n",
    "    else{\n",
    "      y[i] = y[i-1]      ## reject the new value\n",
    "    }    \n",
    "  }\n",
    "  return(list(y, accepted))\n",
    "}"
   ]
  },
  {
   "cell_type": "markdown",
   "metadata": {},
   "source": [
    "The most used choices for the density of $\\nu$ are normal and t-Distribution centered at the origin. The dispersion parameter (variance) cen be set as $kV$ where $k>0$ can be used as a tunning parameter to control the acceptance ratio and $V$ is an approximation for the posterior variance. In that way the moves along the components of $\\theta$ are ajusted to the their relative dispersion. \n"
   ]
  },
  {
   "cell_type": "code",
   "execution_count": 57,
   "metadata": {
    "collapsed": false
   },
   "outputs": [
    {
     "data": {},
     "metadata": {},
     "output_type": "display_data"
    },
    {
     "data": {
      "image/png": "[encoded data removed]",
      "text/plain": [
       "plot without title"
      ]
     },
     "metadata": {},
     "output_type": "display_data"
    }
   ],
   "source": [
    "phi = 0.5   # Mixing coefficient of the Posterior\n",
    "p = function(x){phi*(dnorm(x,-5,1)+(1-phi)*dnorm(x,7,3))}   # Posterior = Target Function\n",
    "k = 0.01\n",
    "q = function(){rnorm(1, 0, k )}\n",
    "n = 1e4\n",
    "\n",
    "result <- RWMH(p, q, n) # Call the Random Walk Mestropolis-Hastings Function\n",
    "chain = result[[1]]\n",
    "burn_in = 0.1\n",
    "chain = chain[-c(1:floor(burn_in*n))]\n",
    "ratio = mean(result[[2]])\n",
    "# Plotting\n",
    "library(ggplot2)\n",
    "library(repr)\n",
    "\n",
    "options(repr.plot.width=5, repr.plot.height=4)\n",
    "\n",
    "true = p(chain)\n",
    "data = data.frame(chain,true)\n",
    "ggplot(data, aes(x = chain)) + \n",
    "  geom_histogram(aes(y=..density..),binwidth = 0.2) +\n",
    "  geom_line(aes(y = true, colour = \"Posterior\")) +\n",
    "  theme(legend.position = c(0.8, 0.8)) +\n",
    "  theme(legend.title=element_blank()) +\n",
    "  ggtitle(paste(\"Metropolis-Hasting - Acceptance Ratio\", ratio)) +\n",
    "      xlab(\"Sampled\")\n",
    "\n"
   ]
  },
  {
   "cell_type": "markdown",
   "metadata": {},
   "source": [
    "### Independent Chains\n",
    "When the proposed transition $q(\\theta'|\\theta)$ is set independent of the current possiton $\\theta$ we have an independent chain. \n",
    "\n",
    "$$q(\\theta'|\\theta)=q(\\theta')$$\n",
    "\n",
    "Be careful the independence is only with respect to the moves but not to the chain itself. Recall the acceptance of the move is still dependent on the current position so the Markovian process is preserved. In that case the we have\n",
    "\n",
    "$$\\alpha= \\frac{p(\\theta')q(\\theta)}{p(\\theta)q(\\theta')}$$\n",
    "\n",
    "A common choice for $q$ in this sitution is the prior $q(\\theta)=\\pi(\\theta)$ in that case $\\alpha$ becomes the likelyhood ratio $\\frac{f(\\theta')}{f(\\theta)}$ and the acceptance ration is given by\n",
    "\n",
    "$$r = min\\left(1,\\frac{f(\\theta')}{f(\\theta)}\\right) $$\n"
   ]
  },
  {
   "cell_type": "code",
   "execution_count": null,
   "metadata": {
    "collapsed": true
   },
   "outputs": [],
   "source": []
  },
  {
   "cell_type": "code",
   "execution_count": null,
   "metadata": {
    "collapsed": true
   },
   "outputs": [],
   "source": []
  },
  {
   "cell_type": "code",
   "execution_count": null,
   "metadata": {
    "collapsed": true
   },
   "outputs": [],
   "source": []
  }
 ],
 "metadata": {
  "anaconda-cloud": {},
  "kernelspec": {
   "display_name": "R",
   "language": "R",
   "name": "ir"
  },
  "language_info": {
   "codemirror_mode": "r",
   "file_extension": ".r",
   "mimetype": "text/x-r-source",
   "name": "R",
   "pygments_lexer": "r",
   "version": "3.3.2"
  }
 },
 "nbformat": 4,
 "nbformat_minor": 2
}
