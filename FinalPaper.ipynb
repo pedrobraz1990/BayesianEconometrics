{
 "cells": [
  {
   "cell_type": "code",
   "execution_count": 1,
   "metadata": {
    "collapsed": false
   },
   "outputs": [],
   "source": [
    "%matplotlib inline\n",
    "import numpy as np\n",
    "import pandas as pd\n",
    "import scipy as sp\n",
    "from scipy.optimize import minimize\n",
    "from scipy.stats import norm\n",
    "from scipy.stats import chi2\n",
    "import cython\n",
    "%load_ext Cython\n",
    "\n",
    "\n",
    "from KalmanFilter import KalmanFilter as KFPedro\n",
    "from KF_py import KalmanFilter as KF\n",
    "from KF_py2 import KalmanFilter as KF2\n",
    "from KalmanFilter_Uni import KalmanFilter as KFU\n",
    "from KalmanFilter_UniCy import KalmanFilter as KFUC\n",
    "\n",
    "%load_ext autotime\n",
    "%load_ext snakeviz"
   ]
  },
  {
   "cell_type": "markdown",
   "metadata": {},
   "source": [
    "# Bayesian Econometrics - Final Paper\n",
    "\n",
    "Paper to be delivered as the course's final paper\n",
    "\n",
    "Pedro Montero Mattos\n",
    "\n",
    "MPE - Econometria\n",
    "\n",
    "\\#333791"
   ]
  },
  {
   "cell_type": "markdown",
   "metadata": {},
   "source": [
    "# The Model - Local Level with Seasonal Component\n",
    "\n",
    "As described in the chapter 4 in Koopman et al. The local level model with a seasonal component consists of the following equations:\n",
    "\n",
    "$$y_t = \\mu_t + \\gamma_t + \\epsilon_t, \\qquad \\epsilon_t \\sim NID(0,\\sigma^2_\\epsilon)$$\n",
    "\n",
    "$$\\mu_{t+1} = \\mu_t + \\xi_t, \\qquad \\xi_t \\sim NID(0,\\sigma^2_\\xi) $$\n",
    "\n",
    "$$\\gamma_{t+1} = -\\gamma_{t} - \\gamma_{t-1} - \\theta_1\\gamma_{t-2} + \\omega_t \\sim NID(0,\\sigma^2_\\omega) $$\n",
    "\n",
    "\n",
    "We added a $\\theta$ coefficient in order to use maximum likelihood estimation"
   ]
  },
  {
   "cell_type": "markdown",
   "metadata": {},
   "source": [
    "## State Space Form\n",
    "\n",
    "General Form:\n",
    "\n",
    "$$ y_t = Z x_t + \\epsilon_t, \\qquad \\epsilon_t \\sim NID(0,\\sigma^2_\\epsilon)$$\n",
    "$$ x_{t+1} = T x_t + R_t \\eta_T, \\qquad \\eta_t \\sim NID(0,Qt) $$"
   ]
  },
  {
   "cell_type": "markdown",
   "metadata": {},
   "source": [
    "In terms of the model:\n",
    "$$ \n",
    "x_t = \n",
    "\\begin{pmatrix}\\mu_t \\\\ \\gamma_t  \\\\  \\gamma_{t-1}   \\\\ \\gamma_{t-2}  \\end{pmatrix}\n",
    "$$"
   ]
  },
  {
   "cell_type": "markdown",
   "metadata": {},
   "source": [
    "$$\n",
    "\\eta_t = \n",
    "\\begin{pmatrix}\\xi_t \\\\ \\omega_t \\end{pmatrix}\n",
    "$$"
   ]
  },
  {
   "cell_type": "markdown",
   "metadata": {},
   "source": [
    "$$\n",
    "T_t = \n",
    "\\begin{bmatrix} \n",
    "1 & 0 & 0 & 0 \\\\\n",
    "0 & -1 & -1 & -\\theta_1 \\\\\n",
    "0 & 1 & 0 & 0 \\\\\n",
    "0 & 0 & 1 & 0 \n",
    "\\end{bmatrix}\n",
    "$$\n",
    "\n"
   ]
  },
  {
   "cell_type": "markdown",
   "metadata": {},
   "source": [
    "$$\n",
    "Z^T_t = \n",
    "\\begin{pmatrix}1 \\\\ 1  \\\\  0   \\\\ 0  \\end{pmatrix}\n",
    "$$"
   ]
  },
  {
   "cell_type": "markdown",
   "metadata": {},
   "source": [
    "$$\n",
    "Q_t = \n",
    "\\begin{bmatrix} \n",
    "\\sigma^2_\\xi & 0 \\\\\n",
    "0 & \\sigma^2_\\omega \\\\\n",
    "\\end{bmatrix}\n",
    "$$"
   ]
  },
  {
   "cell_type": "markdown",
   "metadata": {},
   "source": [
    "$$\n",
    "R_t = \n",
    "\\begin{bmatrix} \n",
    "1 & 0  \\\\\n",
    "0 & 1  \\\\\n",
    "0 & 0  \\\\\n",
    "0 & 0  \\\\\n",
    "\\end{bmatrix}\n",
    "$$"
   ]
  },
  {
   "cell_type": "markdown",
   "metadata": {},
   "source": [
    "$$\n",
    "H_t = \n",
    "\\begin{bmatrix} \n",
    "\\sigma^2_\\epsilon\n",
    "\\end{bmatrix}\n",
    "$$"
   ]
  },
  {
   "cell_type": "markdown",
   "metadata": {},
   "source": [
    "# Generating the data for $\\theta_1=0.7$\n",
    "\n",
    "We have to choose all parameter values plus the initial states\n",
    "\n",
    "$$\\gamma_t = \\gamma_{t-1} = \\gamma_{t-2} = 0$$\n",
    "$$\\theta_1 = 0.7$$\n",
    "$$\\sigma^2_\\xi = 0.1$$\n",
    "$$\\sigma^2_\\omega = 0.2$$\n",
    "$$\\sigma^2_\\epsilon = 0.3$$\n",
    "\n",
    "\n"
   ]
  },
  {
   "cell_type": "code",
   "execution_count": 2,
   "metadata": {
    "collapsed": false
   },
   "outputs": [
    {
     "name": "stdout",
     "output_type": "stream",
     "text": [
      "time: 3.15 ms\n"
     ]
    }
   ],
   "source": [
    "n = 150\n",
    "theta1 = 0.7\n",
    "sigmaXi = 0.1\n",
    "sigmaOmega = 0.2\n",
    "sigmaEpsilon = 0.3"
   ]
  },
  {
   "cell_type": "code",
   "execution_count": 3,
   "metadata": {
    "collapsed": false
   },
   "outputs": [
    {
     "data": {
      "text/plain": [
       "<matplotlib.axes._subplots.AxesSubplot at 0x10f842da0>"
      ]
     },
     "execution_count": 3,
     "metadata": {},
     "output_type": "execute_result"
    },
    {
     "data": {
      "image/png": "[encoded data removed]",
      "text/plain": [
       "<matplotlib.figure.Figure at 0x10f853080>"
      ]
     },
     "metadata": {},
     "output_type": "display_data"
    },
    {
     "name": "stdout",
     "output_type": "stream",
     "text": [
      "time: 410 ms\n"
     ]
    }
   ],
   "source": [
    "y = np.array([0])\n",
    "mi = np.array([0])\n",
    "gamma = np.array([0])\n",
    "\n",
    "xi = np.array([0])\n",
    "omega = np.array([0])\n",
    "ep = np.array([0])\n",
    "\n",
    "for i in range(1,n):\n",
    "\n",
    "    # Level equation\n",
    "    xi = np.append(xi,np.random.normal(scale=sigmaXi))\n",
    "    mi = np.append(mi,mi[i-1]+xi[i])\n",
    "    \n",
    "    # Seasonality equation\n",
    "    omega = np.append(omega,np.random.normal(scale=sigmaOmega))\n",
    "    holder = 0\n",
    "    if i-1 >= 0:\n",
    "        holder -= gamma[i-1] \n",
    "    if i-2 >= 0:\n",
    "        holder -= gamma[i-2] \n",
    "    if i-3 >= 0:\n",
    "        holder -= gamma[i-3] * theta1\n",
    "    \n",
    "    gamma = np.append(gamma,holder+omega[i])\n",
    "    \n",
    "    # Series equation\n",
    "    ep = np.append(ep,np.random.normal(scale=sigmaEpsilon))\n",
    "    y = np.append(y,mi[i]+gamma[i]+ep[i])\n",
    "\n",
    "y = pd.DataFrame(y) \n",
    "mi = pd.DataFrame(mi) \n",
    "gamma = pd.DataFrame(gamma) \n",
    "\n",
    "y.plot()"
   ]
  },
  {
   "cell_type": "markdown",
   "metadata": {},
   "source": [
    "# Maximum Likelihood Estimates\n",
    "\n",
    "Define a wrapper function that maps the theta vector of parameters to the state space matrices\n",
    "\n",
    "$$\\theta = [\\theta_1, \\sigma^2_\\epsilon, \\sigma^2_\\xi, \\sigma^2_\\omega]'$$\n",
    "\n",
    "The functions return the negative of the likelihood because the scipy optimization algorithms only minimize functions. Also we use the logarithm for numerical reasons."
   ]
  },
  {
   "cell_type": "code",
   "execution_count": 4,
   "metadata": {
    "collapsed": false
   },
   "outputs": [
    {
     "name": "stdout",
     "output_type": "stream",
     "text": [
      "time: 17.8 ms\n"
     ]
    }
   ],
   "source": [
    "def wrapper(theta):\n",
    "    T = pd.DataFrame([\n",
    "        [1,0,0,0],\n",
    "        [0,-1,-1,-theta[0]],\n",
    "        [0,1,0,0],\n",
    "        [0,0,1,0],\n",
    "    ])\n",
    "\n",
    "    H = pd.DataFrame([theta[1]])\n",
    "\n",
    "    Q = pd.DataFrame([\n",
    "        [theta[2],0],\n",
    "        [0,theta[3]],\n",
    "    ])\n",
    "\n",
    "    kf = KF(y=np.array(y), \n",
    "                      Z=np.array(Z.astype(float)), \n",
    "                      H=np.array(H.astype(float)), \n",
    "                      T=np.array(T.astype(float)), \n",
    "                      Q=np.array(Q.astype(float)), \n",
    "                      a1=np.zeros((4)), \n",
    "                      P1=np.identity(4), \n",
    "                      R=np.array(R.astype(float)), \n",
    "                      nStates=4,)    \n",
    "\n",
    "    return -np.log(kf['ll']*10e6)"
   ]
  },
  {
   "cell_type": "markdown",
   "metadata": {},
   "source": [
    "## Define the additional state space matrices"
   ]
  },
  {
   "cell_type": "code",
   "execution_count": 5,
   "metadata": {
    "collapsed": false
   },
   "outputs": [
    {
     "name": "stdout",
     "output_type": "stream",
     "text": [
      "time: 10.7 ms\n"
     ]
    }
   ],
   "source": [
    "Z = pd.DataFrame([\n",
    "        [1,1,0,0],\n",
    "    ])\n",
    "\n",
    "R = pd.DataFrame([\n",
    "        [1,0],\n",
    "        [0,1],\n",
    "        [0,0],\n",
    "        [0,0],\n",
    "    ])"
   ]
  },
  {
   "cell_type": "markdown",
   "metadata": {},
   "source": [
    "Minimize the wrapper function, with the following initial values for $\\theta$:\n",
    "\n",
    "$$\\theta = [0.5, 1, 1, 1]'$$\n",
    "    "
   ]
  },
  {
   "cell_type": "code",
   "execution_count": 6,
   "metadata": {
    "collapsed": false
   },
   "outputs": [
    {
     "name": "stdout",
     "output_type": "stream",
     "text": [
      "time: 1.86 ms\n"
     ]
    }
   ],
   "source": [
    "initialTheta = np.array([0.5,1.0,1.0,1.0])"
   ]
  },
  {
   "cell_type": "code",
   "execution_count": null,
   "metadata": {
    "collapsed": false
   },
   "outputs": [],
   "source": [
    "minimize(wrapper,initialTheta, \n",
    "         options={'disp':True, 'maxiter':1000}, \n",
    "#          bounds = ((-5,5),(None,None),(None,None),(None,None),), \n",
    "         method='SLSQP',\n",
    "         )"
   ]
  },
  {
   "cell_type": "code",
   "execution_count": null,
   "metadata": {
    "collapsed": true
   },
   "outputs": [],
   "source": [
    "minimize(wrapper,initialTheta, \n",
    "         options={'disp':True, 'maxiter':500}, \n",
    "#          bounds = ((-5,5),(None,None),(None,None),(None,None),), \n",
    "         method='Powell',\n",
    "         )"
   ]
  },
  {
   "cell_type": "code",
   "execution_count": null,
   "metadata": {
    "collapsed": true
   },
   "outputs": [],
   "source": [
    "minimize(wrapper,initialTheta, \n",
    "         options={'disp':True, 'maxiter':500}, \n",
    "#          bounds = ((-5,5),(None,None),(None,None),(None,None),), \n",
    "         method='BFGS',\n",
    "         )"
   ]
  },
  {
   "cell_type": "code",
   "execution_count": null,
   "metadata": {
    "collapsed": true
   },
   "outputs": [],
   "source": [
    "minimize(wrapper,initialTheta, \n",
    "         options={'disp':True, 'maxiter':500}, \n",
    "#          bounds = ((-5,5),(None,None),(None,None),(None,None),), \n",
    "         method='Nelder-Mead',\n",
    "         )"
   ]
  },
  {
   "cell_type": "markdown",
   "metadata": {},
   "source": [
    "# Bayesian Estimates\n",
    "\n",
    "## Wrapper, Priors and Posteriors\n",
    "\n",
    "We chose to use the following priors:\n",
    "\n",
    "$$\\theta_1 \\sim N(0,1)$$\n",
    "$$\\sigma^2_\\epsilon \\sim \\chi_2(1)$$\n",
    "$$\\sigma^2_\\xi \\sim \\chi_2(1)$$\n",
    "$$\\sigma^2_\\omega \\sim \\chi_2(1)$$"
   ]
  },
  {
   "cell_type": "code",
   "execution_count": 34,
   "metadata": {
    "collapsed": false
   },
   "outputs": [
    {
     "name": "stdout",
     "output_type": "stream",
     "text": [
      "time: 8.38 ms\n"
     ]
    }
   ],
   "source": [
    "def posterior(theta,priorMeans, priorVariances):\n",
    "    \n",
    "    i=0\n",
    "    temp = norm.pdf(theta[i],priorMeans[i],priorVariances[i])\n",
    "    for i in range(1,3+1):\n",
    "        temp *= chi2.pdf(theta[i],1)\n",
    "    \n",
    "    ll = wrapper(theta)\n",
    "#     print(ll)\n",
    "    return ll * temp"
   ]
  },
  {
   "cell_type": "code",
   "execution_count": 35,
   "metadata": {
    "collapsed": false
   },
   "outputs": [
    {
     "name": "stdout",
     "output_type": "stream",
     "text": [
      "time: 15.9 ms\n"
     ]
    }
   ],
   "source": [
    "def wrapper(theta):\n",
    "    T = pd.DataFrame([\n",
    "        [1,0,0,0],\n",
    "        [0,-1,-1,-theta[0]],\n",
    "        [0,1,0,0],\n",
    "        [0,0,1,0],\n",
    "    ])\n",
    "\n",
    "    H = pd.DataFrame([theta[1]])\n",
    "\n",
    "    Q = pd.DataFrame([\n",
    "        [theta[2],0],\n",
    "        [0,theta[3]],\n",
    "    ])\n",
    "\n",
    "    kf = KFUC(y=np.array(y), \n",
    "                      Z=np.array(Z.astype(float)), \n",
    "                      H=np.array(H.astype(float)), \n",
    "                      T=np.array(T.astype(float)), \n",
    "                      Q=np.array(Q.astype(float)), \n",
    "                      a1=np.zeros((4)), \n",
    "                      P1=np.identity(4), \n",
    "                      R=np.array(R.astype(float)), \n",
    "                      nStates=4,)    \n",
    "\n",
    "    return kf"
   ]
  },
  {
   "cell_type": "markdown",
   "metadata": {},
   "source": [
    "## MCMC - Metropolis Hastings\n",
    "\n",
    "We chose to use a random walk metropolis hastings of the form\n",
    "\n",
    "---\n",
    "**Metropolis-Hastings Algoritm**\n",
    "\n",
    "Guess $\\theta^{(0)}$ and for $i=0$ until $n$: \n",
    "1. $\\theta=\\theta^{(i-1)} + \\eta_t$ where $\\eta_t \\sim N(0,\\sigma)$\n",
    "2. Compute $r=\\min(1,\\alpha)$ where $\\alpha= \\frac{p(\\theta')q(\\theta|\\theta')}{p(\\theta)q(\\theta'|\\theta)}$\n",
    "4. Draw $u\\sim U(0,1)$\n",
    "5. $\\theta^{(i+1)}=\\begin{cases}\\theta' & \\text{if $u<r$}\\\\\\theta & \\text{if $u\\geq r$}\\end{cases}$\n",
    "\n",
    "---\n",
    "\n",
    "We use the logarithmic transformations for all variance parameters"
   ]
  },
  {
   "cell_type": "code",
   "execution_count": 36,
   "metadata": {
    "collapsed": false
   },
   "outputs": [
    {
     "name": "stdout",
     "output_type": "stream",
     "text": [
      "time: 37.4 ms\n"
     ]
    }
   ],
   "source": [
    "def randomWalkMH(sample,burn, initialTheta, randomWalkSigmas,priorMeans,priorVariances):\n",
    "\n",
    "    thetaMH = []\n",
    "    accept = np.zeros([sample])\n",
    "    posts = np.zeros([sample])\n",
    "\n",
    "    thetaMH.append(initialTheta)\n",
    "\n",
    "    thetastemps = []\n",
    "    disturbances = []\n",
    "\n",
    "    for i in range(1,sample):\n",
    "        disturbance = np.multiply(np.random.randn(thetaMH[0].shape[0]),randomWalkSigmas)\n",
    "    #     disturbance[1:] = np.exp(disturbance[1:]) #problema está aqui\n",
    "    #     print(disturbance)\n",
    "        thetaTemp = thetaMH[i-1].copy()\n",
    "        thetaTemp[1:] = np.log(thetaMH[i-1][1:])+disturbance[1:]\n",
    "        thetaTemp[1:] = np.exp(thetaTemp[1:])\n",
    "        thetaTemp[0] = thetaTemp[0] + disturbance[0]\n",
    "        disturbances.append(disturbance)\n",
    "        thetastemps.append(thetaTemp.copy())\n",
    "    #     print(thetaTemp)\n",
    "    #     print(thetastemps[i-1])\n",
    "    #     thetaTemp = (temp)\n",
    "        tempPost = posterior(thetaTemp,priorMeans, priorVariances)\n",
    "        lalpha = np.log(tempPost) - np.log(posts[i-1])\n",
    "        r = np.min([1, np.exp(lalpha)])\n",
    "\n",
    "        u = np.random.uniform()\n",
    "\n",
    "        if u < r:\n",
    "            accept[i] = 1\n",
    "            thetaMH.append(thetaTemp)\n",
    "            posts[i] = tempPost\n",
    "        else:\n",
    "            thetaMH.append(thetaMH[i-1])\n",
    "            posts[i] = posts[i-1]    \n",
    "\n",
    "    post = pd.DataFrame(thetaMH)\n",
    "    return {'posterior' : post[burn:], 'accept' : accept}"
   ]
  },
  {
   "cell_type": "code",
   "execution_count": 40,
   "metadata": {
    "collapsed": false
   },
   "outputs": [
    {
     "name": "stderr",
     "output_type": "stream",
     "text": [
      "/Users/mac/anaconda/lib/python3.5/site-packages/ipykernel/__main__.py:26: RuntimeWarning: divide by zero encountered in log\n"
     ]
    },
    {
     "name": "stdout",
     "output_type": "stream",
     "text": [
      "time: 1min 4s\n"
     ]
    }
   ],
   "source": [
    "sample = 5000\n",
    "\n",
    "sigma = 0.3\n",
    "randomWalkSigmas = np.array([0.1,sigma,sigma,sigma])\n",
    "\n",
    "priorMeans = np.array([0,0,0,0])\n",
    "\n",
    "priorVariances = 3 * np.ones(4)\n",
    "\n",
    "mcmc = randomWalkMH(sample = sample,\n",
    "                 burn = 500, \n",
    "                 initialTheta = initialTheta, \n",
    "                 randomWalkSigmas = randomWalkSigmas,\n",
    "                 priorMeans = priorMeans,\n",
    "                 priorVariances = priorVariances)"
   ]
  },
  {
   "cell_type": "markdown",
   "metadata": {},
   "source": [
    "**Acceptance Ratio**"
   ]
  },
  {
   "cell_type": "code",
   "execution_count": 41,
   "metadata": {
    "collapsed": false
   },
   "outputs": [
    {
     "data": {
      "text/plain": [
       "0.26679999999999998"
      ]
     },
     "execution_count": 41,
     "metadata": {},
     "output_type": "execute_result"
    },
    {
     "name": "stdout",
     "output_type": "stream",
     "text": [
      "time: 3.77 ms\n"
     ]
    }
   ],
   "source": [
    "mcmc['accept'].sum() / mcmc['accept'].shape[0]"
   ]
  },
  {
   "cell_type": "markdown",
   "metadata": {},
   "source": [
    "## Marginal distribution for $\\theta_1$\n",
    "\n",
    "True value is $0.7$"
   ]
  },
  {
   "cell_type": "code",
   "execution_count": 42,
   "metadata": {
    "collapsed": false
   },
   "outputs": [
    {
     "name": "stdout",
     "output_type": "stream",
     "text": [
      "time: 827 µs\n"
     ]
    }
   ],
   "source": [
    "par = 0"
   ]
  },
  {
   "cell_type": "code",
   "execution_count": 43,
   "metadata": {
    "collapsed": false
   },
   "outputs": [
    {
     "data": {
      "text/plain": [
       "count    4500.000000\n",
       "mean        0.644512\n",
       "std         0.056673\n",
       "min         0.433298\n",
       "25%         0.607049\n",
       "50%         0.644263\n",
       "75%         0.683679\n",
       "max         0.828067\n",
       "Name: 0, dtype: float64"
      ]
     },
     "execution_count": 43,
     "metadata": {},
     "output_type": "execute_result"
    },
    {
     "name": "stdout",
     "output_type": "stream",
     "text": [
      "time: 8.91 ms\n"
     ]
    }
   ],
   "source": [
    "mcmc['posterior'][par].describe()"
   ]
  },
  {
   "cell_type": "code",
   "execution_count": 44,
   "metadata": {
    "collapsed": false
   },
   "outputs": [
    {
     "data": {
      "text/plain": [
       "<matplotlib.axes._subplots.AxesSubplot at 0x112562358>"
      ]
     },
     "execution_count": 44,
     "metadata": {},
     "output_type": "execute_result"
    },
    {
     "data": {
      "image/png": "[encoded data removed]",
      "text/plain": [
       "<matplotlib.figure.Figure at 0x1128ce668>"
      ]
     },
     "metadata": {},
     "output_type": "display_data"
    },
    {
     "name": "stdout",
     "output_type": "stream",
     "text": [
      "time: 445 ms\n"
     ]
    }
   ],
   "source": [
    "mcmc['posterior'][par].plot.density()"
   ]
  },
  {
   "cell_type": "markdown",
   "metadata": {},
   "source": [
    "## Marginal distribution for $\\sigma^2_\\epsilon$\n",
    "\n",
    "True value is $0.3$"
   ]
  },
  {
   "cell_type": "code",
   "execution_count": 47,
   "metadata": {
    "collapsed": false
   },
   "outputs": [
    {
     "name": "stdout",
     "output_type": "stream",
     "text": [
      "time: 1.22 ms\n"
     ]
    }
   ],
   "source": [
    "par = 1"
   ]
  },
  {
   "cell_type": "code",
   "execution_count": 48,
   "metadata": {
    "collapsed": false
   },
   "outputs": [
    {
     "data": {
      "text/plain": [
       "count    4.500000e+03\n",
       "mean     1.247505e-04\n",
       "std      8.003728e-04\n",
       "min      5.038152e-14\n",
       "25%      4.797352e-12\n",
       "50%      1.245064e-08\n",
       "75%      1.976503e-07\n",
       "max      1.161997e-02\n",
       "Name: 1, dtype: float64"
      ]
     },
     "execution_count": 48,
     "metadata": {},
     "output_type": "execute_result"
    },
    {
     "name": "stdout",
     "output_type": "stream",
     "text": [
      "time: 10.2 ms\n"
     ]
    }
   ],
   "source": [
    "mcmc['posterior'][par].describe()"
   ]
  },
  {
   "cell_type": "code",
   "execution_count": 49,
   "metadata": {
    "collapsed": false
   },
   "outputs": [
    {
     "data": {
      "text/plain": [
       "<matplotlib.axes._subplots.AxesSubplot at 0x112723f28>"
      ]
     },
     "execution_count": 49,
     "metadata": {},
     "output_type": "execute_result"
    },
    {
     "data": {
      "image/png": "[encoded data removed]",
      "text/plain": [
       "<matplotlib.figure.Figure at 0x1128ce2e8>"
      ]
     },
     "metadata": {},
     "output_type": "display_data"
    },
    {
     "name": "stdout",
     "output_type": "stream",
     "text": [
      "time: 492 ms\n"
     ]
    }
   ],
   "source": [
    "mcmc['posterior'][par].plot.density()"
   ]
  },
  {
   "cell_type": "markdown",
   "metadata": {},
   "source": [
    "## Marginal distribution for $\\sigma^2_\\xi$\n",
    "\n",
    "True value is $0.1$"
   ]
  },
  {
   "cell_type": "code",
   "execution_count": 50,
   "metadata": {
    "collapsed": false
   },
   "outputs": [
    {
     "name": "stdout",
     "output_type": "stream",
     "text": [
      "time: 1.35 ms\n"
     ]
    }
   ],
   "source": [
    "par = 2"
   ]
  },
  {
   "cell_type": "code",
   "execution_count": 51,
   "metadata": {
    "collapsed": false
   },
   "outputs": [
    {
     "data": {
      "text/plain": [
       "count    4500.000000\n",
       "mean        0.035803\n",
       "std         0.009673\n",
       "min         0.016112\n",
       "25%         0.028996\n",
       "50%         0.034700\n",
       "75%         0.041036\n",
       "max         0.080027\n",
       "Name: 2, dtype: float64"
      ]
     },
     "execution_count": 51,
     "metadata": {},
     "output_type": "execute_result"
    },
    {
     "name": "stdout",
     "output_type": "stream",
     "text": [
      "time: 10.3 ms\n"
     ]
    }
   ],
   "source": [
    "mcmc['posterior'][par].describe()"
   ]
  },
  {
   "cell_type": "code",
   "execution_count": 52,
   "metadata": {
    "collapsed": false
   },
   "outputs": [
    {
     "data": {
      "text/plain": [
       "<matplotlib.axes._subplots.AxesSubplot at 0x11264a780>"
      ]
     },
     "execution_count": 52,
     "metadata": {},
     "output_type": "execute_result"
    },
    {
     "data": {
      "image/png": "[encoded data removed]",
      "text/plain": [
       "<matplotlib.figure.Figure at 0x112ae13c8>"
      ]
     },
     "metadata": {},
     "output_type": "display_data"
    },
    {
     "name": "stdout",
     "output_type": "stream",
     "text": [
      "time: 442 ms\n"
     ]
    }
   ],
   "source": [
    "mcmc['posterior'][par].plot.density()"
   ]
  },
  {
   "cell_type": "markdown",
   "metadata": {},
   "source": [
    "## Marginal distribution for $\\sigma^2_\\omega$\n",
    "\n",
    "True value is $0.2$"
   ]
  },
  {
   "cell_type": "code",
   "execution_count": 53,
   "metadata": {
    "collapsed": false
   },
   "outputs": [
    {
     "name": "stdout",
     "output_type": "stream",
     "text": [
      "time: 829 µs\n"
     ]
    }
   ],
   "source": [
    "par = 3"
   ]
  },
  {
   "cell_type": "code",
   "execution_count": 54,
   "metadata": {
    "collapsed": false
   },
   "outputs": [
    {
     "data": {
      "text/plain": [
       "count    4500.000000\n",
       "mean        0.074072\n",
       "std         0.013683\n",
       "min         0.036514\n",
       "25%         0.063909\n",
       "50%         0.072931\n",
       "75%         0.083103\n",
       "max         0.135179\n",
       "Name: 3, dtype: float64"
      ]
     },
     "execution_count": 54,
     "metadata": {},
     "output_type": "execute_result"
    },
    {
     "name": "stdout",
     "output_type": "stream",
     "text": [
      "time: 9.95 ms\n"
     ]
    }
   ],
   "source": [
    "mcmc['posterior'][par].describe()"
   ]
  },
  {
   "cell_type": "code",
   "execution_count": 25,
   "metadata": {
    "collapsed": false
   },
   "outputs": [
    {
     "data": {
      "text/plain": [
       "<matplotlib.axes._subplots.AxesSubplot at 0x11246e860>"
      ]
     },
     "execution_count": 25,
     "metadata": {},
     "output_type": "execute_result"
    },
    {
     "data": {
      "image/png": "[encoded data removed]",
      "text/plain": [
       "<matplotlib.figure.Figure at 0x112163518>"
      ]
     },
     "metadata": {},
     "output_type": "display_data"
    },
    {
     "name": "stdout",
     "output_type": "stream",
     "text": [
      "time: 344 ms\n"
     ]
    }
   ],
   "source": [
    "mcmc['posterior'][par].plot.density()"
   ]
  },
  {
   "cell_type": "markdown",
   "metadata": {
    "collapsed": true
   },
   "source": [
    "# Performance Optimization\n",
    "\n",
    "## Profiling the Kalman Filter\n",
    "\n",
    "Profiling should always be the first step on every optimization\n",
    "\n",
    "We'll profile the KF with the true values"
   ]
  },
  {
   "cell_type": "code",
   "execution_count": 26,
   "metadata": {
    "collapsed": false
   },
   "outputs": [
    {
     "name": "stdout",
     "output_type": "stream",
     "text": [
      "time: 16.6 ms\n"
     ]
    }
   ],
   "source": [
    "def KF_func(theta):\n",
    "    T = pd.DataFrame([\n",
    "        [1,0,0,0],\n",
    "        [0,-1,-1,-0.7],\n",
    "        [0,1,0,0],\n",
    "        [0,0,1,0],\n",
    "    ])\n",
    "\n",
    "    H = pd.DataFrame([0.3])\n",
    "\n",
    "    Q = pd.DataFrame([\n",
    "        [0.1,0],\n",
    "        [0,0.2],\n",
    "    ])\n",
    "\n",
    "    kf = KF(y=np.array(y), \n",
    "                      Z=np.array(Z.astype(float)), \n",
    "                      H=np.array(H.astype(float)), \n",
    "                      T=np.array(T.astype(float)), \n",
    "                      Q=np.array(Q.astype(float)), \n",
    "                      a1=np.zeros((4)), \n",
    "                      P1=np.identity(4), \n",
    "                      R=np.array(R.astype(float)), \n",
    "                      nStates=4,)    \n",
    "\n",
    "    return kf['ll']\n"
   ]
  },
  {
   "cell_type": "code",
   "execution_count": 27,
   "metadata": {
    "collapsed": false
   },
   "outputs": [
    {
     "name": "stdout",
     "output_type": "stream",
     "text": [
      " \n",
      "*** Profile stats marshalled to file '/var/folders/s0/cpch1n253877slkrcpdzqgph0000gn/T/tmp7jjf748e'. \n",
      "time: 3.09 s\n"
     ]
    }
   ],
   "source": [
    "%%snakeviz\n",
    "\n",
    "KF_func(0)"
   ]
  },
  {
   "cell_type": "markdown",
   "metadata": {},
   "source": [
    "The problem is that dot products and matrix inversions are already optimized in fortran and C"
   ]
  },
  {
   "cell_type": "markdown",
   "metadata": {},
   "source": [
    "## Univariate Approach\n",
    "\n",
    "Makes best use of cython"
   ]
  },
  {
   "cell_type": "code",
   "execution_count": 28,
   "metadata": {
    "collapsed": false
   },
   "outputs": [
    {
     "name": "stdout",
     "output_type": "stream",
     "text": [
      "time: 16.8 ms\n"
     ]
    }
   ],
   "source": [
    "def KF_funcUni(theta):\n",
    "    T = pd.DataFrame([\n",
    "        [1,0,0,0],\n",
    "        [0,-1,-1,-0.7],\n",
    "        [0,1,0,0],\n",
    "        [0,0,1,0],\n",
    "    ])\n",
    "\n",
    "    H = pd.DataFrame([0.3])\n",
    "\n",
    "    Q = pd.DataFrame([\n",
    "        [0.1,0],\n",
    "        [0,0.2],\n",
    "    ])\n",
    "\n",
    "    kf = KFU(y=np.array(y), \n",
    "                      Z=np.array(Z.astype(float)), \n",
    "                      H=np.array(H.astype(float)), \n",
    "                      T=np.array(T.astype(float)), \n",
    "                      Q=np.array(Q.astype(float)), \n",
    "                      a1=np.zeros((4)), \n",
    "                      P1=np.identity(4), \n",
    "                      R=np.array(R.astype(float)), \n",
    "                      nStates=4,)    \n",
    "\n",
    "    return kf\n",
    "\n"
   ]
  },
  {
   "cell_type": "code",
   "execution_count": 30,
   "metadata": {
    "collapsed": false
   },
   "outputs": [
    {
     "name": "stdout",
     "output_type": "stream",
     "text": [
      "10 loops, best of 3: 27.8 ms per loop\n",
      "time: 1.2 s\n"
     ]
    }
   ],
   "source": [
    "%%timeit\n",
    "KF_func(0)"
   ]
  },
  {
   "cell_type": "code",
   "execution_count": 31,
   "metadata": {
    "collapsed": false
   },
   "outputs": [
    {
     "name": "stdout",
     "output_type": "stream",
     "text": [
      "100 loops, best of 3: 13.8 ms per loop\n",
      "time: 5.78 s\n"
     ]
    }
   ],
   "source": [
    "%%timeit\n",
    "KF_funcUni(0)"
   ]
  },
  {
   "cell_type": "code",
   "execution_count": 46,
   "metadata": {
    "collapsed": false
   },
   "outputs": [
    {
     "name": "stdout",
     "output_type": "stream",
     "text": [
      " \n",
      "*** Profile stats marshalled to file '/var/folders/s0/cpch1n253877slkrcpdzqgph0000gn/T/tmpyt82mm5l'. \n",
      "time: 3.04 s\n"
     ]
    }
   ],
   "source": [
    "%%snakeviz\n",
    "\n",
    "KF_funcUni(0)"
   ]
  },
  {
   "cell_type": "markdown",
   "metadata": {},
   "source": [
    "Since dot is already optimized we will move on to cython"
   ]
  },
  {
   "cell_type": "code",
   "execution_count": 29,
   "metadata": {
    "collapsed": false
   },
   "outputs": [
    {
     "name": "stdout",
     "output_type": "stream",
     "text": [
      "time: 19.1 ms\n"
     ]
    }
   ],
   "source": [
    "def KF_funcUniC(theta):\n",
    "    T = pd.DataFrame([\n",
    "        [1,0,0,0],\n",
    "        [0,-1,-1,-0.7],\n",
    "        [0,1,0,0],\n",
    "        [0,0,1,0],\n",
    "    ])\n",
    "\n",
    "    H = pd.DataFrame([0.3])\n",
    "\n",
    "    Q = pd.DataFrame([\n",
    "        [0.1,0],\n",
    "        [0,0.2],\n",
    "    ])\n",
    "\n",
    "    kf = KFUC(y=np.array(y), \n",
    "                      Z=np.array(Z.astype(float)), \n",
    "                      H=np.array(H.astype(float)), \n",
    "                      T=np.array(T.astype(float)), \n",
    "                      Q=np.array(Q.astype(float)), \n",
    "                      a1=np.zeros((4)), \n",
    "                      P1=np.identity(4), \n",
    "                      R=np.array(R.astype(float)), \n",
    "                      nStates=4,)    \n",
    "\n",
    "    return kf\n",
    "\n",
    "\n"
   ]
  },
  {
   "cell_type": "code",
   "execution_count": 32,
   "metadata": {
    "collapsed": false
   },
   "outputs": [
    {
     "name": "stdout",
     "output_type": "stream",
     "text": [
      "100 loops, best of 3: 11.7 ms per loop\n",
      "time: 4.99 s\n"
     ]
    }
   ],
   "source": [
    "%%timeit\n",
    "KF_funcUniC(0)"
   ]
  },
  {
   "cell_type": "markdown",
   "metadata": {},
   "source": [
    "Further ideas:\n",
    "\n",
    "* Eliminate whole line assignments using loops (First check whether that's actually faster)"
   ]
  }
 ],
 "metadata": {
  "kernelspec": {
   "display_name": "Python 3",
   "language": "python",
   "name": "python3"
  },
  "language_info": {
   "codemirror_mode": {
    "name": "ipython",
    "version": 3
   },
   "file_extension": ".py",
   "mimetype": "text/x-python",
   "name": "python",
   "nbconvert_exporter": "python",
   "pygments_lexer": "ipython3",
   "version": "3.5.1"
  }
 },
 "nbformat": 4,
 "nbformat_minor": 0
}
