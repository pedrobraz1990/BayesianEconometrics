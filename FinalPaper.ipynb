{
 "cells": [
  {
   "cell_type": "code",
   "execution_count": 1,
   "metadata": {
    "collapsed": false
   },
   "outputs": [],
   "source": [
    "%matplotlib inline\n",
    "import numpy as np\n",
    "import pandas as pd\n",
    "import scipy as sp\n",
    "from scipy.optimize import minimize\n",
    "from scipy.stats import norm\n",
    "from scipy.stats import chi2\n",
    "import cython\n",
    "import matplotlib.pyplot as plt\n",
    "import matplotlib\n",
    "matplotlib.style.use('ggplot')\n",
    "%load_ext Cython\n",
    "\n",
    "\n",
    "from KalmanFilter import KalmanFilter as KFPedro\n",
    "from KF_py import KalmanFilter as KF\n",
    "from KF_py2 import KalmanFilter as KF2\n",
    "from KalmanFilter_Uni import KalmanFilter as KFU\n",
    "from KalmanFilter_UniCy import KalmanFilter as KFUC\n",
    "\n",
    "\n",
    "%load_ext autotime\n",
    "%load_ext snakeviz"
   ]
  },
  {
   "cell_type": "markdown",
   "metadata": {},
   "source": [
    "# Bayesian Econometrics - Final Paper\n",
    "\n",
    "Paper to be delivered as the course's final paper\n",
    "\n",
    "Pedro Montero Mattos\n",
    "\n",
    "MPE - Econometria\n",
    "\n",
    "\\#333791"
   ]
  },
  {
   "cell_type": "markdown",
   "metadata": {},
   "source": [
    "# The Model - Local Level with Seasonal Component\n",
    "\n",
    "As described in the chapter 4 in Koopman et al. The local level model with a seasonal component consists of the following equations:\n",
    "\n",
    "$$y_t = \\mu_t + \\gamma_t + \\epsilon_t, \\qquad \\epsilon_t \\sim NID(0,\\sigma^2_\\epsilon)$$\n",
    "\n",
    "$$\\mu_{t+1} = \\mu_t + \\xi_t, \\qquad \\xi_t \\sim NID(0,\\sigma^2_\\xi) $$\n",
    "\n",
    "$$\\gamma_{t+1} = -\\gamma_{t} - \\gamma_{t-1} - \\theta_1\\gamma_{t-2} + \\omega_t \\sim NID(0,\\sigma^2_\\omega) $$\n",
    "\n",
    "\n",
    "We added a $\\theta$ coefficient in order to use maximum likelihood estimation"
   ]
  },
  {
   "cell_type": "markdown",
   "metadata": {},
   "source": [
    "## State Space Form\n",
    "\n",
    "General Form:\n",
    "\n",
    "$$ y_t = Z x_t + \\epsilon_t, \\qquad \\epsilon_t \\sim NID(0,\\sigma^2_\\epsilon)$$\n",
    "$$ x_{t+1} = T x_t + R_t \\eta_T, \\qquad \\eta_t \\sim NID(0,Qt) $$"
   ]
  },
  {
   "cell_type": "markdown",
   "metadata": {},
   "source": [
    "In terms of the model:\n",
    "$$ \n",
    "x_t = \n",
    "\\begin{pmatrix}\\mu_t \\\\ \\gamma_t  \\\\  \\gamma_{t-1}   \\\\ \\gamma_{t-2}  \\end{pmatrix}\n",
    "$$"
   ]
  },
  {
   "cell_type": "markdown",
   "metadata": {},
   "source": [
    "$$\n",
    "\\eta_t = \n",
    "\\begin{pmatrix}\\xi_t \\\\ \\omega_t \\end{pmatrix}\n",
    "$$"
   ]
  },
  {
   "cell_type": "markdown",
   "metadata": {},
   "source": [
    "$$\n",
    "T_t = \n",
    "\\begin{bmatrix} \n",
    "1 & 0 & 0 & 0 \\\\\n",
    "0 & -1 & -1 & -\\theta_1 \\\\\n",
    "0 & 1 & 0 & 0 \\\\\n",
    "0 & 0 & 1 & 0 \n",
    "\\end{bmatrix}\n",
    "$$\n",
    "\n"
   ]
  },
  {
   "cell_type": "markdown",
   "metadata": {},
   "source": [
    "$$\n",
    "Z^T_t = \n",
    "\\begin{pmatrix}1 \\\\ 1  \\\\  0   \\\\ 0  \\end{pmatrix}\n",
    "$$"
   ]
  },
  {
   "cell_type": "markdown",
   "metadata": {},
   "source": [
    "$$\n",
    "Q_t = \n",
    "\\begin{bmatrix} \n",
    "\\sigma^2_\\xi & 0 \\\\\n",
    "0 & \\sigma^2_\\omega \\\\\n",
    "\\end{bmatrix}\n",
    "$$"
   ]
  },
  {
   "cell_type": "markdown",
   "metadata": {},
   "source": [
    "$$\n",
    "R_t = \n",
    "\\begin{bmatrix} \n",
    "1 & 0  \\\\\n",
    "0 & 1  \\\\\n",
    "0 & 0  \\\\\n",
    "0 & 0  \\\\\n",
    "\\end{bmatrix}\n",
    "$$"
   ]
  },
  {
   "cell_type": "markdown",
   "metadata": {},
   "source": [
    "$$\n",
    "H_t = \n",
    "\\begin{bmatrix} \n",
    "\\sigma^2_\\epsilon\n",
    "\\end{bmatrix}\n",
    "$$"
   ]
  },
  {
   "cell_type": "markdown",
   "metadata": {},
   "source": [
    "# Generating the data for $\\theta_1=0.7$\n",
    "\n",
    "We have to choose all parameter values plus the initial states\n",
    "\n",
    "$$\\gamma_t = \\gamma_{t-1} = \\gamma_{t-2} = 0$$\n",
    "$$\\theta_1 = 0.7$$\n",
    "$$\\sigma^2_\\xi = 0.1$$\n",
    "$$\\sigma^2_\\omega = 0.2$$\n",
    "$$\\sigma^2_\\epsilon = 0.3$$\n",
    "\n",
    "\n"
   ]
  },
  {
   "cell_type": "code",
   "execution_count": 2,
   "metadata": {
    "collapsed": false
   },
   "outputs": [
    {
     "name": "stdout",
     "output_type": "stream",
     "text": [
      "time: 2.03 ms\n"
     ]
    }
   ],
   "source": [
    "n = 200\n",
    "theta1 = 0.7\n",
    "sigmaXi = 0.1 ** 0.5\n",
    "sigmaOmega = 0.2 ** 0.5\n",
    "sigmaEpsilon = 0.3 ** 0.5"
   ]
  },
  {
   "cell_type": "code",
   "execution_count": 3,
   "metadata": {
    "collapsed": false
   },
   "outputs": [
    {
     "data": {
      "text/plain": [
       "<matplotlib.axes._subplots.AxesSubplot at 0x21d0e1e5278>"
      ]
     },
     "execution_count": 3,
     "metadata": {},
     "output_type": "execute_result"
    },
    {
     "data": {
      "image/png": "[encoded data removed]",
      "text/plain": [
       "<matplotlib.figure.Figure at 0x21d0e239518>"
      ]
     },
     "metadata": {},
     "output_type": "display_data"
    },
    {
     "name": "stdout",
     "output_type": "stream",
     "text": [
      "time: 375 ms\n"
     ]
    }
   ],
   "source": [
    "y = np.array([0])\n",
    "mi = np.array([0])\n",
    "gamma = np.array([0])\n",
    "\n",
    "xi = np.array([0])\n",
    "omega = np.array([0])\n",
    "ep = np.array([0])\n",
    "\n",
    "for i in range(1,n):\n",
    "\n",
    "    # Level equation\n",
    "    xi = np.append(xi,np.random.normal(scale=sigmaXi))\n",
    "    mi = np.append(mi,mi[i-1]+xi[i])\n",
    "    \n",
    "    # Seasonality equation\n",
    "    omega = np.append(omega,np.random.normal(scale=sigmaOmega))\n",
    "    holder = 0\n",
    "    if i-1 >= 0:\n",
    "        holder -= gamma[i-1] \n",
    "    if i-2 >= 0:\n",
    "        holder -= gamma[i-2] \n",
    "    if i-3 >= 0:\n",
    "        holder -= gamma[i-3] * theta1\n",
    "    \n",
    "    gamma = np.append(gamma,holder+omega[i])\n",
    "    \n",
    "    # Series equation\n",
    "    ep = np.append(ep,np.random.normal(scale=sigmaEpsilon))\n",
    "    y = np.append(y,mi[i]+gamma[i]+ep[i])\n",
    "\n",
    "y = pd.DataFrame(y) \n",
    "mi = pd.DataFrame(mi) \n",
    "gamma = pd.DataFrame(gamma) \n",
    "\n",
    "nny = y.copy()\n",
    "probNan= 0.20\n",
    "for i in nny.index:\n",
    "    ran = np.random.uniform(size=nny.iloc[i].shape)\n",
    "    nny.iloc[i][ran<probNan] = np.nan\n",
    "\n",
    "\n",
    "\n",
    "y.plot()"
   ]
  },
  {
   "cell_type": "markdown",
   "metadata": {},
   "source": [
    "# Maximum Likelihood Estimates\n",
    "\n",
    "Define a wrapper function that maps the theta vector of parameters to the state space matrices\n",
    "\n",
    "$$\\theta = [\\theta_1, \\sigma^2_\\epsilon, \\sigma^2_\\xi, \\sigma^2_\\omega]'$$\n",
    "\n",
    "The functions return the negative of the likelihood because the scipy optimization algorithms only minimize functions. Also we use the logarithm for numerical reasons."
   ]
  },
  {
   "cell_type": "code",
   "execution_count": 4,
   "metadata": {
    "collapsed": false
   },
   "outputs": [
    {
     "name": "stdout",
     "output_type": "stream",
     "text": [
      "time: 9.02 ms\n"
     ]
    }
   ],
   "source": [
    "def wrapper(theta):\n",
    "    T = pd.DataFrame([\n",
    "        [1,0,0,0],\n",
    "        [0,-1,-1,-theta[0]],\n",
    "        [0,1,0,0],\n",
    "        [0,0,1,0],\n",
    "    ])\n",
    "\n",
    "    H = pd.DataFrame([theta[1]])\n",
    "\n",
    "    Q = pd.DataFrame([\n",
    "        [theta[2],0],\n",
    "        [0,theta[3]],\n",
    "    ])\n",
    "\n",
    "    kf = KF(y=np.array(y), \n",
    "                      Z=np.array(Z.astype(float)), \n",
    "                      H=np.array(H.astype(float)), \n",
    "                      T=np.array(T.astype(float)), \n",
    "                      Q=np.array(Q.astype(float)), \n",
    "                      a1=np.zeros((4)), \n",
    "                      P1=np.identity(4), \n",
    "                      R=np.array(R.astype(float)), \n",
    "                      nStates=4,)    \n",
    "\n",
    "    return -np.log(kf['ll']*10e6)"
   ]
  },
  {
   "cell_type": "markdown",
   "metadata": {},
   "source": [
    "## Define the additional state space matrices"
   ]
  },
  {
   "cell_type": "code",
   "execution_count": 5,
   "metadata": {
    "collapsed": false
   },
   "outputs": [
    {
     "name": "stdout",
     "output_type": "stream",
     "text": [
      "time: 8.02 ms\n"
     ]
    }
   ],
   "source": [
    "Z = pd.DataFrame([\n",
    "        [1,1,0,0],\n",
    "    ])\n",
    "\n",
    "R = pd.DataFrame([\n",
    "        [1,0],\n",
    "        [0,1],\n",
    "        [0,0],\n",
    "        [0,0],\n",
    "    ])"
   ]
  },
  {
   "cell_type": "markdown",
   "metadata": {},
   "source": [
    "Minimize the wrapper function, with the following initial values for $\\theta$:\n",
    "\n",
    "$$\\theta = [0.5, 1, 1, 1]'$$\n",
    "    "
   ]
  },
  {
   "cell_type": "code",
   "execution_count": 6,
   "metadata": {
    "collapsed": false
   },
   "outputs": [
    {
     "name": "stdout",
     "output_type": "stream",
     "text": [
      "time: 4.01 ms\n"
     ]
    }
   ],
   "source": [
    "initialTheta = np.array([0.5,1.0,1.0,1.0])"
   ]
  },
  {
   "cell_type": "code",
   "execution_count": 7,
   "metadata": {
    "collapsed": false
   },
   "outputs": [
    {
     "name": "stderr",
     "output_type": "stream",
     "text": [
      "O:\\SALES\\Fundos de Mercado\\Notebooks\\BayesianEconometrics\\KF_py.py:147: RuntimeWarning: invalid value encountered in log\n",
      "  ll += np.log(det(Ft[:dims[t],:dims[t],t])) + vt[t,inds[t,:]].T.dot(inv(Ft[:dims[t],:dims[t],t])).dot(vt[t,inds[t,:]])\n"
     ]
    },
    {
     "name": "stdout",
     "output_type": "stream",
     "text": [
      "Optimization terminated successfully.    (Exit mode 0)\n",
      "            Current function value: 294.93728862504634\n",
      "            Iterations: 14\n",
      "            Function evaluations: 104\n",
      "            Gradient evaluations: 14\n"
     ]
    },
    {
     "data": {
      "text/plain": [
       "     fun: 294.93728862504634\n",
       "     jac: array([-0.00118637,  0.00421524,  0.01306534,  0.00110245])\n",
       " message: 'Optimization terminated successfully.'\n",
       "    nfev: 104\n",
       "     nit: 14\n",
       "    njev: 14\n",
       "  status: 0\n",
       " success: True\n",
       "       x: array([ 0.7161773 ,  0.3551761 ,  0.12529562,  0.21260129])"
      ]
     },
     "execution_count": 7,
     "metadata": {},
     "output_type": "execute_result"
    },
    {
     "name": "stdout",
     "output_type": "stream",
     "text": [
      "time: 2.4 s\n"
     ]
    }
   ],
   "source": [
    "minimize(wrapper,initialTheta, \n",
    "         options={'disp':True, 'maxiter':1000}, \n",
    "#          bounds = ((-5,5),(None,None),(None,None),(None,None),), \n",
    "         method='SLSQP',\n",
    "         )"
   ]
  },
  {
   "cell_type": "code",
   "execution_count": 8,
   "metadata": {
    "collapsed": false
   },
   "outputs": [
    {
     "name": "stderr",
     "output_type": "stream",
     "text": [
      "O:\\SALES\\Fundos de Mercado\\Notebooks\\BayesianEconometrics\\KF_py.py:147: RuntimeWarning: invalid value encountered in log\n",
      "  ll += np.log(det(Ft[:dims[t],:dims[t],t])) + vt[t,inds[t,:]].T.dot(inv(Ft[:dims[t],:dims[t],t])).dot(vt[t,inds[t,:]])\n",
      "C:\\Anaconda3\\lib\\site-packages\\ipykernel\\__main__.py:26: RuntimeWarning: divide by zero encountered in log\n",
      "C:\\Anaconda3\\lib\\site-packages\\scipy\\optimize\\optimize.py:1850: RuntimeWarning: invalid value encountered in double_scalars\n",
      "  tmp2 = (x - v) * (fx - fw)\n",
      "C:\\Anaconda3\\lib\\site-packages\\scipy\\optimize\\optimize.py:1849: RuntimeWarning: invalid value encountered in double_scalars\n",
      "  tmp1 = (x - w) * (fx - fv)\n",
      "C:\\Anaconda3\\lib\\site-packages\\scipy\\optimize\\optimize.py:2439: RuntimeWarning: invalid value encountered in double_scalars\n",
      "  if (fx2 - fval) > delta:\n",
      "C:\\Anaconda3\\lib\\site-packages\\scipy\\optimize\\optimize.py:2448: RuntimeWarning: invalid value encountered in double_scalars\n",
      "  if 2.0 * (fx - fval) <= bnd:\n"
     ]
    },
    {
     "name": "stdout",
     "output_type": "stream",
     "text": [
      "Warning: Maximum number of iterations has been exceeded.\n"
     ]
    },
    {
     "data": {
      "text/plain": [
       "   direc: array([[ 1.,  0.,  0.,  0.],\n",
       "       [ 0.,  1.,  0.,  0.],\n",
       "       [ 0.,  0.,  1.,  0.],\n",
       "       [ 0.,  0.,  0.,  1.]])\n",
       "     fun: inf\n",
       " message: 'Maximum number of iterations has been exceeded.'\n",
       "    nfev: 24543\n",
       "     nit: 500\n",
       "  status: 2\n",
       " success: False\n",
       "       x: array([ 1286.62184956,  1281.39772844,  1291.88884112,  1295.77545883])"
      ]
     },
     "execution_count": 8,
     "metadata": {},
     "output_type": "execute_result"
    },
    {
     "name": "stdout",
     "output_type": "stream",
     "text": [
      "time: 7min 31s\n"
     ]
    }
   ],
   "source": [
    "minimize(wrapper,initialTheta, \n",
    "         options={'disp':True, 'maxiter':500}, \n",
    "#          bounds = ((-5,5),(None,None),(None,None),(None,None),), \n",
    "         method='Powell',\n",
    "         )"
   ]
  },
  {
   "cell_type": "code",
   "execution_count": 9,
   "metadata": {
    "collapsed": false
   },
   "outputs": [
    {
     "name": "stderr",
     "output_type": "stream",
     "text": [
      "O:\\SALES\\Fundos de Mercado\\Notebooks\\BayesianEconometrics\\KF_py.py:147: RuntimeWarning: invalid value encountered in log\n",
      "  ll += np.log(det(Ft[:dims[t],:dims[t],t])) + vt[t,inds[t,:]].T.dot(inv(Ft[:dims[t],:dims[t],t])).dot(vt[t,inds[t,:]])\n",
      "O:\\SALES\\Fundos de Mercado\\Notebooks\\BayesianEconometrics\\KF_py.py:147: RuntimeWarning: invalid value encountered in log\n",
      "  ll += np.log(det(Ft[:dims[t],:dims[t],t])) + vt[t,inds[t,:]].T.dot(inv(Ft[:dims[t],:dims[t],t])).dot(vt[t,inds[t,:]])\n"
     ]
    },
    {
     "name": "stdout",
     "output_type": "stream",
     "text": [
      "Warning: Desired error not necessarily achieved due to precision loss.\n",
      "         Current function value: nan\n",
      "         Iterations: 1\n",
      "         Function evaluations: 672\n",
      "         Gradient evaluations: 112\n"
     ]
    },
    {
     "name": "stderr",
     "output_type": "stream",
     "text": [
      "O:\\SALES\\Fundos de Mercado\\Notebooks\\BayesianEconometrics\\KF_py.py:147: RuntimeWarning: invalid value encountered in log\n",
      "  ll += np.log(det(Ft[:dims[t],:dims[t],t])) + vt[t,inds[t,:]].T.dot(inv(Ft[:dims[t],:dims[t],t])).dot(vt[t,inds[t,:]])\n"
     ]
    },
    {
     "data": {
      "text/plain": [
       "      fun: nan\n",
       " hess_inv: array([[1, 0, 0, 0],\n",
       "       [0, 1, 0, 0],\n",
       "       [0, 0, 1, 0],\n",
       "       [0, 0, 0, 1]])\n",
       "      jac: array([ nan,  nan,  nan,  nan])\n",
       "  message: 'Desired error not necessarily achieved due to precision loss.'\n",
       "     nfev: 672\n",
       "      nit: 1\n",
       "     njev: 112\n",
       "   status: 2\n",
       "  success: False\n",
       "        x: array([ 325.22224759, -381.4066504 , -575.52752881, -695.84216418])"
      ]
     },
     "execution_count": 9,
     "metadata": {},
     "output_type": "execute_result"
    },
    {
     "name": "stdout",
     "output_type": "stream",
     "text": [
      "time: 12.4 s\n"
     ]
    }
   ],
   "source": [
    "minimize(wrapper,initialTheta, \n",
    "         options={'disp':True, 'maxiter':500}, \n",
    "#          bounds = ((-5,5),(None,None),(None,None),(None,None),), \n",
    "         method='BFGS',\n",
    "         )"
   ]
  },
  {
   "cell_type": "code",
   "execution_count": 10,
   "metadata": {
    "collapsed": false
   },
   "outputs": [
    {
     "name": "stderr",
     "output_type": "stream",
     "text": [
      "O:\\SALES\\Fundos de Mercado\\Notebooks\\BayesianEconometrics\\KF_py.py:147: RuntimeWarning: invalid value encountered in log\n",
      "  ll += np.log(det(Ft[:dims[t],:dims[t],t])) + vt[t,inds[t,:]].T.dot(inv(Ft[:dims[t],:dims[t],t])).dot(vt[t,inds[t,:]])\n"
     ]
    },
    {
     "name": "stdout",
     "output_type": "stream",
     "text": [
      "Optimization terminated successfully.\n",
      "         Current function value: 294.937289\n",
      "         Iterations: 253\n",
      "         Function evaluations: 422\n"
     ]
    },
    {
     "data": {
      "text/plain": [
       " final_simplex: (array([[ 0.7161841 ,  0.35515253,  0.12528696,  0.21261491],\n",
       "       [ 0.71618144,  0.35513221,  0.12528192,  0.21260937],\n",
       "       [ 0.71619226,  0.35516436,  0.12528695,  0.21259281],\n",
       "       [ 0.71620049,  0.35519677,  0.1252675 ,  0.21259991],\n",
       "       [ 0.71619021,  0.35523233,  0.12526888,  0.21257142]]), array([ 294.93728855,  294.93728855,  294.93728856,  294.93728863,\n",
       "        294.93728866]))\n",
       "           fun: 294.93728854558583\n",
       "       message: 'Optimization terminated successfully.'\n",
       "          nfev: 422\n",
       "           nit: 253\n",
       "        status: 0\n",
       "       success: True\n",
       "             x: array([ 0.7161841 ,  0.35515253,  0.12528696,  0.21261491])"
      ]
     },
     "execution_count": 10,
     "metadata": {},
     "output_type": "execute_result"
    },
    {
     "name": "stdout",
     "output_type": "stream",
     "text": [
      "time: 7.5 s\n"
     ]
    }
   ],
   "source": [
    "minimize(wrapper,initialTheta, \n",
    "         options={'disp':True, 'maxiter':500}, \n",
    "#          bounds = ((-5,5),(None,None),(None,None),(None,None),), \n",
    "         method='Nelder-Mead',\n",
    "         )"
   ]
  },
  {
   "cell_type": "markdown",
   "metadata": {},
   "source": [
    "# Bayesian Estimates\n",
    "\n",
    "## Wrapper, Priors and Posteriors\n",
    "\n",
    "We chose to use the following priors:\n",
    "\n",
    "$$\\theta_1 \\sim N(0,1)$$\n",
    "$$\\sigma^2_\\epsilon \\sim \\chi_2(1)$$\n",
    "$$\\sigma^2_\\xi \\sim \\chi_2(1)$$\n",
    "$$\\sigma^2_\\omega \\sim \\chi_2(1)$$"
   ]
  },
  {
   "cell_type": "code",
   "execution_count": 11,
   "metadata": {
    "collapsed": false
   },
   "outputs": [
    {
     "name": "stdout",
     "output_type": "stream",
     "text": [
      "time: 9.53 ms\n"
     ]
    }
   ],
   "source": [
    "def posterior(theta,priorMeans, priorVariances):\n",
    "    \n",
    "    i=0\n",
    "    priors = []\n",
    "    priors.append(norm.pdf(theta[i],priorMeans[i],priorVariances[i]))\n",
    "    priors.append(chi2.pdf(theta[1],1))\n",
    "    priors.append(chi2.pdf(theta[2],1))\n",
    "    priors.append(chi2.pdf(theta[3],1))\n",
    "    \n",
    "    \n",
    "    temp = priors[i]\n",
    "    for i in range(1,3+1):\n",
    "        temp *= priors[i]\n",
    "    \n",
    "    ll = wrapper(theta)\n",
    "\n",
    "\n",
    "#     ll *= 10e-200\n",
    "#     print(ll)\n",
    "    return {'post' : ll * temp, 'priors' : np.array(priors)}"
   ]
  },
  {
   "cell_type": "code",
   "execution_count": 12,
   "metadata": {
    "collapsed": false
   },
   "outputs": [
    {
     "name": "stdout",
     "output_type": "stream",
     "text": [
      "time: 10 ms\n"
     ]
    }
   ],
   "source": [
    "def wrapper(theta):\n",
    "    T = pd.DataFrame([\n",
    "        [1,0,0,0],\n",
    "        [0,-1,-1,-theta[0]],\n",
    "        [0,1,0,0],\n",
    "        [0,0,1,0],\n",
    "    ])\n",
    "\n",
    "    H = pd.DataFrame([theta[1]])\n",
    "\n",
    "    Q = pd.DataFrame([\n",
    "        [theta[2],0],\n",
    "        [0,theta[3]],\n",
    "    ])\n",
    "\n",
    "    kf = KFUC(y=np.array(y), \n",
    "                      Z=np.array(Z.astype(float)), \n",
    "                      H=np.array(H.astype(float)), \n",
    "                      T=np.array(T.astype(float)), \n",
    "                      Q=np.array(Q.astype(float)), \n",
    "                      a1=np.zeros((4)), \n",
    "                      P1=np.identity(4), \n",
    "                      R=np.array(R.astype(float)), \n",
    "                      nStates=4,)    \n",
    "\n",
    "    return kf\n"
   ]
  },
  {
   "cell_type": "markdown",
   "metadata": {},
   "source": [
    "## MCMC - Metropolis Hastings\n",
    "\n",
    "We chose to use a random walk metropolis hastings of the form\n",
    "\n",
    "---\n",
    "**Metropolis-Hastings Algoritm**\n",
    "\n",
    "Guess $\\theta^{(0)}$ and for $i=0$ until $n$: \n",
    "1. $\\theta=\\theta^{(i-1)} + \\eta_t$ where $\\eta_t \\sim N(0,\\sigma)$\n",
    "2. Compute $r=\\min(1,\\alpha)$ where $\\alpha= \\frac{p(\\theta')q(\\theta|\\theta')}{p(\\theta)q(\\theta'|\\theta)}$\n",
    "4. Draw $u\\sim U(0,1)$\n",
    "5. $\\theta^{(i+1)}=\\begin{cases}\\theta' & \\text{if $u<r$}\\\\\\theta & \\text{if $u\\geq r$}\\end{cases}$\n",
    "\n",
    "---\n",
    "\n",
    "We use the logarithmic transformations for all variance parameters"
   ]
  },
  {
   "cell_type": "code",
   "execution_count": 13,
   "metadata": {
    "collapsed": false
   },
   "outputs": [
    {
     "name": "stdout",
     "output_type": "stream",
     "text": [
      "time: 32.1 ms\n"
     ]
    }
   ],
   "source": [
    "def randomWalkMH(sample,burn, initialTheta, \n",
    "                 randomWalkSigmas,priorMeans,priorVariances):\n",
    "\n",
    "    thetaMH = []\n",
    "    accept = np.zeros([sample])\n",
    "    posts = np.zeros([sample])\n",
    "    rs = []\n",
    "    thetaMH.append(initialTheta)\n",
    "    priors = np.zeros([sample,4])\n",
    "\n",
    "    thetastemps = []\n",
    "    disturbances = []\n",
    "\n",
    "    for i in range(1,sample):\n",
    "        disturbance = np.multiply(np.random.randn(thetaMH[0].shape[0]),\n",
    "                                  randomWalkSigmas)\n",
    "    #     disturbance[1:] = np.exp(disturbance[1:]) #problema está aqui\n",
    "    #     print(disturbance)\n",
    "        thetaTemp = thetaMH[i-1].copy()\n",
    "        thetaTemp[1:] = np.log(thetaMH[i-1][1:].copy())+disturbance[1:].copy()\n",
    "        thetaTemp[1:] = np.exp(thetaTemp[1:].copy())\n",
    "        thetaTemp[0] = thetaTemp[0].copy() + disturbance[0].copy()\n",
    "        disturbances.append(disturbance.copy())\n",
    "        thetastemps.append(thetaTemp.copy())\n",
    "    #     print(thetaTemp)\n",
    "    #     print(thetastemps[i-1])\n",
    "    #     thetaTemp = (temp)\n",
    "        tempPost = posterior(thetaTemp,priorMeans, priorVariances)\n",
    "        lalpha = np.log(tempPost['post']) - np.log(posts[i-1])\n",
    "        r = np.min([1, np.exp(lalpha)])\n",
    "        rs.append(r)\n",
    "        u = np.random.uniform()\n",
    "\n",
    "        if u < r:\n",
    "            accept[i] = 1\n",
    "            thetaMH.append(thetaTemp.copy())\n",
    "            posts[i] = tempPost['post'].copy()\n",
    "            priors[i] = tempPost['priors'].copy()\n",
    "        else:\n",
    "            thetaMH.append(thetaMH[i-1].copy())\n",
    "            posts[i] = posts[i-1].copy()\n",
    "            priors[i] = priors[i-1].copy()\n",
    "\n",
    "    post = pd.DataFrame(thetaMH)\n",
    "    return {'posterior' : post[burn:], \n",
    "#             'post'\n",
    "            'accept' : accept, \n",
    "            'disturbances' : pd.DataFrame(disturbances),\n",
    "           'rs' : pd.DataFrame(rs),\n",
    "           'priors': pd.DataFrame(priors)}"
   ]
  },
  {
   "cell_type": "code",
   "execution_count": 14,
   "metadata": {
    "collapsed": false
   },
   "outputs": [
    {
     "name": "stdout",
     "output_type": "stream",
     "text": [
      "time: 5.01 ms\n"
     ]
    }
   ],
   "source": [
    "initialSigmas = 5.0\n",
    "initialTheta = np.array([0.3,initialSigmas,initialSigmas,initialSigmas])"
   ]
  },
  {
   "cell_type": "code",
   "execution_count": 15,
   "metadata": {
    "collapsed": false,
    "scrolled": true
   },
   "outputs": [
    {
     "name": "stderr",
     "output_type": "stream",
     "text": [
      "C:\\Anaconda3\\lib\\site-packages\\ipykernel\\__main__.py:27: RuntimeWarning: divide by zero encountered in log\n"
     ]
    },
    {
     "name": "stdout",
     "output_type": "stream",
     "text": [
      "time: 3min 15s\n"
     ]
    }
   ],
   "source": [
    "sample = 20000\n",
    "\n",
    "sigma = 0.1\n",
    "randomWalkSigmas = np.array([0.1,sigma,sigma,sigma])\n",
    "\n",
    "priorMeans = np.array([0,0,0,0])\n",
    "\n",
    "priorVariances = np.array([0.1,1,1,1])\n",
    "\n",
    "mcmc = randomWalkMH(sample = sample,\n",
    "                 burn = 1000, \n",
    "                 initialTheta = initialTheta, \n",
    "                 randomWalkSigmas = randomWalkSigmas,\n",
    "                 priorMeans = priorMeans,\n",
    "                 priorVariances = priorVariances)"
   ]
  },
  {
   "cell_type": "markdown",
   "metadata": {},
   "source": [
    "**Acceptance Ratio**"
   ]
  },
  {
   "cell_type": "code",
   "execution_count": 16,
   "metadata": {
    "collapsed": false,
    "scrolled": true
   },
   "outputs": [
    {
     "data": {
      "text/plain": [
       "0.39350000000000002"
      ]
     },
     "execution_count": 16,
     "metadata": {},
     "output_type": "execute_result"
    },
    {
     "name": "stdout",
     "output_type": "stream",
     "text": [
      "time: 2.51 ms\n"
     ]
    }
   ],
   "source": [
    "mcmc['accept'].sum() / mcmc['accept'].shape[0]"
   ]
  },
  {
   "cell_type": "code",
   "execution_count": 17,
   "metadata": {
    "collapsed": false
   },
   "outputs": [
    {
     "data": {
      "text/plain": [
       "3.064436430290647e-140"
      ]
     },
     "execution_count": 17,
     "metadata": {},
     "output_type": "execute_result"
    },
    {
     "name": "stdout",
     "output_type": "stream",
     "text": [
      "time: 22.1 ms\n"
     ]
    }
   ],
   "source": [
    "wrapper(mcmc['posterior'].iloc[50])"
   ]
  },
  {
   "cell_type": "markdown",
   "metadata": {},
   "source": [
    "## Marginal distribution for $\\theta_1$\n",
    "\n",
    "True value is $0.7$"
   ]
  },
  {
   "cell_type": "code",
   "execution_count": 19,
   "metadata": {
    "collapsed": false
   },
   "outputs": [
    {
     "name": "stdout",
     "output_type": "stream",
     "text": [
      "time: 1.01 ms\n"
     ]
    }
   ],
   "source": [
    "par = 0"
   ]
  },
  {
   "cell_type": "code",
   "execution_count": 20,
   "metadata": {
    "collapsed": false,
    "scrolled": true
   },
   "outputs": [
    {
     "data": {
      "text/plain": [
       "count    19000.000000\n",
       "mean         0.539988\n",
       "std          0.050394\n",
       "min          0.257172\n",
       "25%          0.507848\n",
       "50%          0.542427\n",
       "75%          0.573880\n",
       "max          0.709057\n",
       "Name: 0, dtype: float64"
      ]
     },
     "execution_count": 20,
     "metadata": {},
     "output_type": "execute_result"
    },
    {
     "name": "stdout",
     "output_type": "stream",
     "text": [
      "time: 11 ms\n"
     ]
    }
   ],
   "source": [
    "mcmc['posterior'][par].describe()"
   ]
  },
  {
   "cell_type": "code",
   "execution_count": 21,
   "metadata": {
    "collapsed": false
   },
   "outputs": [
    {
     "data": {
      "text/plain": [
       "<matplotlib.axes._subplots.AxesSubplot at 0x21d0e739fd0>"
      ]
     },
     "execution_count": 21,
     "metadata": {},
     "output_type": "execute_result"
    },
    {
     "data": {
      "text/plain": [
       "<matplotlib.figure.Figure at 0x21d0ef21dd8>"
      ]
     },
     "metadata": {},
     "output_type": "display_data"
    },
    {
     "data": {
      "image/png": "[encoded data removed]",
      "text/plain": [
       "<matplotlib.figure.Figure at 0x21d0e739860>"
      ]
     },
     "metadata": {},
     "output_type": "display_data"
    },
    {
     "name": "stdout",
     "output_type": "stream",
     "text": [
      "time: 1.46 s\n"
     ]
    }
   ],
   "source": [
    "plt.figure()\n",
    "# mcmc['posterior'][par].plot.density()\n",
    "prior = pd.DataFrame(np.random.normal(loc=priorMeans[par]\n",
    "                                      ,scale=priorVariances[par] ** 0.5\n",
    "                                      ,size=mcmc['posterior'][par].shape[0]))\n",
    "prior.columns = ['Prior']\n",
    "poster = pd.DataFrame(mcmc['posterior'][par])\n",
    "poster.columns = ['Posteriori']\n",
    "pd.concat([poster, prior], axis=1).plot.density()\n",
    "# pd.DataFrame(norm.pdf(np.arange(-3,3,0.1))).plot()\n",
    "\n"
   ]
  },
  {
   "cell_type": "markdown",
   "metadata": {},
   "source": [
    "## Marginal distribution for $\\sigma^2_\\epsilon$\n",
    "\n",
    "True value is $0.3$"
   ]
  },
  {
   "cell_type": "code",
   "execution_count": 22,
   "metadata": {
    "collapsed": false
   },
   "outputs": [
    {
     "name": "stdout",
     "output_type": "stream",
     "text": [
      "time: 501 µs\n"
     ]
    }
   ],
   "source": [
    "par = 1"
   ]
  },
  {
   "cell_type": "code",
   "execution_count": 23,
   "metadata": {
    "collapsed": false
   },
   "outputs": [
    {
     "data": {
      "text/plain": [
       "count    1.900000e+04\n",
       "mean     6.863589e-02\n",
       "std      1.391335e-01\n",
       "min      2.616985e-13\n",
       "25%      1.345462e-08\n",
       "50%      2.139929e-05\n",
       "75%      5.733121e-02\n",
       "max      1.015554e+00\n",
       "Name: 1, dtype: float64"
      ]
     },
     "execution_count": 23,
     "metadata": {},
     "output_type": "execute_result"
    },
    {
     "name": "stdout",
     "output_type": "stream",
     "text": [
      "time: 15.5 ms\n"
     ]
    }
   ],
   "source": [
    "mcmc['posterior'][par].describe()"
   ]
  },
  {
   "cell_type": "code",
   "execution_count": 42,
   "metadata": {
    "collapsed": false
   },
   "outputs": [
    {
     "data": {
      "text/plain": [
       "<matplotlib.axes._subplots.AxesSubplot at 0x21d0eb0b0f0>"
      ]
     },
     "execution_count": 42,
     "metadata": {},
     "output_type": "execute_result"
    },
    {
     "data": {
      "text/plain": [
       "<matplotlib.figure.Figure at 0x21d0eb00358>"
      ]
     },
     "metadata": {},
     "output_type": "display_data"
    },
    {
     "data": {
      "image/png": "[encoded data removed]",
      "text/plain": [
       "<matplotlib.figure.Figure at 0x21d0e8e0e10>"
      ]
     },
     "metadata": {},
     "output_type": "display_data"
    },
    {
     "name": "stdout",
     "output_type": "stream",
     "text": [
      "time: 1.64 s\n"
     ]
    }
   ],
   "source": [
    "plt.figure()\n",
    "# mcmc['posterior'][par].plot.density()\n",
    "prior = pd.DataFrame(np.random.chisquare(1 ,\n",
    "                                         size=mcmc['posterior'][par].shape[0]))\n",
    "prior.columns = ['Prior']\n",
    "poster = pd.DataFrame(mcmc['posterior'][par])\n",
    "poster.columns = ['Posteriori']\n",
    "pd.concat([poster, prior], axis=1).plot.density()\n",
    "# pd.DataFrame(norm.pdf(np.arange(-3,3,0.1))).plot()\n",
    "\n"
   ]
  },
  {
   "cell_type": "markdown",
   "metadata": {},
   "source": [
    "## Marginal distribution for $\\sigma^2_\\xi$\n",
    "\n",
    "True value is $0.1$"
   ]
  },
  {
   "cell_type": "code",
   "execution_count": 25,
   "metadata": {
    "collapsed": false
   },
   "outputs": [
    {
     "name": "stdout",
     "output_type": "stream",
     "text": [
      "time: 501 µs\n"
     ]
    }
   ],
   "source": [
    "par = 2"
   ]
  },
  {
   "cell_type": "code",
   "execution_count": 26,
   "metadata": {
    "collapsed": false
   },
   "outputs": [
    {
     "data": {
      "text/plain": [
       "count    19000.000000\n",
       "mean         0.221489\n",
       "std          0.062014\n",
       "min          0.026734\n",
       "25%          0.190000\n",
       "50%          0.226761\n",
       "75%          0.260606\n",
       "max          0.475690\n",
       "Name: 2, dtype: float64"
      ]
     },
     "execution_count": 26,
     "metadata": {},
     "output_type": "execute_result"
    },
    {
     "name": "stdout",
     "output_type": "stream",
     "text": [
      "time: 10 ms\n"
     ]
    }
   ],
   "source": [
    "mcmc['posterior'][par].describe()"
   ]
  },
  {
   "cell_type": "code",
   "execution_count": 27,
   "metadata": {
    "collapsed": false
   },
   "outputs": [
    {
     "data": {
      "text/plain": [
       "<matplotlib.axes._subplots.AxesSubplot at 0x21d0e739668>"
      ]
     },
     "execution_count": 27,
     "metadata": {},
     "output_type": "execute_result"
    },
    {
     "data": {
      "text/plain": [
       "<matplotlib.figure.Figure at 0x21d0e949320>"
      ]
     },
     "metadata": {},
     "output_type": "display_data"
    },
    {
     "data": {
      "image/png": "[encoded data removed]",
      "text/plain": [
       "<matplotlib.figure.Figure at 0x21d0e8b4ac8>"
      ]
     },
     "metadata": {},
     "output_type": "display_data"
    },
    {
     "name": "stdout",
     "output_type": "stream",
     "text": [
      "time: 1.56 s\n"
     ]
    }
   ],
   "source": [
    "plt.figure()\n",
    "# mcmc['posterior'][par].plot.density()\n",
    "prior = pd.DataFrame(np.random.chisquare(1 ,\n",
    "                                         size=mcmc['posterior'][par].shape[0]))\n",
    "prior.columns = ['Prior']\n",
    "poster = pd.DataFrame(mcmc['posterior'][par])\n",
    "poster.columns = ['Posteriori']\n",
    "pd.concat([poster, prior], axis=1).plot.density()\n",
    "# pd.DataFrame(norm.pdf(np.arange(-3,3,0.1))).plot()\n",
    "\n"
   ]
  },
  {
   "cell_type": "markdown",
   "metadata": {},
   "source": [
    "## Marginal distribution for $\\sigma^2_\\omega$\n",
    "\n",
    "True value is $0.2$"
   ]
  },
  {
   "cell_type": "code",
   "execution_count": 28,
   "metadata": {
    "collapsed": false
   },
   "outputs": [
    {
     "name": "stdout",
     "output_type": "stream",
     "text": [
      "time: 1 ms\n"
     ]
    }
   ],
   "source": [
    "par = 3"
   ]
  },
  {
   "cell_type": "code",
   "execution_count": 29,
   "metadata": {
    "collapsed": false
   },
   "outputs": [
    {
     "data": {
      "text/plain": [
       "count    19000.000000\n",
       "mean         0.343621\n",
       "std          0.064951\n",
       "min          0.085772\n",
       "25%          0.301423\n",
       "50%          0.343144\n",
       "75%          0.385320\n",
       "max          0.589562\n",
       "Name: 3, dtype: float64"
      ]
     },
     "execution_count": 29,
     "metadata": {},
     "output_type": "execute_result"
    },
    {
     "name": "stdout",
     "output_type": "stream",
     "text": [
      "time: 10 ms\n"
     ]
    }
   ],
   "source": [
    "mcmc['posterior'][par].describe()"
   ]
  },
  {
   "cell_type": "code",
   "execution_count": 30,
   "metadata": {
    "collapsed": false
   },
   "outputs": [
    {
     "data": {
      "text/plain": [
       "<matplotlib.axes._subplots.AxesSubplot at 0x21d0e949860>"
      ]
     },
     "execution_count": 30,
     "metadata": {},
     "output_type": "execute_result"
    },
    {
     "data": {
      "text/plain": [
       "<matplotlib.figure.Figure at 0x21d0e93c400>"
      ]
     },
     "metadata": {},
     "output_type": "display_data"
    },
    {
     "data": {
      "image/png": "[encoded data removed]",
      "text/plain": [
       "<matplotlib.figure.Figure at 0x21d0e945278>"
      ]
     },
     "metadata": {},
     "output_type": "display_data"
    },
    {
     "name": "stdout",
     "output_type": "stream",
     "text": [
      "time: 1.58 s\n"
     ]
    }
   ],
   "source": [
    "plt.figure()\n",
    "# mcmc['posterior'][par].plot.density()\n",
    "prior = pd.DataFrame(np.random.chisquare(1 ,\n",
    "                                         size=mcmc['posterior'][par].shape[0]))\n",
    "prior.columns = ['Prior']\n",
    "poster = pd.DataFrame(mcmc['posterior'][par])\n",
    "poster.columns = ['Posteriori']\n",
    "pd.concat([poster, prior], axis=1).plot.density()\n",
    "# pd.concat([poster, prior], axis=1).hist(stack=True)\n",
    "# pd.DataFrame(norm.pdf(np.arange(-3,3,0.1))).plot()\n",
    "\n"
   ]
  },
  {
   "cell_type": "markdown",
   "metadata": {
    "collapsed": true
   },
   "source": [
    "# Performance Optimization\n",
    "\n",
    "## Profiling the Kalman Filter\n",
    "\n",
    "Profiling should always be the first step on every optimization\n",
    "\n",
    "We'll profile the KF with the true values"
   ]
  },
  {
   "cell_type": "code",
   "execution_count": 31,
   "metadata": {
    "collapsed": false
   },
   "outputs": [
    {
     "name": "stdout",
     "output_type": "stream",
     "text": [
      "time: 8.52 ms\n"
     ]
    }
   ],
   "source": [
    "def KF_func(theta):\n",
    "    T = pd.DataFrame([\n",
    "        [1,0,0,0],\n",
    "        [0,-1,-1,-0.7],\n",
    "        [0,1,0,0],\n",
    "        [0,0,1,0],\n",
    "    ])\n",
    "\n",
    "    H = pd.DataFrame([0.3])\n",
    "\n",
    "    Q = pd.DataFrame([\n",
    "        [0.1,0],\n",
    "        [0,0.2],\n",
    "    ])\n",
    "\n",
    "    kf = KF(y=np.array(y), \n",
    "                      Z=np.array(Z.astype(float)), \n",
    "                      H=np.array(H.astype(float)), \n",
    "                      T=np.array(T.astype(float)), \n",
    "                      Q=np.array(Q.astype(float)), \n",
    "                      a1=np.zeros((4)), \n",
    "                      P1=np.identity(4), \n",
    "                      R=np.array(R.astype(float)), \n",
    "                      nStates=4,)    \n",
    "\n",
    "    return kf['ll']\n"
   ]
  },
  {
   "cell_type": "code",
   "execution_count": 32,
   "metadata": {
    "collapsed": false
   },
   "outputs": [
    {
     "name": "stdout",
     "output_type": "stream",
     "text": [
      " \n",
      "*** Profile stats marshalled to file 'C:\\\\Users\\\\PEDRO~1.MAT\\\\AppData\\\\Local\\\\Temp\\\\tmpnybibfi9'. \n",
      "time: 3.05 s\n"
     ]
    }
   ],
   "source": [
    "%%snakeviz\n",
    "\n",
    "KF_func(0)"
   ]
  },
  {
   "cell_type": "markdown",
   "metadata": {},
   "source": [
    "The problem is that dot products and matrix inversions are already optimized in fortran and C"
   ]
  },
  {
   "cell_type": "markdown",
   "metadata": {},
   "source": [
    "## Univariate Approach\n",
    "\n",
    "Makes best use of cython"
   ]
  },
  {
   "cell_type": "code",
   "execution_count": 33,
   "metadata": {
    "collapsed": false
   },
   "outputs": [
    {
     "name": "stdout",
     "output_type": "stream",
     "text": [
      "time: 15.5 ms\n"
     ]
    }
   ],
   "source": [
    "def KF_funcUni(theta):\n",
    "    T = pd.DataFrame([\n",
    "        [1,0,0,0],\n",
    "        [0,-1,-1,-0.7],\n",
    "        [0,1,0,0],\n",
    "        [0,0,1,0],\n",
    "    ])\n",
    "\n",
    "    H = pd.DataFrame([0.3])\n",
    "\n",
    "    Q = pd.DataFrame([\n",
    "        [0.1,0],\n",
    "        [0,0.2],\n",
    "    ])\n",
    "\n",
    "    kf = KFU(y=np.array(y), \n",
    "                      Z=np.array(Z.astype(float)), \n",
    "                      H=np.array(H.astype(float)), \n",
    "                      T=np.array(T.astype(float)), \n",
    "                      Q=np.array(Q.astype(float)), \n",
    "                      a1=np.zeros((4)), \n",
    "                      P1=np.identity(4), \n",
    "                      R=np.array(R.astype(float)), \n",
    "                      nStates=4,)    \n",
    "\n",
    "    return kf\n",
    "\n"
   ]
  },
  {
   "cell_type": "code",
   "execution_count": 34,
   "metadata": {
    "collapsed": false
   },
   "outputs": [
    {
     "name": "stdout",
     "output_type": "stream",
     "text": [
      "10 loops, best of 3: 20.4 ms per loop\n",
      "time: 894 ms\n"
     ]
    }
   ],
   "source": [
    "%%timeit\n",
    "KF_func(0)"
   ]
  },
  {
   "cell_type": "code",
   "execution_count": 35,
   "metadata": {
    "collapsed": false
   },
   "outputs": [
    {
     "name": "stdout",
     "output_type": "stream",
     "text": [
      "100 loops, best of 3: 11 ms per loop\n",
      "time: 4.62 s\n"
     ]
    }
   ],
   "source": [
    "%%timeit\n",
    "KF_funcUni(0)"
   ]
  },
  {
   "cell_type": "code",
   "execution_count": 36,
   "metadata": {
    "collapsed": false
   },
   "outputs": [
    {
     "name": "stdout",
     "output_type": "stream",
     "text": [
      " \n",
      "*** Profile stats marshalled to file 'C:\\\\Users\\\\PEDRO~1.MAT\\\\AppData\\\\Local\\\\Temp\\\\tmpxcy91afb'. \n",
      "time: 3.03 s\n"
     ]
    }
   ],
   "source": [
    "%%snakeviz\n",
    "\n",
    "KF_funcUni(0)"
   ]
  },
  {
   "cell_type": "markdown",
   "metadata": {},
   "source": [
    "Since dot is already optimized we will move on to cython"
   ]
  },
  {
   "cell_type": "code",
   "execution_count": 37,
   "metadata": {
    "collapsed": false
   },
   "outputs": [
    {
     "name": "stdout",
     "output_type": "stream",
     "text": [
      "time: 10.5 ms\n"
     ]
    }
   ],
   "source": [
    "def KF_funcUniC(theta):\n",
    "    T = pd.DataFrame([\n",
    "        [1,0,0,0],\n",
    "        [0,-1,-1,-0.7],\n",
    "        [0,1,0,0],\n",
    "        [0,0,1,0],\n",
    "    ])\n",
    "\n",
    "    H = pd.DataFrame([0.3])\n",
    "\n",
    "    Q = pd.DataFrame([\n",
    "        [0.1,0],\n",
    "        [0,0.2],\n",
    "    ])\n",
    "\n",
    "    kf = KFUC(y=np.array(y), \n",
    "                      Z=np.array(Z.astype(float)), \n",
    "                      H=np.array(H.astype(float)), \n",
    "                      T=np.array(T.astype(float)), \n",
    "                      Q=np.array(Q.astype(float)), \n",
    "                      a1=np.zeros((4)), \n",
    "                      P1=np.identity(4), \n",
    "                      R=np.array(R.astype(float)), \n",
    "                      nStates=4,)    \n",
    "\n",
    "    return kf\n",
    "\n",
    "\n"
   ]
  },
  {
   "cell_type": "code",
   "execution_count": 38,
   "metadata": {
    "collapsed": false
   },
   "outputs": [
    {
     "name": "stdout",
     "output_type": "stream",
     "text": [
      "100 loops, best of 3: 10.1 ms per loop\n",
      "time: 4.3 s\n"
     ]
    }
   ],
   "source": [
    "%%timeit\n",
    "KF_funcUniC(0)"
   ]
  },
  {
   "cell_type": "markdown",
   "metadata": {},
   "source": [
    "Further ideas:\n",
    "\n",
    "* Eliminate whole line assignments using loops (First check whether that's actually faster)"
   ]
  },
  {
   "cell_type": "markdown",
   "metadata": {},
   "source": [
    "# Code for the Kalman Filter"
   ]
  },
  {
   "cell_type": "code",
   "execution_count": 39,
   "metadata": {
    "collapsed": false
   },
   "outputs": [
    {
     "name": "stdout",
     "output_type": "stream",
     "text": [
      "time: 102 ms\n"
     ]
    }
   ],
   "source": [
    "import numpy as np\n",
    "from numpy.linalg import inv\n",
    "from numpy.linalg import det\n",
    "import pandas as pd\n",
    "import datetime as dt\n",
    "\n",
    "\n",
    "\n",
    "\n",
    "def KalmanFilter(y, nStates, Z, H, T, Q, a1, P1, R, export=False):\n",
    "# Only receives np arrays\n",
    "\n",
    "    p = y.shape[1]\n",
    "    n = y.shape[0]\n",
    "    m = nStates\n",
    "\n",
    "\n",
    "    yhat = np.empty((n, p))\n",
    "    Z = np.array(Z.astype(float))  # (PxM) we'll drop t\n",
    "    H = np.array(H.astype(float))\n",
    "    T = np.array(T.astype(float))  # Should be M x M\n",
    "    Q = np.array(Q.astype(float))  # (RxR)\n",
    "    a = np.empty((n + 1, p + 1, m))  # each alpha t,i is mx1\n",
    "    a[0, 0, :] = np.array(a1.astype(float)).ravel()  # TODO Check a1 dimension\n",
    "    P = np.empty((n + 1, p + 1, m, m))\n",
    "    P[0, 0, :, :] = np.array(P1.astype(float))\n",
    "    v = np.empty((n, p))\n",
    "    F = np.empty((n, p))\n",
    "    K = np.empty((n, p, m))\n",
    "    ZT = Z.T  # To avoid transposing it several times\n",
    "    TT = T.T  # To avoid transposing it several times\n",
    "    R = np.array(R)  # (MxR)\n",
    "    RT = R.T\n",
    "    ll = 0\n",
    "\n",
    "\n",
    "    for t in range(0, n):\n",
    "        ind = ~np.isnan(y[t, :])\n",
    "        templl = 0\n",
    "        pst = 0\n",
    "        for i in range(0, p):  # later on change to Pt\n",
    "            if ind[i]:\n",
    "                v[t, i] = y[t, i] - Z[i, :].reshape((1, m)).dot(a[t, i, :].T)  # a should be mx1\n",
    "                F[t, i] = Z[i, :].reshape((1, m)).dot(P[t, i, :, :]).dot(Z[i, :]) + H[i, i]\n",
    "                K[t, i, :] = P[t, i, :, :].dot(Z[i, :]) * F[t, i] ** (-1)\n",
    "                a[t, i + 1, :] = a[t, i, :] + K[t, i, :] * v[t, i]\n",
    "                P[t, i + 1, :, :] = P[t, i, :, :] - (K[t, i, :] * \n",
    "                        F[t, i]).reshape((m, 1)).dot(\n",
    "                    K[t, i].reshape((1, m)))\n",
    "            else:\n",
    "                # Setting all Z's to zeros\n",
    "                v[t, i] = np.zeros(v[t, i].shape)\n",
    "                F[t, i] = H[\n",
    "                    i, i]\n",
    "                K[t, i, :] = np.zeros(K[t, i, :].shape)\n",
    "                a[t, i + 1, :] = a[t, i, :] + K[t, i, :] * v[t, i]\n",
    "                P[t, i + 1, :, :] = P[t, i, :, :] - (K[t, i, :] * \n",
    "                                                     F[t, i]).reshape(\n",
    "                    (m, 1)).dot(K[t, i].reshape((1, m)))\n",
    "            if F[t,i] != 0:\n",
    "                templl += np.log(F[t,i]) + (v[t,i] ** 2) / F[t,i]\n",
    "                pst += 1\n",
    "\n",
    "        ll+= pst * np.log(2*np.pi) + templl\n",
    "\n",
    "\n",
    "        a[t + 1, 0, :] = T.dot(a[t, i + 1, :])\n",
    "        P[t + 1, 0, :, :] = T.dot(P[t, i + 1]).dot(TT) + R.dot(Q).dot(RT)\n",
    "        # yhat[t,:] = Z.dot(a[t,1,:]) # ERRADO\n",
    "\n",
    "        if export:\n",
    "            yhat[t, :] = Z.dot(a[t, 0, :])\n",
    "\n",
    "    ll *= -0.5\n",
    "    ll = np.exp(ll)\n",
    "\n",
    "    if export:\n",
    "        states = pd.DataFrame(a[:, 0, :])\n",
    "        yhat = pd.DataFrame(yhat)\n",
    "        y = pd.DataFrame(y)\n",
    "        return {'states' : states,\n",
    "                'yhat' : yhat,\n",
    "                'y' : y,\n",
    "                'll' : ll}\n",
    "    else:\n",
    "        return ll\n"
   ]
  },
  {
   "cell_type": "markdown",
   "metadata": {},
   "source": [
    "## In Cython"
   ]
  },
  {
   "cell_type": "code",
   "execution_count": 40,
   "metadata": {
    "collapsed": false
   },
   "outputs": [
    {
     "ename": "SyntaxError",
     "evalue": "invalid syntax (<ipython-input-40-18d88b4a458f>, line 2)",
     "output_type": "error",
     "traceback": [
      "\u001b[1;36m  File \u001b[1;32m\"<ipython-input-40-18d88b4a458f>\"\u001b[1;36m, line \u001b[1;32m2\u001b[0m\n\u001b[1;33m    cimport numpy as np\u001b[0m\n\u001b[1;37m                ^\u001b[0m\n\u001b[1;31mSyntaxError\u001b[0m\u001b[1;31m:\u001b[0m invalid syntax\n"
     ]
    }
   ],
   "source": [
    "import numpy as np\n",
    "cimport numpy as np\n",
    "import pandas as pd\n",
    "import datetime as dt\n",
    "\n",
    "DTYPE = np.float64\n",
    "DTYPEI = np.int\n",
    "\n",
    "ctypedef np.float64_t DTYPE_t\n",
    "ctypedef np.int_t DTYPEI_t\n",
    "\n",
    "\n",
    "def KalmanFilter(np.ndarray[DTYPE_t, ndim = 2] y,\n",
    "                DTYPEI_t nStates,\n",
    "                np.ndarray[DTYPE_t, ndim = 2] Z,\n",
    "                np.ndarray[DTYPE_t, ndim = 2] H,\n",
    "                np.ndarray[DTYPE_t, ndim = 2] T,\n",
    "                np.ndarray[DTYPE_t, ndim = 2] Q,\n",
    "                np.ndarray[DTYPE_t, ndim = 1] a1,\n",
    "                np.ndarray[DTYPE_t, ndim = 2] P1,\n",
    "                np.ndarray[DTYPE_t, ndim = 2] R,\n",
    "                                 export=False):\n",
    "# Only receives np arrays\n",
    "\n",
    "    cdef DTYPEI_t p = y.shape[1]\n",
    "    cdef DTYPEI_t n = y.shape[0]\n",
    "    cdef DTYPEI_t m = nStates\n",
    "    cdef DTYPEI_t t, i\n",
    "\n",
    "    cdef np.ndarray[DTYPE_t, ndim = 2] yhat = np.empty((n, p), dtype=DTYPE)\n",
    "    cdef np.ndarray[DTYPE_t, ndim = 3] a = np.empty((n + 1, p + 1, m), \n",
    "                                                    dtype=DTYPE)  # each alpha t,i is mx1\n",
    "    a[0, 0, :] = a1\n",
    "    cdef np.ndarray[DTYPE_t, ndim = 4] P = np.empty((n + 1, p + 1, m, m), \n",
    "                                                    dtype=DTYPE)\n",
    "    P[0, 0, :, :] = np.array(P1.astype(float), dtype=DTYPE)\n",
    "    cdef np.ndarray[DTYPE_t, ndim = 2] v = np.empty((n, p), dtype=DTYPE)\n",
    "    cdef np.ndarray[DTYPE_t, ndim = 2] F = np.empty((n, p), dtype=DTYPE)\n",
    "    cdef np.ndarray[DTYPE_t, ndim = 3] K = np.empty((n, p, m), dtype=DTYPE)\n",
    "    cdef np.ndarray[DTYPE_t, ndim = 2] ZT = Z.T  # To avoid transposing it several times\n",
    "    cdef np.ndarray[DTYPE_t, ndim = 2] TT = T.T  # To avoid transposing it several times\n",
    "    cdef np.ndarray[DTYPE_t, ndim = 2] RT = R.T\n",
    "    cdef DTYPE_t ll = 0\n",
    "    cdef DTYPE_t templl = 0\n",
    "    cdef DTYPE_t pst = 0\n",
    "    #cdef np.ndarray[DTYPE_t, ndim = 1] ind\n",
    "\n",
    "\n",
    "    for t in range(0, n):\n",
    "        # ind = ~np.isnan(y[t, :], dtype=DTYPEI)\n",
    "        ind = ~np.isnan(y[t, :])\n",
    "        templl = 0\n",
    "        pst = 0\n",
    "        for i in range(0, p):  # later on change to Pt\n",
    "            if ind[i]:\n",
    "                v[t, i] = y[t, i] - Z[i, :].reshape((1, m)).dot(a[t, i, :].T)  # a should be mx1\n",
    "                F[t, i] = Z[i, :].reshape((1, m)).dot(P[t, i, :, :]).dot(\n",
    "                                            Z[i, :]) + H[i, i]\n",
    "                K[t, i, :] = P[t, i, :, :].dot(Z[i, :]) * F[t, i] ** (-1)\n",
    "                a[t, i + 1, :] = a[t, i, :] + K[t, i, :] * v[t, i]\n",
    "                P[t, i + 1, :, :] = P[t, i, :, :] - (K[t, i, :] * \n",
    "                                                     F[t, i]).reshape((m, 1)).dot(\n",
    "                    K[t, i].reshape((1, m)))\n",
    "            else:\n",
    "                # Setting all Z's to zeros\n",
    "                v[t, i] = 0\n",
    "                F[t, i] = H[\n",
    "                    i, i]\n",
    "                K[t, i, :] = np.zeros(K[t, i, :].shape)\n",
    "                a[t, i + 1, :] = a[t, i, :] + K[t, i, :] * v[t, i]\n",
    "                P[t, i + 1, :, :] = P[t, i, :, :] - (K[t, i, :] \n",
    "                                                     * F[t, i]).reshape(\n",
    "                    (m, 1)).dot(K[t, i].reshape((1, m)))\n",
    "            if F[t,i] != 0:\n",
    "                templl += np.log(F[t,i]) + (v[t,i] ** 2) / F[t,i]\n",
    "                pst += 1\n",
    "\n",
    "        ll+= pst * np.log(2*np.pi) + templl\n",
    "\n",
    "\n",
    "        a[t + 1, 0, :] = T.dot(a[t, i + 1, :])\n",
    "        P[t + 1, 0, :, :] = T.dot(P[t, i + 1]).dot(TT) + R.dot(Q).dot(RT)\n",
    "        # yhat[t,:] = Z.dot(a[t,1,:]) # ERRADO\n",
    "\n",
    "        if export:\n",
    "            yhat[t, :] = Z.dot(a[t, 0, :])\n",
    "\n",
    "    ll *= -0.5\n",
    "    ll = np.exp(ll)\n",
    "\n",
    "    if export:\n",
    "        states = pd.DataFrame(a[:, 0, :])\n",
    "        yhat = pd.DataFrame(yhat)\n",
    "        y = pd.DataFrame(y)\n",
    "        return {'states' : states,\n",
    "                'yhat' : yhat,\n",
    "                'y' : y,\n",
    "                'll' : ll}\n",
    "    else:\n",
    "        return ll"
   ]
  }
 ],
 "metadata": {
  "anaconda-cloud": {},
  "kernelspec": {
   "display_name": "Python [Root]",
   "language": "python",
   "name": "Python [Root]"
  },
  "language_info": {
   "codemirror_mode": {
    "name": "ipython",
    "version": 3
   },
   "file_extension": ".py",
   "mimetype": "text/x-python",
   "name": "python",
   "nbconvert_exporter": "python",
   "pygments_lexer": "ipython3",
   "version": "3.5.2"
  }
 },
 "nbformat": 4,
 "nbformat_minor": 0
}
