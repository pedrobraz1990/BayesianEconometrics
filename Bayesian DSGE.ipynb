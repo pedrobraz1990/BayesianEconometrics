{
 "cells": [
  {
   "cell_type": "markdown",
   "metadata": {},
   "source": [
    "# Bayesian DSGE \n",
    "\n",
    "We will use the model described by Gali in chaprter 3.\n",
    "\n",
    "The paper is divided as follows:\n",
    "\n",
    "* The model \n",
    "* Log Linearization\n",
    "* Solving the rational expectation system\n",
    "* Kalman Filter\n",
    "* MCMC\n",
    "\n",
    "* Re-estimate with missing values (Both \"holes\" and entire rows)\n",
    "* Forecasting"
   ]
  },
  {
   "cell_type": "markdown",
   "metadata": {},
   "source": [
    "# The Model\n",
    "## Households"
   ]
  },
  {
   "cell_type": "markdown",
   "metadata": {},
   "source": [
    "Optimal conditions take the log-linear form:\n",
    "\n",
    "$$w_t - p_t = \\sigma c_t + \\varphi n_t$$\n",
    "\n",
    "$$c_t = E_t\\{c_{t+1}\\} - \\frac{1}{\\sigma} (i_t - E_t\\{\\pi{t+1}\\} - \\rho)$$\n",
    "\n",
    "Where $i_t \\equiv - \\log Q_t$ is the short term rate and $\\rho \\equiv - \\log \\beta$ is the discount rate\n",
    "\n",
    "When necessary above conditions will be supplemented with the following money demand equation:\n",
    "\n",
    "$$m_t - p_t = y_t - \\eta i_t $$"
   ]
  },
  {
   "cell_type": "markdown",
   "metadata": {},
   "source": [
    "## Firms\n",
    "\n",
    "$$\\Pi_t^{1-\\varepsilon} = \\theta + (1-\\theta) (\\frac{P_t^*}{P_{t-1}})^{1-\\varepsilon}$$\n",
    "\n",
    "Where $\\Pi_t \\equiv \\frac{P_t}{P_{t-1}}$\n",
    "\n",
    "Thus the log linear steady state equation takes the form:\n",
    "\n",
    "$$\\pi_t = (1-\\theta)(p_t^*-p_{t-1})$$"
   ]
  },
  {
   "cell_type": "code",
   "execution_count": null,
   "metadata": {
    "collapsed": true
   },
   "outputs": [],
   "source": []
  }
 ],
 "metadata": {
  "kernelspec": {
   "display_name": "Python 3",
   "language": "python",
   "name": "python3"
  },
  "language_info": {
   "codemirror_mode": {
    "name": "ipython",
    "version": 3
   },
   "file_extension": ".py",
   "mimetype": "text/x-python",
   "name": "python",
   "nbconvert_exporter": "python",
   "pygments_lexer": "ipython3",
   "version": "3.5.1"
  }
 },
 "nbformat": 4,
 "nbformat_minor": 0
}
